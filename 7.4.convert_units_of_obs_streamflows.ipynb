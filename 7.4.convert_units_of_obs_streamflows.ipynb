{
 "cells": [
  {
   "cell_type": "code",
   "execution_count": null,
   "id": "31684d7c",
   "metadata": {},
   "outputs": [],
   "source": [
    "import pandas as pd"
   ]
  },
  {
   "cell_type": "code",
   "execution_count": null,
   "id": "628f64c6",
   "metadata": {},
   "outputs": [],
   "source": [
    "css_folder = r\"Z:\\PhD_Datasets&Analysis\\Info_Inputs\\Streamflow_Stations\\Climate_Sensitive_Stations-GRDC\"\n",
    "\n",
    "filtered_css = pd.read_csv(css_folder + \"//CSS_FINAL_SELECTION-MERGE_WITH_ALL.csv\") # Read file with all CSS information\n",
    "filtered_css"
   ]
  },
  {
   "cell_type": "code",
   "execution_count": null,
   "id": "742aa9a8",
   "metadata": {},
   "outputs": [],
   "source": [
    "monthly_folder = css_folder + \"\\\\2025-02-13_17-18_Monthly\\_DataFrames\"\n",
    "obs_df = pd.read_csv(monthly_folder + \"//Joined_Monthly_Sts_DFs.csv\", index_col=\"YYYY-MM\") # Observed data\n",
    "obs_df"
   ]
  },
  {
   "cell_type": "code",
   "execution_count": null,
   "id": "b2b0aa77",
   "metadata": {},
   "outputs": [],
   "source": [
    "def convert_to_mm(year, month, q, area_km2):\n",
    "    num_days = calendar.monthrange(int(year), int(month))[1]\n",
    "    #streamflow = (q * area_km2 * 1000) / (num_days * 24 *60 *60)  # Convert to m3/s\n",
    "    sheet_of_water = (q * num_days * 24 *60 *60) / (area_km2 * 1000)  # Convert to mm\n",
    "    return sheet_of_water"
   ]
  },
  {
   "cell_type": "code",
   "execution_count": null,
   "id": "189a9683",
   "metadata": {},
   "outputs": [],
   "source": [
    "# Ensure the required columns exist in filtered_css\n",
    "css_stations = filtered_css.set_index(\"station_no\")\n",
    "\n",
    "# Create a dictionary mapping station_no to CATCHMENT_SIZE2\n",
    "catchment_size_dict = css_stations[\"CATCHMENT_SIZE2\"].to_dict()\n",
    "\n",
    "obs_df_mm = obs_df.copy()\n",
    "\n",
    "# Calculate FLOW_CMS\n",
    "for column in obs_df.columns:\n",
    "    obs_df_mm[column] = obs_df.apply(\n",
    "        lambda row: convert_to_mm(row.index.year, row.index.month, row[column], catchment_size_dict[column]),\n",
    "        axis=1\n",
    "    )\n",
    "\n",
    "obs_df_mm.to_csv(monthly_folder + \"//Joined_Monthly_Sts_DFs_mm.csv\")\n",
    "obs_df_mm"
   ]
  }
 ],
 "metadata": {
  "kernelspec": {
   "display_name": "Python 3",
   "language": "python",
   "name": "python3"
  },
  "language_info": {
   "name": "python",
   "version": "3.11.11"
  }
 },
 "nbformat": 4,
 "nbformat_minor": 5
}
