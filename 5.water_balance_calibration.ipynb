{
 "cells": [
  {
   "cell_type": "code",
   "execution_count": null,
   "metadata": {},
   "outputs": [],
   "source": [
    "# If not installed, run this cell. It is needed to read DBF files\n",
    "#!pip install dbfread\n",
    "#!pip show dbfread"
   ]
  },
  {
   "cell_type": "code",
   "execution_count": null,
   "metadata": {},
   "outputs": [],
   "source": [
    "import arcpy, pandas as pd\n",
    "from arcpy import env\n",
    "from arcpy.sa import *\n",
    "from dbfread import DBF"
   ]
  },
  {
   "cell_type": "code",
   "execution_count": null,
   "metadata": {},
   "outputs": [],
   "source": [
    "# Paths to input datasets\n",
    "root_folder = r\"Z:\\PhD_Datasets&Analysis\\Info_Inputs\"\n",
    "tc_ds = root_folder + \"\\\\TerraClimate\"\n",
    "str_flows_folder = root_folder + \"\\\\Streamflow_Stations\\\\_DataFrames\"\n",
    "str_flows_folder2 = r\"D:\\OneDrive - CGIAR\\Documents\\PhD_JLU Giessen\\Papers\\Paper1\\Processing\"\n",
    "drain_areas_folder = root_folder + \"\\\\Streamflow_Sts_Drainage_Areas\"\n",
    "drain_areas_folder2 = str_flows_folder2\n",
    "bands_gee = [\"pr\", \"pet\", \"ro\"] # band names in gee\n",
    "tc_vars = [\"ppt\", \"pet\", \"q\"] # variable names according to TerraClimate\n",
    "serial_id = 'gridcode'\n",
    "\n",
    "\n",
    "# Set arcpy environment variables\n",
    "env.overwriteOutput = True\n",
    "arcpy.CheckOutExtension(\"spatial\")\n",
    "env.cellSize = \"MINOF\"\n",
    "env.workspace = r\"Z:\\PhD_Datasets&Analysis\\_ProcessingCache\""
   ]
  },
  {
   "cell_type": "code",
   "execution_count": null,
   "metadata": {},
   "outputs": [],
   "source": [
    "# Dataframe with streamflow datasets\n",
    "#str_flows_obs = pd.read_csv(str_flows_folder + \"\\\\Joined_Sts_DFs.csv\")\n",
    "str_flows_obs = pd.read_csv(str_flows_folder2 + \"\\\\Joined_Sts_DFs.csv\")\n",
    "str_flows_obs"
   ]
  },
  {
   "cell_type": "code",
   "execution_count": null,
   "metadata": {},
   "outputs": [],
   "source": [
    "str_flows_stats = str_flows_obs.describe()\n",
    "str_flows_stats"
   ]
  },
  {
   "cell_type": "code",
   "execution_count": null,
   "metadata": {},
   "outputs": [],
   "source": [
    "# Read the DBF file\n",
    "#drain_areas_tb = DBF(drain_areas_folder + \"\\\\Calibration_Basins_Final_Generalized.dbf\")\n",
    "drain_areas_tb = DBF(drain_areas_folder2 + \"\\\\Calibration_Basins_Final_Generalized\\\\Calibration_Basins_Final_Generalized.dbf\")\n",
    "\n",
    "# Convert to DataFrame\n",
    "drain_areas_df = pd.DataFrame(iter(drain_areas_tb)).sort_values(by=serial_id)\n",
    "drain_areas_df"
   ]
  },
  {
   "cell_type": "code",
   "execution_count": null,
   "metadata": {},
   "outputs": [],
   "source": [
    "drain_areas_df[\"SUFIX_ID\"] = drain_areas_df[\"SUFIX\"] + \"_\" + drain_areas_df[\"ID\"]\n",
    "drain_areas_df"
   ]
  },
  {
   "cell_type": "code",
   "execution_count": null,
   "metadata": {},
   "outputs": [],
   "source": [
    "# Creating dictionary with ids of the basins\n",
    "id_dict = dict(zip(drain_areas_df[serial_id], drain_areas_df['SUFIX_ID']))\n",
    "id_dict"
   ]
  },
  {
   "cell_type": "code",
   "execution_count": null,
   "metadata": {},
   "outputs": [],
   "source": [
    "# Read the Shapefile with the basins\n",
    "#drain_areas = drain_areas_folder + \"\\\\Calibration_Basins_Final_Generalized.shp\"\n",
    "drain_areas = drain_areas_folder2 + \"\\\\Calibration_Basins_Final_Generalized\\\\Calibration_Basins_Final_Generalized.shp\""
   ]
  },
  {
   "cell_type": "code",
   "execution_count": null,
   "metadata": {},
   "outputs": [],
   "source": [
    "# Limit the spatil processing extent\n",
    "#buffer_zoi = drain_areas_folder + \"\\\\Calibration_Basins_Final_Generalized_Buffer.shp\"\n",
    "buffer_zoi = drain_areas_folder2 + \"\\\\Calibration_Basins_Final_Generalized_Buffer\\\\Calibration_Basins_Final_Generalized_Buffer.shp\"\n",
    "env.mask = buffer_zoi\n",
    "env.extent = buffer_zoi\n",
    "env.outputCoordinateSystem = arcpy.Describe(buffer_zoi).spatialReference # WGS 1984 (4326)"
   ]
  },
  {
   "cell_type": "code",
   "execution_count": null,
   "metadata": {},
   "outputs": [],
   "source": [
    "# Get the current environment's spatial reference\n",
    "spatial_ref = env.outputCoordinateSystem\n",
    "\n",
    "# Check if a spatial reference is set\n",
    "if spatial_ref:\n",
    "    print(f\"Spatial Reference Name: {spatial_ref.name}\")\n",
    "    print(f\"Spatial Reference WKID: {spatial_ref.factoryCode}\")\n",
    "else:\n",
    "    print(\"No spatial reference is set in the current environment.\")"
   ]
  },
  {
   "cell_type": "code",
   "execution_count": null,
   "metadata": {},
   "outputs": [],
   "source": [
    "whc = Float(Raster(r\"Z:\\PhD_Datasets&Analysis\\Inputs\\WHC_FC33_Final_WGS84.tif\")) / 1000 # As the raster was originally multiplied by 1000\n",
    "drain_areas_ids = Int(Raster(drain_areas_folder + \"\\\\calib_ba_fin_gen.tif\"))"
   ]
  },
  {
   "cell_type": "code",
   "execution_count": null,
   "metadata": {},
   "outputs": [],
   "source": [
    "######################################################\n",
    "### Starting values for the water balance model - T&M\n",
    "######################################################\n",
    "\n",
    "# Initial variables\n",
    "warmup_yrs = 5\n",
    "years = range(1958, 2023 + 1) # Years with available weather information to run the water balance\n",
    "months = range(1, 12 + 1)\n",
    "ini_yr_wp = years[0] + warmup_yrs\n",
    "\n",
    "# Base flow of the previous month (mm) (bf0)\n",
    "bflow_ant = 10"
   ]
  },
  {
   "cell_type": "code",
   "execution_count": null,
   "metadata": {},
   "outputs": [],
   "source": [
    "# The recession constant (k) values determined from hydrographs derived from the gathered streamflow datasets in code \"4.recession_constant.ipynb\".\n",
    "# For the rest of the world, k will be defined as 0.5\n",
    "k_dict = {\n",
    "    'MISS_07374525': 0.75,\n",
    "    'ULUA_23': 0.9,\n",
    "    'AMZN_17050001': 0.82,\n",
    "    'NILE_1662100': 0.84,\n",
    "    'YNGZ_2181900': 0.64,\n",
    "    'MUDA_A4261110': 0.7,\n",
    "    'DABE_6742900': 0.92,\n",
    "    'DABE_42055': 0.89\n",
    " }"
   ]
  },
  {
   "cell_type": "code",
   "execution_count": null,
   "metadata": {},
   "outputs": [],
   "source": [
    "# Recession constant (k) values to be used for the reclassification process\n",
    "remap_k = RemapValue([\n",
    "    [i, int(round(k_dict[id_dict[i]] * 1000, 0))] for i in range(len(id_dict))\n",
    "])\n",
    "remap_k"
   ]
  },
  {
   "cell_type": "code",
   "execution_count": null,
   "metadata": {},
   "outputs": [],
   "source": [
    "# Recession constant (k) raster\n",
    "k = Float(Reclassify(drain_areas_ids, \"Value\", remap_k, \"NODATA\")) / 1000"
   ]
  },
  {
   "cell_type": "code",
   "execution_count": null,
   "metadata": {},
   "outputs": [],
   "source": [
    "# Initial soil water storage expressed as a fraction of water holding capacity [0-1]\n",
    "ffcb_dict = {\n",
    "    'MISS_07374525': 0.1,\n",
    "    'ULUA_23': 0.1,\n",
    "    'AMZN_17050001': 0.1,\n",
    "    'NILE_1662100': 0.1,\n",
    "    'YNGZ_2181900': 0.1,\n",
    "    'MUDA_A4261110': 0.1,\n",
    "    'DABE_6742900': 0.1,\n",
    "    'DABE_42055': 0.1\n",
    "}"
   ]
  },
  {
   "cell_type": "code",
   "execution_count": null,
   "metadata": {},
   "outputs": [],
   "source": [
    "# Initial soil water storage fraction (ffcb) values to be used for the reclassification process\n",
    "remap_ffcb = RemapValue([\n",
    "    [i, int(round(ffcb_dict[id_dict[i]] * 1000, 0))] for i in range(len(id_dict))\n",
    "])\n",
    "remap_ffcb"
   ]
  },
  {
   "cell_type": "code",
   "execution_count": null,
   "metadata": {},
   "outputs": [],
   "source": [
    "# Initial soil water storage fraction (ffcb) raster\n",
    "ffcb = Float(Reclassify(drain_areas_ids, \"Value\", remap_ffcb, \"NODATA\")) / 1000"
   ]
  },
  {
   "cell_type": "code",
   "execution_count": null,
   "metadata": {},
   "outputs": [],
   "source": [
    "# Initial soil water storage (st0)\n",
    "sstor_ant = whc * ffcb"
   ]
  },
  {
   "cell_type": "code",
   "execution_count": null,
   "metadata": {},
   "outputs": [],
   "source": [
    "# raise SystemExit(\"Please be sure that all the above executions are succesful before running the following cell!\")"
   ]
  },
  {
   "cell_type": "code",
   "execution_count": null,
   "metadata": {},
   "outputs": [],
   "source": [
    "print('\\n############################################################')\n",
    "print('\\t\\tINITIAL VARIABLES')\n",
    "print('\\tPeriod to be executed: ' + str(years[0]) + '-' + str(years[-1]))\n",
    "print('############################################################')\n",
    "\n",
    "years = [1980, 1981]\n",
    "months = [1 , 2]\n",
    "sts_flows_sim = pd.DataFrame(columns=[serial_id, \"YEAR\", \"MONTH\", \"COUNT\", \"AREA\", \"MIN\", \"MAX\", \"RANGE\", \"MEAN\", \"STD\", \"SUM\", \"MEDIAN\", \"PCT90\"])   \n",
    "\n",
    "for year in years:\n",
    "\n",
    "    print(\"\\n**Executing THORNTHWAITE AND MATHER model for \" + str(year) + \"**\")\n",
    "\n",
    "    ppt_nc_file = tc_ds + \"\\\\TerraClimate_ppt_\" + str(year) + \".nc\"\n",
    "    pet_nc_file  = tc_ds + \"\\\\TerraClimate_pet_\" + str(year) + \".nc\"\n",
    "    q_nc_file = tc_ds + \"\\\\TerraClimate_q_\" + str(year) + \".nc\"\n",
    "\n",
    "    nc_FP = arcpy.NetCDFFileProperties(ppt_nc_file)\n",
    "\n",
    "    for month in months:\n",
    "\n",
    "        print(\"\\n\\t*Executing water balance for month \" + str(month) + \"*\\n\")\n",
    "\n",
    "        print(\"\\tLoading precipitation, potential evapo., and runoff rasters from TerraClimate NetCDF files.....\")\n",
    "\n",
    "        dimension_value = nc_FP.getDimensionValue(\"time\", month-1)\n",
    "\n",
    "        pr_name = \"ppt_\" + str(year) + \"_\" + str(month)\n",
    "        pet_name = \"pet_\" + str(year) + \"_\" + str(month)\n",
    "        ro_name = \"q_\" + str(year) + \"_\" + str(month)\n",
    "\n",
    "        arcpy.MakeNetCDFRasterLayer_md(ppt_nc_file, \"ppt\", \"lon\", \"lat\", pr_name, \"\", [[\"time\", dimension_value]], \"BY_VALUE\")\n",
    "        arcpy.MakeNetCDFRasterLayer_md(pet_nc_file, \"pet\", \"lon\", \"lat\", pet_name, \"\", [[\"time\", dimension_value]], \"BY_VALUE\")\n",
    "        arcpy.MakeNetCDFRasterLayer_md(q_nc_file, \"q\", \"lon\", \"lat\", ro_name, \"\", [[\"time\", dimension_value]], \"BY_VALUE\")\n",
    "\n",
    "        pr = Raster(pr_name)\n",
    "        pet = Raster(pet_name) * 0.1  # Scale factor: 0.1\n",
    "        ro = Raster(ro_name)\n",
    "\n",
    "        print(\"\\tPrecipitation, potential evapo., and runoff are loaded\")\n",
    "\n",
    "        print(\"\\tCalculating effective precipitation......\")\n",
    "        eprec = pr - ro\n",
    "\n",
    "        print(\"\\tCalculating soil storage......\")\n",
    "        sstor = Con(eprec <= pet, sstor_ant * Exp(-Abs(eprec - pet) / whc), Con(sstor_ant + (eprec - pet) > whc, whc, sstor_ant + (eprec - pet)))\n",
    "\n",
    "        print(\"\\tCalculating actual evapotranspiration......\")\n",
    "        aet = Con(eprec > pet, pet, eprec + sstor - sstor_ant)\n",
    "\n",
    "        print(\"\\tCalculating percolation......\")\n",
    "        perc = Con(eprec <= pet, 0, Con(sstor_ant + (eprec - pet) > whc, sstor_ant + (eprec - pet) - whc, 0))\n",
    "\n",
    "        print(\"\\tCalculating baseflow......\")\n",
    "        bflow = (k * bflow_ant) + ((1 - k) * perc)\n",
    "\n",
    "        print(\"\\tCalculating water yield......\")\n",
    "        wyield = ro + bflow\n",
    "\n",
    "        out_table = \"zonal_wyield_\" + str(year) + \"_\" + str(month) + \".dbf\"\n",
    "\n",
    "        print(\"\\tCalculating zonal statistics of water yield......\")\n",
    "        arcpy.sa.ZonalStatisticsAsTable(drain_areas, serial_id, wyield, out_table, \"DATA\", \"ALL\")\n",
    "\n",
    "        print(\"\\tConverting zonal statistics results into dataframe......\")\n",
    "        # Convert the output table to a NumPy array\n",
    "        array = arcpy.da.TableToNumPyArray(out_table, [serial_id, \"COUNT\", \"AREA\", \"MIN\", \"MAX\", \"RANGE\", \"MEAN\", \"STD\", \"SUM\", \"MEDIAN\", \"PCT90\"])\n",
    "\n",
    "        # Convert the NumPy array to a pandas DataFrame\n",
    "        df_sim = pd.DataFrame(array)\n",
    "\n",
    "        df_sim[\"YEAR\"] = year # Assign the year of simulation\n",
    "        df_sim[\"MONTH\"] = month # Assign the month of simulation\n",
    "        df_sim = df_sim[[serial_id, \"YEAR\", \"MONTH\", \"COUNT\", \"AREA\", \"MIN\", \"MAX\", \"RANGE\", \"MEAN\", \"STD\", \"SUM\", \"MEDIAN\", \"PCT90\"]] # Reorder columns\n",
    "\n",
    "        sts_flows_sim = pd.concat([sts_flows_sim, df_sim], ignore_index=True) # Concat all simulated stream flow station values\n",
    "\n",
    "        # sstor_ant is si-1 for other months different from the first one \n",
    "        sstor_ant = sstor\n",
    "        bflow_ant = bflow\n",
    "\n",
    "        # Delete variables to save memory\n",
    "        print(\"\\tDeleting variables......\")\n",
    "        del pr, pet, ro, eprec, sstor, aet, perc, bflow, wyield\n",
    "\n",
    "arcpy.CheckInExtension(\"spatial\")\n",
    "\n",
    "# Clear the workspace environment\n",
    "arcpy.ClearEnvironment(\"workspace\")\n",
    "\n",
    "print(\"\\nDONE!!\")"
   ]
  }
 ],
 "metadata": {
  "kernelspec": {
   "display_name": "Python 3",
   "language": "python",
   "name": "python3"
  },
  "language_info": {
   "codemirror_mode": {
    "name": "ipython",
    "version": 3
   },
   "file_extension": ".py",
   "mimetype": "text/x-python",
   "name": "python",
   "nbconvert_exporter": "python",
   "pygments_lexer": "ipython3",
   "version": "3.11.10"
  }
 },
 "nbformat": 4,
 "nbformat_minor": 2
}
