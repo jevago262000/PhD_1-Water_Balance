{
 "cells": [
  {
   "cell_type": "code",
   "execution_count": null,
   "metadata": {},
   "outputs": [],
   "source": [
    "# If not installed, run this cell. It is needed for access to GEE\n",
    "#!pip install ee\n",
    "#!pip show ee"
   ]
  },
  {
   "cell_type": "code",
   "execution_count": null,
   "metadata": {},
   "outputs": [],
   "source": [
    "# If not installed, run this cell. It helps visualization of data\n",
    "#!pip install geemap\n",
    "#!pip show geemap"
   ]
  },
  {
   "cell_type": "code",
   "execution_count": null,
   "metadata": {},
   "outputs": [],
   "source": [
    "# Import libraries\n",
    "import ee, pandas as pd, geemap, ipyleaflet, ipywidgets as widgets, matplotlib.pyplot as plt\n",
    "import calendar\n",
    "# from IPython.display import Image\n",
    "from otherfunctions import water_balance, ee_array_to_df, determine_period\n",
    "from functools import partial"
   ]
  },
  {
   "cell_type": "code",
   "execution_count": null,
   "metadata": {},
   "outputs": [],
   "source": [
    "# Trigger the authentication flow.\n",
    "ee.Authenticate()\n",
    "\n",
    "# Initialize the library.\n",
    "ee.Initialize(project='ee-jvg')"
   ]
  },
  {
   "cell_type": "code",
   "execution_count": null,
   "metadata": {},
   "outputs": [],
   "source": [
    "# HydroSHEDS v1 will be used. Specifically, its HydroBASINS\n",
    "hydrobasins = ee.FeatureCollection('WWF/HydroSHEDS/v1/Basins/hybas_3')\n",
    "hybas_id = \"HYBAS_ID\"\n",
    "Map = geemap.Map()\n",
    "Map.addLayer(hydrobasins, {}, 'HydroBasins')"
   ]
  },
  {
   "cell_type": "code",
   "execution_count": null,
   "metadata": {},
   "outputs": [],
   "source": [
    "output_widget = widgets.Output(layout={'border': '1px solid black'})\n",
    "output_control = ipyleaflet.WidgetControl(widget=output_widget, position=\"bottomright\")\n",
    "Map.add_control(output_control)"
   ]
  },
  {
   "cell_type": "code",
   "execution_count": null,
   "metadata": {},
   "outputs": [],
   "source": [
    "# This ID and lat and lon will be identified through the interative map above by clicking on the basin of your interest.\n",
    "# See the widget on the bottom right side of the map\n",
    "# Define the basin and location of interest\n",
    "selected_basin_id = None\n",
    "lat = None\n",
    "lon = None\n",
    "\n",
    "def remove_layer(pre_name):\n",
    "    layer_names = Map.layers # Get the list of layer names\n",
    "    layers = Map.layers[:]  # Get the list of layers\n",
    "    names = [layer.name for layer in layer_names]  # Extract layer names\n",
    "\n",
    "    for item in names:\n",
    "        if pre_name in item: # Check if the name is in the item\n",
    "            index = names.index(item)  # Get the index of the name\n",
    "            layer = layer_names[index]  # Retrieve the layer at the index\n",
    "            Map.remove(layer)  # Remove the layer from the map    \n",
    "            return Map.layers[:]\n",
    "  \n",
    "    return layers\n",
    "\n",
    "# Function to identify the ID of the basin of interest by clicking on the map over the feature of the HydroSHEDS\n",
    "def handle_interaction(**kwargs):\n",
    "    global selected_basin_id, lat, lon, poi, poi_ft\n",
    "\n",
    "    latlon = kwargs.get('coordinates')\n",
    "    if kwargs.get('type') == 'click':\n",
    "        Map.default_style = {'cursor': 'wait'}\n",
    "        lat = latlon[0]\n",
    "        lon = latlon[1]\n",
    "        xy = ee.Geometry.Point(latlon[::-1])\n",
    "        selected_fc = hydrobasins.filterBounds(xy)\n",
    "\n",
    "        # The point location was previously defined by clicking on the map\n",
    "        poi = ee.Geometry.Point(lon, lat)\n",
    "        poi_ft = ee.FeatureCollection(ee.Geometry.Point(lon, lat))\n",
    "        Map.addLayer(poi_ft, {'color': 'green', 'pointSize': 10}, \"Point of Interest\")\n",
    "\n",
    "        with output_widget:\n",
    "            output_widget.clear_output()\n",
    "\n",
    "            try:\n",
    "                pre_name = \"Identified Basin: \"\n",
    "                Map.layers = remove_layer(pre_name)\n",
    "                selected_basin_id = selected_fc.first().get(hybas_id).getInfo()\n",
    "                geom = selected_fc.geometry()\n",
    "                layer_name = pre_name + str(selected_basin_id)\n",
    "                Map.centerObject(geom)\n",
    "                Map.addLayer(ee.Image().paint(geom, 0, 2), {'palette': 'red'}, layer_name)                \n",
    "                print(layer_name + \"\\nLat: \" + str(lat) + \" Long: \" + str(lon))\n",
    "            except Exception as e:\n",
    "                print('No feature could be found')\n",
    "                Map.layers = Map.layers[:]\n",
    "\n",
    "        Map.default_style = {'cursor': 'pointer'}\n",
    "\n",
    "Map.on_interaction(handle_interaction)\n",
    "Map.default_style = {'cursor': 'pointer'}\n",
    "Map"
   ]
  },
  {
   "cell_type": "code",
   "execution_count": null,
   "metadata": {},
   "outputs": [],
   "source": [
    "## Initial parameters ##\n",
    "\n",
    "# It is recommended using at least 5 years of equilibration period - warm up years. This allows the model to get the water cycling properly.\n",
    "# When a proper equilibration (warm-up) period is incorporated, \"ffcb\" value is not going to impact model results\n",
    "warmup_yrs = 5\n",
    "start_date = '2008-01'\n",
    "end_date = '2023-12'\n",
    "ini_date, fin_date = determine_period(start_date, end_date, warmup_yrs)"
   ]
  },
  {
   "cell_type": "code",
   "execution_count": null,
   "metadata": {},
   "outputs": [],
   "source": [
    "######################################################\n",
    "### Starting values for the water balance model - T&M\n",
    "######################################################\n",
    "\n",
    "# The recession constant (k) will be determined from hydrographs derived from the gathered streamflow datasets. For the rest of the world, k will be defined as 0.5\n",
    "k_recession = 0.5 # Temporarily is defined as such\n",
    "\n",
    "# Initial soil water storage expressed as a fraction of water holding capacity [0-1]\n",
    "ffcb = 0.1 # 10%\n",
    "\n",
    "# Base flow of the previous month (mm)\n",
    "bflow_ant = 10"
   ]
  },
  {
   "cell_type": "code",
   "execution_count": null,
   "metadata": {},
   "outputs": [],
   "source": [
    "raise SystemExit(\"Please go to the interactive map and click on the basin and point of interest before continuing running the cells below!\")"
   ]
  },
  {
   "cell_type": "code",
   "execution_count": null,
   "metadata": {},
   "outputs": [],
   "source": [
    "# Public link to the asset whc: https://code.earthengine.google.com/?asset=projects/ee-jvg/assets/whc_fc33\n",
    "zoi = hydrobasins.select(hybas_id).filter(ee.Filter.eq(hybas_id, selected_basin_id))\n",
    "whc = ee.Image('projects/ee-jvg/assets/whc_fc33')\n",
    "whc = whc.clip(zoi).divide(1000) # As the raster was originally multiplied by 1000\n",
    "Map.addLayer(whc, {\n",
    "  'min': 0,\n",
    "  'max': 1000,\n",
    "  'palette': [\n",
    "      '#AFEEEE',\n",
    "      '#E0FFFF',\n",
    "      '#00FFFF',\n",
    "      '#87CEEB',\n",
    "      '#000080'\n",
    "  ]\n",
    "  },\n",
    "  'Water Holding Capacity')"
   ]
  },
  {
   "cell_type": "code",
   "execution_count": null,
   "metadata": {},
   "outputs": [],
   "source": [
    "# TerraClimate layers filtered with \"start_date\" (inclusive) and \"end_date\" (exclusive) and to \"zoi\"\n",
    "bands = [\"pr\", \"pet\", \"ro\"]\n",
    "terraclimate = ee.ImageCollection('IDAHO_EPSCOR/TERRACLIMATE').select(bands).filterBounds(zoi).filter(ee.Filter.date(start_date, fin_date))"
   ]
  },
  {
   "cell_type": "code",
   "execution_count": null,
   "metadata": {},
   "outputs": [],
   "source": [
    "# Initial images and time to start the water balance\n",
    "k = ee.Image(k_recession) # Image of recession constant\n",
    "st0 = whc.multiply(ffcb) # Initial soil water storage\n",
    "bf0 = ee.Image(bflow_ant) # Previous baseflow\n",
    "time0 = terraclimate.first().get(\"system:time_start\") # Define the initial time (time0) according to the start of the collection\n",
    "scale = terraclimate.first().projection().nominalScale() # This is the resolution used to standardize\n",
    "crs = 'EPSG:3857' # WGS 84 / Pseudo-Mercator -- Spherical Mercator, Google Maps, OpenStreetMap, Bing, ArcGIS, ESRI\n",
    "\n",
    "# Water balance variables\n",
    "wb_vars = [\"pr\", \"pet\", \"ro\", \"eprec\", \"aet\", \"sstor\", \"perc\", \"bflow\", \"wyield\"]"
   ]
  },
  {
   "cell_type": "code",
   "execution_count": null,
   "metadata": {},
   "outputs": [],
   "source": [
    "# Initialization of ALL bands.\n",
    "# Mandatory to cast the type of the data with a .float().\n",
    "\n",
    "# Initialization of precipitation\n",
    "initial_pr = ee.Image(0).set(\"system:time_start\", time0).select([0], [\"pr\"]).float()\n",
    "\n",
    "# Initialization of potential evapotranspiration\n",
    "initial_pet = ee.Image(0).set(\"system:time_start\", time0).select([0], [\"pet\"]).float()\n",
    "\n",
    "# Initialization of runoff\n",
    "initial_ro = ee.Image(0).set(\"system:time_start\", time0).select([0], [\"ro\"]).float()\n",
    "\n",
    "# Initialization of effective precipitation\n",
    "initial_ep = ee.Image(0).set(\"system:time_start\", time0).select([0], [\"eprec\"]).float()\n",
    "\n",
    "# Initialization of actual evapotranspiration\n",
    "initial_aet = ee.Image(0).set(\"system:time_start\", time0).select([0], [\"aet\"]).float()\n",
    "\n",
    "# Initialization of soil storage, which is considered to be a fraction of WCH\n",
    "initial_st = st0.set(\"system:time_start\", time0).select([0], [\"sstor\"]).float()\n",
    "\n",
    "# Initialization of percolation\n",
    "initial_pc = ee.Image(0).set(\"system:time_start\", time0).select([0], [\"perc\"]).float()\n",
    "\n",
    "# Initialization of base flow, which is considered as defined in Ulmen (2000)\n",
    "initial_bf = bf0.set(\"system:time_start\", time0).select([0], [\"bflow\"]).float()\n",
    "\n",
    "# Initialization of water yield\n",
    "initial_wy = ee.Image(0).set(\"system:time_start\", time0).select([0], [\"wyield\"]).float()"
   ]
  },
  {
   "cell_type": "code",
   "execution_count": null,
   "metadata": {},
   "outputs": [],
   "source": [
    "# All initial bands are combined into one \"ee.Image\" by adding them to the first band (wy)\n",
    "initial_image = initial_wy.addBands(\n",
    "    ee.Image([initial_pr, initial_pet, initial_ro, initial_ep, initial_aet, initial_st, initial_pc, initial_bf])\n",
    ")\n",
    "\n",
    "# Initiatlization of list that will contain new images after each iteration\n",
    "image_list = ee.List([initial_image])"
   ]
  },
  {
   "cell_type": "code",
   "execution_count": null,
   "metadata": {},
   "outputs": [],
   "source": [
    "#########################\n",
    "# WATER BALANCE EXECUTION\n",
    "#########################\n",
    "\n",
    "partial_function = partial(water_balance, ee = ee, whc = whc, k = k)\n",
    "\n",
    "# Iterate the user-supplied function to the terraclimate collection\n",
    "wy_list = terraclimate.iterate(partial_function, image_list)\n",
    "\n",
    "# Remove the initial image from our list\n",
    "wy_list = ee.List(wy_list).remove(initial_image)\n",
    "\n",
    "# Transform the list into an ee.ImageCollection\n",
    "wy_coll = ee.ImageCollection(wy_list).filter(ee.Filter.date(ini_date, fin_date))"
   ]
  },
  {
   "cell_type": "code",
   "execution_count": null,
   "metadata": {},
   "outputs": [],
   "source": [
    "# Let's assign year and month to each image of the resulting image collection\n",
    "wy_coll = wy_coll.map(lambda image: image.set(\"year\", ee.Image(image).date().get(\"year\")))\n",
    "wy_coll = wy_coll.map(lambda image: image.set(\"month\", ee.Image(image).date().get(\"month\")))"
   ]
  },
  {
   "cell_type": "code",
   "execution_count": null,
   "metadata": {},
   "outputs": [],
   "source": [
    "# Let's have a look at the results around a location of interest\n",
    "# WARNING: It crashes if the number of simulation years is greater than 11 on a monthly basis, i.e., more than 132 images.\n",
    "# It will result in a df that includes data from all the reporting/printing timeperiod\n",
    "arr = wy_coll.getRegion(poi, scale).getInfo()\n",
    "rdf = ee_array_to_df(arr, wb_vars).sort_index()\n",
    "rdf"
   ]
  },
  {
   "cell_type": "code",
   "execution_count": null,
   "metadata": {},
   "outputs": [],
   "source": [
    "# Get values of initial variables for the point of interest\n",
    "copy_ii = initial_image.set('system:time_start', 0)\n",
    "intial_imgs = ee.ImageCollection(ee.List([copy_ii]))\n",
    "initial_arr = intial_imgs.getRegion(poi, scale).getInfo()\n",
    "idf = ee_array_to_df(initial_arr, wb_vars).sort_index()\n",
    "idf"
   ]
  },
  {
   "cell_type": "code",
   "execution_count": null,
   "metadata": {},
   "outputs": [],
   "source": [
    "# This process is carried out to validate whether the water balance outputs were correctly calculated. Verification was done by other means\n",
    "# Therefore, only if a warm-up period was not defined, this could be useful. On the contrary, the datetime of the initial variables dataframe (\"idf\") will not meet the antecedent datetime of dataframe \"rdf\"\n",
    "rdff = pd.concat([idf, rdf])\n",
    "#rdf.to_excel(\"D:\\Borrar\\wb_point.xlsx\")\n",
    "#rdff.to_csv(\"D:\\Borrar\\wb_point.csv\")\n",
    "rdff"
   ]
  },
  {
   "cell_type": "code",
   "execution_count": null,
   "metadata": {},
   "outputs": [],
   "source": [
    "# Preparing dataframe for chart visualization\n",
    "new_pd = rdf.drop([\"time\"], axis=1)\n",
    "new_pd[\"year\"] = rdf.apply(lambda row: row.name.split(\"-\")[0], axis=1)\n",
    "new_pd[\"month\"] = new_pd.apply(lambda row: calendar.month_abbr[int(row.name.split(\"-\")[1])], axis=1)\n",
    "new_pd"
   ]
  },
  {
   "cell_type": "code",
   "execution_count": null,
   "metadata": {},
   "outputs": [],
   "source": [
    "# Annual values\n",
    "pd_yr = new_pd.drop(\"month\", axis=1).groupby([\"year\"]).sum()\n",
    "pd_yr"
   ]
  },
  {
   "cell_type": "code",
   "execution_count": null,
   "metadata": {},
   "outputs": [],
   "source": [
    "# Plot of yearly water balance\n",
    "fig = plt.figure(figsize=(6, 4))\n",
    "ax = fig.add_subplot(111)\n",
    "\n",
    "cols = pd_yr.drop([\"pet\", \"eprec\", \"sstor\", \"perc\"], axis=1).columns.tolist()\n",
    "ls_vars = {}\n",
    "mk_vars = {}\n",
    "ls = [\"-\", \"--\", \":\", \"dashed\", \"-\"]\n",
    "markers = [\"\", \"^\", \"v\", \"o\", \"<\"]\n",
    "\n",
    "for i in range(len(cols)):\n",
    "    ls_vars[cols[i]] = ls[i]\n",
    "    mk_vars[cols[i]] = markers[i]\n",
    "\n",
    "for col in cols:\n",
    "    ax.plot(pd_yr[col], linestyle=ls_vars[col], marker=mk_vars[col], label=col, fillstyle='none')\n",
    "ax.legend()\n",
    "ax.set_xlabel('Year')\n",
    "ax.set_ylabel(\"Depth (mm)\")\n",
    "ax.set_title(\"Water Balance - Historical: \" + pd_yr.index.values.min() + \"-\" + pd_yr.index.values.max() + \"\\n\"\n",
    "             + \"Lat: \" + str(round(lat, 8)) + \", Long: \" + str(round(lon, 8)))\n",
    "ax.tick_params(axis='x', labelrotation=45)"
   ]
  },
  {
   "cell_type": "code",
   "execution_count": null,
   "metadata": {},
   "outputs": [],
   "source": [
    "# Monthly values\n",
    "pd_month = new_pd.drop(\"year\", axis=1).groupby([\"month\"], sort=False).mean()\n",
    "pd_month"
   ]
  },
  {
   "cell_type": "code",
   "execution_count": null,
   "metadata": {},
   "outputs": [],
   "source": [
    "# Plot of monthly water balance\n",
    "fig = plt.figure(figsize=(6, 4))\n",
    "ax = fig.add_subplot(111)\n",
    "\n",
    "cols = pd_month.drop([\"pet\", \"eprec\", \"sstor\", \"perc\"], axis=1).columns.tolist()\n",
    "ls_vars = {}\n",
    "mk_vars = {}\n",
    "ls = [\"-\", \"--\", \":\", \"dashed\", \"-\"]\n",
    "markers = [\"\", \"^\", \"v\", \"o\", \"<\"]\n",
    "\n",
    "for i in range(len(cols)):\n",
    "    ls_vars[cols[i]] = ls[i]\n",
    "    mk_vars[cols[i]] = markers[i]\n",
    "\n",
    "for col in cols:\n",
    "    ax.plot(pd_month[col], linestyle=ls_vars[col], marker=mk_vars[col], label=col, fillstyle='none')\n",
    "ax.legend()\n",
    "ax.set_xlabel('Month')\n",
    "ax.set_ylabel(\"Depth (mm)\")\n",
    "ax.set_title(\"Water Balance - Historical: \" + pd_yr.index.values.min() + \"-\" + pd_yr.index.values.max() + \"\\n\"\n",
    "             + \"Lat: \" + str(round(lat, 8)) + \", Long: \" + str(round(lon, 8)))\n",
    "ax.tick_params(axis='x', labelrotation=45)"
   ]
  },
  {
   "cell_type": "code",
   "execution_count": null,
   "metadata": {},
   "outputs": [],
   "source": [
    "def create_annual_composite(year):\n",
    "  # Reduce image collection for the year\n",
    "  annual_image = ee.ImageCollection(wy_coll.select(wb_vars) \\\n",
    "                          .filterMetadata('year', 'equals', year) \\\n",
    "                          .set('year', year)).sum().float()\n",
    "\n",
    "  # Rename bands with original names\n",
    "  annual_image = annual_image.rename(ee.List(wb_vars))\n",
    "\n",
    "  return annual_image\n",
    "\n",
    "# Define years from image collection\n",
    "years = ee.List(wy_coll.aggregate_array('year')).distinct().sort()\n",
    "\n",
    "# Create annual image collection\n",
    "annual_ic = ee.ImageCollection.fromImages(years.map(lambda year: create_annual_composite(ee.Number(year))))"
   ]
  },
  {
   "cell_type": "code",
   "execution_count": null,
   "metadata": {},
   "outputs": [],
   "source": [
    "var_to_show = \"ro\" # wb_vars = [\"pr\", \"pet\", \"ro\", \"eprec\", \"aet\", \"sstor\", \"perc\", \"bflow\", \"wyield\"]\n",
    "img_to_show = annual_ic.select(var_to_show).map(lambda image: image.clip(zoi))\n",
    "\n",
    "# Define arguments for the getVideoThumbURL function parameters.\n",
    "videoArgs = {\n",
    "  \"dimensions\": 768,\n",
    "  \"region\": zoi.geometry(),\n",
    "  \"framesPerSecond\": 3,\n",
    "  \"crs\": crs,\n",
    "  \"min\": 1000, # Change this value as needed\n",
    "  \"max\": 4000, # Change this value as needed\n",
    "  'palette': [\n",
    "      '#AFEEEE',\n",
    "      '#E0FFFF',\n",
    "      '#00FFFF',\n",
    "      '#87CEEB',\n",
    "      '#000080'\n",
    "  ],\n",
    "}\n",
    "\n",
    "# Get the video thumbnail URL for the temperature image collection\n",
    "video_url = img_to_show.getVideoThumbURL(videoArgs)\n",
    "print(\"Video Thumbnail URL: \", video_url)"
   ]
  },
  {
   "cell_type": "code",
   "execution_count": null,
   "metadata": {},
   "outputs": [],
   "source": [
    "# Let's have a look at the results around a location of interest by using the aggregated image collection on a yearly basis:\n",
    "annual_arr = annual_ic.getRegion(poi, scale).getInfo()\n",
    "annual_rdf = ee_array_to_df(annual_arr, wb_vars).reset_index(drop=True).drop([\"time\"], axis=1)\n",
    "annual_rdf[\"year\"] = years.getInfo()\n",
    "annual_rdf = annual_rdf.set_index(\"year\")\n",
    "annual_rdf"
   ]
  },
  {
   "cell_type": "code",
   "execution_count": null,
   "metadata": {},
   "outputs": [],
   "source": [
    "def create_monthly_composite(month):\n",
    "  # Reduce image collection for the year\n",
    "  monthly_image = ee.ImageCollection(wy_coll.select(wb_vars) \\\n",
    "                          .filterMetadata('month', 'equals', month) \\\n",
    "                          .set('month', month)).mean().float()\n",
    "\n",
    "  # Rename bands with original names\n",
    "  monthly_image = monthly_image.rename(ee.List(wb_vars))\n",
    "\n",
    "  return monthly_image\n",
    "\n",
    "# Define months from image collection\n",
    "months = ee.List(wy_coll.aggregate_array('month')).distinct().sort()\n",
    "\n",
    "# Create annual image collection\n",
    "monthly_ic = ee.ImageCollection.fromImages(months.map(lambda month: create_monthly_composite(ee.Number(month))))"
   ]
  },
  {
   "cell_type": "code",
   "execution_count": null,
   "metadata": {},
   "outputs": [],
   "source": [
    "var_to_show2 = \"ro\" # wb_vars = [\"pr\", \"pet\", \"ro\", \"eprec\", \"aet\", \"sstor\", \"perc\", \"bflow\", \"wyield\"]\n",
    "img_to_show2 = monthly_ic.select(var_to_show2).map(lambda image: image.clip(zoi))\n",
    "\n",
    "# Define arguments for the getVideoThumbURL function parameters.\n",
    "videoArgs2 = {\n",
    "  \"dimensions\": 768,\n",
    "  \"region\": zoi.geometry(),\n",
    "  \"framesPerSecond\": 3,\n",
    "  \"crs\": crs,\n",
    "  \"min\": 0, # Change this value as needed\n",
    "  \"max\": 400, # Change this value as needed\n",
    "  'palette': [\n",
    "      '#AFEEEE',\n",
    "      '#E0FFFF',\n",
    "      '#00FFFF',\n",
    "      '#87CEEB',\n",
    "      '#000080'\n",
    "  ],\n",
    "}\n",
    "\n",
    "# Get the video thumbnail URL for the temperature image collection\n",
    "video_url2 = img_to_show2.getVideoThumbURL(videoArgs2)\n",
    "print(\"Video Thumbnail URL: \", video_url2)"
   ]
  },
  {
   "cell_type": "code",
   "execution_count": null,
   "metadata": {},
   "outputs": [],
   "source": [
    "# Let's have a look at the results around a location of interest by using the aggregated image collection on a monthly basis:\n",
    "monthly_arr = monthly_ic.getRegion(poi, scale).getInfo()\n",
    "monthly_rdf = ee_array_to_df(monthly_arr, wb_vars).reset_index(drop=True).drop([\"time\"], axis=1)\n",
    "monthly_rdf[\"month\"] = months.getInfo()\n",
    "monthly_rdf[\"month\"] = monthly_rdf[\"month\"].apply(lambda row: calendar.month_abbr[row])\n",
    "monthly_rdf = monthly_rdf.set_index(\"month\")\n",
    "monthly_rdf"
   ]
  }
 ],
 "metadata": {
  "kernelspec": {
   "display_name": "arcgispro-py3-clone",
   "language": "python",
   "name": "python3"
  },
  "language_info": {
   "codemirror_mode": {
    "name": "ipython",
    "version": 3
   },
   "file_extension": ".py",
   "mimetype": "text/x-python",
   "name": "python",
   "nbconvert_exporter": "python",
   "pygments_lexer": "ipython3",
   "version": "3.11.10"
  }
 },
 "nbformat": 4,
 "nbformat_minor": 2
}
