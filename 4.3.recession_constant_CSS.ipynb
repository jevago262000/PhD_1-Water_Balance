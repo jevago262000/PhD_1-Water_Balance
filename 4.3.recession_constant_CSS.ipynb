{
 "cells": [
  {
   "cell_type": "code",
   "execution_count": null,
   "metadata": {},
   "outputs": [],
   "source": [
    "# If not installed, run this cell. It is needed for the determination of the recession constant\n",
    "#!pip install hydrosignatures\n",
    "#!pip show hydrosignatures"
   ]
  },
  {
   "cell_type": "code",
   "execution_count": null,
   "metadata": {},
   "outputs": [],
   "source": [
    "#!pip install pygeohydro\n",
    "#!pip show pygeohydro"
   ]
  },
  {
   "cell_type": "code",
   "execution_count": null,
   "metadata": {},
   "outputs": [],
   "source": [
    "# The following two lines had to be executed to correct the library installations that the above libraries carried out when intalling\n",
    "#!pip install -U --force-reinstall scipy\n",
    "#!pip install matplotlib --upgrade\n",
    "#!pip install aiohttp --upgrade"
   ]
  },
  {
   "cell_type": "code",
   "execution_count": 1,
   "metadata": {},
   "outputs": [],
   "source": [
    "import matplotlib.pyplot as plt\n",
    "import numpy as np\n",
    "import pandas as pd\n",
    "\n",
    "import hydrosignatures as hs\n",
    "from pygeohydro import NWIS"
   ]
  },
  {
   "cell_type": "code",
   "execution_count": 2,
   "metadata": {},
   "outputs": [],
   "source": [
    "nwis = NWIS()\n",
    "q = nwis.get_streamflow(\"12304500\", (\"2019-01-01\", \"2019-12-31\"))"
   ]
  },
  {
   "cell_type": "markdown",
   "metadata": {},
   "source": [
    "**\"hs.baseflow_recession()\"**: Calculate baseflow recession constant and master recession curve.\n",
    "\n",
    "*Notes*\\\n",
    "This function is ported from the TOSSH Matlab toolbox, which is based on the following publication:\n",
    "\n",
    "- Gnann, S.J., Coxon, G., Woods, R.A., Howden, N.J.K., McMillan H.K., 2021. TOSSH: A Toolbox for Streamflow Signatures in Hydrology. Environmental Modelling & Software. https://doi.org/10.1016/j.envsoft.2021.104983\n",
    "\n",
    "This function calculates baseflow recession constant assuming exponential recession behaviour (Safeeq et al., 2013). Master recession curve (MRC) is constructed using the adapted matching strip method (Posavec et al., 2006).\n",
    "\n",
    "According to Safeeq et al. (2013), K < 0.065 represent groundwater dominated slow-draining systems, K >= 0.065 represent shallow subsurface flow dominated fast draining systems.\n",
    "\n",
    "*Parameters*\n",
    "- streamflow : numpy.ndarray\\\n",
    "    Streamflow as a 1D array.\n",
    "\n",
    "- freq : float, optional\\\n",
    "    Frequency of steamflow in number of days. Default is 1, i.e., daily streamflow.\n",
    "\n",
    "- recession_length : int, optional\\\n",
    "    Minimum length of recessions [days]. Default is 15.\n",
    "\n",
    "- n_start : int, optional\\\n",
    "    Days to be removed after start of recession. Default is 0.\n",
    "\n",
    "- eps : float, optional\\\n",
    "    Allowed increase in flow during recession period. Default is 0.\n",
    "\n",
    "- start_of_recession : {'baseflow', 'peak'}, optional\\\n",
    "    Define start of recession. Default is 'baseflow'.\n",
    "\n",
    "- fit_method : {'nonparametric_analytic', 'exponential'}, optional\\\n",
    "    Method to fit mrc. Default is 'nonparametric_analytic'.\n",
    "\n",
    "- lyne_hollick_smoothing : float, optional\\\n",
    "    Smoothing parameter of Lyne-Hollick filter. Default is 0.925.\n",
    "\n",
    "*Returns*\n",
    "- mrc : numpy.ndarray\\\n",
    "    Master Recession Curve as 2D array of [time, flow].\n",
    "\n",
    "* bf_recession_k : float\\\n",
    "    Baseflow Recession Constant [1/day].\n",
    "\n",
    "*Raises*\n",
    "- ValueError\\\n",
    "    If no recession segments are found or if a complex BaseflowRecessionK is calculated."
   ]
  },
  {
   "cell_type": "code",
   "execution_count": null,
   "metadata": {},
   "outputs": [],
   "source": []
  }
 ],
 "metadata": {
  "kernelspec": {
   "display_name": "Python 3",
   "language": "python",
   "name": "python3"
  },
  "language_info": {
   "codemirror_mode": {
    "name": "ipython",
    "version": 3
   },
   "file_extension": ".py",
   "mimetype": "text/x-python",
   "name": "python",
   "nbconvert_exporter": "python",
   "pygments_lexer": "ipython3",
   "version": "3.11.10"
  }
 },
 "nbformat": 4,
 "nbformat_minor": 2
}
