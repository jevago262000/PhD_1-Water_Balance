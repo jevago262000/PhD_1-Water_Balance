{
 "cells": [
  {
   "cell_type": "code",
   "execution_count": 3,
   "metadata": {},
   "outputs": [],
   "source": [
    "import pandas as pd"
   ]
  },
  {
   "cell_type": "code",
   "execution_count": null,
   "metadata": {},
   "outputs": [
    {
     "ename": "TypeError",
     "evalue": "can only concatenate list (not \"str\") to list",
     "output_type": "error",
     "traceback": [
      "\u001b[1;31m---------------------------------------------------------------------------\u001b[0m",
      "\u001b[1;31mTypeError\u001b[0m                                 Traceback (most recent call last)",
      "Cell \u001b[1;32mIn[5], line 28\u001b[0m\n\u001b[0;32m     24\u001b[0m     temp_df2\u001b[38;5;241m.\u001b[39mto_csv(daily_folder \u001b[38;5;241m+\u001b[39m \u001b[38;5;124m\"\u001b[39m\u001b[38;5;124m//baseflow//\u001b[39m\u001b[38;5;124m\"\u001b[39m \u001b[38;5;241m+\u001b[39m id_station \u001b[38;5;241m+\u001b[39m \u001b[38;5;124m\"\u001b[39m\u001b[38;5;124m.csv\u001b[39m\u001b[38;5;124m\"\u001b[39m, sep\u001b[38;5;241m=\u001b[39m\u001b[38;5;124m\"\u001b[39m\u001b[38;5;124m \u001b[39m\u001b[38;5;124m\"\u001b[39m) \u001b[38;5;66;03m# Save file using space delimited format for baseflow calculations\u001b[39;00m\n\u001b[0;32m     26\u001b[0m     lines_to_write \u001b[38;5;241m=\u001b[39m lines_to_write \u001b[38;5;241m+\u001b[39m id_station \u001b[38;5;241m+\u001b[39m \u001b[38;5;124m\"\u001b[39m\u001b[38;5;124m.csv\u001b[39m\u001b[38;5;124m\"\u001b[39m \u001b[38;5;241m+\u001b[39m space \u001b[38;5;241m+\u001b[39m id_station \u001b[38;5;241m+\u001b[39m \u001b[38;5;124m\"\u001b[39m\u001b[38;5;124m.out\u001b[39m\u001b[38;5;130;01m\\n\u001b[39;00m\u001b[38;5;124m\"\u001b[39m\n\u001b[1;32m---> 28\u001b[0m new_content \u001b[38;5;241m=\u001b[39m header \u001b[38;5;241m+\u001b[39m lines_to_write\n\u001b[0;32m     30\u001b[0m \u001b[38;5;66;03m# Writing modified content back\u001b[39;00m\n\u001b[0;32m     31\u001b[0m \u001b[38;5;28;01mwith\u001b[39;00m \u001b[38;5;28mopen\u001b[39m(daily_folder \u001b[38;5;241m+\u001b[39m \u001b[38;5;124m\"\u001b[39m\u001b[38;5;124m//baseflow//file.lst\u001b[39m\u001b[38;5;124m\"\u001b[39m, \u001b[38;5;124m\"\u001b[39m\u001b[38;5;124mw\u001b[39m\u001b[38;5;124m\"\u001b[39m) \u001b[38;5;28;01mas\u001b[39;00m file:\n",
      "\u001b[1;31mTypeError\u001b[0m: can only concatenate list (not \"str\") to list"
     ]
    }
   ],
   "source": [
    "# Daily processing\n",
    "daily_folder = r\"Z:\\PhD_Datasets&Analysis\\Info_Inputs\\Streamflow_Stations\\Climate_Sensitive_Stations-GRDC\\2025-02-13_17-18_Daily\"\n",
    "# Check if the exported file can be read correctly\n",
    "df_cleaned = pd.read_csv(daily_folder + \"\\_DataFrames\\Joined_Daily_Sts_DFs.csv\", index_col=\"YYYY-MM-DD\")\n",
    "\n",
    "# Reading file content\n",
    "with open(daily_folder + \"//baseflow//file.lst\", \"r\") as file:\n",
    "    content = file.readlines()\n",
    "\n",
    "position = 6\n",
    "space = \"     \" \n",
    "header = content[:position] # Take the header of the baseflow master file\n",
    "lines_to_write = \"\"\n",
    "\n",
    "stations = df_cleaned.columns.to_list()\n",
    "\n",
    "for id_station in stations:\n",
    " \n",
    "    # Setting up files for the following baseflow calculation\n",
    "    temp_df2 = df_cleaned[id_station].reset_index()\n",
    "    temp_df2 = temp_df2.rename(columns={\"YYYY-MM-DD\":\"Date\", id_station:\"FlowValue\"}) # Rename columns to fit the required format for baseflow calculation\n",
    "    temp_df2[\"Date\"] = temp_df2[\"Date\"].apply(lambda row:  row.replace(\"-\",\"\")) # There must be no spaces in the date portion (YYYYMMDD) of the line\n",
    "    temp_df2 = temp_df2.set_index(\"Date\")\n",
    "    temp_df2 = temp_df2[temp_df2[id_station].notnull()] # Remove rows that have NaN values in the specified columns only. \n",
    "    temp_df2.to_csv(daily_folder + \"//baseflow//\" + id_station + \".csv\", sep=\" \") # Save file using space delimited format for baseflow calculations\n",
    "\n",
    "    lines_to_write = lines_to_write + id_station + \".csv\" + space + id_station + \".out\\n\"\n",
    "\n",
    "new_content = header + lines_to_write\n",
    "\n",
    "# Writing modified content back\n",
    "with open(daily_folder + \"//baseflow//file.lst\", \"w\") as file:\n",
    "    file.write(new_content)"
   ]
  },
  {
   "cell_type": "code",
   "execution_count": 8,
   "metadata": {},
   "outputs": [
    {
     "ename": "TypeError",
     "evalue": "can only concatenate list (not \"str\") to list",
     "output_type": "error",
     "traceback": [
      "\u001b[1;31m---------------------------------------------------------------------------\u001b[0m",
      "\u001b[1;31mTypeError\u001b[0m                                 Traceback (most recent call last)",
      "Cell \u001b[1;32mIn[8], line 1\u001b[0m\n\u001b[1;32m----> 1\u001b[0m new_content \u001b[38;5;241m=\u001b[39m header \u001b[38;5;241m+\u001b[39m \u001b[38;5;124m\"\u001b[39m\u001b[38;5;124m INSERT \u001b[39m\u001b[38;5;124m\"\u001b[39m \u001b[38;5;241m+\u001b[39m lines_to_write\u001b[38;5;241m.\u001b[39msplit(\u001b[38;5;124m\"\u001b[39m\u001b[38;5;130;01m\\n\u001b[39;00m\u001b[38;5;124m\"\u001b[39m)\n",
      "\u001b[1;31mTypeError\u001b[0m: can only concatenate list (not \"str\") to list"
     ]
    }
   ],
   "source": [
    "new_content = header + \" INSERT \" + lines_to_write.split(\"\\n\")"
   ]
  }
 ],
 "metadata": {
  "kernelspec": {
   "display_name": "Python 3",
   "language": "python",
   "name": "python3"
  },
  "language_info": {
   "codemirror_mode": {
    "name": "ipython",
    "version": 3
   },
   "file_extension": ".py",
   "mimetype": "text/x-python",
   "name": "python",
   "nbconvert_exporter": "python",
   "pygments_lexer": "ipython3",
   "version": "3.11.10"
  }
 },
 "nbformat": 4,
 "nbformat_minor": 2
}
