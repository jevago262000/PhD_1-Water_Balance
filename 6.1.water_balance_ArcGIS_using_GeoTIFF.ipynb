{
 "cells": [
  {
   "cell_type": "code",
   "execution_count": null,
   "metadata": {},
   "outputs": [],
   "source": [
    "# If not installed, run this cell. It is needed to read DBF files\n",
    "#!pip install dbfread\n",
    "#!pip show dbfread"
   ]
  },
  {
   "cell_type": "code",
   "execution_count": 1,
   "metadata": {},
   "outputs": [],
   "source": [
    "import arcpy\n",
    "from arcpy import env\n",
    "from arcpy.sa import *\n",
    "from otherfunctions import folders_exist"
   ]
  },
  {
   "cell_type": "code",
   "execution_count": 2,
   "metadata": {},
   "outputs": [],
   "source": [
    "# Paths to input datasets\n",
    "root_folder = r\"Z:\\PhD_Datasets&Analysis\\Info_Inputs\"\n",
    "tam_out_dir = r\"Z:\\PhD_Datasets&Analysis\\Outputs\\T&M_WBM\"\n",
    "tc_ds = root_folder + \"\\\\TerraClimate\"\n",
    "out_geotiff = tc_ds + \"\\\\GeoTIFF\"\n",
    "bands_gee = [\"pr\", \"pet\", \"ro\"] # band names in GEE - for comparison with GEE TerraClimate dataset\n",
    "tc_vars = [\"ppt\", \"pet\", \"q\"] # variable names according to TerraClimate\n",
    "\n",
    "\n",
    "# Set arcpy environment variables\n",
    "env.overwriteOutput = True\n",
    "arcpy.CheckOutExtension(\"spatial\")\n",
    "# env.cellSize = \"MINOF\" # Avoided to prevent huge files\n",
    "env.cellSize = out_geotiff + \"\\\\\" + tc_vars[0] + \"_2023_1.tif\" # Use TerraClimate resolution as reference for cell size\n",
    "env.workspace = r\"Z:\\PhD_Datasets&Analysis\\_ProcessingCache\"\n",
    "env.outputCoordinateSystem = arcpy.SpatialReference(\"WGS 1984\") # WGS 1984 (4326)"
   ]
  },
  {
   "cell_type": "code",
   "execution_count": 3,
   "metadata": {},
   "outputs": [
    {
     "name": "stdout",
     "output_type": "stream",
     "text": [
      "Spatial Reference Name: GCS_WGS_1984\n",
      "Spatial Reference WKID: 4326\n"
     ]
    }
   ],
   "source": [
    "# Get the current environment's spatial reference\n",
    "spatial_ref = env.outputCoordinateSystem\n",
    "\n",
    "# Check if a spatial reference is set\n",
    "if spatial_ref:\n",
    "    print(f\"Spatial Reference Name: {spatial_ref.name}\")\n",
    "    print(f\"Spatial Reference WKID: {spatial_ref.factoryCode}\")\n",
    "else:\n",
    "    print(\"No spatial reference is set in the current environment.\")"
   ]
  },
  {
   "cell_type": "code",
   "execution_count": null,
   "metadata": {},
   "outputs": [],
   "source": [
    "# Read the water holding capacity (WHC) raster\n",
    "whc = Float(Raster(r\"Z:\\PhD_Datasets&Analysis\\Inputs\\WHC_FC33_Final_WGS84.tif\")) / 1000 # As the raster was originally multiplied by 1000\n",
    "whc = Con(whc == 0, 1/1000000, whc) # Avoid division by zero in subsequent calculations (sstor)"
   ]
  },
  {
   "cell_type": "code",
   "execution_count": 4,
   "metadata": {},
   "outputs": [],
   "source": [
    "######################################################\n",
    "### Starting values for the water balance model - T&M\n",
    "######################################################\n",
    "\n",
    "# Initial variables\n",
    "years = range(1958, 2023 + 1) # Years with available weather information to run the water balance\n",
    "months = range(1, 12 + 1)\n",
    "\n",
    "# Base flow of the previous month (mm) (bf0)\n",
    "bflow_ant = 10"
   ]
  },
  {
   "cell_type": "code",
   "execution_count": 6,
   "metadata": {},
   "outputs": [],
   "source": [
    "# Initial soil water storage expressed as a fraction of water holding capacity [0-1]\n",
    "ffcb = 0.1\n",
    "\n",
    "# Initial soil water storage (st0)\n",
    "sstor_ant = whc * ffcb"
   ]
  },
  {
   "cell_type": "code",
   "execution_count": 7,
   "metadata": {},
   "outputs": [],
   "source": [
    "# Create folders for other variables of tam model\n",
    "eprec_dir = tam_out_dir + '\\\\eprec'\n",
    "sstor_dir = tam_out_dir + '\\\\sstor'\n",
    "aet_dir = tam_out_dir + '\\\\aet'\n",
    "perc_dir = tam_out_dir + '\\\\perc'\n",
    "\n",
    "folders_exist([eprec_dir, sstor_dir, aet_dir, perc_dir])"
   ]
  },
  {
   "cell_type": "code",
   "execution_count": null,
   "metadata": {},
   "outputs": [],
   "source": [
    "print('\\n############################################################')\n",
    "print('\\t\\tINITIAL VARIABLES')\n",
    "print('\\tPeriod to be executed: ' + str(years[0]) + '-' + str(years[-1]))\n",
    "print('############################################################')\n",
    "\n",
    "for year in years:\n",
    "\n",
    "    print(\"\\n**Executing THORNTHWAITE AND MATHER model for \" + str(year) + \"**\")\n",
    "\n",
    "    for month in months:\n",
    "\n",
    "        print(\"\\n\\t*Executing water balance for month \" + str(month) + \"*\\n\")\n",
    "\n",
    "        print(\"\\tLoading precipitation, potential evapo., and runoff rasters from TerraClimate GeoTIFF files.....\")\n",
    "\n",
    "        pr_name = tc_vars[0] + \"_\" + str(year) + \"_\" + str(month)\n",
    "        pet_name = tc_vars[1] + \"_\" + str(year) + \"_\" + str(month)\n",
    "        ro_name = tc_vars[2] + \"_\" + str(year) + \"_\" + str(month)\n",
    "\n",
    "        pr = Raster(out_geotiff + \"\\\\\" + pr_name + \".tif\")\n",
    "        pet = Raster(out_geotiff + \"\\\\\" + pet_name + \".tif\")\n",
    "        ro = Raster(out_geotiff + \"\\\\\" + ro_name + \".tif\")\n",
    "\n",
    "        print(\"\\tPrecipitation, potential evapo., and runoff were loaded\")\n",
    "\n",
    "        print(\"\\tCalculating effective precipitation......\")\n",
    "        eprec = Con(pr - ro > 0, pr - ro, 0) # Needs to be positive, otherwise it is 0\n",
    "        eprec.save(eprec_dir + \"\\\\eprec_\" + str(year) + \"_\" + str(month) + \".tif\")\n",
    "\n",
    "        print(\"\\tCalculating soil storage......\")\n",
    "        sstor = Con(eprec <= pet, sstor_ant * Exp(-Abs(eprec - pet) / whc), Con(sstor_ant + (eprec - pet) > whc, whc, sstor_ant + (eprec - pet)))\n",
    "        sstor.save(sstor_dir + \"\\\\sstor_\" + str(year) + \"_\" + str(month) + \".tif\")\n",
    "\n",
    "        print(\"\\tCalculating actual evapotranspiration......\")\n",
    "        aet = Con(eprec > pet, pet, Con(eprec + sstor - sstor_ant > 0, eprec + sstor - sstor_ant, 0))\n",
    "        aet.save(aet_dir + \"\\\\aet_\" + str(year) + \"_\" + str(month) + \".tif\")\n",
    "\n",
    "        print(\"\\tCalculating percolation......\")\n",
    "        perc = Con(eprec <= pet, 0, Con(sstor_ant + (eprec - pet) > whc, sstor_ant + (eprec - pet) - whc, 0))\n",
    "        perc.save(perc_dir + \"\\\\perc_\" + str(year) + \"_\" + str(month) + \".tif\")\n",
    "\n",
    "        # sstor_ant is si-1 for other months different from the first one \n",
    "        sstor_ant = sstor\n",
    "\n",
    "        # Delete variables to save memory\n",
    "        print(\"\\tDeleting variables......\")\n",
    "        del pr, pet, ro, eprec, sstor, aet, perc\n",
    "\n",
    "arcpy.CheckInExtension(\"spatial\")\n",
    "\n",
    "# Clear the workspace environment\n",
    "arcpy.ClearEnvironment(\"workspace\")\n",
    "\n",
    "print(\"\\nDONE!!\")"
   ]
  }
 ],
 "metadata": {
  "kernelspec": {
   "display_name": "arcgispro-py3-clone",
   "language": "python",
   "name": "python3"
  },
  "language_info": {
   "codemirror_mode": {
    "name": "ipython",
    "version": 3
   },
   "file_extension": ".py",
   "mimetype": "text/x-python",
   "name": "python",
   "nbconvert_exporter": "python",
   "pygments_lexer": "ipython3",
   "version": "3.11.11"
  }
 },
 "nbformat": 4,
 "nbformat_minor": 2
}
