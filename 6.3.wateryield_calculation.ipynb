{
 "cells": [
  {
   "cell_type": "code",
   "execution_count": 1,
   "id": "15b67f44",
   "metadata": {},
   "outputs": [],
   "source": [
    "import arcpy, pandas as pd\n",
    "from arcpy import env\n",
    "from arcpy.sa import *\n",
    "from otherfunctions import folders_exist"
   ]
  },
  {
   "cell_type": "code",
   "execution_count": null,
   "id": "b428b0ea",
   "metadata": {},
   "outputs": [],
   "source": [
    "# Paths to input datasets\n",
    "root_folder = r\"Z:\\PhD_Datasets&Analysis\\Info_Inputs\"\n",
    "tam_out_dir = r\"Z:\\PhD_Datasets&Analysis\\Outputs\\T&M_WBM\"\n",
    "tc_ds = root_folder + \"\\\\TerraClimate\"\n",
    "out_geotiff = tc_ds + \"\\\\GeoTIFF\"\n",
    "bands_gee = [\"pr\", \"pet\", \"ro\"] # band names in GEE - for comparison with GEE TerraClimate dataset\n",
    "tc_vars = [\"ppt\", \"pet\", \"q\"] # variable names according to TerraClimate\n",
    "\n",
    "# Set arcpy environment variables\n",
    "env.overwriteOutput = True\n",
    "arcpy.CheckOutExtension(\"spatial\")\n",
    "# env.cellSize = \"MINOF\" # Avoided to prevent huge files\n",
    "env.cellSize = out_geotiff + \"\\\\ppt_2023_1.tif\" # Use TerraClimate resolution as reference for cell size\n",
    "env.workspace = r\"Z:\\PhD_Datasets&Analysis\\_ProcessingCache\"\n",
    "env.outputCoordinateSystem = arcpy.SpatialReference(\"WGS 1984\") # WGS 1984 (4326)"
   ]
  },
  {
   "cell_type": "code",
   "execution_count": 3,
   "id": "c2d41050",
   "metadata": {},
   "outputs": [
    {
     "name": "stdout",
     "output_type": "stream",
     "text": [
      "Spatial Reference Name: GCS_WGS_1984\n",
      "Spatial Reference WKID: 4326\n"
     ]
    }
   ],
   "source": [
    "# Get the current environment's spatial reference\n",
    "spatial_ref = env.outputCoordinateSystem\n",
    "\n",
    "# Check if a spatial reference is set\n",
    "if spatial_ref:\n",
    "    print(f\"Spatial Reference Name: {spatial_ref.name}\")\n",
    "    print(f\"Spatial Reference WKID: {spatial_ref.factoryCode}\")\n",
    "else:\n",
    "    print(\"No spatial reference is set in the current environment.\")"
   ]
  },
  {
   "cell_type": "code",
   "execution_count": null,
   "id": "b605e561",
   "metadata": {},
   "outputs": [],
   "source": [
    "######################################################\n",
    "### Starting values for the water balance model - T&M\n",
    "######################################################\n",
    "\n",
    "# Initial variables\n",
    "years = range(1958, 2023 + 1) # Years to process. This line can be used to execute this code for specific years in multiple runs.\n",
    "months = range(1, 12 + 1)"
   ]
  },
  {
   "cell_type": "code",
   "execution_count": null,
   "id": "6ed0cdbd",
   "metadata": {},
   "outputs": [],
   "source": [
    "# Create folders for other variables of tam model\n",
    "#wyield_dir = tam_out_dir + '\\\\wyield' # Calculated using bflow\n",
    "wyield_dir = tam_out_dir + '\\\\wyield2' # Calculated using bflow2\n",
    "folders_exist([wyield_dir])\n",
    "\n",
    "# Folder with baseflow rasters resulting from the model\n",
    "#bflow_dir = tam_out_dir + '\\\\bflow' # Calculated at the daily level using daily recession constants (k) and aggregated at the monthly level\n",
    "bflow_dir = tam_out_dir + '\\\\bflow2' # Calculated at the monthly level using monthly recession constants (k)"
   ]
  },
  {
   "cell_type": "code",
   "execution_count": null,
   "id": "6579e926",
   "metadata": {},
   "outputs": [],
   "source": [
    "print('\\n############################################################')\n",
    "print('\\t\\tINITIAL VARIABLES')\n",
    "print('\\tPeriod to be executed: ' + str(years[0]) + '-' + str(years[-1]))\n",
    "print('############################################################')\n",
    "\n",
    "for year in years:\n",
    "\n",
    "    print(\"\\n**Executing calculation for \" + str(year) + \"**\")\n",
    "\n",
    "    for month in months:\n",
    "\n",
    "        print(\"\\n\\t*Executing calculation for month \" + str(month) + \"*\\n\")\n",
    "\n",
    "        print(\"\\tLoading baseflow and runoff files.....\")\n",
    "\n",
    "        ro_name = tc_vars[2] + \"_\" + str(year) + \"_\" + str(month)\n",
    "        ro = Raster(out_geotiff + \"\\\\\" + ro_name + \".tif\") # Read runoff raster of the month\n",
    "\n",
    "        bflow = Float(Raster(bflow_dir + \"\\\\bflow_\" + str(year) + \"_\" + str(month) + \".tif\")) # Read baseflow raster of the month\n",
    "\n",
    "        print(\"\\tCalculating water yield......\")\n",
    "        wyield = ro + bflow # Calculate water yield (runoff + baseflow)\n",
    "        wyield.save(wyield_dir + \"\\\\wyield_\" + str(year) + \"_\" + str(month) + \".tif\")\n",
    "\n",
    "arcpy.CheckInExtension(\"spatial\")\n",
    "\n",
    "# Clear the workspace environment\n",
    "arcpy.ClearEnvironment(\"workspace\")\n",
    "\n",
    "print(\"\\nDONE!!\")"
   ]
  }
 ],
 "metadata": {
  "kernelspec": {
   "display_name": "arcgispro-py3-clone",
   "language": "python",
   "name": "python3"
  },
  "language_info": {
   "codemirror_mode": {
    "name": "ipython",
    "version": 3
   },
   "file_extension": ".py",
   "mimetype": "text/x-python",
   "name": "python",
   "nbconvert_exporter": "python",
   "pygments_lexer": "ipython3",
   "version": "3.11.11"
  }
 },
 "nbformat": 4,
 "nbformat_minor": 5
}
