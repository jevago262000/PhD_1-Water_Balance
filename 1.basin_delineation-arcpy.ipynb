{
 "cells": [
  {
   "cell_type": "code",
   "execution_count": null,
   "metadata": {},
   "outputs": [],
   "source": [
    "# Import system modules\n",
    "import arcpy\n",
    "from arcpy import env\n",
    "from arcpy.sa import *"
   ]
  },
  {
   "cell_type": "code",
   "execution_count": 2,
   "metadata": {},
   "outputs": [],
   "source": [
    "# Read station catalogue file\n",
    "root_folder = r\"Z:\\PhD_Datasets&Analysis\\Info_Inputs\"\n",
    "in_out_folder = root_folder + \"\\\\Streamflow_Sts_Drainage_Areas\"\n",
    "fc = in_out_folder + \"\\\\Stations_Catalogue.shp\" "
   ]
  },
  {
   "cell_type": "code",
   "execution_count": null,
   "metadata": {},
   "outputs": [],
   "source": [
    "hydrosheds = root_folder + \"\\\\HydroSHEDS\"\n",
    "flow_dir_folder = hydrosheds + \"\\\\FlowDirection\"\n",
    "flow_acc_folder = hydrosheds + \"\\\\FlowAccumulation\"\n",
    "\n",
    "# Set overwrite option\n",
    "env.overwriteOutput = True\n",
    "arcpy.CheckOutExtension(\"Spatial\")"
   ]
  },
  {
   "cell_type": "code",
   "execution_count": null,
   "metadata": {},
   "outputs": [],
   "source": [
    "# Make a layer from the feature class\n",
    "arcpy.management.MakeFeatureLayer(fc, \"selected_station\")\n",
    "\n",
    "snap_constant = 0.0046296296 # Change according to spatial resolution (approx. 500 m)     \n",
    "Extent = \"MAXOF\"\n",
    "factors = {\"07374525\": 0.5, \"23\": 0.2, \"17050001\": 0.25, \"1662100\": 0.2, \"2181900\": 0.7, \"A4261110\": 0.1, \"6742900\": 1.6, \"42055\": 0.8}\n",
    "\n",
    "with arcpy.da.SearchCursor(fc, [\"ID\", \"BASIN\", \"CONTINENT\"]) as cursor:\n",
    "\n",
    "    for row in cursor:\n",
    "\n",
    "        print(\"Processing basin: \" + row[1] + \" - Drainage area of station: \" + str(row[0]))\n",
    "\n",
    "        # Select each station\n",
    "        print(\"\\tSelecting corresponding station\")\n",
    "        arcpy.SelectLayerByAttribute_management(\"selected_station\", \"NEW_SELECTION\", \"ID = '\" + row[0] + \"'\")\n",
    "\n",
    "        fdir_name = row[2] + \"_dir_3s\"\n",
    "        facc_name = row[2] + \"_acc_3s\"\n",
    "        fdir_grid = flow_dir_folder + \"\\\\\" + fdir_name + \"\\\\\" + fdir_name +'.tif'\n",
    "        facc_grid = flow_acc_folder + \"\\\\\" + facc_name + \"\\\\\" + facc_name +'.tif'\n",
    "        snapped_pour_point = in_out_folder + \"\\\\snapped_pour_point_\" + str(row[0]) +  \"_\" + row[1] + \".shp\"\n",
    "        watershed = in_out_folder + \"\\\\Cathment_\" + str(row[0]) +  \"_\" + row[1] + \".shp\"\n",
    "        snap_distance = snap_constant * factors[row[0]] # The resulting distance value represents the distance to the location/pixel where the pour point will be snapped\n",
    "\n",
    "        # Process: Snap Pour Point (Snap Pour Point) (sa)\n",
    "        with arcpy.EnvManager(extent=Extent):\n",
    "            print(\"\\tSnapping pour point\")\n",
    "            pour_point_raster = arcpy.sa.SnapPourPoint(\"selected_station\", facc_grid, snap_distance, \"FID\")\n",
    "\n",
    "        print(\"\\tConverting snapped pour raster to point\")\n",
    "        # Process: Raster to Point (Raster to Point) (conversion)\n",
    "        arcpy.conversion.RasterToPoint(pour_point_raster, snapped_pour_point, \"VALUE\")\n",
    "\n",
    "        print(\"\\tDelineating watershed\")\n",
    "        # Process: Watershed (Watershed) (sa)\n",
    "        watershed_raster = arcpy.sa.Watershed(fdir_grid, pour_point_raster, \"VALUE\")\n",
    "\n",
    "        print(\"\\tConverting watershed raster to polygon\")\n",
    "        # Process: Raster to Polygon (Raster to Polygon) (conversion)\n",
    "        arcpy.conversion.RasterToPolygon(watershed_raster, watershed, \"SIMPLIFY\", \"VALUE\", \"SINGLE_OUTER_PART\", None)\n",
    "\n",
    "arcpy.CheckInExtension ('Spatial')\n",
    "print(\"DONE!!\")\n"
   ]
  }
 ],
 "metadata": {
  "kernelspec": {
   "display_name": "Python 3",
   "language": "python",
   "name": "python3"
  },
  "language_info": {
   "codemirror_mode": {
    "name": "ipython",
    "version": 3
   },
   "file_extension": ".py",
   "mimetype": "text/x-python",
   "name": "python",
   "nbconvert_exporter": "python",
   "pygments_lexer": "ipython3",
   "version": "2.7.18"
  }
 },
 "nbformat": 4,
 "nbformat_minor": 2
}
