{
 "cells": [
  {
   "cell_type": "code",
   "execution_count": 4,
   "metadata": {},
   "outputs": [],
   "source": [
    "# Import system modules\n",
    "import arcpy\n",
    "from arcpy import env\n",
    "from arcpy.sa import *"
   ]
  },
  {
   "cell_type": "code",
   "execution_count": 5,
   "metadata": {},
   "outputs": [],
   "source": [
    "# Read station catalogue file\n",
    "root_folder = r\"Z:\\PhD_Datasets&Analysis\"\n",
    "gdb = root_folder + \"\\\\ArcGIS_Pro_Project\\\\Default.gdb\"\n",
    "fc = gdb + \"\\\\Stations_Catalogue\" "
   ]
  },
  {
   "cell_type": "code",
   "execution_count": null,
   "metadata": {},
   "outputs": [],
   "source": [
    "hydrosheds = root_folder + \"\\\\Info_Inputs\\HydroSHEDS\"\n",
    "flow_dir_folder = hydrosheds + \"\\\\FlowDirection\"\n",
    "flow_acc_folder = hydrosheds + \"\\\\FlowAccumulation\"\n",
    "\n",
    "# Set overwrite option\n",
    "env.overwriteOutput = True\n",
    "arcpy.CheckOutExtension(\"Spatial\")"
   ]
  },
  {
   "cell_type": "code",
   "execution_count": null,
   "metadata": {},
   "outputs": [],
   "source": [
    "# Make a layer from the feature class\n",
    "arcpy.management.MakeFeatureLayer(fc, \"selected_station\")\n",
    "\n",
    "with arcpy.da.SearchCursor(fc, [\"OBJECTID\", \"BASIN\", \"CONTINENT\"]) as cursor:\n",
    "\n",
    "    for row in cursor:\n",
    "\n",
    "        print(\"Processing basin: \" + row[1])\n",
    "\n",
    "        # Select each station\n",
    "        print(\"\\tSelecting corresponding station\")\n",
    "        arcpy.SelectLayerByAttribute_management(\"selected_station\", \"NEW_SELECTION\", \"OBJECTID = {}\".format(row[0]))\n",
    "        \n",
    "        snap_distance = 0.0046296296 #Change according to spatial resolution (approx. 500 m)     \n",
    "        Extent = \"MAXOF\"\n",
    "        fdir_name = row[2] + \"_dir_3s\"\n",
    "        facc_name = row[2] + \"_acc_3s\"\n",
    "        fdir_grid = flow_dir_folder + \"\\\\\" + fdir_name + \"\\\\\" + fdir_name +'.tif'\n",
    "        facc_grid = flow_acc_folder + \"\\\\\" + facc_name + \"\\\\\" + facc_name +'.tif'\n",
    "        snapped_pour_point = root_folder + \"\\\\Info_Inputs\\\\Streamflow_Sts_Drainage_Areas\\\\snapped_pour_point_\" + row[1] + \".shp\"\n",
    "        watershed = root_folder + \"\\\\Info_Inputs\\\\Streamflow_Sts_Drainage_Areas\\\\Cathment_\" + row[1] + \".shp\"\n",
    "\n",
    "        # Process: Snap Pour Point (Snap Pour Point) (sa)\n",
    "        with arcpy.EnvManager(extent=Extent):\n",
    "            print(\"\\tSnapping pour point\")\n",
    "            pour_point_raster = arcpy.sa.SnapPourPoint(\"selected_station\", facc_grid, snap_distance, \"OBJECTID\")\n",
    "\n",
    "        print(\"\\tConverting snapped pour raster to point\")\n",
    "        # Process: Raster to Point (Raster to Point) (conversion)\n",
    "        arcpy.conversion.RasterToPoint(pour_point_raster, snapped_pour_point, \"VALUE\")\n",
    "\n",
    "        print(\"\\tDelineating watershed\")\n",
    "        # Process: Watershed (Watershed) (sa)\n",
    "        watershed_raster = arcpy.sa.Watershed(fdir_grid, pour_point_raster, \"VALUE\")\n",
    "\n",
    "        print(\"\\tConverting watershed raster to polygon\")\n",
    "        # Process: Raster to Polygon (Raster to Polygon) (conversion)\n",
    "        arcpy.conversion.RasterToPolygon(watershed_raster, watershed, \"SIMPLIFY\", \"VALUE\", \"SINGLE_OUTER_PART\", None)\n",
    "\n",
    "print(\"DONE!!\")"
   ]
  }
 ],
 "metadata": {
  "kernelspec": {
   "display_name": "Python 3",
   "language": "python",
   "name": "python3"
  },
  "language_info": {
   "codemirror_mode": {
    "name": "ipython",
    "version": 3
   },
   "file_extension": ".py",
   "mimetype": "text/x-python",
   "name": "python",
   "nbconvert_exporter": "python",
   "pygments_lexer": "ipython3",
   "version": "3.11.8"
  }
 },
 "nbformat": 4,
 "nbformat_minor": 2
}
