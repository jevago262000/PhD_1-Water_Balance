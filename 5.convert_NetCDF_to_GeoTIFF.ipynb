{
 "cells": [
  {
   "cell_type": "code",
   "execution_count": null,
   "metadata": {},
   "outputs": [],
   "source": [
    "import arcpy\n",
    "from arcpy import env\n",
    "from arcpy.sa import *"
   ]
  },
  {
   "cell_type": "code",
   "execution_count": null,
   "metadata": {},
   "outputs": [],
   "source": [
    "# Paths to input datasets\n",
    "tc_ds = r\"Z:\\PhD_Datasets&Analysis\\Info_Inputs\\TerraClimate\"\n",
    "out_geotiff = tc_ds + \"\\\\GeoTIFF\"\n",
    "bands_gee = [\"pr\", \"pet\", \"ro\"] # band names in gee\n",
    "tc_vars = [\"ppt\", \"pet\", \"q\"] # variable names according to TerraClimate\n",
    "years = range(1958, 2023 + 1) # Years with available weather information to run the water balance\n",
    "months = range(1, 12 + 1)\n",
    "\n",
    "# Set arcpy environment variables\n",
    "env.overwriteOutput = True\n",
    "arcpy.CheckOutExtension(\"spatial\")"
   ]
  },
  {
   "cell_type": "code",
   "execution_count": null,
   "metadata": {},
   "outputs": [],
   "source": [
    "print('\\n############################################################')\n",
    "print('\\t\\tINITIAL VARIABLES')\n",
    "print('\\tPeriod to be executed: ' + str(years[0]) + '-' + str(years[-1]))\n",
    "print('############################################################')\n",
    "\n",
    "for year in years:\n",
    "\n",
    "    print(\"\\n**Executing conversfion for \" + str(year) + \"**\")\n",
    "\n",
    "    ppt_nc_file = tc_ds + \"\\\\TerraClimate_ppt_\" + str(year) + \".nc\"\n",
    "    pet_nc_file  = tc_ds + \"\\\\TerraClimate_pet_\" + str(year) + \".nc\"\n",
    "    q_nc_file = tc_ds + \"\\\\TerraClimate_q_\" + str(year) + \".nc\"\n",
    "\n",
    "    nc_FP = arcpy.NetCDFFileProperties(ppt_nc_file)\n",
    "\n",
    "    for month in months:\n",
    "\n",
    "        print(\"\\n\\t*Executing conversion for month \" + str(month) + \"*\\n\")\n",
    "\n",
    "        print(\"\\tLoading precipitation, potential evapo., and runoff rasters from TerraClimate NetCDF files.....\")\n",
    "\n",
    "        dimension_value = nc_FP.getDimensionValue(\"time\", month-1)\n",
    "\n",
    "        pr_name = \"ppt_\" + str(year) + \"_\" + str(month)\n",
    "        pet_name = \"pet_\" + str(year) + \"_\" + str(month)\n",
    "        ro_name = \"q_\" + str(year) + \"_\" + str(month)\n",
    "\n",
    "        arcpy.MakeNetCDFRasterLayer_md(ppt_nc_file, \"ppt\", \"lon\", \"lat\", pr_name, \"\", [[\"time\", dimension_value]], \"BY_VALUE\")\n",
    "        arcpy.MakeNetCDFRasterLayer_md(pet_nc_file, \"pet\", \"lon\", \"lat\", pet_name, \"\", [[\"time\", dimension_value]], \"BY_VALUE\")\n",
    "        arcpy.MakeNetCDFRasterLayer_md(q_nc_file, \"q\", \"lon\", \"lat\", ro_name, \"\", [[\"time\", dimension_value]], \"BY_VALUE\")\n",
    "\n",
    "        print(\"\\tConverting the files 'ppt', 'pet', and 'ro'.....\")\n",
    "        # Save the raster as GeoTIFF\n",
    "        arcpy.CopyRaster_management(pr_name, out_geotiff + \"\\\\\" + pr_name + \".tif\", format=\"TIFF\")\n",
    "        arcpy.CopyRaster_management(pet_name, out_geotiff + \"\\\\\" + pet_name + \".tif\", format=\"TIFF\")\n",
    "        arcpy.CopyRaster_management(ro_name, out_geotiff + \"\\\\\" + ro_name + \".tif\", format=\"TIFF\")\n",
    "\n",
    "arcpy.CheckInExtension(\"spatial\")\n",
    "\n",
    "# Clear the workspace environment\n",
    "arcpy.ClearEnvironment(\"workspace\")\n",
    "\n",
    "print(\"\\nDONE!!\")"
   ]
  }
 ],
 "metadata": {
  "kernelspec": {
   "display_name": "Python 3",
   "language": "python",
   "name": "python3"
  },
  "language_info": {
   "codemirror_mode": {
    "name": "ipython",
    "version": 3
   },
   "file_extension": ".py",
   "mimetype": "text/x-python",
   "name": "python",
   "nbconvert_exporter": "python",
   "pygments_lexer": "ipython3",
   "version": "3.11.10"
  }
 },
 "nbformat": 4,
 "nbformat_minor": 2
}
