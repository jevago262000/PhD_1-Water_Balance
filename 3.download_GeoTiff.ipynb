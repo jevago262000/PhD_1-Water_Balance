{
 "cells": [
  {
   "cell_type": "code",
   "execution_count": 1,
   "metadata": {},
   "outputs": [],
   "source": [
    "# If not installed, run this cell. It is needed for access to GEE\n",
    "#!pip install ee\n",
    "#!pip show ee"
   ]
  },
  {
   "cell_type": "code",
   "execution_count": 2,
   "metadata": {},
   "outputs": [],
   "source": [
    "# If not installed, run this cell. It helps visualization of data\n",
    "#!pip install geemap\n",
    "#!pip show geemap"
   ]
  },
  {
   "cell_type": "code",
   "execution_count": 4,
   "metadata": {},
   "outputs": [],
   "source": [
    "# Import libraries\n",
    "import ee, geemap, time"
   ]
  },
  {
   "cell_type": "code",
   "execution_count": 5,
   "metadata": {},
   "outputs": [
    {
     "data": {
      "text/html": [
       "\n",
       "            <style>\n",
       "                .geemap-dark {\n",
       "                    --jp-widgets-color: white;\n",
       "                    --jp-widgets-label-color: white;\n",
       "                    --jp-ui-font-color1: white;\n",
       "                    --jp-layout-color2: #454545;\n",
       "                    background-color: #383838;\n",
       "                }\n",
       "\n",
       "                .geemap-dark .jupyter-button {\n",
       "                    --jp-layout-color3: #383838;\n",
       "                }\n",
       "\n",
       "                .geemap-colab {\n",
       "                    background-color: var(--colab-primary-surface-color, white);\n",
       "                }\n",
       "\n",
       "                .geemap-colab .jupyter-button {\n",
       "                    --jp-layout-color3: var(--colab-primary-surface-color, white);\n",
       "                }\n",
       "            </style>\n",
       "            "
      ],
      "text/plain": [
       "<IPython.core.display.HTML object>"
      ]
     },
     "metadata": {},
     "output_type": "display_data"
    }
   ],
   "source": [
    "# Trigger the authentication flow.\n",
    "ee.Authenticate()\n",
    "\n",
    "# Initialize the library.\n",
    "ee.Initialize(project='ee-jvg')"
   ]
  },
  {
   "cell_type": "code",
   "execution_count": 6,
   "metadata": {},
   "outputs": [
    {
     "data": {
      "text/html": [
       "\n",
       "            <style>\n",
       "                .geemap-dark {\n",
       "                    --jp-widgets-color: white;\n",
       "                    --jp-widgets-label-color: white;\n",
       "                    --jp-ui-font-color1: white;\n",
       "                    --jp-layout-color2: #454545;\n",
       "                    background-color: #383838;\n",
       "                }\n",
       "\n",
       "                .geemap-dark .jupyter-button {\n",
       "                    --jp-layout-color3: #383838;\n",
       "                }\n",
       "\n",
       "                .geemap-colab {\n",
       "                    background-color: var(--colab-primary-surface-color, white);\n",
       "                }\n",
       "\n",
       "                .geemap-colab .jupyter-button {\n",
       "                    --jp-layout-color3: var(--colab-primary-surface-color, white);\n",
       "                }\n",
       "            </style>\n",
       "            "
      ],
      "text/plain": [
       "<IPython.core.display.HTML object>"
      ]
     },
     "metadata": {},
     "output_type": "display_data"
    },
    {
     "data": {
      "application/vnd.jupyter.widget-view+json": {
       "model_id": "07ca64b7f7274607821821e20d3af8b8",
       "version_major": 2,
       "version_minor": 0
      },
      "text/plain": [
       "Map(center=[0, 0], controls=(WidgetControl(options=['position', 'transparent_bg'], widget=SearchDataGUI(childr…"
      ]
     },
     "metadata": {},
     "output_type": "display_data"
    }
   ],
   "source": [
    "# HydroSHEDS v1 will be used. Specifically, its HydroBASINS\n",
    "Map = geemap.Map()\n",
    "hydrobasins = ee.FeatureCollection('WWF/HydroSHEDS/v1/Basins/hybas_3')\n",
    "hybas_id = \"HYBAS_ID\"\n",
    "Map.addLayer(hydrobasins, {}, 'HydroBasins')\n",
    "Map"
   ]
  },
  {
   "cell_type": "code",
   "execution_count": 7,
   "metadata": {},
   "outputs": [
    {
     "data": {
      "text/html": [
       "\n",
       "            <style>\n",
       "                .geemap-dark {\n",
       "                    --jp-widgets-color: white;\n",
       "                    --jp-widgets-label-color: white;\n",
       "                    --jp-ui-font-color1: white;\n",
       "                    --jp-layout-color2: #454545;\n",
       "                    background-color: #383838;\n",
       "                }\n",
       "\n",
       "                .geemap-dark .jupyter-button {\n",
       "                    --jp-layout-color3: #383838;\n",
       "                }\n",
       "\n",
       "                .geemap-colab {\n",
       "                    background-color: var(--colab-primary-surface-color, white);\n",
       "                }\n",
       "\n",
       "                .geemap-colab .jupyter-button {\n",
       "                    --jp-layout-color3: var(--colab-primary-surface-color, white);\n",
       "                }\n",
       "            </style>\n",
       "            "
      ],
      "text/plain": [
       "<IPython.core.display.HTML object>"
      ]
     },
     "metadata": {},
     "output_type": "display_data"
    }
   ],
   "source": [
    "# Access the asset containing the calibration drainage areas\n",
    "calib_basins = ee.FeatureCollection('projects/ee-jvg/assets/calibration_basins_gene')\n",
    "Map.centerObject(calib_basins.geometry())\n",
    "Map.addLayer(calib_basins, {\"color\": 'blue'}, 'Calibration Drainage Areas')"
   ]
  },
  {
   "cell_type": "code",
   "execution_count": 8,
   "metadata": {},
   "outputs": [
    {
     "data": {
      "text/html": [
       "\n",
       "            <style>\n",
       "                .geemap-dark {\n",
       "                    --jp-widgets-color: white;\n",
       "                    --jp-widgets-label-color: white;\n",
       "                    --jp-ui-font-color1: white;\n",
       "                    --jp-layout-color2: #454545;\n",
       "                    background-color: #383838;\n",
       "                }\n",
       "\n",
       "                .geemap-dark .jupyter-button {\n",
       "                    --jp-layout-color3: #383838;\n",
       "                }\n",
       "\n",
       "                .geemap-colab {\n",
       "                    background-color: var(--colab-primary-surface-color, white);\n",
       "                }\n",
       "\n",
       "                .geemap-colab .jupyter-button {\n",
       "                    --jp-layout-color3: var(--colab-primary-surface-color, white);\n",
       "                }\n",
       "            </style>\n",
       "            "
      ],
      "text/plain": [
       "<IPython.core.display.HTML object>"
      ]
     },
     "metadata": {},
     "output_type": "display_data"
    },
    {
     "data": {
      "text/plain": [
       "792"
      ]
     },
     "execution_count": 8,
     "metadata": {},
     "output_type": "execute_result"
    }
   ],
   "source": [
    "# TerraClimate layers filtered with \"start_date\" (inclusive) and \"end_date\" (exclusive) and clipped to \"zoi\"\n",
    "bands = [\"pr\", \"pet\", \"ro\"]\n",
    "terraclimate = ee.ImageCollection('IDAHO_EPSCOR/TERRACLIMATE').select(bands).filterBounds(calib_basins)\n",
    "terraclimate.size().getInfo()"
   ]
  },
  {
   "cell_type": "code",
   "execution_count": 9,
   "metadata": {},
   "outputs": [
    {
     "data": {
      "text/html": [
       "\n",
       "            <style>\n",
       "                .geemap-dark {\n",
       "                    --jp-widgets-color: white;\n",
       "                    --jp-widgets-label-color: white;\n",
       "                    --jp-ui-font-color1: white;\n",
       "                    --jp-layout-color2: #454545;\n",
       "                    background-color: #383838;\n",
       "                }\n",
       "\n",
       "                .geemap-dark .jupyter-button {\n",
       "                    --jp-layout-color3: #383838;\n",
       "                }\n",
       "\n",
       "                .geemap-colab {\n",
       "                    background-color: var(--colab-primary-surface-color, white);\n",
       "                }\n",
       "\n",
       "                .geemap-colab .jupyter-button {\n",
       "                    --jp-layout-color3: var(--colab-primary-surface-color, white);\n",
       "                }\n",
       "            </style>\n",
       "            "
      ],
      "text/plain": [
       "<IPython.core.display.HTML object>"
      ]
     },
     "metadata": {},
     "output_type": "display_data"
    }
   ],
   "source": [
    "projection = terraclimate.first().projection().getInfo()"
   ]
  },
  {
   "cell_type": "code",
   "execution_count": 10,
   "metadata": {},
   "outputs": [
    {
     "data": {
      "text/html": [
       "\n",
       "            <style>\n",
       "                .geemap-dark {\n",
       "                    --jp-widgets-color: white;\n",
       "                    --jp-widgets-label-color: white;\n",
       "                    --jp-ui-font-color1: white;\n",
       "                    --jp-layout-color2: #454545;\n",
       "                    background-color: #383838;\n",
       "                }\n",
       "\n",
       "                .geemap-dark .jupyter-button {\n",
       "                    --jp-layout-color3: #383838;\n",
       "                }\n",
       "\n",
       "                .geemap-colab {\n",
       "                    background-color: var(--colab-primary-surface-color, white);\n",
       "                }\n",
       "\n",
       "                .geemap-colab .jupyter-button {\n",
       "                    --jp-layout-color3: var(--colab-primary-surface-color, white);\n",
       "                }\n",
       "            </style>\n",
       "            "
      ],
      "text/plain": [
       "<IPython.core.display.HTML object>"
      ]
     },
     "metadata": {},
     "output_type": "display_data"
    }
   ],
   "source": [
    "# Let's assign year and month to each image of the resulting image collection\n",
    "final_ic = terraclimate.map(lambda image: image.set(\"yr-mth\", ee.Image(image).date().get(\"year\").format().cat(ee.String(\"-\")).cat(ee.Image(image).date().get(\"month\").format())))"
   ]
  },
  {
   "cell_type": "code",
   "execution_count": 11,
   "metadata": {},
   "outputs": [
    {
     "data": {
      "text/html": [
       "\n",
       "            <style>\n",
       "                .geemap-dark {\n",
       "                    --jp-widgets-color: white;\n",
       "                    --jp-widgets-label-color: white;\n",
       "                    --jp-ui-font-color1: white;\n",
       "                    --jp-layout-color2: #454545;\n",
       "                    background-color: #383838;\n",
       "                }\n",
       "\n",
       "                .geemap-dark .jupyter-button {\n",
       "                    --jp-layout-color3: #383838;\n",
       "                }\n",
       "\n",
       "                .geemap-colab {\n",
       "                    background-color: var(--colab-primary-surface-color, white);\n",
       "                }\n",
       "\n",
       "                .geemap-colab .jupyter-button {\n",
       "                    --jp-layout-color3: var(--colab-primary-surface-color, white);\n",
       "                }\n",
       "            </style>\n",
       "            "
      ],
      "text/plain": [
       "<IPython.core.display.HTML object>"
      ]
     },
     "metadata": {},
     "output_type": "display_data"
    },
    {
     "name": "stdout",
     "output_type": "stream",
     "text": [
      "Exporting image \"pr\" to Google Drive...\n",
      "Polling for task (id: PV2R26JDKUUKGLAHM7IF4AKD).\n",
      "Polling for task (id: PV2R26JDKUUKGLAHM7IF4AKD).\n",
      "Polling for task (id: PV2R26JDKUUKGLAHM7IF4AKD).\n",
      "Polling for task (id: PV2R26JDKUUKGLAHM7IF4AKD).\n",
      "Polling for task (id: PV2R26JDKUUKGLAHM7IF4AKD).\n",
      "Polling for task (id: PV2R26JDKUUKGLAHM7IF4AKD).\n",
      "Polling for task (id: PV2R26JDKUUKGLAHM7IF4AKD).\n",
      "Polling for task (id: PV2R26JDKUUKGLAHM7IF4AKD).\n",
      "Polling for task (id: PV2R26JDKUUKGLAHM7IF4AKD).\n",
      "Polling for task (id: PV2R26JDKUUKGLAHM7IF4AKD).\n",
      "Polling for task (id: PV2R26JDKUUKGLAHM7IF4AKD).\n",
      "Polling for task (id: PV2R26JDKUUKGLAHM7IF4AKD).\n",
      "Polling for task (id: PV2R26JDKUUKGLAHM7IF4AKD).\n",
      "Polling for task (id: PV2R26JDKUUKGLAHM7IF4AKD).\n",
      "Polling for task (id: PV2R26JDKUUKGLAHM7IF4AKD).\n",
      "Polling for task (id: PV2R26JDKUUKGLAHM7IF4AKD).\n",
      "Polling for task (id: PV2R26JDKUUKGLAHM7IF4AKD).\n",
      "Polling for task (id: PV2R26JDKUUKGLAHM7IF4AKD).\n",
      "Polling for task (id: PV2R26JDKUUKGLAHM7IF4AKD).\n",
      "Polling for task (id: PV2R26JDKUUKGLAHM7IF4AKD).\n",
      "Polling for task (id: PV2R26JDKUUKGLAHM7IF4AKD).\n",
      "Polling for task (id: PV2R26JDKUUKGLAHM7IF4AKD).\n",
      "Polling for task (id: PV2R26JDKUUKGLAHM7IF4AKD).\n",
      "Export completed.\n",
      "Exporting image \"pet\" to Google Drive...\n",
      "Polling for task (id: Y2XSEQCRCEA3U2QHMD46TC7B).\n",
      "Polling for task (id: Y2XSEQCRCEA3U2QHMD46TC7B).\n",
      "Polling for task (id: Y2XSEQCRCEA3U2QHMD46TC7B).\n",
      "Polling for task (id: Y2XSEQCRCEA3U2QHMD46TC7B).\n",
      "Polling for task (id: Y2XSEQCRCEA3U2QHMD46TC7B).\n",
      "Polling for task (id: Y2XSEQCRCEA3U2QHMD46TC7B).\n",
      "Polling for task (id: Y2XSEQCRCEA3U2QHMD46TC7B).\n",
      "Polling for task (id: Y2XSEQCRCEA3U2QHMD46TC7B).\n",
      "Polling for task (id: Y2XSEQCRCEA3U2QHMD46TC7B).\n",
      "Polling for task (id: Y2XSEQCRCEA3U2QHMD46TC7B).\n",
      "Polling for task (id: Y2XSEQCRCEA3U2QHMD46TC7B).\n",
      "Polling for task (id: Y2XSEQCRCEA3U2QHMD46TC7B).\n",
      "Polling for task (id: Y2XSEQCRCEA3U2QHMD46TC7B).\n",
      "Polling for task (id: Y2XSEQCRCEA3U2QHMD46TC7B).\n",
      "Polling for task (id: Y2XSEQCRCEA3U2QHMD46TC7B).\n",
      "Polling for task (id: Y2XSEQCRCEA3U2QHMD46TC7B).\n",
      "Polling for task (id: Y2XSEQCRCEA3U2QHMD46TC7B).\n",
      "Polling for task (id: Y2XSEQCRCEA3U2QHMD46TC7B).\n",
      "Polling for task (id: Y2XSEQCRCEA3U2QHMD46TC7B).\n",
      "Polling for task (id: Y2XSEQCRCEA3U2QHMD46TC7B).\n",
      "Polling for task (id: Y2XSEQCRCEA3U2QHMD46TC7B).\n",
      "Polling for task (id: Y2XSEQCRCEA3U2QHMD46TC7B).\n",
      "Polling for task (id: Y2XSEQCRCEA3U2QHMD46TC7B).\n",
      "Export completed.\n",
      "Exporting image \"ro\" to Google Drive...\n",
      "Polling for task (id: 4PNXTQOCWZLE5GJ4PRSHLHQW).\n",
      "Polling for task (id: 4PNXTQOCWZLE5GJ4PRSHLHQW).\n",
      "Polling for task (id: 4PNXTQOCWZLE5GJ4PRSHLHQW).\n",
      "Polling for task (id: 4PNXTQOCWZLE5GJ4PRSHLHQW).\n",
      "Polling for task (id: 4PNXTQOCWZLE5GJ4PRSHLHQW).\n",
      "Polling for task (id: 4PNXTQOCWZLE5GJ4PRSHLHQW).\n",
      "Polling for task (id: 4PNXTQOCWZLE5GJ4PRSHLHQW).\n",
      "Polling for task (id: 4PNXTQOCWZLE5GJ4PRSHLHQW).\n",
      "Polling for task (id: 4PNXTQOCWZLE5GJ4PRSHLHQW).\n",
      "Polling for task (id: 4PNXTQOCWZLE5GJ4PRSHLHQW).\n",
      "Polling for task (id: 4PNXTQOCWZLE5GJ4PRSHLHQW).\n",
      "Polling for task (id: 4PNXTQOCWZLE5GJ4PRSHLHQW).\n",
      "Polling for task (id: 4PNXTQOCWZLE5GJ4PRSHLHQW).\n",
      "Polling for task (id: 4PNXTQOCWZLE5GJ4PRSHLHQW).\n",
      "Polling for task (id: 4PNXTQOCWZLE5GJ4PRSHLHQW).\n",
      "Polling for task (id: 4PNXTQOCWZLE5GJ4PRSHLHQW).\n",
      "Export completed.\n"
     ]
    }
   ],
   "source": [
    "for band in bands:\n",
    "    # Define the export parameters\n",
    "    export_params = {\n",
    "        'region': calib_basins.geometry(),  # Region of interest\n",
    "        'fileFormat': 'GeoTIFF',\n",
    "        'folder': 'GEE_Exports',  # Google Drive folder name\n",
    "        'crs': projection[\"wkt\"],\n",
    "        'crsTransform': projection[\"transform\"] ,\n",
    "        'fileNamePrefix': 'TerraClimate_' + band  # Prefix for the exported file\n",
    "    }\n",
    "\n",
    "    # Export the image to Google Drive\n",
    "    task = ee.batch.Export.image.toDrive(final_ic.select(band).toBands(), **export_params)\n",
    "    task.start()\n",
    "\n",
    "    print('Exporting image \"' + band + '\" to Google Drive...')\n",
    "\n",
    "    while task.active():\n",
    "        print('Polling for task (id: {}).'.format(task.id))\n",
    "        time.sleep(30)\n",
    "\n",
    "    print('Export completed.')"
   ]
  }
 ],
 "metadata": {
  "kernelspec": {
   "display_name": "arcgispro-py3-clone",
   "language": "python",
   "name": "python3"
  },
  "language_info": {
   "codemirror_mode": {
    "name": "ipython",
    "version": 3
   },
   "file_extension": ".py",
   "mimetype": "text/x-python",
   "name": "python",
   "nbconvert_exporter": "python",
   "pygments_lexer": "ipython3",
   "version": "3.11.8"
  }
 },
 "nbformat": 4,
 "nbformat_minor": 2
}
