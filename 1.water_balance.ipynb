{
 "cells": [
  {
   "cell_type": "code",
   "execution_count": 157,
   "metadata": {},
   "outputs": [
    {
     "data": {
      "text/html": [
       "\n",
       "            <style>\n",
       "                .geemap-dark {\n",
       "                    --jp-widgets-color: white;\n",
       "                    --jp-widgets-label-color: white;\n",
       "                    --jp-ui-font-color1: white;\n",
       "                    --jp-layout-color2: #454545;\n",
       "                    background-color: #383838;\n",
       "                }\n",
       "\n",
       "                .geemap-dark .jupyter-button {\n",
       "                    --jp-layout-color3: #383838;\n",
       "                }\n",
       "\n",
       "                .geemap-colab {\n",
       "                    background-color: var(--colab-primary-surface-color, white);\n",
       "                }\n",
       "\n",
       "                .geemap-colab .jupyter-button {\n",
       "                    --jp-layout-color3: var(--colab-primary-surface-color, white);\n",
       "                }\n",
       "            </style>\n",
       "            "
      ],
      "text/plain": [
       "<IPython.core.display.HTML object>"
      ]
     },
     "metadata": {},
     "output_type": "display_data"
    }
   ],
   "source": [
    "# If not installed, run this cell. It is needed for access to GEE\n",
    "#!pip install ee\n",
    "#!pip show ee"
   ]
  },
  {
   "cell_type": "code",
   "execution_count": 158,
   "metadata": {},
   "outputs": [
    {
     "data": {
      "text/html": [
       "\n",
       "            <style>\n",
       "                .geemap-dark {\n",
       "                    --jp-widgets-color: white;\n",
       "                    --jp-widgets-label-color: white;\n",
       "                    --jp-ui-font-color1: white;\n",
       "                    --jp-layout-color2: #454545;\n",
       "                    background-color: #383838;\n",
       "                }\n",
       "\n",
       "                .geemap-dark .jupyter-button {\n",
       "                    --jp-layout-color3: #383838;\n",
       "                }\n",
       "\n",
       "                .geemap-colab {\n",
       "                    background-color: var(--colab-primary-surface-color, white);\n",
       "                }\n",
       "\n",
       "                .geemap-colab .jupyter-button {\n",
       "                    --jp-layout-color3: var(--colab-primary-surface-color, white);\n",
       "                }\n",
       "            </style>\n",
       "            "
      ],
      "text/plain": [
       "<IPython.core.display.HTML object>"
      ]
     },
     "metadata": {},
     "output_type": "display_data"
    }
   ],
   "source": [
    "# If not installed, run this cell. It helps visualization of data\n",
    "#!pip install geemap\n",
    "#!pip show geemap"
   ]
  },
  {
   "cell_type": "code",
   "execution_count": 159,
   "metadata": {},
   "outputs": [
    {
     "data": {
      "text/html": [
       "\n",
       "            <style>\n",
       "                .geemap-dark {\n",
       "                    --jp-widgets-color: white;\n",
       "                    --jp-widgets-label-color: white;\n",
       "                    --jp-ui-font-color1: white;\n",
       "                    --jp-layout-color2: #454545;\n",
       "                    background-color: #383838;\n",
       "                }\n",
       "\n",
       "                .geemap-dark .jupyter-button {\n",
       "                    --jp-layout-color3: #383838;\n",
       "                }\n",
       "\n",
       "                .geemap-colab {\n",
       "                    background-color: var(--colab-primary-surface-color, white);\n",
       "                }\n",
       "\n",
       "                .geemap-colab .jupyter-button {\n",
       "                    --jp-layout-color3: var(--colab-primary-surface-color, white);\n",
       "                }\n",
       "            </style>\n",
       "            "
      ],
      "text/plain": [
       "<IPython.core.display.HTML object>"
      ]
     },
     "metadata": {},
     "output_type": "display_data"
    }
   ],
   "source": [
    "# Import libraries\n",
    "import ee, datetime, pandas as pd, geemap, ipyleaflet, ipywidgets as widgets, matplotlib.pyplot as plt\n",
    "import calendar, json"
   ]
  },
  {
   "cell_type": "code",
   "execution_count": 160,
   "metadata": {},
   "outputs": [
    {
     "data": {
      "text/html": [
       "\n",
       "            <style>\n",
       "                .geemap-dark {\n",
       "                    --jp-widgets-color: white;\n",
       "                    --jp-widgets-label-color: white;\n",
       "                    --jp-ui-font-color1: white;\n",
       "                    --jp-layout-color2: #454545;\n",
       "                    background-color: #383838;\n",
       "                }\n",
       "\n",
       "                .geemap-dark .jupyter-button {\n",
       "                    --jp-layout-color3: #383838;\n",
       "                }\n",
       "\n",
       "                .geemap-colab {\n",
       "                    background-color: var(--colab-primary-surface-color, white);\n",
       "                }\n",
       "\n",
       "                .geemap-colab .jupyter-button {\n",
       "                    --jp-layout-color3: var(--colab-primary-surface-color, white);\n",
       "                }\n",
       "            </style>\n",
       "            "
      ],
      "text/plain": [
       "<IPython.core.display.HTML object>"
      ]
     },
     "metadata": {},
     "output_type": "display_data"
    }
   ],
   "source": [
    "# Trigger the authentication flow.\n",
    "ee.Authenticate()\n",
    "\n",
    "# Initialize the library.\n",
    "ee.Initialize(project='ee-jvg')"
   ]
  },
  {
   "cell_type": "code",
   "execution_count": 161,
   "metadata": {},
   "outputs": [
    {
     "data": {
      "text/html": [
       "\n",
       "            <style>\n",
       "                .geemap-dark {\n",
       "                    --jp-widgets-color: white;\n",
       "                    --jp-widgets-label-color: white;\n",
       "                    --jp-ui-font-color1: white;\n",
       "                    --jp-layout-color2: #454545;\n",
       "                    background-color: #383838;\n",
       "                }\n",
       "\n",
       "                .geemap-dark .jupyter-button {\n",
       "                    --jp-layout-color3: #383838;\n",
       "                }\n",
       "\n",
       "                .geemap-colab {\n",
       "                    background-color: var(--colab-primary-surface-color, white);\n",
       "                }\n",
       "\n",
       "                .geemap-colab .jupyter-button {\n",
       "                    --jp-layout-color3: var(--colab-primary-surface-color, white);\n",
       "                }\n",
       "            </style>\n",
       "            "
      ],
      "text/plain": [
       "<IPython.core.display.HTML object>"
      ]
     },
     "metadata": {},
     "output_type": "display_data"
    }
   ],
   "source": [
    "# HydroSHEDS v1 will be used. Specifically, its HydroBASINS\n",
    "hydrobasins = ee.FeatureCollection('WWF/HydroSHEDS/v1/Basins/hybas_3')\n",
    "hybas_id = \"HYBAS_ID\"\n",
    "Map = geemap.Map()\n",
    "Map.addLayer(hydrobasins, {}, 'HydroBasins')"
   ]
  },
  {
   "cell_type": "code",
   "execution_count": 162,
   "metadata": {},
   "outputs": [
    {
     "data": {
      "text/html": [
       "\n",
       "            <style>\n",
       "                .geemap-dark {\n",
       "                    --jp-widgets-color: white;\n",
       "                    --jp-widgets-label-color: white;\n",
       "                    --jp-ui-font-color1: white;\n",
       "                    --jp-layout-color2: #454545;\n",
       "                    background-color: #383838;\n",
       "                }\n",
       "\n",
       "                .geemap-dark .jupyter-button {\n",
       "                    --jp-layout-color3: #383838;\n",
       "                }\n",
       "\n",
       "                .geemap-colab {\n",
       "                    background-color: var(--colab-primary-surface-color, white);\n",
       "                }\n",
       "\n",
       "                .geemap-colab .jupyter-button {\n",
       "                    --jp-layout-color3: var(--colab-primary-surface-color, white);\n",
       "                }\n",
       "            </style>\n",
       "            "
      ],
      "text/plain": [
       "<IPython.core.display.HTML object>"
      ]
     },
     "metadata": {},
     "output_type": "display_data"
    }
   ],
   "source": [
    "output_widget = widgets.Output(layout={'border': '1px solid black'})\n",
    "output_control = ipyleaflet.WidgetControl(widget=output_widget, position=\"bottomright\")\n",
    "Map.add_control(output_control)"
   ]
  },
  {
   "cell_type": "code",
   "execution_count": 163,
   "metadata": {},
   "outputs": [
    {
     "data": {
      "text/html": [
       "\n",
       "            <style>\n",
       "                .geemap-dark {\n",
       "                    --jp-widgets-color: white;\n",
       "                    --jp-widgets-label-color: white;\n",
       "                    --jp-ui-font-color1: white;\n",
       "                    --jp-layout-color2: #454545;\n",
       "                    background-color: #383838;\n",
       "                }\n",
       "\n",
       "                .geemap-dark .jupyter-button {\n",
       "                    --jp-layout-color3: #383838;\n",
       "                }\n",
       "\n",
       "                .geemap-colab {\n",
       "                    background-color: var(--colab-primary-surface-color, white);\n",
       "                }\n",
       "\n",
       "                .geemap-colab .jupyter-button {\n",
       "                    --jp-layout-color3: var(--colab-primary-surface-color, white);\n",
       "                }\n",
       "            </style>\n",
       "            "
      ],
      "text/plain": [
       "<IPython.core.display.HTML object>"
      ]
     },
     "metadata": {},
     "output_type": "display_data"
    },
    {
     "data": {
      "application/vnd.jupyter.widget-view+json": {
       "model_id": "f1526db090384afeb37f75f0857014bf",
       "version_major": 2,
       "version_minor": 0
      },
      "text/plain": [
       "Map(center=[0, 0], controls=(WidgetControl(options=['position', 'transparent_bg'], widget=SearchDataGUI(childr…"
      ]
     },
     "metadata": {},
     "output_type": "display_data"
    }
   ],
   "source": [
    "# This ID and lat and lon will be identified through the interative map above by clicking on the basin of your interest.\n",
    "# See the widget on the bottom right side of the map\n",
    "# Define the basin and location of interest\n",
    "selected_basin_id = None\n",
    "lat = None\n",
    "lon = None\n",
    "\n",
    "def remove_layer(pre_name):\n",
    "    layer_names = Map.layers # Get the list of layer names\n",
    "    layers = Map.layers[:]  # Get the list of layers\n",
    "    names = [layer.name for layer in layer_names]  # Extract layer names\n",
    "\n",
    "    for item in names:\n",
    "        if pre_name in item: # Check if the name is in the item\n",
    "            index = names.index(item)  # Get the index of the name\n",
    "            layer = layer_names[index]  # Retrieve the layer at the index\n",
    "            Map.remove(layer)  # Remove the layer from the map    \n",
    "            return Map.layers[:]\n",
    "  \n",
    "    return layers\n",
    "\n",
    "# Function to identify the ID of the basin of interest by clicking on the map over the feature of the HydroSHEDS\n",
    "def handle_interaction(**kwargs):\n",
    "    global selected_basin_id\n",
    "    global lat\n",
    "    global lon\n",
    "\n",
    "    latlon = kwargs.get('coordinates')\n",
    "    if kwargs.get('type') == 'click':\n",
    "        Map.default_style = {'cursor': 'wait'}\n",
    "        lat = latlon[0]\n",
    "        lon = latlon[1]\n",
    "        xy = ee.Geometry.Point(latlon[::-1])\n",
    "        selected_fc = hydrobasins.filterBounds(xy)\n",
    "\n",
    "        with output_widget:\n",
    "            output_widget.clear_output()\n",
    "\n",
    "            try:\n",
    "                pre_name = \"Identified Basin: \"\n",
    "                Map.layers = remove_layer(pre_name)\n",
    "                selected_basin_id = selected_fc.first().get(hybas_id).getInfo()\n",
    "                geom = selected_fc.geometry()\n",
    "                layer_name = pre_name + str(selected_basin_id)\n",
    "                Map.addLayer(ee.Image().paint(geom, 0, 2), {'palette': 'red'}, layer_name)\n",
    "                print(layer_name + \"\\nLat: \" + str(lat) + \" Long: \" + str(lon))\n",
    "            except Exception as e:\n",
    "                print('No feature could be found')\n",
    "                Map.layers = Map.layers[:]\n",
    "\n",
    "        Map.default_style = {'cursor': 'pointer'}\n",
    "\n",
    "Map.on_interaction(handle_interaction)\n",
    "Map"
   ]
  },
  {
   "cell_type": "code",
   "execution_count": 164,
   "metadata": {},
   "outputs": [
    {
     "data": {
      "text/html": [
       "\n",
       "            <style>\n",
       "                .geemap-dark {\n",
       "                    --jp-widgets-color: white;\n",
       "                    --jp-widgets-label-color: white;\n",
       "                    --jp-ui-font-color1: white;\n",
       "                    --jp-layout-color2: #454545;\n",
       "                    background-color: #383838;\n",
       "                }\n",
       "\n",
       "                .geemap-dark .jupyter-button {\n",
       "                    --jp-layout-color3: #383838;\n",
       "                }\n",
       "\n",
       "                .geemap-colab {\n",
       "                    background-color: var(--colab-primary-surface-color, white);\n",
       "                }\n",
       "\n",
       "                .geemap-colab .jupyter-button {\n",
       "                    --jp-layout-color3: var(--colab-primary-surface-color, white);\n",
       "                }\n",
       "            </style>\n",
       "            "
      ],
      "text/plain": [
       "<IPython.core.display.HTML object>"
      ]
     },
     "metadata": {},
     "output_type": "display_data"
    }
   ],
   "source": [
    "# Function to determine the simulation period and the reporting period\n",
    "def determine_period(start_date, end_date, warmup_yrs = 0):\n",
    "    ini_date = str((int(start_date.split(\"-\")[0]) + int(warmup_yrs))) + \"-\" + start_date.split(\"-\")[1]\n",
    "    if (end_date.split(\"-\")[1]) == \"12\":\n",
    "        fin_date = str(int(end_date.split(\"-\")[0]) + 1) + \"-01\"\n",
    "    else:\n",
    "        fin_date = str(int(end_date.split(\"-\")[0])) + \"-\" + str(int(end_date.split(\"-\")[1]) + 1)\n",
    "\n",
    "    if (datetime.datetime(int(ini_date.split(\"-\")[0]), int(ini_date.split(\"-\")[1]), 1) >= datetime.datetime(int(fin_date.split(\"-\")[0]), int(fin_date.split(\"-\")[1]), 1)):\n",
    "        if (warmup_yrs != 0):\n",
    "            print (\"Start date is finally set beyond or same as the end date! Please consider the implications of the warm-up years. Remember that end date is exclusive\")\n",
    "        else:\n",
    "            print (\"Start date is finally set beyond or same as the end date! Please review your input dates. Remember that end date is exclusive\")\n",
    "        raise SystemExit()\n",
    "\n",
    "    print (\"Simulation period will be from \" + start_date + \" to \" + end_date\n",
    "           + \"; however, outputs will be provided for \" + ini_date + \" to \" + end_date)\n",
    "    return ini_date, fin_date"
   ]
  },
  {
   "cell_type": "code",
   "execution_count": 193,
   "metadata": {},
   "outputs": [
    {
     "data": {
      "text/html": [
       "\n",
       "            <style>\n",
       "                .geemap-dark {\n",
       "                    --jp-widgets-color: white;\n",
       "                    --jp-widgets-label-color: white;\n",
       "                    --jp-ui-font-color1: white;\n",
       "                    --jp-layout-color2: #454545;\n",
       "                    background-color: #383838;\n",
       "                }\n",
       "\n",
       "                .geemap-dark .jupyter-button {\n",
       "                    --jp-layout-color3: #383838;\n",
       "                }\n",
       "\n",
       "                .geemap-colab {\n",
       "                    background-color: var(--colab-primary-surface-color, white);\n",
       "                }\n",
       "\n",
       "                .geemap-colab .jupyter-button {\n",
       "                    --jp-layout-color3: var(--colab-primary-surface-color, white);\n",
       "                }\n",
       "            </style>\n",
       "            "
      ],
      "text/plain": [
       "<IPython.core.display.HTML object>"
      ]
     },
     "metadata": {},
     "output_type": "display_data"
    },
    {
     "name": "stdout",
     "output_type": "stream",
     "text": [
      "Simulation period will be from 2000-01 to 2023-12; however, outputs will be provided for 2005-01 to 2023-12\n"
     ]
    }
   ],
   "source": [
    "## Initial parameters ##\n",
    "\n",
    "# It is recommended using at least 5 years of equilibration period - warm up years. This allows the model to get the water cycling properly.\n",
    "# When a proper equilibration period is incorporated, \"ffcb\" value is not going to impact model results\n",
    "warmup_yrs = 5\n",
    "start_date = '2000-01'\n",
    "end_date = '2023-12'\n",
    "ini_date, fin_date = determine_period(start_date, end_date, warmup_yrs)"
   ]
  },
  {
   "cell_type": "code",
   "execution_count": 166,
   "metadata": {},
   "outputs": [
    {
     "data": {
      "text/html": [
       "\n",
       "            <style>\n",
       "                .geemap-dark {\n",
       "                    --jp-widgets-color: white;\n",
       "                    --jp-widgets-label-color: white;\n",
       "                    --jp-ui-font-color1: white;\n",
       "                    --jp-layout-color2: #454545;\n",
       "                    background-color: #383838;\n",
       "                }\n",
       "\n",
       "                .geemap-dark .jupyter-button {\n",
       "                    --jp-layout-color3: #383838;\n",
       "                }\n",
       "\n",
       "                .geemap-colab {\n",
       "                    background-color: var(--colab-primary-surface-color, white);\n",
       "                }\n",
       "\n",
       "                .geemap-colab .jupyter-button {\n",
       "                    --jp-layout-color3: var(--colab-primary-surface-color, white);\n",
       "                }\n",
       "            </style>\n",
       "            "
      ],
      "text/plain": [
       "<IPython.core.display.HTML object>"
      ]
     },
     "metadata": {},
     "output_type": "display_data"
    }
   ],
   "source": [
    "######################################################\n",
    "### Starting values for the water balance model - T&M\n",
    "######################################################\n",
    "\n",
    "# The recession constant (k) will be determined from hydrographs derived from the gathered streamflow datasets. For the rest of the world, k will be defined as 0.5\n",
    "k_recession = 0.5 # Temporarily is defined as such\n",
    "\n",
    "# Initial soil water storage expressed as a fraction of water holding capacity [0-1]\n",
    "ffcb = 0.1 # 10%\n",
    "\n",
    "# Base flow of the previous month (mm)\n",
    "bflow_ant = 10"
   ]
  },
  {
   "cell_type": "code",
   "execution_count": 167,
   "metadata": {},
   "outputs": [
    {
     "data": {
      "text/html": [
       "\n",
       "            <style>\n",
       "                .geemap-dark {\n",
       "                    --jp-widgets-color: white;\n",
       "                    --jp-widgets-label-color: white;\n",
       "                    --jp-ui-font-color1: white;\n",
       "                    --jp-layout-color2: #454545;\n",
       "                    background-color: #383838;\n",
       "                }\n",
       "\n",
       "                .geemap-dark .jupyter-button {\n",
       "                    --jp-layout-color3: #383838;\n",
       "                }\n",
       "\n",
       "                .geemap-colab {\n",
       "                    background-color: var(--colab-primary-surface-color, white);\n",
       "                }\n",
       "\n",
       "                .geemap-colab .jupyter-button {\n",
       "                    --jp-layout-color3: var(--colab-primary-surface-color, white);\n",
       "                }\n",
       "            </style>\n",
       "            "
      ],
      "text/plain": [
       "<IPython.core.display.HTML object>"
      ]
     },
     "metadata": {},
     "output_type": "display_data"
    },
    {
     "ename": "SystemExit",
     "evalue": "Please go to the interactive map and click on the basin and point of interest!",
     "output_type": "error",
     "traceback": [
      "An exception has occurred, use %tb to see the full traceback.\n",
      "\u001b[1;31mSystemExit\u001b[0m\u001b[1;31m:\u001b[0m Please go to the interactive map and click on the basin and point of interest!\n"
     ]
    }
   ],
   "source": [
    "raise SystemExit(\"Please go to the interactive map and click on the basin and point of interest before continuing running the cells below!\")"
   ]
  },
  {
   "cell_type": "code",
   "execution_count": 168,
   "metadata": {},
   "outputs": [
    {
     "data": {
      "text/html": [
       "\n",
       "            <style>\n",
       "                .geemap-dark {\n",
       "                    --jp-widgets-color: white;\n",
       "                    --jp-widgets-label-color: white;\n",
       "                    --jp-ui-font-color1: white;\n",
       "                    --jp-layout-color2: #454545;\n",
       "                    background-color: #383838;\n",
       "                }\n",
       "\n",
       "                .geemap-dark .jupyter-button {\n",
       "                    --jp-layout-color3: #383838;\n",
       "                }\n",
       "\n",
       "                .geemap-colab {\n",
       "                    background-color: var(--colab-primary-surface-color, white);\n",
       "                }\n",
       "\n",
       "                .geemap-colab .jupyter-button {\n",
       "                    --jp-layout-color3: var(--colab-primary-surface-color, white);\n",
       "                }\n",
       "            </style>\n",
       "            "
      ],
      "text/plain": [
       "<IPython.core.display.HTML object>"
      ]
     },
     "metadata": {},
     "output_type": "display_data"
    }
   ],
   "source": [
    "# HydroSHEDS v1 will be used. Specifically, its HydroBASINS\n",
    "zoi = hydrobasins.select(hybas_id).filter(ee.Filter.eq(hybas_id, selected_basin_id))\n",
    "visualization = {\n",
    "  \"color\": 'blue',\n",
    "  \"strokeWidth\": 1\n",
    "}\n",
    "Map.centerObject(zoi.geometry())\n",
    "Map.addLayer(zoi, visualization, 'Selected Basin')"
   ]
  },
  {
   "cell_type": "code",
   "execution_count": 169,
   "metadata": {},
   "outputs": [
    {
     "data": {
      "text/html": [
       "\n",
       "            <style>\n",
       "                .geemap-dark {\n",
       "                    --jp-widgets-color: white;\n",
       "                    --jp-widgets-label-color: white;\n",
       "                    --jp-ui-font-color1: white;\n",
       "                    --jp-layout-color2: #454545;\n",
       "                    background-color: #383838;\n",
       "                }\n",
       "\n",
       "                .geemap-dark .jupyter-button {\n",
       "                    --jp-layout-color3: #383838;\n",
       "                }\n",
       "\n",
       "                .geemap-colab {\n",
       "                    background-color: var(--colab-primary-surface-color, white);\n",
       "                }\n",
       "\n",
       "                .geemap-colab .jupyter-button {\n",
       "                    --jp-layout-color3: var(--colab-primary-surface-color, white);\n",
       "                }\n",
       "            </style>\n",
       "            "
      ],
      "text/plain": [
       "<IPython.core.display.HTML object>"
      ]
     },
     "metadata": {},
     "output_type": "display_data"
    }
   ],
   "source": [
    "# Public link to the asset whc: https://code.earthengine.google.com/?asset=projects/ee-jvg/assets/whc_fc33\n",
    "whc = ee.Image('projects/ee-jvg/assets/whc_fc33')\n",
    "whc = whc.clip(zoi).divide(1000) # As the raster was originally multiplied by 1000\n",
    "Map.addLayer(whc, {}, 'Water Holding Capacity')"
   ]
  },
  {
   "cell_type": "code",
   "execution_count": 194,
   "metadata": {},
   "outputs": [
    {
     "data": {
      "text/html": [
       "\n",
       "            <style>\n",
       "                .geemap-dark {\n",
       "                    --jp-widgets-color: white;\n",
       "                    --jp-widgets-label-color: white;\n",
       "                    --jp-ui-font-color1: white;\n",
       "                    --jp-layout-color2: #454545;\n",
       "                    background-color: #383838;\n",
       "                }\n",
       "\n",
       "                .geemap-dark .jupyter-button {\n",
       "                    --jp-layout-color3: #383838;\n",
       "                }\n",
       "\n",
       "                .geemap-colab {\n",
       "                    background-color: var(--colab-primary-surface-color, white);\n",
       "                }\n",
       "\n",
       "                .geemap-colab .jupyter-button {\n",
       "                    --jp-layout-color3: var(--colab-primary-surface-color, white);\n",
       "                }\n",
       "            </style>\n",
       "            "
      ],
      "text/plain": [
       "<IPython.core.display.HTML object>"
      ]
     },
     "metadata": {},
     "output_type": "display_data"
    },
    {
     "data": {
      "text/plain": [
       "288"
      ]
     },
     "execution_count": 194,
     "metadata": {},
     "output_type": "execute_result"
    }
   ],
   "source": [
    "# TerraClimate layers filtered with \"start_date\" (inclusive) and \"end_date\" (exclusive) and clipped to \"zoi\"\n",
    "terraclimate = ee.ImageCollection('IDAHO_EPSCOR/TERRACLIMATE').filter(ee.Filter.date(start_date, fin_date)).map(lambda image: image.clip(zoi))\n",
    "num_months = terraclimate.size().getInfo()\n",
    "num_months"
   ]
  },
  {
   "cell_type": "code",
   "execution_count": 195,
   "metadata": {},
   "outputs": [
    {
     "data": {
      "text/html": [
       "\n",
       "            <style>\n",
       "                .geemap-dark {\n",
       "                    --jp-widgets-color: white;\n",
       "                    --jp-widgets-label-color: white;\n",
       "                    --jp-ui-font-color1: white;\n",
       "                    --jp-layout-color2: #454545;\n",
       "                    background-color: #383838;\n",
       "                }\n",
       "\n",
       "                .geemap-dark .jupyter-button {\n",
       "                    --jp-layout-color3: #383838;\n",
       "                }\n",
       "\n",
       "                .geemap-colab {\n",
       "                    background-color: var(--colab-primary-surface-color, white);\n",
       "                }\n",
       "\n",
       "                .geemap-colab .jupyter-button {\n",
       "                    --jp-layout-color3: var(--colab-primary-surface-color, white);\n",
       "                }\n",
       "            </style>\n",
       "            "
      ],
      "text/plain": [
       "<IPython.core.display.HTML object>"
      ]
     },
     "metadata": {},
     "output_type": "display_data"
    }
   ],
   "source": [
    "# Initial images and time to start the water balance\n",
    "k = ee.Image(k_recession)\n",
    "st0 = whc.multiply(ffcb)\n",
    "bf0 = ee.Image(bflow_ant)\n",
    "time0 = terraclimate.first().get(\"system:time_start\") # Define the initial time (time0) according to the start of the collection"
   ]
  },
  {
   "cell_type": "code",
   "execution_count": 196,
   "metadata": {},
   "outputs": [
    {
     "data": {
      "text/html": [
       "\n",
       "            <style>\n",
       "                .geemap-dark {\n",
       "                    --jp-widgets-color: white;\n",
       "                    --jp-widgets-label-color: white;\n",
       "                    --jp-ui-font-color1: white;\n",
       "                    --jp-layout-color2: #454545;\n",
       "                    background-color: #383838;\n",
       "                }\n",
       "\n",
       "                .geemap-dark .jupyter-button {\n",
       "                    --jp-layout-color3: #383838;\n",
       "                }\n",
       "\n",
       "                .geemap-colab {\n",
       "                    background-color: var(--colab-primary-surface-color, white);\n",
       "                }\n",
       "\n",
       "                .geemap-colab .jupyter-button {\n",
       "                    --jp-layout-color3: var(--colab-primary-surface-color, white);\n",
       "                }\n",
       "            </style>\n",
       "            "
      ],
      "text/plain": [
       "<IPython.core.display.HTML object>"
      ]
     },
     "metadata": {},
     "output_type": "display_data"
    }
   ],
   "source": [
    "# Initialization of ALL bands.\n",
    "# Mandatory to cast the type of the data with a .float().\n",
    "\n",
    "# Initialization of precipitation\n",
    "initial_pr = ee.Image(0).set(\"system:time_start\", time0).select([0], [\"pr\"]).float()\n",
    "\n",
    "# Initialization of potential evapotranspiration\n",
    "initial_pet = ee.Image(0).set(\"system:time_start\", time0).select([0], [\"pet\"]).float()\n",
    "\n",
    "# Initialization of runoff\n",
    "initial_ro = ee.Image(0).set(\"system:time_start\", time0).select([0], [\"ro\"]).float()\n",
    "\n",
    "# Initialization of effective precipitation\n",
    "initial_ep = ee.Image(0).set(\"system:time_start\", time0).select([0], [\"eprec\"]).float()\n",
    "\n",
    "# Initialization of actual evapotranspiration\n",
    "initial_aet = ee.Image(0).set(\"system:time_start\", time0).select([0], [\"aet\"]).float()\n",
    "\n",
    "# Initialization of soil storage, which is considered to be a fraction of WCH\n",
    "initial_st = st0.set(\"system:time_start\", time0).select([0], [\"sstor\"]).float()\n",
    "\n",
    "# Initialization of percolation\n",
    "initial_pc = ee.Image(0).set(\"system:time_start\", time0).select([0], [\"perc\"]).float()\n",
    "\n",
    "# Initialization of base flow, which is considered as defined in Ulmen (2000)\n",
    "initial_bf = bf0.set(\"system:time_start\", time0).select([0], [\"bflow\"]).float()\n",
    "\n",
    "# Initialization of water yield\n",
    "initial_wy = ee.Image(0).set(\"system:time_start\", time0).select([0], [\"wyield\"]).float()"
   ]
  },
  {
   "cell_type": "code",
   "execution_count": 197,
   "metadata": {},
   "outputs": [
    {
     "data": {
      "text/html": [
       "\n",
       "            <style>\n",
       "                .geemap-dark {\n",
       "                    --jp-widgets-color: white;\n",
       "                    --jp-widgets-label-color: white;\n",
       "                    --jp-ui-font-color1: white;\n",
       "                    --jp-layout-color2: #454545;\n",
       "                    background-color: #383838;\n",
       "                }\n",
       "\n",
       "                .geemap-dark .jupyter-button {\n",
       "                    --jp-layout-color3: #383838;\n",
       "                }\n",
       "\n",
       "                .geemap-colab {\n",
       "                    background-color: var(--colab-primary-surface-color, white);\n",
       "                }\n",
       "\n",
       "                .geemap-colab .jupyter-button {\n",
       "                    --jp-layout-color3: var(--colab-primary-surface-color, white);\n",
       "                }\n",
       "            </style>\n",
       "            "
      ],
      "text/plain": [
       "<IPython.core.display.HTML object>"
      ]
     },
     "metadata": {},
     "output_type": "display_data"
    }
   ],
   "source": [
    "# All initial bands are combined into one \"ee.Image\" by adding them to the first band (wy)\n",
    "initial_image = initial_wy.addBands(\n",
    "    ee.Image([initial_pr, initial_pet, initial_ro, initial_ep, initial_aet, initial_st, initial_pc, initial_bf])\n",
    ")\n",
    "\n",
    "# Initiatlization of list that will contain new images after each iteration\n",
    "image_list = ee.List([initial_image])"
   ]
  },
  {
   "cell_type": "code",
   "execution_count": 198,
   "metadata": {},
   "outputs": [
    {
     "data": {
      "text/html": [
       "\n",
       "            <style>\n",
       "                .geemap-dark {\n",
       "                    --jp-widgets-color: white;\n",
       "                    --jp-widgets-label-color: white;\n",
       "                    --jp-ui-font-color1: white;\n",
       "                    --jp-layout-color2: #454545;\n",
       "                    background-color: #383838;\n",
       "                }\n",
       "\n",
       "                .geemap-dark .jupyter-button {\n",
       "                    --jp-layout-color3: #383838;\n",
       "                }\n",
       "\n",
       "                .geemap-colab {\n",
       "                    background-color: var(--colab-primary-surface-color, white);\n",
       "                }\n",
       "\n",
       "                .geemap-colab .jupyter-button {\n",
       "                    --jp-layout-color3: var(--colab-primary-surface-color, white);\n",
       "                }\n",
       "            </style>\n",
       "            "
      ],
      "text/plain": [
       "<IPython.core.display.HTML object>"
      ]
     },
     "metadata": {},
     "output_type": "display_data"
    }
   ],
   "source": [
    "def water_balance(image, image_list):\n",
    "    \n",
    "    # Determine the date of the current ee.Image of the collection.\n",
    "    localdate = image.get('system:time_start')\n",
    "\n",
    "    # Import previous image stored in the list\n",
    "    prev_im = ee.Image(ee.List(image_list).get(-1))\n",
    "\n",
    "    # Import previous soil storage and baseflow\n",
    "    # Only those variables of the water balance that work with previous conditions (i.e., i-1)\n",
    "    prev_st = prev_im.select(\"sstor\")\n",
    "    prev_bf = prev_im.select(\"bflow\")\n",
    "\n",
    "    # Import current precipitation, potential evapotranspiration, and runoff\n",
    "    pr_im = image.select(\"pr\")\n",
    "    pet_im = image.select(\"pet\").multiply(0.1) # Scale factor: 0.1\n",
    "    ro_im = image.select('ro')\n",
    "\n",
    "    # Initialize the new bands associated with wyield, eprec, aet, perc, sstor, and bflow\n",
    "    new_wy = (\n",
    "        ee.Image(0)\n",
    "        .set(\"system:time_start\", localdate)\n",
    "        .select([0], [\"wyield\"])\n",
    "        .float()\n",
    "    )\n",
    "\n",
    "    new_ep = (\n",
    "        pr_im.subtract(ro_im)\n",
    "        .set(\"system:time_start\", localdate)\n",
    "        .select([0], [\"eprec\"])\n",
    "        .float()\n",
    "    )\n",
    "\n",
    "    new_aet = (\n",
    "        ee.Image(0)\n",
    "        .set(\"system:time_start\", localdate)\n",
    "        .select([0], [\"aet\"])\n",
    "        .float()\n",
    "    )\n",
    "\n",
    "    new_pc = (\n",
    "        ee.Image(0)\n",
    "        .set(\"system:time_start\", localdate)\n",
    "        .select([0], [\"perc\"])\n",
    "        .float()\n",
    "    )\n",
    "\n",
    "    new_st = (\n",
    "        ee.Image(0)\n",
    "        .set(\"system:time_start\", localdate)\n",
    "        .select([0], [\"sstor\"])\n",
    "        .float()\n",
    "    )\n",
    "\n",
    "    new_bf = (\n",
    "        ee.Image(0)\n",
    "        .set(\"system:time_start\", localdate)\n",
    "        .select([0], [\"bflow\"])\n",
    "        .float()\n",
    "    )\n",
    "\n",
    "    # Calculate bands depending on the situation using binary layers with logical operations\n",
    "\n",
    "    ## CASE 1\n",
    "    # Define zone1: pixels where EPREC > PET \n",
    "    zone1 = new_ep.gt(pet_im)\n",
    "\n",
    "    # Calculation of AET in zone 1\n",
    "    zone1_aet = pet_im.rename(\"aet\")\n",
    "    # Implementation of zone 1 values for AET\n",
    "    new_aet = new_aet.where(zone1, zone1_aet)\n",
    "\n",
    "    ## CASE 1.1\n",
    "    # Define zone11: pixels where (EPREC > PET) and (Si-1 + EPREC - AET > WHC)\n",
    "    zone11 = zone1.And(prev_st.add(new_ep).subtract(new_aet).gt(whc))\n",
    "\n",
    "    # Calculation of SSTOR in zone 1.1\n",
    "    zone11_st = whc.rename(\"sstor\")\n",
    "    # Implementation of zone 1.1 values for SSTOR\n",
    "    new_st = new_st.where(zone11, zone11_st)\n",
    "\n",
    "    # Calculation of PERC in zone 1.1\n",
    "    zone11_pc = prev_st.add(new_ep).subtract(new_aet).subtract(whc).rename(\"perc\")\n",
    "    # Implementation of zone 1.1 values for PERC\n",
    "    new_pc = new_pc.where(zone11, zone11_pc)\n",
    "\n",
    "    ## CASE 1.2\n",
    "    # Define zone12: pixels where (EPREC > PET) and (Si-1 + EPREC - AET <= WHC)\n",
    "    zone12 = zone1.And(prev_st.add(new_ep).subtract(new_aet).lte(whc))\n",
    "\n",
    "    # Calculation of SSTOR in zone 1.2\n",
    "    zone12_st = prev_st.add(new_ep).subtract(new_aet).rename(\"sstor\")\n",
    "    # Implementation of zone 1.2 values for SSTOR\n",
    "    new_st = new_st.where(zone12, zone12_st)\n",
    "\n",
    "    ## CASE 2\n",
    "    # Define zone2: pixels where EPREC <= PET\n",
    "    zone2 = new_ep.lte(pet_im)\n",
    "\n",
    "    # Calculation of SSTOR in zone 2\n",
    "    zone2_st = prev_st.multiply(ee.Image.exp(new_ep.subtract(pet_im).abs().divide(whc).multiply(-1))).rename(\"sstor\")\n",
    "    # Implementation of zone 2 values for SSTOR\n",
    "    new_st = new_st.where(zone2, zone2_st)\n",
    "\n",
    "    # Calculation of AET in zone 2\n",
    "    zone2_aet = new_ep.add(new_st).subtract(prev_st).rename(\"aet\")\n",
    "    # Implementation of zone 2 values for AET\n",
    "    new_aet = new_aet.where(zone2, zone2_aet)\n",
    "\n",
    "    new_bf_p1 = prev_bf.multiply(k)\n",
    "    new_bf_p2 = ee.Image(1).subtract(k).multiply(new_pc)\n",
    "    new_bf = new_bf.add(new_bf_p1).add(new_bf_p2).rename(\"bflow\")\n",
    "\n",
    "    new_wy = new_wy.add(new_bf).add(ro_im).rename(\"wyield\")\n",
    "\n",
    "    # Create a mask around area where pixels can effectively be calculated\n",
    "    # Where we have have PREC as TerraClimate and WHC\n",
    "    mask = pr_im.gte(0).And(whc.gte(0))\n",
    "    \n",
    "    # Apply the mask\n",
    "    new_wy = new_wy.updateMask(mask)\n",
    "\n",
    "    # Add all Bands to our ee.Image\n",
    "    new_image = new_wy.addBands(ee.Image([pr_im, pet_im, ro_im, new_ep, new_aet, new_st, new_pc, new_bf]))\n",
    "    new_image = new_image.set(\"system:time_start\", localdate) # Needed to have 'start_time' finally assigned correctly\n",
    "    \n",
    "    # Add the new ee.Image to the ee.List\n",
    "    return ee.List(image_list).add(new_image)"
   ]
  },
  {
   "cell_type": "code",
   "execution_count": 199,
   "metadata": {},
   "outputs": [
    {
     "data": {
      "text/html": [
       "\n",
       "            <style>\n",
       "                .geemap-dark {\n",
       "                    --jp-widgets-color: white;\n",
       "                    --jp-widgets-label-color: white;\n",
       "                    --jp-ui-font-color1: white;\n",
       "                    --jp-layout-color2: #454545;\n",
       "                    background-color: #383838;\n",
       "                }\n",
       "\n",
       "                .geemap-dark .jupyter-button {\n",
       "                    --jp-layout-color3: #383838;\n",
       "                }\n",
       "\n",
       "                .geemap-colab {\n",
       "                    background-color: var(--colab-primary-surface-color, white);\n",
       "                }\n",
       "\n",
       "                .geemap-colab .jupyter-button {\n",
       "                    --jp-layout-color3: var(--colab-primary-surface-color, white);\n",
       "                }\n",
       "            </style>\n",
       "            "
      ],
      "text/plain": [
       "<IPython.core.display.HTML object>"
      ]
     },
     "metadata": {},
     "output_type": "display_data"
    }
   ],
   "source": [
    "#########################\n",
    "# WATER BALANCE EXECUTION\n",
    "#########################\n",
    "\n",
    "# Iterate the user-supplied function to the terraclimate collection\n",
    "wy_list = terraclimate.iterate(water_balance, image_list)\n",
    "\n",
    "# Remove the initial image from our list\n",
    "wy_list = ee.List(wy_list).remove(initial_image)\n",
    "\n",
    "# Transform the list into an ee.ImageCollection\n",
    "wy_coll = ee.ImageCollection(wy_list).filter(ee.Filter.date(ini_date, fin_date))"
   ]
  },
  {
   "cell_type": "code",
   "execution_count": 200,
   "metadata": {},
   "outputs": [
    {
     "data": {
      "text/html": [
       "\n",
       "            <style>\n",
       "                .geemap-dark {\n",
       "                    --jp-widgets-color: white;\n",
       "                    --jp-widgets-label-color: white;\n",
       "                    --jp-ui-font-color1: white;\n",
       "                    --jp-layout-color2: #454545;\n",
       "                    background-color: #383838;\n",
       "                }\n",
       "\n",
       "                .geemap-dark .jupyter-button {\n",
       "                    --jp-layout-color3: #383838;\n",
       "                }\n",
       "\n",
       "                .geemap-colab {\n",
       "                    background-color: var(--colab-primary-surface-color, white);\n",
       "                }\n",
       "\n",
       "                .geemap-colab .jupyter-button {\n",
       "                    --jp-layout-color3: var(--colab-primary-surface-color, white);\n",
       "                }\n",
       "            </style>\n",
       "            "
      ],
      "text/plain": [
       "<IPython.core.display.HTML object>"
      ]
     },
     "metadata": {},
     "output_type": "display_data"
    }
   ],
   "source": [
    "def ee_array_to_df(arr, list_of_bands):\n",
    "    \"\"\"Transforms client-side ee.Image.getRegion array to pandas.DataFrame.\"\"\"\n",
    "    df = pd.DataFrame(arr)\n",
    "\n",
    "    # Rearrange the header.\n",
    "    headers = df.iloc[0]\n",
    "    df = pd.DataFrame(df.values[1:], columns=headers)\n",
    "\n",
    "    # Convert the data to numeric values.\n",
    "    for band in list_of_bands:\n",
    "        df[band] = pd.to_numeric(df[band], errors=\"coerce\")\n",
    "\n",
    "    # Convert the time field into a datetime.\n",
    "    df[\"datetime\"] = pd.to_datetime(df[\"time\"], unit=\"ms\").dt.strftime(\"%Y-%m\")\n",
    "\n",
    "    # Keep the columns of interest.\n",
    "    df = df[[\"time\", \"datetime\", *list_of_bands]]\n",
    "\n",
    "    # The datetime column is defined as index.\n",
    "    df = df.set_index(\"datetime\")\n",
    "\n",
    "    return df"
   ]
  },
  {
   "cell_type": "code",
   "execution_count": 201,
   "metadata": {},
   "outputs": [
    {
     "data": {
      "text/html": [
       "\n",
       "            <style>\n",
       "                .geemap-dark {\n",
       "                    --jp-widgets-color: white;\n",
       "                    --jp-widgets-label-color: white;\n",
       "                    --jp-ui-font-color1: white;\n",
       "                    --jp-layout-color2: #454545;\n",
       "                    background-color: #383838;\n",
       "                }\n",
       "\n",
       "                .geemap-dark .jupyter-button {\n",
       "                    --jp-layout-color3: #383838;\n",
       "                }\n",
       "\n",
       "                .geemap-colab {\n",
       "                    background-color: var(--colab-primary-surface-color, white);\n",
       "                }\n",
       "\n",
       "                .geemap-colab .jupyter-button {\n",
       "                    --jp-layout-color3: var(--colab-primary-surface-color, white);\n",
       "                }\n",
       "            </style>\n",
       "            "
      ],
      "text/plain": [
       "<IPython.core.display.HTML object>"
      ]
     },
     "metadata": {},
     "output_type": "display_data"
    }
   ],
   "source": [
    "# The point location was previously defined by clicking on the map\n",
    "poi = ee.Geometry.Point(lon, lat)\n",
    "poi_ft = ee.FeatureCollection(ee.Geometry.Point(lon, lat))\n",
    "Map.addLayer(poi_ft, {'color': 'red', 'pointSize': 10}, \"Point of Interest\")\n",
    "\n",
    "# A nominal scale in meters of the projection to work in [in meters]\n",
    "scale = 250"
   ]
  },
  {
   "cell_type": "code",
   "execution_count": null,
   "metadata": {},
   "outputs": [],
   "source": [
    "wb_vars = [\"pr\", \"pet\", \"ro\", \"eprec\", \"aet\", \"sstor\", \"perc\", \"bflow\", \"wyield\"]\n",
    "\n",
    "# Map over the image collection and collect samples\n",
    "def rasterExtraction(image):\n",
    "    feature = image.sampleRegions(\n",
    "        collection = poi_ft, # feature collection here\n",
    "        scale = scale # Cell size of raster\n",
    "    )\n",
    "    return feature\n",
    "\n",
    "extract_results = wy_coll.filterBounds(poi_ft).map(rasterExtraction).flatten()\n",
    "\n",
    "# Concatenate all DataFrames into a single DataFrame\n",
    "df_results = geemap.ee_to_df(extract_results)\n",
    "df_results = df_results[[*wb_vars]]\n",
    "df_results"
   ]
  },
  {
   "cell_type": "code",
   "execution_count": 205,
   "metadata": {},
   "outputs": [
    {
     "data": {
      "text/html": [
       "\n",
       "            <style>\n",
       "                .geemap-dark {\n",
       "                    --jp-widgets-color: white;\n",
       "                    --jp-widgets-label-color: white;\n",
       "                    --jp-ui-font-color1: white;\n",
       "                    --jp-layout-color2: #454545;\n",
       "                    background-color: #383838;\n",
       "                }\n",
       "\n",
       "                .geemap-dark .jupyter-button {\n",
       "                    --jp-layout-color3: #383838;\n",
       "                }\n",
       "\n",
       "                .geemap-colab {\n",
       "                    background-color: var(--colab-primary-surface-color, white);\n",
       "                }\n",
       "\n",
       "                .geemap-colab .jupyter-button {\n",
       "                    --jp-layout-color3: var(--colab-primary-surface-color, white);\n",
       "                }\n",
       "            </style>\n",
       "            "
      ],
      "text/plain": [
       "<IPython.core.display.HTML object>"
      ]
     },
     "metadata": {},
     "output_type": "display_data"
    }
   ],
   "source": [
    "prueba = wy_coll.filterBounds(poi_ft).toBands().sampleRegions(\n",
    "    collection = poi_ft, # feature collection here\n",
    "    scale = scale # Cell size of raster\n",
    ")"
   ]
  },
  {
   "cell_type": "code",
   "execution_count": null,
   "metadata": {},
   "outputs": [],
   "source": [
    "df_results = geemap.ee_to_df(prueba)"
   ]
  },
  {
   "cell_type": "code",
   "execution_count": null,
   "metadata": {},
   "outputs": [],
   "source": [
    "# Let's have a look at the result around a location of interest:\n",
    "# WARNING: It crashes if the number of simulation years is greater than 11 on a monthly basis, i.e., more than 132 images\n",
    "arr = wy_coll.getRegion(poi, scale).getInfo()\n",
    "wb_vars = [\"pr\", \"pet\", \"ro\", \"eprec\", \"aet\", \"sstor\", \"perc\", \"bflow\", \"wyield\"]\n",
    "rdf = ee_array_to_df(arr, wb_vars).sort_index()\n",
    "rdf"
   ]
  },
  {
   "cell_type": "code",
   "execution_count": 180,
   "metadata": {},
   "outputs": [
    {
     "data": {
      "text/html": [
       "\n",
       "            <style>\n",
       "                .geemap-dark {\n",
       "                    --jp-widgets-color: white;\n",
       "                    --jp-widgets-label-color: white;\n",
       "                    --jp-ui-font-color1: white;\n",
       "                    --jp-layout-color2: #454545;\n",
       "                    background-color: #383838;\n",
       "                }\n",
       "\n",
       "                .geemap-dark .jupyter-button {\n",
       "                    --jp-layout-color3: #383838;\n",
       "                }\n",
       "\n",
       "                .geemap-colab {\n",
       "                    background-color: var(--colab-primary-surface-color, white);\n",
       "                }\n",
       "\n",
       "                .geemap-colab .jupyter-button {\n",
       "                    --jp-layout-color3: var(--colab-primary-surface-color, white);\n",
       "                }\n",
       "            </style>\n",
       "            "
      ],
      "text/plain": [
       "<IPython.core.display.HTML object>"
      ]
     },
     "metadata": {},
     "output_type": "display_data"
    },
    {
     "data": {
      "text/html": [
       "<div>\n",
       "<style scoped>\n",
       "    .dataframe tbody tr th:only-of-type {\n",
       "        vertical-align: middle;\n",
       "    }\n",
       "\n",
       "    .dataframe tbody tr th {\n",
       "        vertical-align: top;\n",
       "    }\n",
       "\n",
       "    .dataframe thead th {\n",
       "        text-align: right;\n",
       "    }\n",
       "</style>\n",
       "<table border=\"1\" class=\"dataframe\">\n",
       "  <thead>\n",
       "    <tr style=\"text-align: right;\">\n",
       "      <th></th>\n",
       "      <th>time</th>\n",
       "      <th>pr</th>\n",
       "      <th>pet</th>\n",
       "      <th>ro</th>\n",
       "      <th>eprec</th>\n",
       "      <th>aet</th>\n",
       "      <th>sstor</th>\n",
       "      <th>perc</th>\n",
       "      <th>bflow</th>\n",
       "      <th>wyield</th>\n",
       "    </tr>\n",
       "    <tr>\n",
       "      <th>datetime</th>\n",
       "      <th></th>\n",
       "      <th></th>\n",
       "      <th></th>\n",
       "      <th></th>\n",
       "      <th></th>\n",
       "      <th></th>\n",
       "      <th></th>\n",
       "      <th></th>\n",
       "      <th></th>\n",
       "      <th></th>\n",
       "    </tr>\n",
       "  </thead>\n",
       "  <tbody>\n",
       "    <tr>\n",
       "      <th>1970-01</th>\n",
       "      <td>0</td>\n",
       "      <td>0</td>\n",
       "      <td>0</td>\n",
       "      <td>0</td>\n",
       "      <td>0</td>\n",
       "      <td>0</td>\n",
       "      <td>20.9674</td>\n",
       "      <td>0</td>\n",
       "      <td>10</td>\n",
       "      <td>0</td>\n",
       "    </tr>\n",
       "  </tbody>\n",
       "</table>\n",
       "</div>"
      ],
      "text/plain": [
       "0        time  pr  pet  ro  eprec  aet    sstor  perc  bflow  wyield\n",
       "datetime                                                            \n",
       "1970-01     0   0    0   0      0    0  20.9674     0     10       0"
      ]
     },
     "execution_count": 180,
     "metadata": {},
     "output_type": "execute_result"
    }
   ],
   "source": [
    "#Get values of initial variables for the point of interest\n",
    "copy_ii = initial_image.set('system:time_start', 0)\n",
    "intial_imgs = ee.ImageCollection(ee.List([copy_ii]))\n",
    "initial_arr = intial_imgs.getRegion(poi, scale).getInfo()\n",
    "idf = ee_array_to_df(initial_arr, wb_vars).sort_index()\n",
    "idf"
   ]
  },
  {
   "cell_type": "code",
   "execution_count": 181,
   "metadata": {},
   "outputs": [
    {
     "data": {
      "text/html": [
       "\n",
       "            <style>\n",
       "                .geemap-dark {\n",
       "                    --jp-widgets-color: white;\n",
       "                    --jp-widgets-label-color: white;\n",
       "                    --jp-ui-font-color1: white;\n",
       "                    --jp-layout-color2: #454545;\n",
       "                    background-color: #383838;\n",
       "                }\n",
       "\n",
       "                .geemap-dark .jupyter-button {\n",
       "                    --jp-layout-color3: #383838;\n",
       "                }\n",
       "\n",
       "                .geemap-colab {\n",
       "                    background-color: var(--colab-primary-surface-color, white);\n",
       "                }\n",
       "\n",
       "                .geemap-colab .jupyter-button {\n",
       "                    --jp-layout-color3: var(--colab-primary-surface-color, white);\n",
       "                }\n",
       "            </style>\n",
       "            "
      ],
      "text/plain": [
       "<IPython.core.display.HTML object>"
      ]
     },
     "metadata": {},
     "output_type": "display_data"
    },
    {
     "data": {
      "text/html": [
       "<div>\n",
       "<style scoped>\n",
       "    .dataframe tbody tr th:only-of-type {\n",
       "        vertical-align: middle;\n",
       "    }\n",
       "\n",
       "    .dataframe tbody tr th {\n",
       "        vertical-align: top;\n",
       "    }\n",
       "\n",
       "    .dataframe thead th {\n",
       "        text-align: right;\n",
       "    }\n",
       "</style>\n",
       "<table border=\"1\" class=\"dataframe\">\n",
       "  <thead>\n",
       "    <tr style=\"text-align: right;\">\n",
       "      <th></th>\n",
       "      <th>time</th>\n",
       "      <th>pr</th>\n",
       "      <th>pet</th>\n",
       "      <th>ro</th>\n",
       "      <th>eprec</th>\n",
       "      <th>aet</th>\n",
       "      <th>sstor</th>\n",
       "      <th>perc</th>\n",
       "      <th>bflow</th>\n",
       "      <th>wyield</th>\n",
       "    </tr>\n",
       "    <tr>\n",
       "      <th>datetime</th>\n",
       "      <th></th>\n",
       "      <th></th>\n",
       "      <th></th>\n",
       "      <th></th>\n",
       "      <th></th>\n",
       "      <th></th>\n",
       "      <th></th>\n",
       "      <th></th>\n",
       "      <th></th>\n",
       "      <th></th>\n",
       "    </tr>\n",
       "  </thead>\n",
       "  <tbody>\n",
       "    <tr>\n",
       "      <th>1970-01</th>\n",
       "      <td>0</td>\n",
       "      <td>0</td>\n",
       "      <td>0.0</td>\n",
       "      <td>0</td>\n",
       "      <td>0</td>\n",
       "      <td>0.000000</td>\n",
       "      <td>20.967400</td>\n",
       "      <td>0.000000</td>\n",
       "      <td>10.000000</td>\n",
       "      <td>0.000000</td>\n",
       "    </tr>\n",
       "    <tr>\n",
       "      <th>2013-01</th>\n",
       "      <td>1356998400000</td>\n",
       "      <td>342</td>\n",
       "      <td>75.7</td>\n",
       "      <td>266</td>\n",
       "      <td>76</td>\n",
       "      <td>75.700000</td>\n",
       "      <td>209.673996</td>\n",
       "      <td>0.100095</td>\n",
       "      <td>0.294304</td>\n",
       "      <td>266.294304</td>\n",
       "    </tr>\n",
       "    <tr>\n",
       "      <th>2013-02</th>\n",
       "      <td>1359676800000</td>\n",
       "      <td>369</td>\n",
       "      <td>72.5</td>\n",
       "      <td>296</td>\n",
       "      <td>73</td>\n",
       "      <td>72.500000</td>\n",
       "      <td>209.673996</td>\n",
       "      <td>0.500000</td>\n",
       "      <td>0.397152</td>\n",
       "      <td>296.397152</td>\n",
       "    </tr>\n",
       "    <tr>\n",
       "      <th>2013-03</th>\n",
       "      <td>1362096000000</td>\n",
       "      <td>404</td>\n",
       "      <td>75.4</td>\n",
       "      <td>329</td>\n",
       "      <td>75</td>\n",
       "      <td>74.600381</td>\n",
       "      <td>209.274377</td>\n",
       "      <td>0.000000</td>\n",
       "      <td>0.198576</td>\n",
       "      <td>329.198576</td>\n",
       "    </tr>\n",
       "    <tr>\n",
       "      <th>2013-04</th>\n",
       "      <td>1364774400000</td>\n",
       "      <td>172</td>\n",
       "      <td>72.9</td>\n",
       "      <td>99</td>\n",
       "      <td>73</td>\n",
       "      <td>72.900000</td>\n",
       "      <td>209.374377</td>\n",
       "      <td>0.000000</td>\n",
       "      <td>0.099288</td>\n",
       "      <td>99.099288</td>\n",
       "    </tr>\n",
       "    <tr>\n",
       "      <th>...</th>\n",
       "      <td>...</td>\n",
       "      <td>...</td>\n",
       "      <td>...</td>\n",
       "      <td>...</td>\n",
       "      <td>...</td>\n",
       "      <td>...</td>\n",
       "      <td>...</td>\n",
       "      <td>...</td>\n",
       "      <td>...</td>\n",
       "      <td>...</td>\n",
       "    </tr>\n",
       "    <tr>\n",
       "      <th>2023-08</th>\n",
       "      <td>1690848000000</td>\n",
       "      <td>11</td>\n",
       "      <td>119.1</td>\n",
       "      <td>1</td>\n",
       "      <td>10</td>\n",
       "      <td>-23.289201</td>\n",
       "      <td>48.769279</td>\n",
       "      <td>0.000000</td>\n",
       "      <td>0.054111</td>\n",
       "      <td>1.054111</td>\n",
       "    </tr>\n",
       "    <tr>\n",
       "      <th>2023-09</th>\n",
       "      <td>1693526400000</td>\n",
       "      <td>37</td>\n",
       "      <td>121.6</td>\n",
       "      <td>2</td>\n",
       "      <td>35</td>\n",
       "      <td>18.498799</td>\n",
       "      <td>32.268079</td>\n",
       "      <td>0.000000</td>\n",
       "      <td>0.027056</td>\n",
       "      <td>2.027056</td>\n",
       "    </tr>\n",
       "    <tr>\n",
       "      <th>2023-10</th>\n",
       "      <td>1696118400000</td>\n",
       "      <td>64</td>\n",
       "      <td>126.3</td>\n",
       "      <td>3</td>\n",
       "      <td>61</td>\n",
       "      <td>52.364888</td>\n",
       "      <td>23.632966</td>\n",
       "      <td>0.000000</td>\n",
       "      <td>0.013528</td>\n",
       "      <td>3.013528</td>\n",
       "    </tr>\n",
       "    <tr>\n",
       "      <th>2023-11</th>\n",
       "      <td>1698796800000</td>\n",
       "      <td>116</td>\n",
       "      <td>111.4</td>\n",
       "      <td>6</td>\n",
       "      <td>110</td>\n",
       "      <td>109.842728</td>\n",
       "      <td>23.475694</td>\n",
       "      <td>0.000000</td>\n",
       "      <td>0.006764</td>\n",
       "      <td>6.006764</td>\n",
       "    </tr>\n",
       "    <tr>\n",
       "      <th>2023-12</th>\n",
       "      <td>1701388800000</td>\n",
       "      <td>281</td>\n",
       "      <td>98.7</td>\n",
       "      <td>14</td>\n",
       "      <td>267</td>\n",
       "      <td>98.700000</td>\n",
       "      <td>191.775694</td>\n",
       "      <td>0.000000</td>\n",
       "      <td>0.003382</td>\n",
       "      <td>14.003382</td>\n",
       "    </tr>\n",
       "  </tbody>\n",
       "</table>\n",
       "<p>133 rows × 10 columns</p>\n",
       "</div>"
      ],
      "text/plain": [
       "0                  time   pr    pet   ro  eprec         aet       sstor  \\\n",
       "datetime                                                                  \n",
       "1970-01               0    0    0.0    0      0    0.000000   20.967400   \n",
       "2013-01   1356998400000  342   75.7  266     76   75.700000  209.673996   \n",
       "2013-02   1359676800000  369   72.5  296     73   72.500000  209.673996   \n",
       "2013-03   1362096000000  404   75.4  329     75   74.600381  209.274377   \n",
       "2013-04   1364774400000  172   72.9   99     73   72.900000  209.374377   \n",
       "...                 ...  ...    ...  ...    ...         ...         ...   \n",
       "2023-08   1690848000000   11  119.1    1     10  -23.289201   48.769279   \n",
       "2023-09   1693526400000   37  121.6    2     35   18.498799   32.268079   \n",
       "2023-10   1696118400000   64  126.3    3     61   52.364888   23.632966   \n",
       "2023-11   1698796800000  116  111.4    6    110  109.842728   23.475694   \n",
       "2023-12   1701388800000  281   98.7   14    267   98.700000  191.775694   \n",
       "\n",
       "0             perc      bflow      wyield  \n",
       "datetime                                   \n",
       "1970-01   0.000000  10.000000    0.000000  \n",
       "2013-01   0.100095   0.294304  266.294304  \n",
       "2013-02   0.500000   0.397152  296.397152  \n",
       "2013-03   0.000000   0.198576  329.198576  \n",
       "2013-04   0.000000   0.099288   99.099288  \n",
       "...            ...        ...         ...  \n",
       "2023-08   0.000000   0.054111    1.054111  \n",
       "2023-09   0.000000   0.027056    2.027056  \n",
       "2023-10   0.000000   0.013528    3.013528  \n",
       "2023-11   0.000000   0.006764    6.006764  \n",
       "2023-12   0.000000   0.003382   14.003382  \n",
       "\n",
       "[133 rows x 10 columns]"
      ]
     },
     "execution_count": 181,
     "metadata": {},
     "output_type": "execute_result"
    }
   ],
   "source": [
    "rdff = pd.concat([idf, rdf])\n",
    "#rdf.to_excel(\"D:\\Borrar\\wb_point.xlsx\")\n",
    "#rdff.to_csv(\"D:\\Borrar\\wb_point.csv\")\n",
    "rdff"
   ]
  },
  {
   "cell_type": "code",
   "execution_count": 182,
   "metadata": {},
   "outputs": [
    {
     "data": {
      "text/html": [
       "\n",
       "            <style>\n",
       "                .geemap-dark {\n",
       "                    --jp-widgets-color: white;\n",
       "                    --jp-widgets-label-color: white;\n",
       "                    --jp-ui-font-color1: white;\n",
       "                    --jp-layout-color2: #454545;\n",
       "                    background-color: #383838;\n",
       "                }\n",
       "\n",
       "                .geemap-dark .jupyter-button {\n",
       "                    --jp-layout-color3: #383838;\n",
       "                }\n",
       "\n",
       "                .geemap-colab {\n",
       "                    background-color: var(--colab-primary-surface-color, white);\n",
       "                }\n",
       "\n",
       "                .geemap-colab .jupyter-button {\n",
       "                    --jp-layout-color3: var(--colab-primary-surface-color, white);\n",
       "                }\n",
       "            </style>\n",
       "            "
      ],
      "text/plain": [
       "<IPython.core.display.HTML object>"
      ]
     },
     "metadata": {},
     "output_type": "display_data"
    },
    {
     "data": {
      "text/html": [
       "<div>\n",
       "<style scoped>\n",
       "    .dataframe tbody tr th:only-of-type {\n",
       "        vertical-align: middle;\n",
       "    }\n",
       "\n",
       "    .dataframe tbody tr th {\n",
       "        vertical-align: top;\n",
       "    }\n",
       "\n",
       "    .dataframe thead th {\n",
       "        text-align: right;\n",
       "    }\n",
       "</style>\n",
       "<table border=\"1\" class=\"dataframe\">\n",
       "  <thead>\n",
       "    <tr style=\"text-align: right;\">\n",
       "      <th></th>\n",
       "      <th>pr</th>\n",
       "      <th>ro</th>\n",
       "      <th>aet</th>\n",
       "      <th>bflow</th>\n",
       "      <th>wyield</th>\n",
       "      <th>year</th>\n",
       "      <th>month</th>\n",
       "    </tr>\n",
       "    <tr>\n",
       "      <th>datetime</th>\n",
       "      <th></th>\n",
       "      <th></th>\n",
       "      <th></th>\n",
       "      <th></th>\n",
       "      <th></th>\n",
       "      <th></th>\n",
       "      <th></th>\n",
       "    </tr>\n",
       "  </thead>\n",
       "  <tbody>\n",
       "    <tr>\n",
       "      <th>2013-01</th>\n",
       "      <td>342</td>\n",
       "      <td>266</td>\n",
       "      <td>75.700000</td>\n",
       "      <td>0.294304</td>\n",
       "      <td>266.294304</td>\n",
       "      <td>2013</td>\n",
       "      <td>Jan</td>\n",
       "    </tr>\n",
       "    <tr>\n",
       "      <th>2013-02</th>\n",
       "      <td>369</td>\n",
       "      <td>296</td>\n",
       "      <td>72.500000</td>\n",
       "      <td>0.397152</td>\n",
       "      <td>296.397152</td>\n",
       "      <td>2013</td>\n",
       "      <td>Feb</td>\n",
       "    </tr>\n",
       "    <tr>\n",
       "      <th>2013-03</th>\n",
       "      <td>404</td>\n",
       "      <td>329</td>\n",
       "      <td>74.600381</td>\n",
       "      <td>0.198576</td>\n",
       "      <td>329.198576</td>\n",
       "      <td>2013</td>\n",
       "      <td>Mar</td>\n",
       "    </tr>\n",
       "    <tr>\n",
       "      <th>2013-04</th>\n",
       "      <td>172</td>\n",
       "      <td>99</td>\n",
       "      <td>72.900000</td>\n",
       "      <td>0.099288</td>\n",
       "      <td>99.099288</td>\n",
       "      <td>2013</td>\n",
       "      <td>Apr</td>\n",
       "    </tr>\n",
       "    <tr>\n",
       "      <th>2013-05</th>\n",
       "      <td>112</td>\n",
       "      <td>30</td>\n",
       "      <td>81.900167</td>\n",
       "      <td>0.049644</td>\n",
       "      <td>30.049644</td>\n",
       "      <td>2013</td>\n",
       "      <td>May</td>\n",
       "    </tr>\n",
       "    <tr>\n",
       "      <th>...</th>\n",
       "      <td>...</td>\n",
       "      <td>...</td>\n",
       "      <td>...</td>\n",
       "      <td>...</td>\n",
       "      <td>...</td>\n",
       "      <td>...</td>\n",
       "      <td>...</td>\n",
       "    </tr>\n",
       "    <tr>\n",
       "      <th>2023-08</th>\n",
       "      <td>11</td>\n",
       "      <td>1</td>\n",
       "      <td>-23.289201</td>\n",
       "      <td>0.054111</td>\n",
       "      <td>1.054111</td>\n",
       "      <td>2023</td>\n",
       "      <td>Aug</td>\n",
       "    </tr>\n",
       "    <tr>\n",
       "      <th>2023-09</th>\n",
       "      <td>37</td>\n",
       "      <td>2</td>\n",
       "      <td>18.498799</td>\n",
       "      <td>0.027056</td>\n",
       "      <td>2.027056</td>\n",
       "      <td>2023</td>\n",
       "      <td>Sep</td>\n",
       "    </tr>\n",
       "    <tr>\n",
       "      <th>2023-10</th>\n",
       "      <td>64</td>\n",
       "      <td>3</td>\n",
       "      <td>52.364888</td>\n",
       "      <td>0.013528</td>\n",
       "      <td>3.013528</td>\n",
       "      <td>2023</td>\n",
       "      <td>Oct</td>\n",
       "    </tr>\n",
       "    <tr>\n",
       "      <th>2023-11</th>\n",
       "      <td>116</td>\n",
       "      <td>6</td>\n",
       "      <td>109.842728</td>\n",
       "      <td>0.006764</td>\n",
       "      <td>6.006764</td>\n",
       "      <td>2023</td>\n",
       "      <td>Nov</td>\n",
       "    </tr>\n",
       "    <tr>\n",
       "      <th>2023-12</th>\n",
       "      <td>281</td>\n",
       "      <td>14</td>\n",
       "      <td>98.700000</td>\n",
       "      <td>0.003382</td>\n",
       "      <td>14.003382</td>\n",
       "      <td>2023</td>\n",
       "      <td>Dec</td>\n",
       "    </tr>\n",
       "  </tbody>\n",
       "</table>\n",
       "<p>132 rows × 7 columns</p>\n",
       "</div>"
      ],
      "text/plain": [
       "0          pr   ro         aet     bflow      wyield  year month\n",
       "datetime                                                        \n",
       "2013-01   342  266   75.700000  0.294304  266.294304  2013   Jan\n",
       "2013-02   369  296   72.500000  0.397152  296.397152  2013   Feb\n",
       "2013-03   404  329   74.600381  0.198576  329.198576  2013   Mar\n",
       "2013-04   172   99   72.900000  0.099288   99.099288  2013   Apr\n",
       "2013-05   112   30   81.900167  0.049644   30.049644  2013   May\n",
       "...       ...  ...         ...       ...         ...   ...   ...\n",
       "2023-08    11    1  -23.289201  0.054111    1.054111  2023   Aug\n",
       "2023-09    37    2   18.498799  0.027056    2.027056  2023   Sep\n",
       "2023-10    64    3   52.364888  0.013528    3.013528  2023   Oct\n",
       "2023-11   116    6  109.842728  0.006764    6.006764  2023   Nov\n",
       "2023-12   281   14   98.700000  0.003382   14.003382  2023   Dec\n",
       "\n",
       "[132 rows x 7 columns]"
      ]
     },
     "execution_count": 182,
     "metadata": {},
     "output_type": "execute_result"
    }
   ],
   "source": [
    "# Preparing dataframe for chart visualization\n",
    "new_pd = rdf.drop([\"time\", \"pet\", \"eprec\", \"sstor\", \"perc\"], axis=1)\n",
    "new_pd[\"year\"] = new_pd.apply(lambda row: row.name.split(\"-\")[0], axis=1)\n",
    "new_pd[\"month\"] = new_pd.apply(lambda row: calendar.month_abbr[int(row.name.split(\"-\")[1])], axis=1)\n",
    "new_pd"
   ]
  },
  {
   "cell_type": "code",
   "execution_count": 183,
   "metadata": {},
   "outputs": [
    {
     "data": {
      "text/html": [
       "\n",
       "            <style>\n",
       "                .geemap-dark {\n",
       "                    --jp-widgets-color: white;\n",
       "                    --jp-widgets-label-color: white;\n",
       "                    --jp-ui-font-color1: white;\n",
       "                    --jp-layout-color2: #454545;\n",
       "                    background-color: #383838;\n",
       "                }\n",
       "\n",
       "                .geemap-dark .jupyter-button {\n",
       "                    --jp-layout-color3: #383838;\n",
       "                }\n",
       "\n",
       "                .geemap-colab {\n",
       "                    background-color: var(--colab-primary-surface-color, white);\n",
       "                }\n",
       "\n",
       "                .geemap-colab .jupyter-button {\n",
       "                    --jp-layout-color3: var(--colab-primary-surface-color, white);\n",
       "                }\n",
       "            </style>\n",
       "            "
      ],
      "text/plain": [
       "<IPython.core.display.HTML object>"
      ]
     },
     "metadata": {},
     "output_type": "display_data"
    },
    {
     "data": {
      "text/html": [
       "<div>\n",
       "<style scoped>\n",
       "    .dataframe tbody tr th:only-of-type {\n",
       "        vertical-align: middle;\n",
       "    }\n",
       "\n",
       "    .dataframe tbody tr th {\n",
       "        vertical-align: top;\n",
       "    }\n",
       "\n",
       "    .dataframe thead th {\n",
       "        text-align: right;\n",
       "    }\n",
       "</style>\n",
       "<table border=\"1\" class=\"dataframe\">\n",
       "  <thead>\n",
       "    <tr style=\"text-align: right;\">\n",
       "      <th></th>\n",
       "      <th>pr</th>\n",
       "      <th>ro</th>\n",
       "      <th>aet</th>\n",
       "      <th>bflow</th>\n",
       "      <th>wyield</th>\n",
       "    </tr>\n",
       "    <tr>\n",
       "      <th>year</th>\n",
       "      <th></th>\n",
       "      <th></th>\n",
       "      <th></th>\n",
       "      <th></th>\n",
       "      <th></th>\n",
       "    </tr>\n",
       "  </thead>\n",
       "  <tbody>\n",
       "    <tr>\n",
       "      <th>2013</th>\n",
       "      <td>2475</td>\n",
       "      <td>1528</td>\n",
       "      <td>660.091414</td>\n",
       "      <td>1.088220e+00</td>\n",
       "      <td>1529.088220</td>\n",
       "    </tr>\n",
       "    <tr>\n",
       "      <th>2014</th>\n",
       "      <td>2653</td>\n",
       "      <td>1702</td>\n",
       "      <td>679.172939</td>\n",
       "      <td>3.877491e-04</td>\n",
       "      <td>1702.000388</td>\n",
       "    </tr>\n",
       "    <tr>\n",
       "      <th>2015</th>\n",
       "      <td>2717</td>\n",
       "      <td>1720</td>\n",
       "      <td>676.572289</td>\n",
       "      <td>1.832103e-02</td>\n",
       "      <td>1720.018321</td>\n",
       "    </tr>\n",
       "    <tr>\n",
       "      <th>2016</th>\n",
       "      <td>2345</td>\n",
       "      <td>1332</td>\n",
       "      <td>714.383427</td>\n",
       "      <td>3.190138e-01</td>\n",
       "      <td>1332.319014</td>\n",
       "    </tr>\n",
       "    <tr>\n",
       "      <th>2017</th>\n",
       "      <td>2355</td>\n",
       "      <td>1337</td>\n",
       "      <td>705.597518</td>\n",
       "      <td>5.927770e-04</td>\n",
       "      <td>1337.000593</td>\n",
       "    </tr>\n",
       "    <tr>\n",
       "      <th>2018</th>\n",
       "      <td>2355</td>\n",
       "      <td>1421</td>\n",
       "      <td>642.850330</td>\n",
       "      <td>1.447210e-07</td>\n",
       "      <td>1421.000000</td>\n",
       "    </tr>\n",
       "    <tr>\n",
       "      <th>2019</th>\n",
       "      <td>2614</td>\n",
       "      <td>1686</td>\n",
       "      <td>571.757212</td>\n",
       "      <td>1.069040e+01</td>\n",
       "      <td>1696.690401</td>\n",
       "    </tr>\n",
       "    <tr>\n",
       "      <th>2020</th>\n",
       "      <td>2275</td>\n",
       "      <td>1307</td>\n",
       "      <td>599.092678</td>\n",
       "      <td>1.284045e+01</td>\n",
       "      <td>1319.840454</td>\n",
       "    </tr>\n",
       "    <tr>\n",
       "      <th>2021</th>\n",
       "      <td>2541</td>\n",
       "      <td>1611</td>\n",
       "      <td>547.466694</td>\n",
       "      <td>2.619645e+01</td>\n",
       "      <td>1637.196446</td>\n",
       "    </tr>\n",
       "    <tr>\n",
       "      <th>2022</th>\n",
       "      <td>2162</td>\n",
       "      <td>1200</td>\n",
       "      <td>567.402001</td>\n",
       "      <td>1.906884e+01</td>\n",
       "      <td>1219.068841</td>\n",
       "    </tr>\n",
       "    <tr>\n",
       "      <th>2023</th>\n",
       "      <td>1809</td>\n",
       "      <td>897</td>\n",
       "      <td>557.001698</td>\n",
       "      <td>1.354905e+01</td>\n",
       "      <td>910.549052</td>\n",
       "    </tr>\n",
       "  </tbody>\n",
       "</table>\n",
       "</div>"
      ],
      "text/plain": [
       "0       pr    ro         aet         bflow       wyield\n",
       "year                                                   \n",
       "2013  2475  1528  660.091414  1.088220e+00  1529.088220\n",
       "2014  2653  1702  679.172939  3.877491e-04  1702.000388\n",
       "2015  2717  1720  676.572289  1.832103e-02  1720.018321\n",
       "2016  2345  1332  714.383427  3.190138e-01  1332.319014\n",
       "2017  2355  1337  705.597518  5.927770e-04  1337.000593\n",
       "2018  2355  1421  642.850330  1.447210e-07  1421.000000\n",
       "2019  2614  1686  571.757212  1.069040e+01  1696.690401\n",
       "2020  2275  1307  599.092678  1.284045e+01  1319.840454\n",
       "2021  2541  1611  547.466694  2.619645e+01  1637.196446\n",
       "2022  2162  1200  567.402001  1.906884e+01  1219.068841\n",
       "2023  1809   897  557.001698  1.354905e+01   910.549052"
      ]
     },
     "execution_count": 183,
     "metadata": {},
     "output_type": "execute_result"
    }
   ],
   "source": [
    "# Annual values\n",
    "pd_yr = new_pd.drop(\"month\", axis=1).groupby([\"year\"]).sum()\n",
    "pd_yr"
   ]
  },
  {
   "cell_type": "code",
   "execution_count": 184,
   "metadata": {},
   "outputs": [
    {
     "data": {
      "text/html": [
       "\n",
       "            <style>\n",
       "                .geemap-dark {\n",
       "                    --jp-widgets-color: white;\n",
       "                    --jp-widgets-label-color: white;\n",
       "                    --jp-ui-font-color1: white;\n",
       "                    --jp-layout-color2: #454545;\n",
       "                    background-color: #383838;\n",
       "                }\n",
       "\n",
       "                .geemap-dark .jupyter-button {\n",
       "                    --jp-layout-color3: #383838;\n",
       "                }\n",
       "\n",
       "                .geemap-colab {\n",
       "                    background-color: var(--colab-primary-surface-color, white);\n",
       "                }\n",
       "\n",
       "                .geemap-colab .jupyter-button {\n",
       "                    --jp-layout-color3: var(--colab-primary-surface-color, white);\n",
       "                }\n",
       "            </style>\n",
       "            "
      ],
      "text/plain": [
       "<IPython.core.display.HTML object>"
      ]
     },
     "metadata": {},
     "output_type": "display_data"
    },
    {
     "data": {
      "image/png": "[encoded data removed]",
      "text/plain": [
       "<Figure size 600x400 with 1 Axes>"
      ]
     },
     "metadata": {},
     "output_type": "display_data"
    }
   ],
   "source": [
    "# Plot of yearly water balance\n",
    "fig = plt.figure(figsize=(6, 4))\n",
    "ax = fig.add_subplot(111)\n",
    "\n",
    "cols = pd_yr.columns.tolist()\n",
    "ls_vars = {}\n",
    "mk_vars = {}\n",
    "ls = [\"-\", \"--\", \":\", \"dashed\", \"-\"]\n",
    "markers = [\"\", \"^\", \"v\", \"o\", \"<\"]\n",
    "\n",
    "for i in range(len(cols)):\n",
    "    ls_vars[cols[i]] = ls[i]\n",
    "    mk_vars[cols[i]] = markers[i]\n",
    "\n",
    "for col in cols:\n",
    "    ax.plot(pd_yr[col], linestyle=ls_vars[col], marker=mk_vars[col], label=col, fillstyle='none')\n",
    "ax.legend()\n",
    "ax.set_xlabel('Year')\n",
    "ax.set_ylabel(\"Depth (mm)\")\n",
    "ax.set_title(\"Water Balance - Historical: \" + pd_yr.index.values.min() + \"-\" + pd_yr.index.values.max() + \"\\n\"\n",
    "             + \"Lat: \" + str(round(lat, 8)) + \", Long: \" + str(round(lon, 8)))\n",
    "ax.tick_params(axis='x', labelrotation=45)"
   ]
  },
  {
   "cell_type": "code",
   "execution_count": 185,
   "metadata": {},
   "outputs": [
    {
     "data": {
      "text/html": [
       "\n",
       "            <style>\n",
       "                .geemap-dark {\n",
       "                    --jp-widgets-color: white;\n",
       "                    --jp-widgets-label-color: white;\n",
       "                    --jp-ui-font-color1: white;\n",
       "                    --jp-layout-color2: #454545;\n",
       "                    background-color: #383838;\n",
       "                }\n",
       "\n",
       "                .geemap-dark .jupyter-button {\n",
       "                    --jp-layout-color3: #383838;\n",
       "                }\n",
       "\n",
       "                .geemap-colab {\n",
       "                    background-color: var(--colab-primary-surface-color, white);\n",
       "                }\n",
       "\n",
       "                .geemap-colab .jupyter-button {\n",
       "                    --jp-layout-color3: var(--colab-primary-surface-color, white);\n",
       "                }\n",
       "            </style>\n",
       "            "
      ],
      "text/plain": [
       "<IPython.core.display.HTML object>"
      ]
     },
     "metadata": {},
     "output_type": "display_data"
    },
    {
     "data": {
      "text/html": [
       "<div>\n",
       "<style scoped>\n",
       "    .dataframe tbody tr th:only-of-type {\n",
       "        vertical-align: middle;\n",
       "    }\n",
       "\n",
       "    .dataframe tbody tr th {\n",
       "        vertical-align: top;\n",
       "    }\n",
       "\n",
       "    .dataframe thead th {\n",
       "        text-align: right;\n",
       "    }\n",
       "</style>\n",
       "<table border=\"1\" class=\"dataframe\">\n",
       "  <thead>\n",
       "    <tr style=\"text-align: right;\">\n",
       "      <th></th>\n",
       "      <th>pr</th>\n",
       "      <th>ro</th>\n",
       "      <th>aet</th>\n",
       "      <th>bflow</th>\n",
       "      <th>wyield</th>\n",
       "    </tr>\n",
       "    <tr>\n",
       "      <th>month</th>\n",
       "      <th></th>\n",
       "      <th></th>\n",
       "      <th></th>\n",
       "      <th></th>\n",
       "      <th></th>\n",
       "    </tr>\n",
       "  </thead>\n",
       "  <tbody>\n",
       "    <tr>\n",
       "      <th>Jan</th>\n",
       "      <td>360.000000</td>\n",
       "      <td>281.272727</td>\n",
       "      <td>78.437817</td>\n",
       "      <td>1.464793</td>\n",
       "      <td>282.737520</td>\n",
       "    </tr>\n",
       "    <tr>\n",
       "      <th>Feb</th>\n",
       "      <td>343.000000</td>\n",
       "      <td>272.636364</td>\n",
       "      <td>70.005173</td>\n",
       "      <td>0.800584</td>\n",
       "      <td>273.436947</td>\n",
       "    </tr>\n",
       "    <tr>\n",
       "      <th>Mar</th>\n",
       "      <td>396.454545</td>\n",
       "      <td>318.363636</td>\n",
       "      <td>77.910261</td>\n",
       "      <td>0.418474</td>\n",
       "      <td>318.782110</td>\n",
       "    </tr>\n",
       "    <tr>\n",
       "      <th>Apr</th>\n",
       "      <td>225.272727</td>\n",
       "      <td>148.636364</td>\n",
       "      <td>76.274979</td>\n",
       "      <td>0.222932</td>\n",
       "      <td>148.859295</td>\n",
       "    </tr>\n",
       "    <tr>\n",
       "      <th>May</th>\n",
       "      <td>117.545455</td>\n",
       "      <td>37.090909</td>\n",
       "      <td>73.214693</td>\n",
       "      <td>0.129648</td>\n",
       "      <td>37.220557</td>\n",
       "    </tr>\n",
       "    <tr>\n",
       "      <th>Jun</th>\n",
       "      <td>27.909091</td>\n",
       "      <td>1.545455</td>\n",
       "      <td>-28.900830</td>\n",
       "      <td>0.064824</td>\n",
       "      <td>1.610278</td>\n",
       "    </tr>\n",
       "    <tr>\n",
       "      <th>Jul</th>\n",
       "      <td>10.818182</td>\n",
       "      <td>0.636364</td>\n",
       "      <td>-48.054445</td>\n",
       "      <td>0.032412</td>\n",
       "      <td>0.668776</td>\n",
       "    </tr>\n",
       "    <tr>\n",
       "      <th>Aug</th>\n",
       "      <td>24.090909</td>\n",
       "      <td>1.363636</td>\n",
       "      <td>-10.558110</td>\n",
       "      <td>0.016206</td>\n",
       "      <td>1.379842</td>\n",
       "    </tr>\n",
       "    <tr>\n",
       "      <th>Sep</th>\n",
       "      <td>82.909091</td>\n",
       "      <td>4.363636</td>\n",
       "      <td>71.029431</td>\n",
       "      <td>0.008103</td>\n",
       "      <td>4.371739</td>\n",
       "    </tr>\n",
       "    <tr>\n",
       "      <th>Oct</th>\n",
       "      <td>196.000000</td>\n",
       "      <td>11.454545</td>\n",
       "      <td>99.814990</td>\n",
       "      <td>0.004051</td>\n",
       "      <td>11.458597</td>\n",
       "    </tr>\n",
       "    <tr>\n",
       "      <th>Nov</th>\n",
       "      <td>254.000000</td>\n",
       "      <td>110.090909</td>\n",
       "      <td>91.240248</td>\n",
       "      <td>1.631748</td>\n",
       "      <td>111.722657</td>\n",
       "    </tr>\n",
       "    <tr>\n",
       "      <th>Dec</th>\n",
       "      <td>353.000000</td>\n",
       "      <td>243.545455</td>\n",
       "      <td>78.802902</td>\n",
       "      <td>2.821838</td>\n",
       "      <td>246.367292</td>\n",
       "    </tr>\n",
       "  </tbody>\n",
       "</table>\n",
       "</div>"
      ],
      "text/plain": [
       "0              pr          ro        aet     bflow      wyield\n",
       "month                                                         \n",
       "Jan    360.000000  281.272727  78.437817  1.464793  282.737520\n",
       "Feb    343.000000  272.636364  70.005173  0.800584  273.436947\n",
       "Mar    396.454545  318.363636  77.910261  0.418474  318.782110\n",
       "Apr    225.272727  148.636364  76.274979  0.222932  148.859295\n",
       "May    117.545455   37.090909  73.214693  0.129648   37.220557\n",
       "Jun     27.909091    1.545455 -28.900830  0.064824    1.610278\n",
       "Jul     10.818182    0.636364 -48.054445  0.032412    0.668776\n",
       "Aug     24.090909    1.363636 -10.558110  0.016206    1.379842\n",
       "Sep     82.909091    4.363636  71.029431  0.008103    4.371739\n",
       "Oct    196.000000   11.454545  99.814990  0.004051   11.458597\n",
       "Nov    254.000000  110.090909  91.240248  1.631748  111.722657\n",
       "Dec    353.000000  243.545455  78.802902  2.821838  246.367292"
      ]
     },
     "execution_count": 185,
     "metadata": {},
     "output_type": "execute_result"
    }
   ],
   "source": [
    "# Monthly values\n",
    "pd_month = new_pd.drop(\"year\", axis=1).groupby([\"month\"], sort=False).mean()\n",
    "pd_month"
   ]
  },
  {
   "cell_type": "code",
   "execution_count": 186,
   "metadata": {},
   "outputs": [
    {
     "data": {
      "text/html": [
       "\n",
       "            <style>\n",
       "                .geemap-dark {\n",
       "                    --jp-widgets-color: white;\n",
       "                    --jp-widgets-label-color: white;\n",
       "                    --jp-ui-font-color1: white;\n",
       "                    --jp-layout-color2: #454545;\n",
       "                    background-color: #383838;\n",
       "                }\n",
       "\n",
       "                .geemap-dark .jupyter-button {\n",
       "                    --jp-layout-color3: #383838;\n",
       "                }\n",
       "\n",
       "                .geemap-colab {\n",
       "                    background-color: var(--colab-primary-surface-color, white);\n",
       "                }\n",
       "\n",
       "                .geemap-colab .jupyter-button {\n",
       "                    --jp-layout-color3: var(--colab-primary-surface-color, white);\n",
       "                }\n",
       "            </style>\n",
       "            "
      ],
      "text/plain": [
       "<IPython.core.display.HTML object>"
      ]
     },
     "metadata": {},
     "output_type": "display_data"
    },
    {
     "data": {
      "image/png": "[encoded data removed]",
      "text/plain": [
       "<Figure size 600x400 with 1 Axes>"
      ]
     },
     "metadata": {},
     "output_type": "display_data"
    }
   ],
   "source": [
    "# Plot of monthly water balance\n",
    "fig = plt.figure(figsize=(6, 4))\n",
    "ax = fig.add_subplot(111)\n",
    "\n",
    "cols = pd_month.columns.tolist()\n",
    "ls_vars = {}\n",
    "mk_vars = {}\n",
    "ls = [\"-\", \"--\", \":\", \"dashed\", \"-\"]\n",
    "markers = [\"\", \"^\", \"v\", \"o\", \"<\"]\n",
    "\n",
    "for i in range(len(cols)):\n",
    "    ls_vars[cols[i]] = ls[i]\n",
    "    mk_vars[cols[i]] = markers[i]\n",
    "\n",
    "for col in cols:\n",
    "    ax.plot(pd_month[col], linestyle=ls_vars[col], marker=mk_vars[col], label=col, fillstyle='none')\n",
    "ax.legend()\n",
    "ax.set_xlabel('Month')\n",
    "ax.set_ylabel(\"Depth (mm)\")\n",
    "ax.set_title(\"Water Balance - Historical: \" + pd_yr.index.values.min() + \"-\" + pd_yr.index.values.max() + \"\\n\"\n",
    "             + \"Lat: \" + str(round(lat, 8)) + \", Long: \" + str(round(lon, 8)))\n",
    "ax.tick_params(axis='x', labelrotation=45)"
   ]
  },
  {
   "cell_type": "code",
   "execution_count": 187,
   "metadata": {},
   "outputs": [
    {
     "data": {
      "text/html": [
       "\n",
       "            <style>\n",
       "                .geemap-dark {\n",
       "                    --jp-widgets-color: white;\n",
       "                    --jp-widgets-label-color: white;\n",
       "                    --jp-ui-font-color1: white;\n",
       "                    --jp-layout-color2: #454545;\n",
       "                    background-color: #383838;\n",
       "                }\n",
       "\n",
       "                .geemap-dark .jupyter-button {\n",
       "                    --jp-layout-color3: #383838;\n",
       "                }\n",
       "\n",
       "                .geemap-colab {\n",
       "                    background-color: var(--colab-primary-surface-color, white);\n",
       "                }\n",
       "\n",
       "                .geemap-colab .jupyter-button {\n",
       "                    --jp-layout-color3: var(--colab-primary-surface-color, white);\n",
       "                }\n",
       "            </style>\n",
       "            "
      ],
      "text/plain": [
       "<IPython.core.display.HTML object>"
      ]
     },
     "metadata": {},
     "output_type": "display_data"
    }
   ],
   "source": [
    "# Let's assign year and month to each image\n",
    "wy_coll = wy_coll.map(lambda image: image.set(\"year\", ee.Image(image).date().get(\"year\")))\n",
    "wy_coll = wy_coll.map(lambda image: image.set(\"month\", ee.Image(image).date().get(\"month\")))"
   ]
  },
  {
   "cell_type": "code",
   "execution_count": 188,
   "metadata": {},
   "outputs": [
    {
     "data": {
      "text/html": [
       "\n",
       "            <style>\n",
       "                .geemap-dark {\n",
       "                    --jp-widgets-color: white;\n",
       "                    --jp-widgets-label-color: white;\n",
       "                    --jp-ui-font-color1: white;\n",
       "                    --jp-layout-color2: #454545;\n",
       "                    background-color: #383838;\n",
       "                }\n",
       "\n",
       "                .geemap-dark .jupyter-button {\n",
       "                    --jp-layout-color3: #383838;\n",
       "                }\n",
       "\n",
       "                .geemap-colab {\n",
       "                    background-color: var(--colab-primary-surface-color, white);\n",
       "                }\n",
       "\n",
       "                .geemap-colab .jupyter-button {\n",
       "                    --jp-layout-color3: var(--colab-primary-surface-color, white);\n",
       "                }\n",
       "            </style>\n",
       "            "
      ],
      "text/plain": [
       "<IPython.core.display.HTML object>"
      ]
     },
     "metadata": {},
     "output_type": "display_data"
    }
   ],
   "source": [
    "# Define a list of unique observation years from the image collection\n",
    "years = ee.List(wy_coll.aggregate_array('year')).distinct().sort()"
   ]
  },
  {
   "cell_type": "code",
   "execution_count": 189,
   "metadata": {},
   "outputs": [
    {
     "data": {
      "text/html": [
       "\n",
       "            <style>\n",
       "                .geemap-dark {\n",
       "                    --jp-widgets-color: white;\n",
       "                    --jp-widgets-label-color: white;\n",
       "                    --jp-ui-font-color1: white;\n",
       "                    --jp-layout-color2: #454545;\n",
       "                    background-color: #383838;\n",
       "                }\n",
       "\n",
       "                .geemap-dark .jupyter-button {\n",
       "                    --jp-layout-color3: #383838;\n",
       "                }\n",
       "\n",
       "                .geemap-colab {\n",
       "                    background-color: var(--colab-primary-surface-color, white);\n",
       "                }\n",
       "\n",
       "                .geemap-colab .jupyter-button {\n",
       "                    --jp-layout-color3: var(--colab-primary-surface-color, white);\n",
       "                }\n",
       "            </style>\n",
       "            "
      ],
      "text/plain": [
       "<IPython.core.display.HTML object>"
      ]
     },
     "metadata": {},
     "output_type": "display_data"
    }
   ],
   "source": [
    "# Function to map over the list of years to build a list of image composites\n",
    "def create_annual_composite(year, wb_vars):\n",
    "    \n",
    "    # Create initial band\n",
    "    new_img = ee.Image(0).select([0], [\"delete\"]).float()\n",
    "    bands = ee.List([wb_vars]).map(lambda wb_var: wy_coll.select(wb_var).filterMetadata('year', 'equals', year).reduce(ee.Reducer.sum()).set('year', year))\n",
    "\n",
    "    # Add all Bands to our ee.Image\n",
    "    new_image = new_img.addBands(ee.Image(bands))\n",
    "\n",
    "    # Create a mask around area where pixels can effectively be calculated\n",
    "    # Where we have have WHC\n",
    "    mask = whc.gte(0)\n",
    "\n",
    "    # Apply the mask\n",
    "    new_image = new_image.updateMask(mask)\n",
    "\n",
    "    # Add the new ee.Image to the ee.List\n",
    "    return ee.List(annual_lst).add(new_image.select(new_image.bandNames().slice(1)))\n",
    "\n",
    "annual_lst = ee.List([])\n",
    "# Map over the list of years to generate the list of composites\n",
    "annual_ic = ee.ImageCollection(ee.List([years]).map(create_annual_composite, wb_vars))"
   ]
  },
  {
   "cell_type": "code",
   "execution_count": 190,
   "metadata": {},
   "outputs": [
    {
     "data": {
      "text/html": [
       "\n",
       "            <style>\n",
       "                .geemap-dark {\n",
       "                    --jp-widgets-color: white;\n",
       "                    --jp-widgets-label-color: white;\n",
       "                    --jp-ui-font-color1: white;\n",
       "                    --jp-layout-color2: #454545;\n",
       "                    background-color: #383838;\n",
       "                }\n",
       "\n",
       "                .geemap-dark .jupyter-button {\n",
       "                    --jp-layout-color3: #383838;\n",
       "                }\n",
       "\n",
       "                .geemap-colab {\n",
       "                    background-color: var(--colab-primary-surface-color, white);\n",
       "                }\n",
       "\n",
       "                .geemap-colab .jupyter-button {\n",
       "                    --jp-layout-color3: var(--colab-primary-surface-color, white);\n",
       "                }\n",
       "            </style>\n",
       "            "
      ],
      "text/plain": [
       "<IPython.core.display.HTML object>"
      ]
     },
     "metadata": {},
     "output_type": "display_data"
    }
   ],
   "source": [
    "# Function to create an annual composite\n",
    "def create_annual_composite(year):\n",
    "    \n",
    "    # Map over the list of wb_vars to create the composite image for the year\n",
    "    def create_band(wb_var):\n",
    "        return wy_coll \\\n",
    "            .select(wb_var) \\\n",
    "            .filterMetadata('year', 'equals', year) \\\n",
    "            .reduce(ee.Reducer.sum()) \\\n",
    "            .set('year', year)\n",
    "    \n",
    "    # Collect the bands\n",
    "    bands = ee.List(wb_vars).map(create_band)\n",
    "    \n",
    "    # Combine all bands into one image\n",
    "    new_image = ee.ImageCollection(bands).toBands().rename(wb_vars)\n",
    "    \n",
    "    # Mask the image using WHC\n",
    "    mask = whc.gte(0)\n",
    "    new_image = new_image.updateMask(mask)\n",
    "    \n",
    "    return new_image\n",
    "\n",
    "# Map over the list of years to generate the list of composites\n",
    "annual_ic = ee.ImageCollection(ee.List(years).map(lambda year: create_annual_composite(year)))"
   ]
  },
  {
   "cell_type": "code",
   "execution_count": 191,
   "metadata": {},
   "outputs": [
    {
     "data": {
      "text/html": [
       "\n",
       "            <style>\n",
       "                .geemap-dark {\n",
       "                    --jp-widgets-color: white;\n",
       "                    --jp-widgets-label-color: white;\n",
       "                    --jp-ui-font-color1: white;\n",
       "                    --jp-layout-color2: #454545;\n",
       "                    background-color: #383838;\n",
       "                }\n",
       "\n",
       "                .geemap-dark .jupyter-button {\n",
       "                    --jp-layout-color3: #383838;\n",
       "                }\n",
       "\n",
       "                .geemap-colab {\n",
       "                    background-color: var(--colab-primary-surface-color, white);\n",
       "                }\n",
       "\n",
       "                .geemap-colab .jupyter-button {\n",
       "                    --jp-layout-color3: var(--colab-primary-surface-color, white);\n",
       "                }\n",
       "            </style>\n",
       "            "
      ],
      "text/plain": [
       "<IPython.core.display.HTML object>"
      ]
     },
     "metadata": {},
     "output_type": "display_data"
    },
    {
     "ename": "EEException",
     "evalue": "Image.select, argument 'bandSelectors': Invalid type.\nExpected type: List<Object>.\nActual type: String.\nActual value: pr",
     "output_type": "error",
     "traceback": [
      "\u001b[1;31m---------------------------------------------------------------------------\u001b[0m",
      "\u001b[1;31mHttpError\u001b[0m                                 Traceback (most recent call last)",
      "\u001b[1;32mc:\\Users\\jvalenciag\\AppData\\Local\\ESRI\\conda\\envs\\arcgispro-py3-clone\\Lib\\site-packages\\ee\\data.py\u001b[0m in \u001b[0;36m_execute_cloud_call\u001b[1;34m(call, num_retries)\u001b[0m\n\u001b[0;32m    404\u001b[0m   \u001b[1;32mtry\u001b[0m\u001b[1;33m:\u001b[0m\u001b[1;33m\u001b[0m\u001b[1;33m\u001b[0m\u001b[0m\n\u001b[1;32m--> 405\u001b[1;33m     \u001b[1;32mreturn\u001b[0m \u001b[0mcall\u001b[0m\u001b[1;33m.\u001b[0m\u001b[0mexecute\u001b[0m\u001b[1;33m(\u001b[0m\u001b[0mnum_retries\u001b[0m\u001b[1;33m=\u001b[0m\u001b[0mnum_retries\u001b[0m\u001b[1;33m)\u001b[0m\u001b[1;33m\u001b[0m\u001b[1;33m\u001b[0m\u001b[0m\n\u001b[0m\u001b[0;32m    406\u001b[0m   \u001b[1;32mexcept\u001b[0m \u001b[0mgoogleapiclient\u001b[0m\u001b[1;33m.\u001b[0m\u001b[0merrors\u001b[0m\u001b[1;33m.\u001b[0m\u001b[0mHttpError\u001b[0m \u001b[1;32mas\u001b[0m \u001b[0me\u001b[0m\u001b[1;33m:\u001b[0m\u001b[1;33m\u001b[0m\u001b[1;33m\u001b[0m\u001b[0m\n",
      "\u001b[1;32mc:\\Users\\jvalenciag\\AppData\\Local\\ESRI\\conda\\envs\\arcgispro-py3-clone\\Lib\\site-packages\\googleapiclient\\_helpers.py\u001b[0m in \u001b[0;36mpositional_wrapper\u001b[1;34m(*args, **kwargs)\u001b[0m\n\u001b[0;32m    129\u001b[0m                     \u001b[0mlogger\u001b[0m\u001b[1;33m.\u001b[0m\u001b[0mwarning\u001b[0m\u001b[1;33m(\u001b[0m\u001b[0mmessage\u001b[0m\u001b[1;33m)\u001b[0m\u001b[1;33m\u001b[0m\u001b[1;33m\u001b[0m\u001b[0m\n\u001b[1;32m--> 130\u001b[1;33m             \u001b[1;32mreturn\u001b[0m \u001b[0mwrapped\u001b[0m\u001b[1;33m(\u001b[0m\u001b[1;33m*\u001b[0m\u001b[0margs\u001b[0m\u001b[1;33m,\u001b[0m \u001b[1;33m**\u001b[0m\u001b[0mkwargs\u001b[0m\u001b[1;33m)\u001b[0m\u001b[1;33m\u001b[0m\u001b[1;33m\u001b[0m\u001b[0m\n\u001b[0m\u001b[0;32m    131\u001b[0m \u001b[1;33m\u001b[0m\u001b[0m\n",
      "\u001b[1;32mc:\\Users\\jvalenciag\\AppData\\Local\\ESRI\\conda\\envs\\arcgispro-py3-clone\\Lib\\site-packages\\googleapiclient\\http.py\u001b[0m in \u001b[0;36mexecute\u001b[1;34m(self, http, num_retries)\u001b[0m\n\u001b[0;32m    937\u001b[0m         \u001b[1;32mif\u001b[0m \u001b[0mresp\u001b[0m\u001b[1;33m.\u001b[0m\u001b[0mstatus\u001b[0m \u001b[1;33m>=\u001b[0m \u001b[1;36m300\u001b[0m\u001b[1;33m:\u001b[0m\u001b[1;33m\u001b[0m\u001b[1;33m\u001b[0m\u001b[0m\n\u001b[1;32m--> 938\u001b[1;33m             \u001b[1;32mraise\u001b[0m \u001b[0mHttpError\u001b[0m\u001b[1;33m(\u001b[0m\u001b[0mresp\u001b[0m\u001b[1;33m,\u001b[0m \u001b[0mcontent\u001b[0m\u001b[1;33m,\u001b[0m \u001b[0muri\u001b[0m\u001b[1;33m=\u001b[0m\u001b[0mself\u001b[0m\u001b[1;33m.\u001b[0m\u001b[0muri\u001b[0m\u001b[1;33m)\u001b[0m\u001b[1;33m\u001b[0m\u001b[1;33m\u001b[0m\u001b[0m\n\u001b[0m\u001b[0;32m    939\u001b[0m         \u001b[1;32mreturn\u001b[0m \u001b[0mself\u001b[0m\u001b[1;33m.\u001b[0m\u001b[0mpostproc\u001b[0m\u001b[1;33m(\u001b[0m\u001b[0mresp\u001b[0m\u001b[1;33m,\u001b[0m \u001b[0mcontent\u001b[0m\u001b[1;33m)\u001b[0m\u001b[1;33m\u001b[0m\u001b[1;33m\u001b[0m\u001b[0m\n",
      "\u001b[1;31mHttpError\u001b[0m: <HttpError 400 when requesting https://earthengine.googleapis.com/v1/projects/ee-jvg/filmstripThumbnails?fields=name&alt=json returned \"Image.select, argument 'bandSelectors': Invalid type.\nExpected type: List<Object>.\nActual type: String.\nActual value: pr\". Details: \"Image.select, argument 'bandSelectors': Invalid type.\nExpected type: List<Object>.\nActual type: String.\nActual value: pr\">",
      "\nDuring handling of the above exception, another exception occurred:\n",
      "\u001b[1;31mEEException\u001b[0m                               Traceback (most recent call last)",
      "\u001b[1;32m~\\AppData\\Local\\Temp\\ipykernel_20112\\3271389501.py\u001b[0m in \u001b[0;36m<cell line: 0>\u001b[1;34m()\u001b[0m\n\u001b[0;32m     10\u001b[0m \u001b[1;33m\u001b[0m\u001b[0m\n\u001b[0;32m     11\u001b[0m \u001b[1;31m# Print a URL that will produce the filmstrip when accessed.\u001b[0m\u001b[1;33m\u001b[0m\u001b[1;33m\u001b[0m\u001b[0m\n\u001b[1;32m---> 12\u001b[1;33m \u001b[0mprint\u001b[0m\u001b[1;33m(\u001b[0m\u001b[0mannual_ic\u001b[0m\u001b[1;33m.\u001b[0m\u001b[0mgetFilmstripThumbURL\u001b[0m\u001b[1;33m(\u001b[0m\u001b[0mfilmArgs\u001b[0m\u001b[1;33m)\u001b[0m\u001b[1;33m)\u001b[0m\u001b[1;33m\u001b[0m\u001b[1;33m\u001b[0m\u001b[0m\n\u001b[0m",
      "\u001b[1;32mc:\\Users\\jvalenciag\\AppData\\Local\\ESRI\\conda\\envs\\arcgispro-py3-clone\\Lib\\site-packages\\ee\\imagecollection.py\u001b[0m in \u001b[0;36mgetFilmstripThumbURL\u001b[1;34m(self, params)\u001b[0m\n\u001b[0;32m    274\u001b[0m       \u001b[0mEEException\u001b[0m\u001b[1;33m:\u001b[0m \u001b[0mIf\u001b[0m \u001b[0mthe\u001b[0m \u001b[0mregion\u001b[0m \u001b[0mparameter\u001b[0m \u001b[1;32mis\u001b[0m \u001b[1;32mnot\u001b[0m \u001b[0man\u001b[0m \u001b[0marray\u001b[0m \u001b[1;32mor\u001b[0m \u001b[0mGeoJSON\u001b[0m \u001b[0mobject\u001b[0m\u001b[1;33m.\u001b[0m\u001b[1;33m\u001b[0m\u001b[1;33m\u001b[0m\u001b[0m\n\u001b[0;32m    275\u001b[0m     \"\"\"\n\u001b[1;32m--> 276\u001b[1;33m     \u001b[1;32mreturn\u001b[0m \u001b[0mself\u001b[0m\u001b[1;33m.\u001b[0m\u001b[0m_getThumbURL\u001b[0m\u001b[1;33m(\u001b[0m\u001b[1;33m[\u001b[0m\u001b[1;34m'png'\u001b[0m\u001b[1;33m,\u001b[0m \u001b[1;34m'jpg'\u001b[0m\u001b[1;33m]\u001b[0m\u001b[1;33m,\u001b[0m \u001b[0mparams\u001b[0m\u001b[1;33m,\u001b[0m \u001b[0mthumbType\u001b[0m\u001b[1;33m=\u001b[0m\u001b[1;34m'filmstrip'\u001b[0m\u001b[1;33m)\u001b[0m\u001b[1;33m\u001b[0m\u001b[1;33m\u001b[0m\u001b[0m\n\u001b[0m\u001b[0;32m    277\u001b[0m \u001b[1;33m\u001b[0m\u001b[0m\n\u001b[0;32m    278\u001b[0m   def _getThumbURL(\n",
      "\u001b[1;32mc:\\Users\\jvalenciag\\AppData\\Local\\ESRI\\conda\\envs\\arcgispro-py3-clone\\Lib\\site-packages\\ee\\imagecollection.py\u001b[0m in \u001b[0;36m_getThumbURL\u001b[1;34m(self, valid_formats, params, thumbType)\u001b[0m\n\u001b[0;32m    336\u001b[0m           '\\'filmstrip\\' is supported.')\n\u001b[0;32m    337\u001b[0m \u001b[1;33m\u001b[0m\u001b[0m\n\u001b[1;32m--> 338\u001b[1;33m     \u001b[1;32mreturn\u001b[0m \u001b[0mdata\u001b[0m\u001b[1;33m.\u001b[0m\u001b[0mmakeThumbUrl\u001b[0m\u001b[1;33m(\u001b[0m\u001b[0mdata\u001b[0m\u001b[1;33m.\u001b[0m\u001b[0mgetThumbId\u001b[0m\u001b[1;33m(\u001b[0m\u001b[0mrequest\u001b[0m\u001b[1;33m,\u001b[0m \u001b[0mthumbType\u001b[0m\u001b[1;33m=\u001b[0m\u001b[0mthumbType\u001b[0m\u001b[1;33m)\u001b[0m\u001b[1;33m)\u001b[0m\u001b[1;33m\u001b[0m\u001b[1;33m\u001b[0m\u001b[0m\n\u001b[0m\u001b[0;32m    339\u001b[0m \u001b[1;33m\u001b[0m\u001b[0m\n\u001b[0;32m    340\u001b[0m   def _apply_preparation_function(\n",
      "\u001b[1;32mc:\\Users\\jvalenciag\\AppData\\Local\\ESRI\\conda\\envs\\arcgispro-py3-clone\\Lib\\site-packages\\ee\\data.py\u001b[0m in \u001b[0;36mgetThumbId\u001b[1;34m(params, thumbType)\u001b[0m\n\u001b[0;32m   1233\u001b[0m     \u001b[1;31m# Currently only 'VERTICAL' thumbnails are supported.\u001b[0m\u001b[1;33m\u001b[0m\u001b[1;33m\u001b[0m\u001b[0m\n\u001b[0;32m   1234\u001b[0m     \u001b[0mrequest\u001b[0m\u001b[1;33m[\u001b[0m\u001b[1;34m'orientation'\u001b[0m\u001b[1;33m]\u001b[0m \u001b[1;33m=\u001b[0m \u001b[1;34m'VERTICAL'\u001b[0m\u001b[1;33m\u001b[0m\u001b[1;33m\u001b[0m\u001b[0m\n\u001b[1;32m-> 1235\u001b[1;33m     result = _execute_cloud_call(\n\u001b[0m\u001b[0;32m   1236\u001b[0m         \u001b[0m_get_cloud_projects\u001b[0m\u001b[1;33m(\u001b[0m\u001b[1;33m)\u001b[0m\u001b[1;33m\u001b[0m\u001b[1;33m\u001b[0m\u001b[0m\n\u001b[0;32m   1237\u001b[0m         \u001b[1;33m.\u001b[0m\u001b[0mfilmstripThumbnails\u001b[0m\u001b[1;33m(\u001b[0m\u001b[1;33m)\u001b[0m\u001b[1;33m\u001b[0m\u001b[1;33m\u001b[0m\u001b[0m\n",
      "\u001b[1;32mc:\\Users\\jvalenciag\\AppData\\Local\\ESRI\\conda\\envs\\arcgispro-py3-clone\\Lib\\site-packages\\ee\\data.py\u001b[0m in \u001b[0;36m_execute_cloud_call\u001b[1;34m(call, num_retries)\u001b[0m\n\u001b[0;32m    405\u001b[0m     \u001b[1;32mreturn\u001b[0m \u001b[0mcall\u001b[0m\u001b[1;33m.\u001b[0m\u001b[0mexecute\u001b[0m\u001b[1;33m(\u001b[0m\u001b[0mnum_retries\u001b[0m\u001b[1;33m=\u001b[0m\u001b[0mnum_retries\u001b[0m\u001b[1;33m)\u001b[0m\u001b[1;33m\u001b[0m\u001b[1;33m\u001b[0m\u001b[0m\n\u001b[0;32m    406\u001b[0m   \u001b[1;32mexcept\u001b[0m \u001b[0mgoogleapiclient\u001b[0m\u001b[1;33m.\u001b[0m\u001b[0merrors\u001b[0m\u001b[1;33m.\u001b[0m\u001b[0mHttpError\u001b[0m \u001b[1;32mas\u001b[0m \u001b[0me\u001b[0m\u001b[1;33m:\u001b[0m\u001b[1;33m\u001b[0m\u001b[1;33m\u001b[0m\u001b[0m\n\u001b[1;32m--> 407\u001b[1;33m     \u001b[1;32mraise\u001b[0m \u001b[0m_translate_cloud_exception\u001b[0m\u001b[1;33m(\u001b[0m\u001b[0me\u001b[0m\u001b[1;33m)\u001b[0m  \u001b[1;31m# pylint: disable=raise-missing-from\u001b[0m\u001b[1;33m\u001b[0m\u001b[1;33m\u001b[0m\u001b[0m\n\u001b[0m\u001b[0;32m    408\u001b[0m \u001b[1;33m\u001b[0m\u001b[0m\n\u001b[0;32m    409\u001b[0m \u001b[1;33m\u001b[0m\u001b[0m\n",
      "\u001b[1;31mEEException\u001b[0m: Image.select, argument 'bandSelectors': Invalid type.\nExpected type: List<Object>.\nActual type: String.\nActual value: pr"
     ]
    }
   ],
   "source": [
    "# Define arguments for the getFilmstripThumbURL function parameters.\n",
    "filmArgs = {\n",
    "  \"dimensions\": 128,\n",
    "  \"region\": zoi,\n",
    "  \"crs\": 'EPSG:3857',\n",
    "  \"min\": -40.0,\n",
    "  \"max\": 35.0,\n",
    "  \"palette\": ['blue', 'purple', 'cyan', 'green', 'yellow', 'red']\n",
    "}\n",
    "\n",
    "# Print a URL that will produce the filmstrip when accessed.\n",
    "print(annual_ic.getFilmstripThumbURL(filmArgs))"
   ]
  },
  {
   "cell_type": "code",
   "execution_count": null,
   "metadata": {},
   "outputs": [],
   "source": [
    "#############################\n",
    "# HELPFUL CODES\n",
    "#############################\n",
    "\n",
    "# To know how many bands an ImageCollection has\n",
    "#terraclimate.size().getInfo()\n",
    "\n",
    "# To get the attributes (columns) as pandas dataframe\n",
    "#geemap.ee_to_df(hydrobasins)\n",
    "\n",
    "# Display imaga metada\n",
    "#display(ee.ImageCollection.first())"
   ]
  },
  {
   "cell_type": "code",
   "execution_count": null,
   "metadata": {},
   "outputs": [],
   "source": [
    "# Access an image asset from my account to test the code\n",
    "#guate_bdry = ee.FeatureCollection('users/jvg/guatemala_buffer')\n",
    "#guate_geom = guate_bdry.geometry()\n",
    "#Map.centerObject(guate_geom)\n",
    "#Map.addLayer(guate_bdry, {\"color\": 'red'}, 'Guatemala Boundary')"
   ]
  }
 ],
 "metadata": {
  "kernelspec": {
   "display_name": "Python 3",
   "language": "python",
   "name": "python3"
  },
  "language_info": {
   "codemirror_mode": {
    "name": "ipython",
    "version": 3
   },
   "file_extension": ".py",
   "mimetype": "text/x-python",
   "name": "python",
   "nbconvert_exporter": "python",
   "pygments_lexer": "ipython3",
   "version": "3.11.8"
  }
 },
 "nbformat": 4,
 "nbformat_minor": 2
}
