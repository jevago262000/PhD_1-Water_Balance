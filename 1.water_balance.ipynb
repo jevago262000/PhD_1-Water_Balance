{
 "cells": [
  {
   "cell_type": "code",
   "execution_count": 1,
   "metadata": {},
   "outputs": [],
   "source": [
    "# If not installed, run this cell. It is needed for access to GEE\n",
    "#!pip install ee\n",
    "#!pip show ee"
   ]
  },
  {
   "cell_type": "code",
   "execution_count": 2,
   "metadata": {},
   "outputs": [],
   "source": [
    "# If not installed, run this cell. It helps visualization of data\n",
    "#!pip install geemap\n",
    "#!pip show geemap"
   ]
  },
  {
   "cell_type": "code",
   "execution_count": 37,
   "metadata": {},
   "outputs": [
    {
     "data": {
      "text/html": [
       "\n",
       "            <style>\n",
       "                .geemap-dark {\n",
       "                    --jp-widgets-color: white;\n",
       "                    --jp-widgets-label-color: white;\n",
       "                    --jp-ui-font-color1: white;\n",
       "                    --jp-layout-color2: #454545;\n",
       "                    background-color: #383838;\n",
       "                }\n",
       "\n",
       "                .geemap-dark .jupyter-button {\n",
       "                    --jp-layout-color3: #383838;\n",
       "                }\n",
       "\n",
       "                .geemap-colab {\n",
       "                    background-color: var(--colab-primary-surface-color, white);\n",
       "                }\n",
       "\n",
       "                .geemap-colab .jupyter-button {\n",
       "                    --jp-layout-color3: var(--colab-primary-surface-color, white);\n",
       "                }\n",
       "            </style>\n",
       "            "
      ],
      "text/plain": [
       "<IPython.core.display.HTML object>"
      ]
     },
     "metadata": {},
     "output_type": "display_data"
    }
   ],
   "source": [
    "# Import libraries\n",
    "import ee, datetime, pandas as pd, geemap, ipyleaflet, ipywidgets as widgets"
   ]
  },
  {
   "cell_type": "code",
   "execution_count": 4,
   "metadata": {},
   "outputs": [
    {
     "data": {
      "text/html": [
       "\n",
       "            <style>\n",
       "                .geemap-dark {\n",
       "                    --jp-widgets-color: white;\n",
       "                    --jp-widgets-label-color: white;\n",
       "                    --jp-ui-font-color1: white;\n",
       "                    --jp-layout-color2: #454545;\n",
       "                    background-color: #383838;\n",
       "                }\n",
       "\n",
       "                .geemap-dark .jupyter-button {\n",
       "                    --jp-layout-color3: #383838;\n",
       "                }\n",
       "\n",
       "                .geemap-colab {\n",
       "                    background-color: var(--colab-primary-surface-color, white);\n",
       "                }\n",
       "\n",
       "                .geemap-colab .jupyter-button {\n",
       "                    --jp-layout-color3: var(--colab-primary-surface-color, white);\n",
       "                }\n",
       "            </style>\n",
       "            "
      ],
      "text/plain": [
       "<IPython.core.display.HTML object>"
      ]
     },
     "metadata": {},
     "output_type": "display_data"
    }
   ],
   "source": [
    "# Trigger the authentication flow.\n",
    "ee.Authenticate()\n",
    "\n",
    "# Initialize the library.\n",
    "ee.Initialize(project='ee-jvg')"
   ]
  },
  {
   "cell_type": "code",
   "execution_count": 66,
   "metadata": {},
   "outputs": [
    {
     "data": {
      "text/html": [
       "\n",
       "            <style>\n",
       "                .geemap-dark {\n",
       "                    --jp-widgets-color: white;\n",
       "                    --jp-widgets-label-color: white;\n",
       "                    --jp-ui-font-color1: white;\n",
       "                    --jp-layout-color2: #454545;\n",
       "                    background-color: #383838;\n",
       "                }\n",
       "\n",
       "                .geemap-dark .jupyter-button {\n",
       "                    --jp-layout-color3: #383838;\n",
       "                }\n",
       "\n",
       "                .geemap-colab {\n",
       "                    background-color: var(--colab-primary-surface-color, white);\n",
       "                }\n",
       "\n",
       "                .geemap-colab .jupyter-button {\n",
       "                    --jp-layout-color3: var(--colab-primary-surface-color, white);\n",
       "                }\n",
       "            </style>\n",
       "            "
      ],
      "text/plain": [
       "<IPython.core.display.HTML object>"
      ]
     },
     "metadata": {},
     "output_type": "display_data"
    },
    {
     "data": {
      "application/vnd.jupyter.widget-view+json": {
       "model_id": "6d737c1164ee41af8977eeb652b53aeb",
       "version_major": 2,
       "version_minor": 0
      },
      "text/plain": [
       "Map(center=[0, 0], controls=(WidgetControl(options=['position', 'transparent_bg'], widget=SearchDataGUI(childr…"
      ]
     },
     "metadata": {},
     "output_type": "display_data"
    }
   ],
   "source": [
    "Map = geemap.Map()\n",
    "Map"
   ]
  },
  {
   "cell_type": "code",
   "execution_count": 67,
   "metadata": {},
   "outputs": [
    {
     "data": {
      "text/html": [
       "\n",
       "            <style>\n",
       "                .geemap-dark {\n",
       "                    --jp-widgets-color: white;\n",
       "                    --jp-widgets-label-color: white;\n",
       "                    --jp-ui-font-color1: white;\n",
       "                    --jp-layout-color2: #454545;\n",
       "                    background-color: #383838;\n",
       "                }\n",
       "\n",
       "                .geemap-dark .jupyter-button {\n",
       "                    --jp-layout-color3: #383838;\n",
       "                }\n",
       "\n",
       "                .geemap-colab {\n",
       "                    background-color: var(--colab-primary-surface-color, white);\n",
       "                }\n",
       "\n",
       "                .geemap-colab .jupyter-button {\n",
       "                    --jp-layout-color3: var(--colab-primary-surface-color, white);\n",
       "                }\n",
       "            </style>\n",
       "            "
      ],
      "text/plain": [
       "<IPython.core.display.HTML object>"
      ]
     },
     "metadata": {},
     "output_type": "display_data"
    },
    {
     "data": {
      "application/vnd.jupyter.widget-view+json": {
       "model_id": "05f912041a38470f8f4fd74e42336343",
       "version_major": 2,
       "version_minor": 0
      },
      "text/plain": [
       "Box(children=(FloatSlider(value=1.0, description='opacity', max=1.0),))"
      ]
     },
     "metadata": {},
     "output_type": "display_data"
    }
   ],
   "source": [
    "# HydroSHEDS v1 will be used. Specifically, its HydroBASINS\n",
    "hydrobasins = ee.FeatureCollection('WWF/HydroSHEDS/v1/Basins/hybas_3')\n",
    "hybas_id = \"HYBAS_ID\"\n",
    "Map.addLayer(hydrobasins, {}, 'HydroBasins')\n",
    "vector_layer = Map.find_layer(\"HydroBasins\")\n",
    "vector_layer.interact(opacity=(0, 1, 0.1))"
   ]
  },
  {
   "cell_type": "code",
   "execution_count": 68,
   "metadata": {},
   "outputs": [
    {
     "data": {
      "text/html": [
       "\n",
       "            <style>\n",
       "                .geemap-dark {\n",
       "                    --jp-widgets-color: white;\n",
       "                    --jp-widgets-label-color: white;\n",
       "                    --jp-ui-font-color1: white;\n",
       "                    --jp-layout-color2: #454545;\n",
       "                    background-color: #383838;\n",
       "                }\n",
       "\n",
       "                .geemap-dark .jupyter-button {\n",
       "                    --jp-layout-color3: #383838;\n",
       "                }\n",
       "\n",
       "                .geemap-colab {\n",
       "                    background-color: var(--colab-primary-surface-color, white);\n",
       "                }\n",
       "\n",
       "                .geemap-colab .jupyter-button {\n",
       "                    --jp-layout-color3: var(--colab-primary-surface-color, white);\n",
       "                }\n",
       "            </style>\n",
       "            "
      ],
      "text/plain": [
       "<IPython.core.display.HTML object>"
      ]
     },
     "metadata": {},
     "output_type": "display_data"
    }
   ],
   "source": [
    "output_widget = widgets.Output(layout={'border': '1px solid black'})\n",
    "output_control = ipyleaflet.WidgetControl(widget=output_widget, position=\"bottomright\")\n",
    "Map.add_control(output_control)"
   ]
  },
  {
   "cell_type": "code",
   "execution_count": 69,
   "metadata": {},
   "outputs": [
    {
     "data": {
      "text/html": [
       "\n",
       "            <style>\n",
       "                .geemap-dark {\n",
       "                    --jp-widgets-color: white;\n",
       "                    --jp-widgets-label-color: white;\n",
       "                    --jp-ui-font-color1: white;\n",
       "                    --jp-layout-color2: #454545;\n",
       "                    background-color: #383838;\n",
       "                }\n",
       "\n",
       "                .geemap-dark .jupyter-button {\n",
       "                    --jp-layout-color3: #383838;\n",
       "                }\n",
       "\n",
       "                .geemap-colab {\n",
       "                    background-color: var(--colab-primary-surface-color, white);\n",
       "                }\n",
       "\n",
       "                .geemap-colab .jupyter-button {\n",
       "                    --jp-layout-color3: var(--colab-primary-surface-color, white);\n",
       "                }\n",
       "            </style>\n",
       "            "
      ],
      "text/plain": [
       "<IPython.core.display.HTML object>"
      ]
     },
     "metadata": {},
     "output_type": "display_data"
    }
   ],
   "source": [
    "# Function to identify the ID of the basin of interest by clicking on the map over the feature of the HydroSHEDS\n",
    "def handle_interaction(**kwargs):\n",
    "    latlon = kwargs.get('coordinates')\n",
    "    if kwargs.get('type') == 'click':\n",
    "        Map.default_style = {'cursor': 'wait'}\n",
    "        xy = ee.Geometry.Point(latlon[::-1])\n",
    "        selected_fc = hydrobasins.filterBounds(xy)\n",
    "\n",
    "        with output_widget:\n",
    "            output_widget.clear_output()\n",
    "\n",
    "            try:\n",
    "                name = \"Selected Basin: \"\n",
    "                id = selected_fc.first().get(hybas_id).getInfo()\n",
    "                Map.layers = Map.layers[:2]        \n",
    "                geom = selected_fc.geometry()\n",
    "                layer_name = name + str(id)\n",
    "                Map.addLayer(ee.Image().paint(geom, 0, 2), {'palette': 'red'}, layer_name)  \n",
    "                print(layer_name)\n",
    "            except Exception as e:\n",
    "                print('No feature could be found')\n",
    "                Map.layers = Map.layers[:2]\n",
    "\n",
    "        Map.default_style = {'cursor': 'pointer'}\n",
    "\n",
    "Map.on_interaction(handle_interaction)"
   ]
  },
  {
   "cell_type": "code",
   "execution_count": 6,
   "metadata": {},
   "outputs": [
    {
     "data": {
      "text/html": [
       "\n",
       "            <style>\n",
       "                .geemap-dark {\n",
       "                    --jp-widgets-color: white;\n",
       "                    --jp-widgets-label-color: white;\n",
       "                    --jp-ui-font-color1: white;\n",
       "                    --jp-layout-color2: #454545;\n",
       "                    background-color: #383838;\n",
       "                }\n",
       "\n",
       "                .geemap-dark .jupyter-button {\n",
       "                    --jp-layout-color3: #383838;\n",
       "                }\n",
       "\n",
       "                .geemap-colab {\n",
       "                    background-color: var(--colab-primary-surface-color, white);\n",
       "                }\n",
       "\n",
       "                .geemap-colab .jupyter-button {\n",
       "                    --jp-layout-color3: var(--colab-primary-surface-color, white);\n",
       "                }\n",
       "            </style>\n",
       "            "
      ],
      "text/plain": [
       "<IPython.core.display.HTML object>"
      ]
     },
     "metadata": {},
     "output_type": "display_data"
    }
   ],
   "source": [
    "# Function to determine the simulation period and the reporting period\n",
    "def determine_period(start_date, end_date, warmup_yrs = 0):\n",
    "    ini_date = str((int(start_date.split(\"-\")[0]) + int(warmup_yrs))) + \"-\" + start_date.split(\"-\")[1]\n",
    "    if (end_date.split(\"-\")[1]) == \"12\":\n",
    "        fin_date = str(int(end_date.split(\"-\")[0]) + 1) + \"-01\"\n",
    "        fin_yr = int(fin_date.split(\"-\")[0])\n",
    "    else:\n",
    "        fin_date = str(int(end_date.split(\"-\")[0])) + \"-\" + str(int(end_date.split(\"-\")[1]) + 1)\n",
    "        fin_yr = int(fin_date.split(\"-\")[0]) + 1\n",
    "\n",
    "    if (datetime.datetime(int(ini_date.split(\"-\")[0]), int(ini_date.split(\"-\")[1]), 1) >= datetime.datetime(int(fin_date.split(\"-\")[0]), int(fin_date.split(\"-\")[1]), 1)):\n",
    "        if (warmup_yrs != 0):\n",
    "            print (\"Start date is finally set beyond or same as the end date! Please consider the implications of the warm-up years. Remember that end date is exclusive\")\n",
    "        else:\n",
    "            print (\"Start date is finally set beyond or same as the end date! Please review your input dates. Remember that end date is exclusive\")\n",
    "        raise SystemExit()\n",
    "\n",
    "    ini_yr = int(ini_date.split(\"-\")[0])\n",
    "\n",
    "    print (ini_date, fin_date, ini_yr, fin_yr)\n",
    "    return ini_date, fin_date, ini_yr, fin_yr"
   ]
  },
  {
   "cell_type": "code",
   "execution_count": 7,
   "metadata": {},
   "outputs": [
    {
     "data": {
      "text/html": [
       "\n",
       "            <style>\n",
       "                .geemap-dark {\n",
       "                    --jp-widgets-color: white;\n",
       "                    --jp-widgets-label-color: white;\n",
       "                    --jp-ui-font-color1: white;\n",
       "                    --jp-layout-color2: #454545;\n",
       "                    background-color: #383838;\n",
       "                }\n",
       "\n",
       "                .geemap-dark .jupyter-button {\n",
       "                    --jp-layout-color3: #383838;\n",
       "                }\n",
       "\n",
       "                .geemap-colab {\n",
       "                    background-color: var(--colab-primary-surface-color, white);\n",
       "                }\n",
       "\n",
       "                .geemap-colab .jupyter-button {\n",
       "                    --jp-layout-color3: var(--colab-primary-surface-color, white);\n",
       "                }\n",
       "            </style>\n",
       "            "
      ],
      "text/plain": [
       "<IPython.core.display.HTML object>"
      ]
     },
     "metadata": {},
     "output_type": "display_data"
    },
    {
     "name": "stdout",
     "output_type": "stream",
     "text": [
      "2018-01 2024-01 2018 2024\n"
     ]
    }
   ],
   "source": [
    "## Initial parameters ##\n",
    "\n",
    "# It is recommended using at least 2 years of equilibration period - warm up years. This allows the model to get the water cycling properly\n",
    "# When a proper equilibration period is incorporated, \"ffcb\" value is not going to impact model results\n",
    "warmup_yrs = 1\n",
    "start_date = '2017-01'\n",
    "end_date = '2023-12'\n",
    "ini_date, fin_date, ini_yr, fin_yr  = determine_period(start_date, end_date, warmup_yrs)\n",
    "years_execution = range(ini_yr, fin_yr)  # Years with available weather information to run the water balance\n",
    "selected_basin_id = 6030007000 # This ID must be identified through the interative map above by clicking on the basin of your interest. See the widget on the bottom right side of the map"
   ]
  },
  {
   "cell_type": "code",
   "execution_count": 8,
   "metadata": {},
   "outputs": [
    {
     "data": {
      "text/html": [
       "\n",
       "            <style>\n",
       "                .geemap-dark {\n",
       "                    --jp-widgets-color: white;\n",
       "                    --jp-widgets-label-color: white;\n",
       "                    --jp-ui-font-color1: white;\n",
       "                    --jp-layout-color2: #454545;\n",
       "                    background-color: #383838;\n",
       "                }\n",
       "\n",
       "                .geemap-dark .jupyter-button {\n",
       "                    --jp-layout-color3: #383838;\n",
       "                }\n",
       "\n",
       "                .geemap-colab {\n",
       "                    background-color: var(--colab-primary-surface-color, white);\n",
       "                }\n",
       "\n",
       "                .geemap-colab .jupyter-button {\n",
       "                    --jp-layout-color3: var(--colab-primary-surface-color, white);\n",
       "                }\n",
       "            </style>\n",
       "            "
      ],
      "text/plain": [
       "<IPython.core.display.HTML object>"
      ]
     },
     "metadata": {},
     "output_type": "display_data"
    }
   ],
   "source": [
    "######################################################\n",
    "### Starting values for the water balance model - T&M\n",
    "######################################################\n",
    "\n",
    "# The recession constant (k) will be determined from hydrographs derived from the gathered streamflow datasets. For the rest of the world, k will be defined as 0.5\n",
    "k_recession = 0.5 # Temporarily is defined as such\n",
    "\n",
    "# Initial soil water storage expressed as a fraction of water holding capacity [0-1]\n",
    "ffcb = 0.1 # 10%\n",
    "\n",
    "# Base flow of the previous month (mm)\n",
    "bflow_ant = 10"
   ]
  },
  {
   "cell_type": "code",
   "execution_count": 9,
   "metadata": {},
   "outputs": [
    {
     "data": {
      "text/html": [
       "\n",
       "            <style>\n",
       "                .geemap-dark {\n",
       "                    --jp-widgets-color: white;\n",
       "                    --jp-widgets-label-color: white;\n",
       "                    --jp-ui-font-color1: white;\n",
       "                    --jp-layout-color2: #454545;\n",
       "                    background-color: #383838;\n",
       "                }\n",
       "\n",
       "                .geemap-dark .jupyter-button {\n",
       "                    --jp-layout-color3: #383838;\n",
       "                }\n",
       "\n",
       "                .geemap-colab {\n",
       "                    background-color: var(--colab-primary-surface-color, white);\n",
       "                }\n",
       "\n",
       "                .geemap-colab .jupyter-button {\n",
       "                    --jp-layout-color3: var(--colab-primary-surface-color, white);\n",
       "                }\n",
       "            </style>\n",
       "            "
      ],
      "text/plain": [
       "<IPython.core.display.HTML object>"
      ]
     },
     "metadata": {},
     "output_type": "display_data"
    }
   ],
   "source": [
    "# HydroSHEDS v1 will be used. Specifically, its HydroBASINS\n",
    "hydrobasins = ee.FeatureCollection('WWF/HydroSHEDS/v1/Basins/hybas_3')\n",
    "zoi = hydrobasins.select(\"HYBAS_ID\").filter(ee.Filter.eq(hybas_id, selected_basin_id))\n",
    "visualization = {\n",
    "  \"color\": 'blue',\n",
    "  \"strokeWidth\": 1\n",
    "}\n",
    "Map.centerObject(zoi.geometry())\n",
    "Map.addLayer(zoi, visualization, 'Selected Basin')"
   ]
  },
  {
   "cell_type": "code",
   "execution_count": 10,
   "metadata": {},
   "outputs": [
    {
     "data": {
      "text/html": [
       "\n",
       "            <style>\n",
       "                .geemap-dark {\n",
       "                    --jp-widgets-color: white;\n",
       "                    --jp-widgets-label-color: white;\n",
       "                    --jp-ui-font-color1: white;\n",
       "                    --jp-layout-color2: #454545;\n",
       "                    background-color: #383838;\n",
       "                }\n",
       "\n",
       "                .geemap-dark .jupyter-button {\n",
       "                    --jp-layout-color3: #383838;\n",
       "                }\n",
       "\n",
       "                .geemap-colab {\n",
       "                    background-color: var(--colab-primary-surface-color, white);\n",
       "                }\n",
       "\n",
       "                .geemap-colab .jupyter-button {\n",
       "                    --jp-layout-color3: var(--colab-primary-surface-color, white);\n",
       "                }\n",
       "            </style>\n",
       "            "
      ],
      "text/plain": [
       "<IPython.core.display.HTML object>"
      ]
     },
     "metadata": {},
     "output_type": "display_data"
    }
   ],
   "source": [
    "# Public link to the asset whc: https://code.earthengine.google.com/?asset=projects/ee-jvg/assets/whc_fc33\n",
    "whc = ee.Image('projects/ee-jvg/assets/whc_fc33')\n",
    "whc = whc.clip(zoi).divide(1000) # As the raster was originally in integer and multiplied by 1000\n",
    "Map.addLayer(whc, {}, 'Water Holding Capacity')"
   ]
  },
  {
   "cell_type": "code",
   "execution_count": 11,
   "metadata": {},
   "outputs": [
    {
     "data": {
      "text/html": [
       "\n",
       "            <style>\n",
       "                .geemap-dark {\n",
       "                    --jp-widgets-color: white;\n",
       "                    --jp-widgets-label-color: white;\n",
       "                    --jp-ui-font-color1: white;\n",
       "                    --jp-layout-color2: #454545;\n",
       "                    background-color: #383838;\n",
       "                }\n",
       "\n",
       "                .geemap-dark .jupyter-button {\n",
       "                    --jp-layout-color3: #383838;\n",
       "                }\n",
       "\n",
       "                .geemap-colab {\n",
       "                    background-color: var(--colab-primary-surface-color, white);\n",
       "                }\n",
       "\n",
       "                .geemap-colab .jupyter-button {\n",
       "                    --jp-layout-color3: var(--colab-primary-surface-color, white);\n",
       "                }\n",
       "            </style>\n",
       "            "
      ],
      "text/plain": [
       "<IPython.core.display.HTML object>"
      ]
     },
     "metadata": {},
     "output_type": "display_data"
    },
    {
     "data": {
      "text/plain": [
       "84"
      ]
     },
     "execution_count": 11,
     "metadata": {},
     "output_type": "execute_result"
    }
   ],
   "source": [
    "# TerraClimate layers filtered with \"start_date\" (inclusive) and \"end_date\" (exclusive) and clipped to \"zoi\"\n",
    "terraclimate = ee.ImageCollection('IDAHO_EPSCOR/TERRACLIMATE').filter(ee.Filter.date(start_date, fin_date)).map(lambda image: image.clip(zoi))\n",
    "num_months = terraclimate.size().getInfo()\n",
    "num_months"
   ]
  },
  {
   "cell_type": "code",
   "execution_count": 12,
   "metadata": {},
   "outputs": [
    {
     "data": {
      "text/html": [
       "\n",
       "            <style>\n",
       "                .geemap-dark {\n",
       "                    --jp-widgets-color: white;\n",
       "                    --jp-widgets-label-color: white;\n",
       "                    --jp-ui-font-color1: white;\n",
       "                    --jp-layout-color2: #454545;\n",
       "                    background-color: #383838;\n",
       "                }\n",
       "\n",
       "                .geemap-dark .jupyter-button {\n",
       "                    --jp-layout-color3: #383838;\n",
       "                }\n",
       "\n",
       "                .geemap-colab {\n",
       "                    background-color: var(--colab-primary-surface-color, white);\n",
       "                }\n",
       "\n",
       "                .geemap-colab .jupyter-button {\n",
       "                    --jp-layout-color3: var(--colab-primary-surface-color, white);\n",
       "                }\n",
       "            </style>\n",
       "            "
      ],
      "text/plain": [
       "<IPython.core.display.HTML object>"
      ]
     },
     "metadata": {},
     "output_type": "display_data"
    }
   ],
   "source": [
    "# Initial images and time to start the water balance\n",
    "k = ee.Image(k_recession)\n",
    "st0 = whc.multiply(ffcb)\n",
    "bf0 = ee.Image(bflow_ant)\n",
    "Map.addLayer(st0, {}, 'Initial Soil Storage')\n",
    "time0 = terraclimate.first().get(\"system:time_start\") # Define the initial time (time0) according to the start of the collection"
   ]
  },
  {
   "cell_type": "code",
   "execution_count": 13,
   "metadata": {},
   "outputs": [
    {
     "data": {
      "text/html": [
       "\n",
       "            <style>\n",
       "                .geemap-dark {\n",
       "                    --jp-widgets-color: white;\n",
       "                    --jp-widgets-label-color: white;\n",
       "                    --jp-ui-font-color1: white;\n",
       "                    --jp-layout-color2: #454545;\n",
       "                    background-color: #383838;\n",
       "                }\n",
       "\n",
       "                .geemap-dark .jupyter-button {\n",
       "                    --jp-layout-color3: #383838;\n",
       "                }\n",
       "\n",
       "                .geemap-colab {\n",
       "                    background-color: var(--colab-primary-surface-color, white);\n",
       "                }\n",
       "\n",
       "                .geemap-colab .jupyter-button {\n",
       "                    --jp-layout-color3: var(--colab-primary-surface-color, white);\n",
       "                }\n",
       "            </style>\n",
       "            "
      ],
      "text/plain": [
       "<IPython.core.display.HTML object>"
      ]
     },
     "metadata": {},
     "output_type": "display_data"
    }
   ],
   "source": [
    "# Initialization of ALL bands.\n",
    "# Mandatory to cast the type of the data with a .float().\n",
    "\n",
    "# Initialization of precipitation\n",
    "initial_pr = ee.Image(0).set(\"system:time_start\", time0).select([0], [\"pr\"]).float()\n",
    "\n",
    "# Initialization of potential evapotranspiration\n",
    "initial_pet = ee.Image(0).set(\"system:time_start\", time0).select([0], [\"pet\"]).float()\n",
    "\n",
    "# Initialization of runoff\n",
    "initial_ro = ee.Image(0).set(\"system:time_start\", time0).select([0], [\"ro\"]).float()\n",
    "\n",
    "# Initialization of effective precipitation\n",
    "initial_ep = ee.Image(0).set(\"system:time_start\", time0).select([0], [\"eprec\"]).float()\n",
    "\n",
    "# Initialization of actual evapotranspiration\n",
    "initial_aet = ee.Image(0).set(\"system:time_start\", time0).select([0], [\"aet\"]).float()\n",
    "\n",
    "# Initialization of soil storage, which is considered to be a fraction of WCH\n",
    "initial_st = st0.set(\"system:time_start\", time0).select([0], [\"sstor\"]).float()\n",
    "\n",
    "# Initialization of percolation\n",
    "initial_pc = ee.Image(0).set(\"system:time_start\", time0).select([0], [\"perc\"]).float()\n",
    "\n",
    "# Initialization of base flow, which is considered as defined in Ulmen (2000)\n",
    "initial_bf = bf0.set(\"system:time_start\", time0).select([0], [\"bflow\"]).float()\n",
    "\n",
    "# Initialization of water yield\n",
    "initial_wy = ee.Image(0).set(\"system:time_start\", time0).select([0], [\"wyield\"]).float()"
   ]
  },
  {
   "cell_type": "code",
   "execution_count": 14,
   "metadata": {},
   "outputs": [
    {
     "data": {
      "text/html": [
       "\n",
       "            <style>\n",
       "                .geemap-dark {\n",
       "                    --jp-widgets-color: white;\n",
       "                    --jp-widgets-label-color: white;\n",
       "                    --jp-ui-font-color1: white;\n",
       "                    --jp-layout-color2: #454545;\n",
       "                    background-color: #383838;\n",
       "                }\n",
       "\n",
       "                .geemap-dark .jupyter-button {\n",
       "                    --jp-layout-color3: #383838;\n",
       "                }\n",
       "\n",
       "                .geemap-colab {\n",
       "                    background-color: var(--colab-primary-surface-color, white);\n",
       "                }\n",
       "\n",
       "                .geemap-colab .jupyter-button {\n",
       "                    --jp-layout-color3: var(--colab-primary-surface-color, white);\n",
       "                }\n",
       "            </style>\n",
       "            "
      ],
      "text/plain": [
       "<IPython.core.display.HTML object>"
      ]
     },
     "metadata": {},
     "output_type": "display_data"
    }
   ],
   "source": [
    "# All initial bands are combined into one \"ee.Image\" by adding them to the first band (wy)\n",
    "initial_image = initial_wy.addBands(\n",
    "    ee.Image([initial_pr, initial_pet, initial_ro, initial_ep, initial_aet, initial_st, initial_pc, initial_bf])\n",
    ")\n",
    "\n",
    "# Initiatlization of list that will contain new images after each iteration\n",
    "image_list = ee.List([initial_image])"
   ]
  },
  {
   "cell_type": "code",
   "execution_count": 15,
   "metadata": {},
   "outputs": [
    {
     "data": {
      "text/html": [
       "\n",
       "            <style>\n",
       "                .geemap-dark {\n",
       "                    --jp-widgets-color: white;\n",
       "                    --jp-widgets-label-color: white;\n",
       "                    --jp-ui-font-color1: white;\n",
       "                    --jp-layout-color2: #454545;\n",
       "                    background-color: #383838;\n",
       "                }\n",
       "\n",
       "                .geemap-dark .jupyter-button {\n",
       "                    --jp-layout-color3: #383838;\n",
       "                }\n",
       "\n",
       "                .geemap-colab {\n",
       "                    background-color: var(--colab-primary-surface-color, white);\n",
       "                }\n",
       "\n",
       "                .geemap-colab .jupyter-button {\n",
       "                    --jp-layout-color3: var(--colab-primary-surface-color, white);\n",
       "                }\n",
       "            </style>\n",
       "            "
      ],
      "text/plain": [
       "<IPython.core.display.HTML object>"
      ]
     },
     "metadata": {},
     "output_type": "display_data"
    }
   ],
   "source": [
    "def water_balance(image, image_list):\n",
    "    \n",
    "    # Determine the date of the current ee.Image of the collection.\n",
    "    localdate = image.get('system:time_start')\n",
    "\n",
    "    # Import previous image stored in the list\n",
    "    prev_im = ee.Image(ee.List(image_list).get(-1))\n",
    "\n",
    "    # Import previous soil storage and baseflow\n",
    "    # Only those variables of the water balance that work with previous conditions (i.e., i-1)\n",
    "    prev_st = prev_im.select(\"sstor\")\n",
    "    prev_bf = prev_im.select(\"bflow\")\n",
    "\n",
    "    # Import current precipitation, potential evapotranspiration, and runoff\n",
    "    pr_im = image.select(\"pr\")\n",
    "    pet_im = image.select(\"pet\").multiply(0.1) # Scale factor: 0.1\n",
    "    ro_im = image.select('ro')\n",
    "\n",
    "    # Initialize the new bands associated with wyield, eprec, aet, perc, sstor, and bflow\n",
    "    new_wy = (\n",
    "        ee.Image(0)\n",
    "        .set(\"system:time_start\", localdate)\n",
    "        .select([0], [\"wyield\"])\n",
    "        .float()\n",
    "    )\n",
    "\n",
    "    new_ep = (\n",
    "        pr_im.subtract(ro_im)\n",
    "        .set(\"system:time_start\", localdate)\n",
    "        .select([0], [\"eprec\"])\n",
    "        .float()\n",
    "    )\n",
    "\n",
    "    new_aet = (\n",
    "        ee.Image(0)\n",
    "        .set(\"system:time_start\", localdate)\n",
    "        .select([0], [\"aet\"])\n",
    "        .float()\n",
    "    )\n",
    "\n",
    "    new_pc = (\n",
    "        ee.Image(0)\n",
    "        .set(\"system:time_start\", localdate)\n",
    "        .select([0], [\"perc\"])\n",
    "        .float()\n",
    "    )\n",
    "\n",
    "    new_st = (\n",
    "        ee.Image(0)\n",
    "        .set(\"system:time_start\", localdate)\n",
    "        .select([0], [\"sstor\"])\n",
    "        .float()\n",
    "    )\n",
    "\n",
    "    new_bf = (\n",
    "        ee.Image(0)\n",
    "        .set(\"system:time_start\", localdate)\n",
    "        .select([0], [\"bflow\"])\n",
    "        .float()\n",
    "    )\n",
    "\n",
    "    # Calculate bands depending on the situation using binary layers with logical operations\n",
    "\n",
    "    ## CASE 1\n",
    "    # Define zone1: pixels where EPREC > PET \n",
    "    zone1 = new_ep.gt(pet_im)\n",
    "\n",
    "    # Calculation of AET in zone 1\n",
    "    zone1_aet = pet_im.rename(\"aet\")\n",
    "    # Implementation of zone 1 values for AET\n",
    "    new_aet = new_aet.where(zone1, zone1_aet)\n",
    "\n",
    "    ## CASE 1.1\n",
    "    # Define zone11: pixels where (EPREC > PET) and (Si-1 + EPREC - AET > WHC)\n",
    "    zone11 = zone1.And(prev_st.add(new_ep).subtract(new_aet).gt(whc))\n",
    "\n",
    "    # Calculation of SSTOR in zone 1.1\n",
    "    zone11_st = whc.rename(\"sstor\")\n",
    "    # Implementation of zone 1.1 values for SSTOR\n",
    "    new_st = new_st.where(zone11, zone11_st)\n",
    "\n",
    "    # Calculation of PERC in zone 1.1\n",
    "    zone11_pc = prev_st.add(new_ep).subtract(new_aet).subtract(whc).rename(\"perc\")\n",
    "    # Implementation of zone 1.1 values for PERC\n",
    "    new_pc = new_pc.where(zone11, zone11_pc)\n",
    "\n",
    "    ## CASE 1.2\n",
    "    # Define zone12: pixels where (EPREC > PET) and (Si-1 + EPREC - AET <= WHC)\n",
    "    zone12 = zone1.And(prev_st.add(new_ep).subtract(new_aet).lte(whc))\n",
    "\n",
    "    # Calculation of SSTOR in zone 1.2\n",
    "    zone12_st = prev_st.add(new_ep).subtract(new_aet).rename(\"sstor\")\n",
    "    # Implementation of zone 1.2 values for SSTOR\n",
    "    new_st = new_st.where(zone12, zone12_st)\n",
    "\n",
    "    ## CASE 2\n",
    "    # Define zone2: pixels where EPREC <= PET\n",
    "    zone2 = new_ep.lte(pet_im)\n",
    "\n",
    "    # Calculation of SSTOR in zone 2\n",
    "    zone2_st = prev_st.multiply(ee.Image.exp(new_ep.subtract(pet_im).abs().divide(whc).multiply(-1))).rename(\"sstor\")\n",
    "    # Implementation of zone 2 values for SSTOR\n",
    "    new_st = new_st.where(zone2, zone2_st)\n",
    "\n",
    "    # Calculation of AET in zone 2\n",
    "    zone2_aet = new_ep.add(new_st).subtract(prev_st).rename(\"aet\")\n",
    "    # Implementation of zone 2 values for AET\n",
    "    new_aet = new_aet.where(zone2, zone2_aet)\n",
    "\n",
    "    new_bf_p1 = prev_bf.multiply(k)\n",
    "    new_bf_p2 = ee.Image(1).subtract(k).multiply(new_pc)\n",
    "    new_bf = new_bf.add(new_bf_p1).add(new_bf_p2).rename(\"bflow\")\n",
    "\n",
    "    new_wy = new_wy.add(new_bf).add(ro_im).rename(\"wyield\")\n",
    "\n",
    "    # Create a mask around area where pixels can effectively be calculated\n",
    "    # Where we have have PREC as TerraClimate and WHC\n",
    "    mask = pr_im.gte(0).And(whc.gte(0))\n",
    "    \n",
    "    # Apply the mask\n",
    "    new_wy = new_wy.updateMask(mask)\n",
    "\n",
    "    # Add all Bands to our ee.Image\n",
    "    new_image = new_wy.addBands(ee.Image([pr_im, pet_im, ro_im, new_ep, new_aet, new_st, new_pc, new_bf]))\n",
    "    new_image = new_image.set(\"system:time_start\", localdate) # Needed to have 'start_time' finally assigned correctly\n",
    "    \n",
    "    # Add the new ee.Image to the ee.List\n",
    "    return ee.List(image_list).add(new_image)"
   ]
  },
  {
   "cell_type": "code",
   "execution_count": 16,
   "metadata": {},
   "outputs": [
    {
     "data": {
      "text/html": [
       "\n",
       "            <style>\n",
       "                .geemap-dark {\n",
       "                    --jp-widgets-color: white;\n",
       "                    --jp-widgets-label-color: white;\n",
       "                    --jp-ui-font-color1: white;\n",
       "                    --jp-layout-color2: #454545;\n",
       "                    background-color: #383838;\n",
       "                }\n",
       "\n",
       "                .geemap-dark .jupyter-button {\n",
       "                    --jp-layout-color3: #383838;\n",
       "                }\n",
       "\n",
       "                .geemap-colab {\n",
       "                    background-color: var(--colab-primary-surface-color, white);\n",
       "                }\n",
       "\n",
       "                .geemap-colab .jupyter-button {\n",
       "                    --jp-layout-color3: var(--colab-primary-surface-color, white);\n",
       "                }\n",
       "            </style>\n",
       "            "
      ],
      "text/plain": [
       "<IPython.core.display.HTML object>"
      ]
     },
     "metadata": {},
     "output_type": "display_data"
    }
   ],
   "source": [
    "#########################\n",
    "# WATER BALANCE EXECUTION\n",
    "#########################\n",
    "\n",
    "# Iterate the user-supplied function to the terraclimate collection\n",
    "wy_list = terraclimate.iterate(water_balance, image_list)\n",
    "\n",
    "# Remove the initial image from our list\n",
    "wy_list = ee.List(wy_list).remove(initial_image)\n",
    "\n",
    "# Transform the list into an ee.ImageCollection\n",
    "wy_coll = ee.ImageCollection(wy_list).filter(ee.Filter.date(ini_date, fin_date))"
   ]
  },
  {
   "cell_type": "code",
   "execution_count": 17,
   "metadata": {},
   "outputs": [
    {
     "data": {
      "text/html": [
       "\n",
       "            <style>\n",
       "                .geemap-dark {\n",
       "                    --jp-widgets-color: white;\n",
       "                    --jp-widgets-label-color: white;\n",
       "                    --jp-ui-font-color1: white;\n",
       "                    --jp-layout-color2: #454545;\n",
       "                    background-color: #383838;\n",
       "                }\n",
       "\n",
       "                .geemap-dark .jupyter-button {\n",
       "                    --jp-layout-color3: #383838;\n",
       "                }\n",
       "\n",
       "                .geemap-colab {\n",
       "                    background-color: var(--colab-primary-surface-color, white);\n",
       "                }\n",
       "\n",
       "                .geemap-colab .jupyter-button {\n",
       "                    --jp-layout-color3: var(--colab-primary-surface-color, white);\n",
       "                }\n",
       "            </style>\n",
       "            "
      ],
      "text/plain": [
       "<IPython.core.display.HTML object>"
      ]
     },
     "metadata": {},
     "output_type": "display_data"
    }
   ],
   "source": [
    "def ee_array_to_df(arr, list_of_bands):\n",
    "    \"\"\"Transforms client-side ee.Image.getRegion array to pandas.DataFrame.\"\"\"\n",
    "    df = pd.DataFrame(arr)\n",
    "\n",
    "    # Rearrange the header.\n",
    "    headers = df.iloc[0]\n",
    "    df = pd.DataFrame(df.values[1:], columns=headers)\n",
    "\n",
    "    # Convert the data to numeric values.\n",
    "    for band in list_of_bands:\n",
    "        df[band] = pd.to_numeric(df[band], errors=\"coerce\")\n",
    "\n",
    "    # Convert the time field into a datetime.\n",
    "    df[\"datetime\"] = pd.to_datetime(df[\"time\"], unit=\"ms\").dt.strftime(\"%Y-%m\")\n",
    "\n",
    "    # Keep the columns of interest.\n",
    "    df = df[[\"time\", \"datetime\", *list_of_bands]]\n",
    "\n",
    "    # The datetime column is defined as index.\n",
    "    df = df.set_index(\"datetime\")\n",
    "\n",
    "    return df"
   ]
  },
  {
   "cell_type": "code",
   "execution_count": 18,
   "metadata": {},
   "outputs": [
    {
     "data": {
      "text/html": [
       "\n",
       "            <style>\n",
       "                .geemap-dark {\n",
       "                    --jp-widgets-color: white;\n",
       "                    --jp-widgets-label-color: white;\n",
       "                    --jp-ui-font-color1: white;\n",
       "                    --jp-layout-color2: #454545;\n",
       "                    background-color: #383838;\n",
       "                }\n",
       "\n",
       "                .geemap-dark .jupyter-button {\n",
       "                    --jp-layout-color3: #383838;\n",
       "                }\n",
       "\n",
       "                .geemap-colab {\n",
       "                    background-color: var(--colab-primary-surface-color, white);\n",
       "                }\n",
       "\n",
       "                .geemap-colab .jupyter-button {\n",
       "                    --jp-layout-color3: var(--colab-primary-surface-color, white);\n",
       "                }\n",
       "            </style>\n",
       "            "
      ],
      "text/plain": [
       "<IPython.core.display.HTML object>"
      ]
     },
     "metadata": {},
     "output_type": "display_data"
    }
   ],
   "source": [
    "# Define a location of interest with a point\n",
    "lon = -63.7788611025714\n",
    "lat = -6.20924401235051\n",
    "\n",
    "poi = ee.Geometry.Point(lon, lat)\n",
    "\n",
    "# A nominal scale in meters of the projection to work in [in meters]\n",
    "scale = 1000"
   ]
  },
  {
   "cell_type": "code",
   "execution_count": 19,
   "metadata": {},
   "outputs": [
    {
     "data": {
      "text/html": [
       "\n",
       "            <style>\n",
       "                .geemap-dark {\n",
       "                    --jp-widgets-color: white;\n",
       "                    --jp-widgets-label-color: white;\n",
       "                    --jp-ui-font-color1: white;\n",
       "                    --jp-layout-color2: #454545;\n",
       "                    background-color: #383838;\n",
       "                }\n",
       "\n",
       "                .geemap-dark .jupyter-button {\n",
       "                    --jp-layout-color3: #383838;\n",
       "                }\n",
       "\n",
       "                .geemap-colab {\n",
       "                    background-color: var(--colab-primary-surface-color, white);\n",
       "                }\n",
       "\n",
       "                .geemap-colab .jupyter-button {\n",
       "                    --jp-layout-color3: var(--colab-primary-surface-color, white);\n",
       "                }\n",
       "            </style>\n",
       "            "
      ],
      "text/plain": [
       "<IPython.core.display.HTML object>"
      ]
     },
     "metadata": {},
     "output_type": "display_data"
    },
    {
     "data": {
      "text/html": [
       "<div>\n",
       "<style scoped>\n",
       "    .dataframe tbody tr th:only-of-type {\n",
       "        vertical-align: middle;\n",
       "    }\n",
       "\n",
       "    .dataframe tbody tr th {\n",
       "        vertical-align: top;\n",
       "    }\n",
       "\n",
       "    .dataframe thead th {\n",
       "        text-align: right;\n",
       "    }\n",
       "</style>\n",
       "<table border=\"1\" class=\"dataframe\">\n",
       "  <thead>\n",
       "    <tr style=\"text-align: right;\">\n",
       "      <th></th>\n",
       "      <th>time</th>\n",
       "      <th>pr</th>\n",
       "      <th>pet</th>\n",
       "      <th>ro</th>\n",
       "      <th>eprec</th>\n",
       "      <th>aet</th>\n",
       "      <th>sstor</th>\n",
       "      <th>perc</th>\n",
       "      <th>bflow</th>\n",
       "      <th>wyield</th>\n",
       "    </tr>\n",
       "    <tr>\n",
       "      <th>datetime</th>\n",
       "      <th></th>\n",
       "      <th></th>\n",
       "      <th></th>\n",
       "      <th></th>\n",
       "      <th></th>\n",
       "      <th></th>\n",
       "      <th></th>\n",
       "      <th></th>\n",
       "      <th></th>\n",
       "      <th></th>\n",
       "    </tr>\n",
       "  </thead>\n",
       "  <tbody>\n",
       "    <tr>\n",
       "      <th>2018-01</th>\n",
       "      <td>1514764800000</td>\n",
       "      <td>279</td>\n",
       "      <td>71.6</td>\n",
       "      <td>207</td>\n",
       "      <td>72</td>\n",
       "      <td>71.600000</td>\n",
       "      <td>1.666400e+01</td>\n",
       "      <td>0.400</td>\n",
       "      <td>9.809721</td>\n",
       "      <td>216.809721</td>\n",
       "    </tr>\n",
       "    <tr>\n",
       "      <th>2018-02</th>\n",
       "      <td>1517443200000</td>\n",
       "      <td>245</td>\n",
       "      <td>69.4</td>\n",
       "      <td>176</td>\n",
       "      <td>69</td>\n",
       "      <td>68.604763</td>\n",
       "      <td>1.626876e+01</td>\n",
       "      <td>0.000</td>\n",
       "      <td>4.904861</td>\n",
       "      <td>180.904861</td>\n",
       "    </tr>\n",
       "    <tr>\n",
       "      <th>2018-03</th>\n",
       "      <td>1519862400000</td>\n",
       "      <td>295</td>\n",
       "      <td>79.8</td>\n",
       "      <td>216</td>\n",
       "      <td>79</td>\n",
       "      <td>78.237426</td>\n",
       "      <td>1.550619e+01</td>\n",
       "      <td>0.000</td>\n",
       "      <td>2.452430</td>\n",
       "      <td>218.452430</td>\n",
       "    </tr>\n",
       "    <tr>\n",
       "      <th>2018-04</th>\n",
       "      <td>1522540800000</td>\n",
       "      <td>258</td>\n",
       "      <td>80.6</td>\n",
       "      <td>178</td>\n",
       "      <td>80</td>\n",
       "      <td>79.451620</td>\n",
       "      <td>1.495781e+01</td>\n",
       "      <td>0.000</td>\n",
       "      <td>1.226215</td>\n",
       "      <td>179.226215</td>\n",
       "    </tr>\n",
       "    <tr>\n",
       "      <th>2018-05</th>\n",
       "      <td>1525132800000</td>\n",
       "      <td>173</td>\n",
       "      <td>87.7</td>\n",
       "      <td>86</td>\n",
       "      <td>87</td>\n",
       "      <td>86.384686</td>\n",
       "      <td>1.434249e+01</td>\n",
       "      <td>0.000</td>\n",
       "      <td>0.613108</td>\n",
       "      <td>86.613108</td>\n",
       "    </tr>\n",
       "    <tr>\n",
       "      <th>...</th>\n",
       "      <td>...</td>\n",
       "      <td>...</td>\n",
       "      <td>...</td>\n",
       "      <td>...</td>\n",
       "      <td>...</td>\n",
       "      <td>...</td>\n",
       "      <td>...</td>\n",
       "      <td>...</td>\n",
       "      <td>...</td>\n",
       "      <td>...</td>\n",
       "    </tr>\n",
       "    <tr>\n",
       "      <th>2023-08</th>\n",
       "      <td>1690848000000</td>\n",
       "      <td>13</td>\n",
       "      <td>127.7</td>\n",
       "      <td>1</td>\n",
       "      <td>12</td>\n",
       "      <td>11.999103</td>\n",
       "      <td>8.664626e-07</td>\n",
       "      <td>0.000</td>\n",
       "      <td>0.127163</td>\n",
       "      <td>1.127163</td>\n",
       "    </tr>\n",
       "    <tr>\n",
       "      <th>2023-09</th>\n",
       "      <td>1693526400000</td>\n",
       "      <td>17</td>\n",
       "      <td>133.7</td>\n",
       "      <td>1</td>\n",
       "      <td>16</td>\n",
       "      <td>15.999999</td>\n",
       "      <td>7.417735e-10</td>\n",
       "      <td>0.000</td>\n",
       "      <td>0.063581</td>\n",
       "      <td>1.063581</td>\n",
       "    </tr>\n",
       "    <tr>\n",
       "      <th>2023-10</th>\n",
       "      <td>1696118400000</td>\n",
       "      <td>53</td>\n",
       "      <td>130.3</td>\n",
       "      <td>3</td>\n",
       "      <td>50</td>\n",
       "      <td>50.000000</td>\n",
       "      <td>5.991086e-12</td>\n",
       "      <td>0.000</td>\n",
       "      <td>0.031791</td>\n",
       "      <td>3.031791</td>\n",
       "    </tr>\n",
       "    <tr>\n",
       "      <th>2023-11</th>\n",
       "      <td>1698796800000</td>\n",
       "      <td>103</td>\n",
       "      <td>112.1</td>\n",
       "      <td>5</td>\n",
       "      <td>98</td>\n",
       "      <td>98.000000</td>\n",
       "      <td>2.570595e-12</td>\n",
       "      <td>0.000</td>\n",
       "      <td>0.015895</td>\n",
       "      <td>5.015895</td>\n",
       "    </tr>\n",
       "    <tr>\n",
       "      <th>2023-12</th>\n",
       "      <td>1701388800000</td>\n",
       "      <td>289</td>\n",
       "      <td>93.4</td>\n",
       "      <td>15</td>\n",
       "      <td>274</td>\n",
       "      <td>93.400000</td>\n",
       "      <td>1.666400e+01</td>\n",
       "      <td>163.936</td>\n",
       "      <td>81.975948</td>\n",
       "      <td>96.975948</td>\n",
       "    </tr>\n",
       "  </tbody>\n",
       "</table>\n",
       "<p>72 rows × 10 columns</p>\n",
       "</div>"
      ],
      "text/plain": [
       "0                  time   pr    pet   ro  eprec        aet         sstor  \\\n",
       "datetime                                                                   \n",
       "2018-01   1514764800000  279   71.6  207     72  71.600000  1.666400e+01   \n",
       "2018-02   1517443200000  245   69.4  176     69  68.604763  1.626876e+01   \n",
       "2018-03   1519862400000  295   79.8  216     79  78.237426  1.550619e+01   \n",
       "2018-04   1522540800000  258   80.6  178     80  79.451620  1.495781e+01   \n",
       "2018-05   1525132800000  173   87.7   86     87  86.384686  1.434249e+01   \n",
       "...                 ...  ...    ...  ...    ...        ...           ...   \n",
       "2023-08   1690848000000   13  127.7    1     12  11.999103  8.664626e-07   \n",
       "2023-09   1693526400000   17  133.7    1     16  15.999999  7.417735e-10   \n",
       "2023-10   1696118400000   53  130.3    3     50  50.000000  5.991086e-12   \n",
       "2023-11   1698796800000  103  112.1    5     98  98.000000  2.570595e-12   \n",
       "2023-12   1701388800000  289   93.4   15    274  93.400000  1.666400e+01   \n",
       "\n",
       "0            perc      bflow      wyield  \n",
       "datetime                                  \n",
       "2018-01     0.400   9.809721  216.809721  \n",
       "2018-02     0.000   4.904861  180.904861  \n",
       "2018-03     0.000   2.452430  218.452430  \n",
       "2018-04     0.000   1.226215  179.226215  \n",
       "2018-05     0.000   0.613108   86.613108  \n",
       "...           ...        ...         ...  \n",
       "2023-08     0.000   0.127163    1.127163  \n",
       "2023-09     0.000   0.063581    1.063581  \n",
       "2023-10     0.000   0.031791    3.031791  \n",
       "2023-11     0.000   0.015895    5.015895  \n",
       "2023-12   163.936  81.975948   96.975948  \n",
       "\n",
       "[72 rows x 10 columns]"
      ]
     },
     "execution_count": 19,
     "metadata": {},
     "output_type": "execute_result"
    }
   ],
   "source": [
    "# Let's have a look at the result around a location of interest:\n",
    "arr = wy_coll.getRegion(poi, scale).getInfo()\n",
    "rdf = ee_array_to_df(arr, [\"pr\", \"pet\", \"ro\", \"eprec\", \"aet\", \"sstor\", \"perc\", \"bflow\", \"wyield\"]).sort_index()\n",
    "rdf"
   ]
  },
  {
   "cell_type": "code",
   "execution_count": 20,
   "metadata": {},
   "outputs": [
    {
     "data": {
      "text/html": [
       "\n",
       "            <style>\n",
       "                .geemap-dark {\n",
       "                    --jp-widgets-color: white;\n",
       "                    --jp-widgets-label-color: white;\n",
       "                    --jp-ui-font-color1: white;\n",
       "                    --jp-layout-color2: #454545;\n",
       "                    background-color: #383838;\n",
       "                }\n",
       "\n",
       "                .geemap-dark .jupyter-button {\n",
       "                    --jp-layout-color3: #383838;\n",
       "                }\n",
       "\n",
       "                .geemap-colab {\n",
       "                    background-color: var(--colab-primary-surface-color, white);\n",
       "                }\n",
       "\n",
       "                .geemap-colab .jupyter-button {\n",
       "                    --jp-layout-color3: var(--colab-primary-surface-color, white);\n",
       "                }\n",
       "            </style>\n",
       "            "
      ],
      "text/plain": [
       "<IPython.core.display.HTML object>"
      ]
     },
     "metadata": {},
     "output_type": "display_data"
    },
    {
     "data": {
      "text/html": [
       "<div>\n",
       "<style scoped>\n",
       "    .dataframe tbody tr th:only-of-type {\n",
       "        vertical-align: middle;\n",
       "    }\n",
       "\n",
       "    .dataframe tbody tr th {\n",
       "        vertical-align: top;\n",
       "    }\n",
       "\n",
       "    .dataframe thead th {\n",
       "        text-align: right;\n",
       "    }\n",
       "</style>\n",
       "<table border=\"1\" class=\"dataframe\">\n",
       "  <thead>\n",
       "    <tr style=\"text-align: right;\">\n",
       "      <th></th>\n",
       "      <th>time</th>\n",
       "      <th>pr</th>\n",
       "      <th>pet</th>\n",
       "      <th>ro</th>\n",
       "      <th>eprec</th>\n",
       "      <th>aet</th>\n",
       "      <th>sstor</th>\n",
       "      <th>perc</th>\n",
       "      <th>bflow</th>\n",
       "      <th>wyield</th>\n",
       "    </tr>\n",
       "    <tr>\n",
       "      <th>datetime</th>\n",
       "      <th></th>\n",
       "      <th></th>\n",
       "      <th></th>\n",
       "      <th></th>\n",
       "      <th></th>\n",
       "      <th></th>\n",
       "      <th></th>\n",
       "      <th></th>\n",
       "      <th></th>\n",
       "      <th></th>\n",
       "    </tr>\n",
       "  </thead>\n",
       "  <tbody>\n",
       "    <tr>\n",
       "      <th>1970-01</th>\n",
       "      <td>0</td>\n",
       "      <td>0</td>\n",
       "      <td>0</td>\n",
       "      <td>0</td>\n",
       "      <td>0</td>\n",
       "      <td>0</td>\n",
       "      <td>1.6664</td>\n",
       "      <td>0</td>\n",
       "      <td>10</td>\n",
       "      <td>0</td>\n",
       "    </tr>\n",
       "  </tbody>\n",
       "</table>\n",
       "</div>"
      ],
      "text/plain": [
       "0        time  pr  pet  ro  eprec  aet   sstor  perc  bflow  wyield\n",
       "datetime                                                           \n",
       "1970-01     0   0    0   0      0    0  1.6664     0     10       0"
      ]
     },
     "execution_count": 20,
     "metadata": {},
     "output_type": "execute_result"
    }
   ],
   "source": [
    "#Get values of initial variables for the point of interest\n",
    "copy_ii = initial_image.set('system:time_start', 0)\n",
    "intial_imgs = ee.ImageCollection(ee.List([copy_ii]))\n",
    "initial_arr = intial_imgs.getRegion(poi, scale).getInfo()\n",
    "idf = ee_array_to_df(initial_arr, [\"pr\", \"pet\", \"ro\", \"eprec\", \"aet\", \"sstor\", \"perc\", \"bflow\", \"wyield\"]).sort_index()\n",
    "idf"
   ]
  },
  {
   "cell_type": "code",
   "execution_count": 21,
   "metadata": {},
   "outputs": [
    {
     "data": {
      "text/html": [
       "\n",
       "            <style>\n",
       "                .geemap-dark {\n",
       "                    --jp-widgets-color: white;\n",
       "                    --jp-widgets-label-color: white;\n",
       "                    --jp-ui-font-color1: white;\n",
       "                    --jp-layout-color2: #454545;\n",
       "                    background-color: #383838;\n",
       "                }\n",
       "\n",
       "                .geemap-dark .jupyter-button {\n",
       "                    --jp-layout-color3: #383838;\n",
       "                }\n",
       "\n",
       "                .geemap-colab {\n",
       "                    background-color: var(--colab-primary-surface-color, white);\n",
       "                }\n",
       "\n",
       "                .geemap-colab .jupyter-button {\n",
       "                    --jp-layout-color3: var(--colab-primary-surface-color, white);\n",
       "                }\n",
       "            </style>\n",
       "            "
      ],
      "text/plain": [
       "<IPython.core.display.HTML object>"
      ]
     },
     "metadata": {},
     "output_type": "display_data"
    },
    {
     "data": {
      "text/html": [
       "<div>\n",
       "<style scoped>\n",
       "    .dataframe tbody tr th:only-of-type {\n",
       "        vertical-align: middle;\n",
       "    }\n",
       "\n",
       "    .dataframe tbody tr th {\n",
       "        vertical-align: top;\n",
       "    }\n",
       "\n",
       "    .dataframe thead th {\n",
       "        text-align: right;\n",
       "    }\n",
       "</style>\n",
       "<table border=\"1\" class=\"dataframe\">\n",
       "  <thead>\n",
       "    <tr style=\"text-align: right;\">\n",
       "      <th></th>\n",
       "      <th>time</th>\n",
       "      <th>pr</th>\n",
       "      <th>pet</th>\n",
       "      <th>ro</th>\n",
       "      <th>eprec</th>\n",
       "      <th>aet</th>\n",
       "      <th>sstor</th>\n",
       "      <th>perc</th>\n",
       "      <th>bflow</th>\n",
       "      <th>wyield</th>\n",
       "    </tr>\n",
       "    <tr>\n",
       "      <th>datetime</th>\n",
       "      <th></th>\n",
       "      <th></th>\n",
       "      <th></th>\n",
       "      <th></th>\n",
       "      <th></th>\n",
       "      <th></th>\n",
       "      <th></th>\n",
       "      <th></th>\n",
       "      <th></th>\n",
       "      <th></th>\n",
       "    </tr>\n",
       "  </thead>\n",
       "  <tbody>\n",
       "    <tr>\n",
       "      <th>1970-01</th>\n",
       "      <td>0</td>\n",
       "      <td>0</td>\n",
       "      <td>0.0</td>\n",
       "      <td>0</td>\n",
       "      <td>0</td>\n",
       "      <td>0.000000</td>\n",
       "      <td>1.666400e+00</td>\n",
       "      <td>0.000</td>\n",
       "      <td>10.000000</td>\n",
       "      <td>0.000000</td>\n",
       "    </tr>\n",
       "    <tr>\n",
       "      <th>2018-01</th>\n",
       "      <td>1514764800000</td>\n",
       "      <td>279</td>\n",
       "      <td>71.6</td>\n",
       "      <td>207</td>\n",
       "      <td>72</td>\n",
       "      <td>71.600000</td>\n",
       "      <td>1.666400e+01</td>\n",
       "      <td>0.400</td>\n",
       "      <td>9.809721</td>\n",
       "      <td>216.809721</td>\n",
       "    </tr>\n",
       "    <tr>\n",
       "      <th>2018-02</th>\n",
       "      <td>1517443200000</td>\n",
       "      <td>245</td>\n",
       "      <td>69.4</td>\n",
       "      <td>176</td>\n",
       "      <td>69</td>\n",
       "      <td>68.604763</td>\n",
       "      <td>1.626876e+01</td>\n",
       "      <td>0.000</td>\n",
       "      <td>4.904861</td>\n",
       "      <td>180.904861</td>\n",
       "    </tr>\n",
       "    <tr>\n",
       "      <th>2018-03</th>\n",
       "      <td>1519862400000</td>\n",
       "      <td>295</td>\n",
       "      <td>79.8</td>\n",
       "      <td>216</td>\n",
       "      <td>79</td>\n",
       "      <td>78.237426</td>\n",
       "      <td>1.550619e+01</td>\n",
       "      <td>0.000</td>\n",
       "      <td>2.452430</td>\n",
       "      <td>218.452430</td>\n",
       "    </tr>\n",
       "    <tr>\n",
       "      <th>2018-04</th>\n",
       "      <td>1522540800000</td>\n",
       "      <td>258</td>\n",
       "      <td>80.6</td>\n",
       "      <td>178</td>\n",
       "      <td>80</td>\n",
       "      <td>79.451620</td>\n",
       "      <td>1.495781e+01</td>\n",
       "      <td>0.000</td>\n",
       "      <td>1.226215</td>\n",
       "      <td>179.226215</td>\n",
       "    </tr>\n",
       "    <tr>\n",
       "      <th>...</th>\n",
       "      <td>...</td>\n",
       "      <td>...</td>\n",
       "      <td>...</td>\n",
       "      <td>...</td>\n",
       "      <td>...</td>\n",
       "      <td>...</td>\n",
       "      <td>...</td>\n",
       "      <td>...</td>\n",
       "      <td>...</td>\n",
       "      <td>...</td>\n",
       "    </tr>\n",
       "    <tr>\n",
       "      <th>2023-08</th>\n",
       "      <td>1690848000000</td>\n",
       "      <td>13</td>\n",
       "      <td>127.7</td>\n",
       "      <td>1</td>\n",
       "      <td>12</td>\n",
       "      <td>11.999103</td>\n",
       "      <td>8.664626e-07</td>\n",
       "      <td>0.000</td>\n",
       "      <td>0.127163</td>\n",
       "      <td>1.127163</td>\n",
       "    </tr>\n",
       "    <tr>\n",
       "      <th>2023-09</th>\n",
       "      <td>1693526400000</td>\n",
       "      <td>17</td>\n",
       "      <td>133.7</td>\n",
       "      <td>1</td>\n",
       "      <td>16</td>\n",
       "      <td>15.999999</td>\n",
       "      <td>7.417735e-10</td>\n",
       "      <td>0.000</td>\n",
       "      <td>0.063581</td>\n",
       "      <td>1.063581</td>\n",
       "    </tr>\n",
       "    <tr>\n",
       "      <th>2023-10</th>\n",
       "      <td>1696118400000</td>\n",
       "      <td>53</td>\n",
       "      <td>130.3</td>\n",
       "      <td>3</td>\n",
       "      <td>50</td>\n",
       "      <td>50.000000</td>\n",
       "      <td>5.991086e-12</td>\n",
       "      <td>0.000</td>\n",
       "      <td>0.031791</td>\n",
       "      <td>3.031791</td>\n",
       "    </tr>\n",
       "    <tr>\n",
       "      <th>2023-11</th>\n",
       "      <td>1698796800000</td>\n",
       "      <td>103</td>\n",
       "      <td>112.1</td>\n",
       "      <td>5</td>\n",
       "      <td>98</td>\n",
       "      <td>98.000000</td>\n",
       "      <td>2.570595e-12</td>\n",
       "      <td>0.000</td>\n",
       "      <td>0.015895</td>\n",
       "      <td>5.015895</td>\n",
       "    </tr>\n",
       "    <tr>\n",
       "      <th>2023-12</th>\n",
       "      <td>1701388800000</td>\n",
       "      <td>289</td>\n",
       "      <td>93.4</td>\n",
       "      <td>15</td>\n",
       "      <td>274</td>\n",
       "      <td>93.400000</td>\n",
       "      <td>1.666400e+01</td>\n",
       "      <td>163.936</td>\n",
       "      <td>81.975948</td>\n",
       "      <td>96.975948</td>\n",
       "    </tr>\n",
       "  </tbody>\n",
       "</table>\n",
       "<p>73 rows × 10 columns</p>\n",
       "</div>"
      ],
      "text/plain": [
       "0                  time   pr    pet   ro  eprec        aet         sstor  \\\n",
       "datetime                                                                   \n",
       "1970-01               0    0    0.0    0      0   0.000000  1.666400e+00   \n",
       "2018-01   1514764800000  279   71.6  207     72  71.600000  1.666400e+01   \n",
       "2018-02   1517443200000  245   69.4  176     69  68.604763  1.626876e+01   \n",
       "2018-03   1519862400000  295   79.8  216     79  78.237426  1.550619e+01   \n",
       "2018-04   1522540800000  258   80.6  178     80  79.451620  1.495781e+01   \n",
       "...                 ...  ...    ...  ...    ...        ...           ...   \n",
       "2023-08   1690848000000   13  127.7    1     12  11.999103  8.664626e-07   \n",
       "2023-09   1693526400000   17  133.7    1     16  15.999999  7.417735e-10   \n",
       "2023-10   1696118400000   53  130.3    3     50  50.000000  5.991086e-12   \n",
       "2023-11   1698796800000  103  112.1    5     98  98.000000  2.570595e-12   \n",
       "2023-12   1701388800000  289   93.4   15    274  93.400000  1.666400e+01   \n",
       "\n",
       "0            perc      bflow      wyield  \n",
       "datetime                                  \n",
       "1970-01     0.000  10.000000    0.000000  \n",
       "2018-01     0.400   9.809721  216.809721  \n",
       "2018-02     0.000   4.904861  180.904861  \n",
       "2018-03     0.000   2.452430  218.452430  \n",
       "2018-04     0.000   1.226215  179.226215  \n",
       "...           ...        ...         ...  \n",
       "2023-08     0.000   0.127163    1.127163  \n",
       "2023-09     0.000   0.063581    1.063581  \n",
       "2023-10     0.000   0.031791    3.031791  \n",
       "2023-11     0.000   0.015895    5.015895  \n",
       "2023-12   163.936  81.975948   96.975948  \n",
       "\n",
       "[73 rows x 10 columns]"
      ]
     },
     "execution_count": 21,
     "metadata": {},
     "output_type": "execute_result"
    }
   ],
   "source": [
    "rdff = pd.concat([idf, rdf])\n",
    "#rdf.to_excel(\"D:\\Borrar\\wb_point.xlsx\")\n",
    "rdff.to_csv(\"D:\\Borrar\\wb_point.csv\")\n",
    "rdff"
   ]
  },
  {
   "cell_type": "code",
   "execution_count": 22,
   "metadata": {},
   "outputs": [
    {
     "data": {
      "text/html": [
       "\n",
       "            <style>\n",
       "                .geemap-dark {\n",
       "                    --jp-widgets-color: white;\n",
       "                    --jp-widgets-label-color: white;\n",
       "                    --jp-ui-font-color1: white;\n",
       "                    --jp-layout-color2: #454545;\n",
       "                    background-color: #383838;\n",
       "                }\n",
       "\n",
       "                .geemap-dark .jupyter-button {\n",
       "                    --jp-layout-color3: #383838;\n",
       "                }\n",
       "\n",
       "                .geemap-colab {\n",
       "                    background-color: var(--colab-primary-surface-color, white);\n",
       "                }\n",
       "\n",
       "                .geemap-colab .jupyter-button {\n",
       "                    --jp-layout-color3: var(--colab-primary-surface-color, white);\n",
       "                }\n",
       "            </style>\n",
       "            "
      ],
      "text/plain": [
       "<IPython.core.display.HTML object>"
      ]
     },
     "metadata": {},
     "output_type": "display_data"
    }
   ],
   "source": [
    "#############################\n",
    "# HELPFUL CODES\n",
    "#############################\n",
    "\n",
    "# To know how many bands an ImageCollection has\n",
    "#terraclimate.size().getInfo()\n",
    "\n",
    "# To get the attributes (columns) as pandas dataframe\n",
    "#geemap.ee_to_df(hydrobasins)\n",
    "\n",
    "# Display imaga metada\n",
    "#display(ee.ImageCollection.first())"
   ]
  },
  {
   "cell_type": "code",
   "execution_count": 23,
   "metadata": {},
   "outputs": [
    {
     "data": {
      "text/html": [
       "\n",
       "            <style>\n",
       "                .geemap-dark {\n",
       "                    --jp-widgets-color: white;\n",
       "                    --jp-widgets-label-color: white;\n",
       "                    --jp-ui-font-color1: white;\n",
       "                    --jp-layout-color2: #454545;\n",
       "                    background-color: #383838;\n",
       "                }\n",
       "\n",
       "                .geemap-dark .jupyter-button {\n",
       "                    --jp-layout-color3: #383838;\n",
       "                }\n",
       "\n",
       "                .geemap-colab {\n",
       "                    background-color: var(--colab-primary-surface-color, white);\n",
       "                }\n",
       "\n",
       "                .geemap-colab .jupyter-button {\n",
       "                    --jp-layout-color3: var(--colab-primary-surface-color, white);\n",
       "                }\n",
       "            </style>\n",
       "            "
      ],
      "text/plain": [
       "<IPython.core.display.HTML object>"
      ]
     },
     "metadata": {},
     "output_type": "display_data"
    }
   ],
   "source": [
    "# Access an image asset from my account to test the code\n",
    "#guate_bdry = ee.FeatureCollection('users/jvg/guatemala_buffer')\n",
    "#guate_geom = guate_bdry.geometry()\n",
    "#Map.centerObject(guate_geom)\n",
    "#Map.addLayer(guate_bdry, {\"color\": 'red'}, 'Guatemala Boundary')"
   ]
  }
 ],
 "metadata": {
  "kernelspec": {
   "display_name": "Python 3",
   "language": "python",
   "name": "python3"
  },
  "language_info": {
   "codemirror_mode": {
    "name": "ipython",
    "version": 3
   },
   "file_extension": ".py",
   "mimetype": "text/x-python",
   "name": "python",
   "nbconvert_exporter": "python",
   "pygments_lexer": "ipython3",
   "version": "3.11.8"
  }
 },
 "nbformat": 4,
 "nbformat_minor": 2
}
