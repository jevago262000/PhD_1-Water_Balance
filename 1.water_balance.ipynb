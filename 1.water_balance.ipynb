{
 "cells": [
  {
   "cell_type": "code",
   "execution_count": 89,
   "metadata": {},
   "outputs": [
    {
     "data": {
      "text/html": [
       "\n",
       "            <style>\n",
       "                .geemap-dark {\n",
       "                    --jp-widgets-color: white;\n",
       "                    --jp-widgets-label-color: white;\n",
       "                    --jp-ui-font-color1: white;\n",
       "                    --jp-layout-color2: #454545;\n",
       "                    background-color: #383838;\n",
       "                }\n",
       "\n",
       "                .geemap-dark .jupyter-button {\n",
       "                    --jp-layout-color3: #383838;\n",
       "                }\n",
       "\n",
       "                .geemap-colab {\n",
       "                    background-color: var(--colab-primary-surface-color, white);\n",
       "                }\n",
       "\n",
       "                .geemap-colab .jupyter-button {\n",
       "                    --jp-layout-color3: var(--colab-primary-surface-color, white);\n",
       "                }\n",
       "            </style>\n",
       "            "
      ],
      "text/plain": [
       "<IPython.core.display.HTML object>"
      ]
     },
     "metadata": {},
     "output_type": "display_data"
    }
   ],
   "source": [
    "# If not installed, run this cell. It is needed for access to GEE\n",
    "#!pip install ee\n",
    "#!pip show ee"
   ]
  },
  {
   "cell_type": "code",
   "execution_count": 90,
   "metadata": {},
   "outputs": [
    {
     "data": {
      "text/html": [
       "\n",
       "            <style>\n",
       "                .geemap-dark {\n",
       "                    --jp-widgets-color: white;\n",
       "                    --jp-widgets-label-color: white;\n",
       "                    --jp-ui-font-color1: white;\n",
       "                    --jp-layout-color2: #454545;\n",
       "                    background-color: #383838;\n",
       "                }\n",
       "\n",
       "                .geemap-dark .jupyter-button {\n",
       "                    --jp-layout-color3: #383838;\n",
       "                }\n",
       "\n",
       "                .geemap-colab {\n",
       "                    background-color: var(--colab-primary-surface-color, white);\n",
       "                }\n",
       "\n",
       "                .geemap-colab .jupyter-button {\n",
       "                    --jp-layout-color3: var(--colab-primary-surface-color, white);\n",
       "                }\n",
       "            </style>\n",
       "            "
      ],
      "text/plain": [
       "<IPython.core.display.HTML object>"
      ]
     },
     "metadata": {},
     "output_type": "display_data"
    }
   ],
   "source": [
    "# If not installed, run this cell. It helps visualization of data\n",
    "#!pip install geemap\n",
    "#!pip show geemap"
   ]
  },
  {
   "cell_type": "code",
   "execution_count": 91,
   "metadata": {},
   "outputs": [
    {
     "data": {
      "text/html": [
       "\n",
       "            <style>\n",
       "                .geemap-dark {\n",
       "                    --jp-widgets-color: white;\n",
       "                    --jp-widgets-label-color: white;\n",
       "                    --jp-ui-font-color1: white;\n",
       "                    --jp-layout-color2: #454545;\n",
       "                    background-color: #383838;\n",
       "                }\n",
       "\n",
       "                .geemap-dark .jupyter-button {\n",
       "                    --jp-layout-color3: #383838;\n",
       "                }\n",
       "\n",
       "                .geemap-colab {\n",
       "                    background-color: var(--colab-primary-surface-color, white);\n",
       "                }\n",
       "\n",
       "                .geemap-colab .jupyter-button {\n",
       "                    --jp-layout-color3: var(--colab-primary-surface-color, white);\n",
       "                }\n",
       "            </style>\n",
       "            "
      ],
      "text/plain": [
       "<IPython.core.display.HTML object>"
      ]
     },
     "metadata": {},
     "output_type": "display_data"
    }
   ],
   "source": [
    "# Import libraries\n",
    "import ee, datetime, pandas as pd, geemap"
   ]
  },
  {
   "cell_type": "code",
   "execution_count": 92,
   "metadata": {},
   "outputs": [
    {
     "data": {
      "text/html": [
       "\n",
       "            <style>\n",
       "                .geemap-dark {\n",
       "                    --jp-widgets-color: white;\n",
       "                    --jp-widgets-label-color: white;\n",
       "                    --jp-ui-font-color1: white;\n",
       "                    --jp-layout-color2: #454545;\n",
       "                    background-color: #383838;\n",
       "                }\n",
       "\n",
       "                .geemap-dark .jupyter-button {\n",
       "                    --jp-layout-color3: #383838;\n",
       "                }\n",
       "\n",
       "                .geemap-colab {\n",
       "                    background-color: var(--colab-primary-surface-color, white);\n",
       "                }\n",
       "\n",
       "                .geemap-colab .jupyter-button {\n",
       "                    --jp-layout-color3: var(--colab-primary-surface-color, white);\n",
       "                }\n",
       "            </style>\n",
       "            "
      ],
      "text/plain": [
       "<IPython.core.display.HTML object>"
      ]
     },
     "metadata": {},
     "output_type": "display_data"
    }
   ],
   "source": [
    "# Trigger the authentication flow.\n",
    "ee.Authenticate()\n",
    "\n",
    "# Initialize the library.\n",
    "ee.Initialize(project='ee-jvg')"
   ]
  },
  {
   "cell_type": "code",
   "execution_count": 93,
   "metadata": {},
   "outputs": [
    {
     "data": {
      "text/html": [
       "\n",
       "            <style>\n",
       "                .geemap-dark {\n",
       "                    --jp-widgets-color: white;\n",
       "                    --jp-widgets-label-color: white;\n",
       "                    --jp-ui-font-color1: white;\n",
       "                    --jp-layout-color2: #454545;\n",
       "                    background-color: #383838;\n",
       "                }\n",
       "\n",
       "                .geemap-dark .jupyter-button {\n",
       "                    --jp-layout-color3: #383838;\n",
       "                }\n",
       "\n",
       "                .geemap-colab {\n",
       "                    background-color: var(--colab-primary-surface-color, white);\n",
       "                }\n",
       "\n",
       "                .geemap-colab .jupyter-button {\n",
       "                    --jp-layout-color3: var(--colab-primary-surface-color, white);\n",
       "                }\n",
       "            </style>\n",
       "            "
      ],
      "text/plain": [
       "<IPython.core.display.HTML object>"
      ]
     },
     "metadata": {},
     "output_type": "display_data"
    },
    {
     "data": {
      "application/vnd.jupyter.widget-view+json": {
       "model_id": "b5278eaf3dba4f95adf850db04504877",
       "version_major": 2,
       "version_minor": 0
      },
      "text/plain": [
       "Map(center=[0, 0], controls=(WidgetControl(options=['position', 'transparent_bg'], widget=SearchDataGUI(childr…"
      ]
     },
     "metadata": {},
     "output_type": "display_data"
    }
   ],
   "source": [
    "Map = geemap.Map()\n",
    "Map"
   ]
  },
  {
   "cell_type": "code",
   "execution_count": 94,
   "metadata": {},
   "outputs": [
    {
     "data": {
      "text/html": [
       "\n",
       "            <style>\n",
       "                .geemap-dark {\n",
       "                    --jp-widgets-color: white;\n",
       "                    --jp-widgets-label-color: white;\n",
       "                    --jp-ui-font-color1: white;\n",
       "                    --jp-layout-color2: #454545;\n",
       "                    background-color: #383838;\n",
       "                }\n",
       "\n",
       "                .geemap-dark .jupyter-button {\n",
       "                    --jp-layout-color3: #383838;\n",
       "                }\n",
       "\n",
       "                .geemap-colab {\n",
       "                    background-color: var(--colab-primary-surface-color, white);\n",
       "                }\n",
       "\n",
       "                .geemap-colab .jupyter-button {\n",
       "                    --jp-layout-color3: var(--colab-primary-surface-color, white);\n",
       "                }\n",
       "            </style>\n",
       "            "
      ],
      "text/plain": [
       "<IPython.core.display.HTML object>"
      ]
     },
     "metadata": {},
     "output_type": "display_data"
    }
   ],
   "source": [
    "def determine_period(start_date, end_date, warmup_yrs = 0):\n",
    "    ini_date = str((int(start_date.split(\"-\")[0]) + int(warmup_yrs))) + \"-\" + start_date.split(\"-\")[1]\n",
    "    if (end_date.split(\"-\")[1]) == \"12\":\n",
    "        fin_date = str(int(end_date.split(\"-\")[0]) + 1) + \"-01\"\n",
    "        fin_yr = int(fin_date.split(\"-\")[0])\n",
    "    else:\n",
    "        fin_date = str(int(end_date.split(\"-\")[0])) + \"-\" + str(int(end_date.split(\"-\")[1]) + 1)\n",
    "        fin_yr = int(fin_date.split(\"-\")[0]) + 1\n",
    "\n",
    "    if (datetime.datetime(int(ini_date.split(\"-\")[0]), int(ini_date.split(\"-\")[1]), 1) >= datetime.datetime(int(fin_date.split(\"-\")[0]), int(fin_date.split(\"-\")[1]), 1)):\n",
    "        if (warmup_yrs != 0):\n",
    "            print (\"Start date is finally set beyond or same as the end date! Please consider the implications of the warm-up years. Remember that end date is exclusive\")\n",
    "        else:\n",
    "            print (\"Start date is finally set beyond or same as the end date! Please review your input dates. Remember that end date is exclusive\")\n",
    "        raise SystemExit()\n",
    "\n",
    "    ini_yr = int(ini_date.split(\"-\")[0])\n",
    "\n",
    "    print (ini_date, fin_date, ini_yr, fin_yr)\n",
    "    return ini_date, fin_date, ini_yr, fin_yr"
   ]
  },
  {
   "cell_type": "code",
   "execution_count": 95,
   "metadata": {},
   "outputs": [
    {
     "data": {
      "text/html": [
       "\n",
       "            <style>\n",
       "                .geemap-dark {\n",
       "                    --jp-widgets-color: white;\n",
       "                    --jp-widgets-label-color: white;\n",
       "                    --jp-ui-font-color1: white;\n",
       "                    --jp-layout-color2: #454545;\n",
       "                    background-color: #383838;\n",
       "                }\n",
       "\n",
       "                .geemap-dark .jupyter-button {\n",
       "                    --jp-layout-color3: #383838;\n",
       "                }\n",
       "\n",
       "                .geemap-colab {\n",
       "                    background-color: var(--colab-primary-surface-color, white);\n",
       "                }\n",
       "\n",
       "                .geemap-colab .jupyter-button {\n",
       "                    --jp-layout-color3: var(--colab-primary-surface-color, white);\n",
       "                }\n",
       "            </style>\n",
       "            "
      ],
      "text/plain": [
       "<IPython.core.display.HTML object>"
      ]
     },
     "metadata": {},
     "output_type": "display_data"
    },
    {
     "name": "stdout",
     "output_type": "stream",
     "text": [
      "2017-01 2020-01 2017 2020\n"
     ]
    }
   ],
   "source": [
    "# Initial parameters\n",
    "warmup_yrs = 0\n",
    "start_date = '2017-01'\n",
    "end_date = '2019-12'\n",
    "ini_date, fin_date, ini_yr, fin_yr  = determine_period(start_date, end_date, warmup_yrs)\n",
    "years_execution = range(ini_yr, fin_yr)  # Years with available weather information to run the water balance\n",
    "amazon_basin_id = 6030007000 # This ID was identified by using the shapefiles available on the webpage of HydroSHEDS"
   ]
  },
  {
   "cell_type": "code",
   "execution_count": 96,
   "metadata": {},
   "outputs": [
    {
     "data": {
      "text/html": [
       "\n",
       "            <style>\n",
       "                .geemap-dark {\n",
       "                    --jp-widgets-color: white;\n",
       "                    --jp-widgets-label-color: white;\n",
       "                    --jp-ui-font-color1: white;\n",
       "                    --jp-layout-color2: #454545;\n",
       "                    background-color: #383838;\n",
       "                }\n",
       "\n",
       "                .geemap-dark .jupyter-button {\n",
       "                    --jp-layout-color3: #383838;\n",
       "                }\n",
       "\n",
       "                .geemap-colab {\n",
       "                    background-color: var(--colab-primary-surface-color, white);\n",
       "                }\n",
       "\n",
       "                .geemap-colab .jupyter-button {\n",
       "                    --jp-layout-color3: var(--colab-primary-surface-color, white);\n",
       "                }\n",
       "            </style>\n",
       "            "
      ],
      "text/plain": [
       "<IPython.core.display.HTML object>"
      ]
     },
     "metadata": {},
     "output_type": "display_data"
    }
   ],
   "source": [
    "######################################################\n",
    "### Starting values for the water balance model - T&M\n",
    "######################################################\n",
    "\n",
    "# The recession constant (k) will be determined from hydrographs derived from the gathered streamflow datasets. For the rest of the world, k will be defined as 0.5\n",
    "k_recession = 0.5 # Temporarily is defined as such\n",
    "\n",
    "# Initial soil water storage expressed as a fraction of water holding capacity [0-1]\n",
    "ffcb = 0.1 # 10%\n",
    "\n",
    "# Base flow of the previous month (mm)\n",
    "bflow_ant = 10"
   ]
  },
  {
   "cell_type": "code",
   "execution_count": 97,
   "metadata": {},
   "outputs": [
    {
     "data": {
      "text/html": [
       "\n",
       "            <style>\n",
       "                .geemap-dark {\n",
       "                    --jp-widgets-color: white;\n",
       "                    --jp-widgets-label-color: white;\n",
       "                    --jp-ui-font-color1: white;\n",
       "                    --jp-layout-color2: #454545;\n",
       "                    background-color: #383838;\n",
       "                }\n",
       "\n",
       "                .geemap-dark .jupyter-button {\n",
       "                    --jp-layout-color3: #383838;\n",
       "                }\n",
       "\n",
       "                .geemap-colab {\n",
       "                    background-color: var(--colab-primary-surface-color, white);\n",
       "                }\n",
       "\n",
       "                .geemap-colab .jupyter-button {\n",
       "                    --jp-layout-color3: var(--colab-primary-surface-color, white);\n",
       "                }\n",
       "            </style>\n",
       "            "
      ],
      "text/plain": [
       "<IPython.core.display.HTML object>"
      ]
     },
     "metadata": {},
     "output_type": "display_data"
    }
   ],
   "source": [
    "# HydroSHEDS v1 will be used. Specifically, its HydroBASINS\n",
    "hydrobasins = ee.FeatureCollection('WWF/HydroSHEDS/v1/Basins/hybas_3')\n",
    "zoi = hydrobasins.select(\"HYBAS_ID\").filter(ee.Filter.eq(\"HYBAS_ID\", amazon_basin_id))\n",
    "visualization = {\n",
    "  \"color\": '808080',\n",
    "  \"strokeWidth\": 1\n",
    "}\n",
    "Map.centerObject(zoi.geometry())\n",
    "Map.addLayer(zoi, visualization, 'Amazon Basin')"
   ]
  },
  {
   "cell_type": "code",
   "execution_count": 98,
   "metadata": {},
   "outputs": [
    {
     "data": {
      "text/html": [
       "\n",
       "            <style>\n",
       "                .geemap-dark {\n",
       "                    --jp-widgets-color: white;\n",
       "                    --jp-widgets-label-color: white;\n",
       "                    --jp-ui-font-color1: white;\n",
       "                    --jp-layout-color2: #454545;\n",
       "                    background-color: #383838;\n",
       "                }\n",
       "\n",
       "                .geemap-dark .jupyter-button {\n",
       "                    --jp-layout-color3: #383838;\n",
       "                }\n",
       "\n",
       "                .geemap-colab {\n",
       "                    background-color: var(--colab-primary-surface-color, white);\n",
       "                }\n",
       "\n",
       "                .geemap-colab .jupyter-button {\n",
       "                    --jp-layout-color3: var(--colab-primary-surface-color, white);\n",
       "                }\n",
       "            </style>\n",
       "            "
      ],
      "text/plain": [
       "<IPython.core.display.HTML object>"
      ]
     },
     "metadata": {},
     "output_type": "display_data"
    }
   ],
   "source": [
    "# Public link to the asset whc: https://code.earthengine.google.com/?asset=projects/ee-jvg/assets/whc_fc33\n",
    "whc = ee.Image('projects/ee-jvg/assets/whc_fc33')\n",
    "whc = whc.clip(zoi)\n",
    "Map.addLayer(whc, {}, 'Water Holding Capacity')"
   ]
  },
  {
   "cell_type": "code",
   "execution_count": 99,
   "metadata": {},
   "outputs": [
    {
     "data": {
      "text/html": [
       "\n",
       "            <style>\n",
       "                .geemap-dark {\n",
       "                    --jp-widgets-color: white;\n",
       "                    --jp-widgets-label-color: white;\n",
       "                    --jp-ui-font-color1: white;\n",
       "                    --jp-layout-color2: #454545;\n",
       "                    background-color: #383838;\n",
       "                }\n",
       "\n",
       "                .geemap-dark .jupyter-button {\n",
       "                    --jp-layout-color3: #383838;\n",
       "                }\n",
       "\n",
       "                .geemap-colab {\n",
       "                    background-color: var(--colab-primary-surface-color, white);\n",
       "                }\n",
       "\n",
       "                .geemap-colab .jupyter-button {\n",
       "                    --jp-layout-color3: var(--colab-primary-surface-color, white);\n",
       "                }\n",
       "            </style>\n",
       "            "
      ],
      "text/plain": [
       "<IPython.core.display.HTML object>"
      ]
     },
     "metadata": {},
     "output_type": "display_data"
    }
   ],
   "source": [
    "# TerraClimate layers filtered with \"start_date\" (inclusive) and \"end_date\" (exclusive) and clipped to \"zoi\"\n",
    "terraclimate = ee.ImageCollection('IDAHO_EPSCOR/TERRACLIMATE').filter(ee.Filter.date(ini_date, fin_date)).map(lambda image: image.clip(zoi))\n",
    "num_months = terraclimate.size().getInfo()"
   ]
  },
  {
   "cell_type": "code",
   "execution_count": 100,
   "metadata": {},
   "outputs": [
    {
     "data": {
      "text/html": [
       "\n",
       "            <style>\n",
       "                .geemap-dark {\n",
       "                    --jp-widgets-color: white;\n",
       "                    --jp-widgets-label-color: white;\n",
       "                    --jp-ui-font-color1: white;\n",
       "                    --jp-layout-color2: #454545;\n",
       "                    background-color: #383838;\n",
       "                }\n",
       "\n",
       "                .geemap-dark .jupyter-button {\n",
       "                    --jp-layout-color3: #383838;\n",
       "                }\n",
       "\n",
       "                .geemap-colab {\n",
       "                    background-color: var(--colab-primary-surface-color, white);\n",
       "                }\n",
       "\n",
       "                .geemap-colab .jupyter-button {\n",
       "                    --jp-layout-color3: var(--colab-primary-surface-color, white);\n",
       "                }\n",
       "            </style>\n",
       "            "
      ],
      "text/plain": [
       "<IPython.core.display.HTML object>"
      ]
     },
     "metadata": {},
     "output_type": "display_data"
    }
   ],
   "source": [
    "# Initial images and time to start the water balance\n",
    "k = ee.Image(k_recession)\n",
    "st0 = whc.multiply(ffcb)\n",
    "bf0 = ee.Image(bflow_ant)\n",
    "time0 = terraclimate.first().get(\"system:time_start\") # Define the initial time (time0) according to the start of the collection"
   ]
  },
  {
   "cell_type": "code",
   "execution_count": 101,
   "metadata": {},
   "outputs": [
    {
     "data": {
      "text/html": [
       "\n",
       "            <style>\n",
       "                .geemap-dark {\n",
       "                    --jp-widgets-color: white;\n",
       "                    --jp-widgets-label-color: white;\n",
       "                    --jp-ui-font-color1: white;\n",
       "                    --jp-layout-color2: #454545;\n",
       "                    background-color: #383838;\n",
       "                }\n",
       "\n",
       "                .geemap-dark .jupyter-button {\n",
       "                    --jp-layout-color3: #383838;\n",
       "                }\n",
       "\n",
       "                .geemap-colab {\n",
       "                    background-color: var(--colab-primary-surface-color, white);\n",
       "                }\n",
       "\n",
       "                .geemap-colab .jupyter-button {\n",
       "                    --jp-layout-color3: var(--colab-primary-surface-color, white);\n",
       "                }\n",
       "            </style>\n",
       "            "
      ],
      "text/plain": [
       "<IPython.core.display.HTML object>"
      ]
     },
     "metadata": {},
     "output_type": "display_data"
    }
   ],
   "source": [
    "# Initialization of ALL bands.\n",
    "# Mandatory to cast the type of the data with a .float().\n",
    "\n",
    "# Initialization of precipitation\n",
    "initial_pr = ee.Image(0).set(\"system:time_start\", time0).select([0], [\"pr\"]).float()\n",
    "\n",
    "# Initialization of potential evapotranspiration\n",
    "initial_pet = ee.Image(0).set(\"system:time_start\", time0).select([0], [\"pet\"]).float()\n",
    "\n",
    "# Initialization of runoff\n",
    "initial_ro = ee.Image(0).set(\"system:time_start\", time0).select([0], [\"ro\"]).float()\n",
    "\n",
    "# Initialization of effective precipitation\n",
    "initial_ep = ee.Image(0).set(\"system:time_start\", time0).select([0], [\"eprec\"]).float()\n",
    "\n",
    "# Initialization of actual evapotranspiration\n",
    "initial_aet = ee.Image(0).set(\"system:time_start\", time0).select([0], [\"aet\"]).float()\n",
    "\n",
    "# Initialization of percolation\n",
    "initial_pc = ee.Image(0).set(\"system:time_start\", time0).select([0], [\"perc\"]).float()\n",
    "\n",
    "# Initialization of soil storage, which is considered to be a fraction of WCH\n",
    "initial_st = st0.set(\"system:time_start\", time0).select([0], [\"sstor\"]).float()\n",
    "\n",
    "# Initialization of base flow, which is considered as defined in Ulmen (2000)\n",
    "initial_bf = bf0.set(\"system:time_start\", time0).select([0], [\"bflow\"]).float()\n",
    "\n",
    "# Initialization of water yield\n",
    "initial_wy = ee.Image(0).set(\"system:time_start\", time0).select([0], [\"wyield\"]).float()"
   ]
  },
  {
   "cell_type": "code",
   "execution_count": 103,
   "metadata": {},
   "outputs": [
    {
     "data": {
      "text/html": [
       "\n",
       "            <style>\n",
       "                .geemap-dark {\n",
       "                    --jp-widgets-color: white;\n",
       "                    --jp-widgets-label-color: white;\n",
       "                    --jp-ui-font-color1: white;\n",
       "                    --jp-layout-color2: #454545;\n",
       "                    background-color: #383838;\n",
       "                }\n",
       "\n",
       "                .geemap-dark .jupyter-button {\n",
       "                    --jp-layout-color3: #383838;\n",
       "                }\n",
       "\n",
       "                .geemap-colab {\n",
       "                    background-color: var(--colab-primary-surface-color, white);\n",
       "                }\n",
       "\n",
       "                .geemap-colab .jupyter-button {\n",
       "                    --jp-layout-color3: var(--colab-primary-surface-color, white);\n",
       "                }\n",
       "            </style>\n",
       "            "
      ],
      "text/plain": [
       "<IPython.core.display.HTML object>"
      ]
     },
     "metadata": {},
     "output_type": "display_data"
    }
   ],
   "source": [
    "# All initial bands are combined into one \"ee.Image\" by adding them to the first band (wy)\n",
    "initial_image = initial_wy.addBands(\n",
    "    ee.Image([initial_pr, initial_pet, initial_ro, initial_ep, initial_aet, initial_pc, initial_st, initial_bf])\n",
    ")\n",
    "\n",
    "# Initiatlization of list that will contain new images after each iteration\n",
    "image_list = ee.List([initial_image])"
   ]
  },
  {
   "cell_type": "code",
   "execution_count": 116,
   "metadata": {},
   "outputs": [
    {
     "data": {
      "text/html": [
       "\n",
       "            <style>\n",
       "                .geemap-dark {\n",
       "                    --jp-widgets-color: white;\n",
       "                    --jp-widgets-label-color: white;\n",
       "                    --jp-ui-font-color1: white;\n",
       "                    --jp-layout-color2: #454545;\n",
       "                    background-color: #383838;\n",
       "                }\n",
       "\n",
       "                .geemap-dark .jupyter-button {\n",
       "                    --jp-layout-color3: #383838;\n",
       "                }\n",
       "\n",
       "                .geemap-colab {\n",
       "                    background-color: var(--colab-primary-surface-color, white);\n",
       "                }\n",
       "\n",
       "                .geemap-colab .jupyter-button {\n",
       "                    --jp-layout-color3: var(--colab-primary-surface-color, white);\n",
       "                }\n",
       "            </style>\n",
       "            "
      ],
      "text/plain": [
       "<IPython.core.display.HTML object>"
      ]
     },
     "metadata": {},
     "output_type": "display_data"
    }
   ],
   "source": [
    "def water_balance(image, image_list):\n",
    "    \n",
    "    # Determine the date of the current ee.Image of the collection.\n",
    "    localdate = image.date().millis()\n",
    "\n",
    "    # Import previous image stored in the list\n",
    "    prev_im = ee.Image(ee.List(image_list).get(-1))\n",
    "\n",
    "    # Import previous APWL and ST.\n",
    "    prev_ep = prev_im.select(\"eprec\")\n",
    "    prev_aet = prev_im.select(\"aet\")\n",
    "    prev_pc = prev_im.select(\"perc\")\n",
    "    prev_st = prev_im.select(\"sstor\")\n",
    "    prev_bf = prev_im.select(\"bflow\")\n",
    "\n",
    "    # Import current precipitation, potential evapotranspiration, and runoff\n",
    "    pr_im = image.select(\"pr\")\n",
    "    pet_im = image.select(\"pet\").multiply(0.1) # Scale factor: 0.1\n",
    "    ro_im = terraclimate.select('ro')\n",
    "\n",
    "    # Initialize the new bands associated with wyield, eprec, aet, perc, sstor, and bflow\n",
    "    new_wy = (\n",
    "        ee.Image(0)\n",
    "        .set(\"system:time_start\", localdate)\n",
    "        .select([0], [\"wyield\"])\n",
    "        .float()\n",
    "    )\n",
    "\n",
    "    new_ep = (\n",
    "        pr_im.subtract(ro_im)\n",
    "        .set(\"system:time_start\", localdate)\n",
    "        .select([0], [\"eprec\"])\n",
    "        .float()\n",
    "    )\n",
    "\n",
    "    new_ep = (\n",
    "        ee.Image(0)\n",
    "        .set(\"system:time_start\", localdate)\n",
    "        .select([0], [\"eprec\"])\n",
    "        .float()\n",
    "    )\n",
    "\n",
    "    new_aet = (\n",
    "        ee.Image(0)\n",
    "        .set(\"system:time_start\", localdate)\n",
    "        .select([0], [\"aet\"])\n",
    "        .float()\n",
    "    )\n",
    "\n",
    "    new_pc = (\n",
    "        ee.Image(0)\n",
    "        .set(\"system:time_start\", localdate)\n",
    "        .select([0], [\"perc\"])\n",
    "        .float()\n",
    "    )\n",
    "\n",
    "    new_st = (\n",
    "        prev_st.set(\"system:time_start\", localdate).select([0], [\"sstor\"]).float()\n",
    "    )\n",
    "\n",
    "    new_bf = (\n",
    "        ee.Image(0)\n",
    "        .set(\"system:time_start\", localdate)\n",
    "        .select([0], [\"bflow\"])\n",
    "        .float()\n",
    "    )\n",
    "\n",
    "    \n",
    "\n",
    "    return \"yeah\""
   ]
  },
  {
   "cell_type": "code",
   "execution_count": 117,
   "metadata": {},
   "outputs": [
    {
     "data": {
      "text/html": [
       "\n",
       "            <style>\n",
       "                .geemap-dark {\n",
       "                    --jp-widgets-color: white;\n",
       "                    --jp-widgets-label-color: white;\n",
       "                    --jp-ui-font-color1: white;\n",
       "                    --jp-layout-color2: #454545;\n",
       "                    background-color: #383838;\n",
       "                }\n",
       "\n",
       "                .geemap-dark .jupyter-button {\n",
       "                    --jp-layout-color3: #383838;\n",
       "                }\n",
       "\n",
       "                .geemap-colab {\n",
       "                    background-color: var(--colab-primary-surface-color, white);\n",
       "                }\n",
       "\n",
       "                .geemap-colab .jupyter-button {\n",
       "                    --jp-layout-color3: var(--colab-primary-surface-color, white);\n",
       "                }\n",
       "            </style>\n",
       "            "
      ],
      "text/plain": [
       "<IPython.core.display.HTML object>"
      ]
     },
     "metadata": {},
     "output_type": "display_data"
    }
   ],
   "source": [
    "# Iterate the user-supplied function to the terraclimate collection\n",
    "wy_list = terraclimate.iterate(water_balance, image_list)\n",
    "\n",
    "# Remove the initial image from our list\n",
    "wy_list = ee.List(wy_list).remove(initial_image)\n",
    "\n",
    "# Transform the list into an ee.ImageCollection\n",
    "wy_coll = ee.ImageCollection(wy_list)"
   ]
  },
  {
   "cell_type": "code",
   "execution_count": 57,
   "metadata": {},
   "outputs": [
    {
     "data": {
      "text/html": [
       "\n",
       "            <style>\n",
       "                .geemap-dark {\n",
       "                    --jp-widgets-color: white;\n",
       "                    --jp-widgets-label-color: white;\n",
       "                    --jp-ui-font-color1: white;\n",
       "                    --jp-layout-color2: #454545;\n",
       "                    background-color: #383838;\n",
       "                }\n",
       "\n",
       "                .geemap-dark .jupyter-button {\n",
       "                    --jp-layout-color3: #383838;\n",
       "                }\n",
       "\n",
       "                .geemap-colab {\n",
       "                    background-color: var(--colab-primary-surface-color, white);\n",
       "                }\n",
       "\n",
       "                .geemap-colab .jupyter-button {\n",
       "                    --jp-layout-color3: var(--colab-primary-surface-color, white);\n",
       "                }\n",
       "            </style>\n",
       "            "
      ],
      "text/plain": [
       "<IPython.core.display.HTML object>"
      ]
     },
     "metadata": {},
     "output_type": "display_data"
    }
   ],
   "source": [
    "#############################\n",
    "# HELPFUL CODES\n",
    "#############################\n",
    "\n",
    "# To know how many bands an ImageCollection has\n",
    "#terraclimate.size().getInfo()\n",
    "\n",
    "# To get the attributes (columns) as pandas dataframe\n",
    "#geemap.ee_to_df(hydrobasins)"
   ]
  },
  {
   "cell_type": "code",
   "execution_count": 6,
   "metadata": {},
   "outputs": [
    {
     "data": {
      "text/html": [
       "\n",
       "            <style>\n",
       "                .geemap-dark {\n",
       "                    --jp-widgets-color: white;\n",
       "                    --jp-widgets-label-color: white;\n",
       "                    --jp-ui-font-color1: white;\n",
       "                    --jp-layout-color2: #454545;\n",
       "                    background-color: #383838;\n",
       "                }\n",
       "\n",
       "                .geemap-dark .jupyter-button {\n",
       "                    --jp-layout-color3: #383838;\n",
       "                }\n",
       "\n",
       "                .geemap-colab {\n",
       "                    background-color: var(--colab-primary-surface-color, white);\n",
       "                }\n",
       "\n",
       "                .geemap-colab .jupyter-button {\n",
       "                    --jp-layout-color3: var(--colab-primary-surface-color, white);\n",
       "                }\n",
       "            </style>\n",
       "            "
      ],
      "text/plain": [
       "<IPython.core.display.HTML object>"
      ]
     },
     "metadata": {},
     "output_type": "display_data"
    }
   ],
   "source": [
    "# Access an image asset from my account to test the code\n",
    "#guate_bdry = ee.FeatureCollection('users/jvg/guatemala_buffer')\n",
    "#guate_geom = guate_bdry.geometry()\n",
    "#Map.centerObject(guate_geom)\n",
    "#Map.addLayer(guate_bdry, {\"color\": 'red'}, 'Guatemala Boundary')"
   ]
  }
 ],
 "metadata": {
  "kernelspec": {
   "display_name": "Python 3",
   "language": "python",
   "name": "python3"
  },
  "language_info": {
   "codemirror_mode": {
    "name": "ipython",
    "version": 3
   },
   "file_extension": ".py",
   "mimetype": "text/x-python",
   "name": "python",
   "nbconvert_exporter": "python",
   "pygments_lexer": "ipython3",
   "version": "3.11.8"
  }
 },
 "nbformat": 4,
 "nbformat_minor": 2
}
