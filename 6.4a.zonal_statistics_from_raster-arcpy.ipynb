{
 "cells": [
  {
   "cell_type": "code",
   "execution_count": 1,
   "id": "15b67f44",
   "metadata": {},
   "outputs": [],
   "source": [
    "import arcpy, pandas as pd\n",
    "from arcpy import env\n",
    "from arcpy.sa import *\n",
    "from otherfunctions import folders_exist"
   ]
  },
  {
   "cell_type": "code",
   "execution_count": null,
   "id": "b428b0ea",
   "metadata": {},
   "outputs": [],
   "source": [
    "# Paths to input datasets\n",
    "root_folder = r\"Z:\\PhD_Datasets&Analysis\\Info_Inputs\"\n",
    "css_folder = root_folder + \"\\\\Streamflow_Sts_Drainage_Areas\\GRDC_Watersheds\"\n",
    "tam_out_dir = r\"Z:\\PhD_Datasets&Analysis\\Outputs\\T&M_WBM\"\n",
    "tc_ds = root_folder + \"\\\\TerraClimate\"\n",
    "out_geotiff = tc_ds + \"\\\\GeoTIFF\"\n",
    "serial_id = 'grdcno_int'\n",
    "tc_vars = [\"ppt\", \"pet\", \"q\"] # variable names according to TerraClimate\n",
    "wb_var = 'wyield2' # Change this to the variable you want to process, e.g., 'wyield' for water yield"
   ]
  },
  {
   "cell_type": "code",
   "execution_count": 11,
   "id": "78faa1e4",
   "metadata": {},
   "outputs": [],
   "source": [
    "# Check out spatial analyst extension\n",
    "if arcpy.CheckExtension(\"spatial\") == \"Available\":\n",
    "    arcpy.CheckOutExtension(\"spatial\")\n",
    "else:\n",
    "    print(\"Spatial Analyst extension not available\")\n",
    "\n",
    "# Set arcpy environment variables\n",
    "env.parallelProcessingFactor = \"80%\"  # 100% uses all available cores\n",
    "env.overwriteOutput = True\n",
    "# env.cellSize = \"MINOF\" # Avoided to prevent huge files\n",
    "env.cellSize = out_geotiff + \"\\\\ppt_2023_1.tif\" # Use TerraClimate resolution as reference for cell size\n",
    "env.workspace = r\"Z:\\PhD_Datasets&Analysis\\_ProcessingCache\"\n",
    "env.outputCoordinateSystem = arcpy.SpatialReference(\"WGS 1984\") # WGS 1984 (4326)"
   ]
  },
  {
   "cell_type": "code",
   "execution_count": 13,
   "id": "c2d41050",
   "metadata": {},
   "outputs": [
    {
     "name": "stdout",
     "output_type": "stream",
     "text": [
      "Spatial Reference Name: GCS_WGS_1984\n",
      "Spatial Reference WKID: 4326\n"
     ]
    }
   ],
   "source": [
    "# Get the current environment's spatial reference\n",
    "spatial_ref = env.outputCoordinateSystem\n",
    "\n",
    "# Check if a spatial reference is set\n",
    "if spatial_ref:\n",
    "    print(f\"Spatial Reference Name: {spatial_ref.name}\")\n",
    "    print(f\"Spatial Reference WKID: {spatial_ref.factoryCode}\")\n",
    "else:\n",
    "    print(\"No spatial reference is set in the current environment.\")"
   ]
  },
  {
   "cell_type": "code",
   "execution_count": 15,
   "id": "a6f0b5b2",
   "metadata": {},
   "outputs": [
    {
     "name": "stdout",
     "output_type": "stream",
     "text": [
      "[3617110, 3617811, 3617812, 3617814, 3618051, 3618052, 3618500, 3618700, 3618711, 3618720, 3618721, 3618722, 3618950, 3618951, 3621200, 3623100, 3625000, 3626000, 3627000, 3628400, 3628701, 3628900, 3629001, 3630600, 3631100, 3632400, 3633120, 3633123, 3633160, 3633180, 3633301, 3634150, 3634160, 3634320, 3634340, 3634350, 3634360, 3634370, 3635030, 3635035, 3635040, 3635041, 3635301, 3635310, 3635360, 3635402, 3635408, 3635430, 3635440, 3635451, 3635600, 3635650, 3635651, 3637180, 3637380, 3637771, 3637772, 3637773, 3637774, 3637775, 3637790, 3637810, 3637910, 3638050, 3638051, 3638700, 3649010, 3649030, 3649050, 3649110, 3649130, 3649150, 3649151, 3649160, 3649210, 3649211, 3649240, 3649251, 3649310, 3649311, 3649320, 3649321, 3649325, 3649409, 3649411, 3649412, 3649413, 3649416, 3649418, 3649419, 3649420, 3649421, 3649422, 3649423, 3649424, 3649440, 3649450, 3649455, 3649459, 3649460, 3649510, 3649511, 3649610, 3649614, 3649617, 3649619, 3649850, 3649855, 3649901, 3649902, 3649904, 3649905, 3649906, 3649950, 3649960, 4101900, 4102100, 4103200, 4103600, 4103630, 4103650, 4103750, 4103800, 4105820, 4105850, 4113310, 4113315, 4113351, 4113600, 4115100, 4115200, 4115210, 4115220, 4115221, 4115224, 4115225, 4115230, 4115231, 4115235, 4115241, 4115300, 4115301, 4115305, 4115310, 4115311, 4115320, 4115321, 4115322, 4115330, 4115345, 4115350, 4115351, 4115401, 4115410, 4116150, 4116200, 4116201, 4116300, 4116301, 4116311, 4116325, 4116330, 4116331, 4116332, 4116333, 4116340, 4116350, 4116351, 4116360, 4116461, 4118100, 4118105, 4118300, 4118400, 4118410, 4118420, 4118800, 4119070, 4119080, 4119090, 4119100, 4119150, 4119170, 4119200, 4119201, 4119210, 4119220, 4119230, 4119250, 4119251, 4119252, 4119260, 4119261, 4119262, 4119263, 4119265, 4119270, 4119280, 4119281, 4119282, 4119283, 4119285, 4119286, 4119288, 4119295, 4119300, 4119310, 4119311, 4119315, 4119318, 4119321, 4119322, 4119327, 4119431, 4119441, 4119450, 4119460, 4119510, 4119650, 4120112, 4120800, 4120951, 4120952, 4120953, 4121100, 4121101, 4121102, 4121110, 4121111, 4121120, 4121121, 4121125, 4121126, 4121130, 4121140, 4121145, 4121150, 4121160, 4121300, 4121330, 4121340, 4122100, 4122101, 4122151, 4122154, 4122155, 4122160, 4122165, 4122170, 4122211, 4122220, 4122230, 4122240, 4122250, 4122255, 4122260, 4122270, 4122280, 4122900, 4123090, 4123095, 4123110, 4123111, 4123130, 4123131, 4123135, 4123137, 4123202, 4123205, 4123207, 4123220, 4123230, 4123245, 4123250, 4123252, 4123255, 4123260, 4123265, 4123268, 4123271, 4123272, 4123275, 4123278, 4123280, 4123290, 4123300, 4123320, 4123341, 4123345, 4123347, 4123350, 4123351, 4123352, 4123355, 4123357, 4123360, 4123365, 4123370, 4123375, 4123380, 4123385, 4123510, 4125010, 4125020, 4125025, 4125050, 4125070, 4125110, 4125205, 4125552, 4125560, 4125561, 4125801, 4125810, 4125910, 4125911, 4125915, 4125917, 4125918, 4125920, 4125930, 4125944, 4126100, 4126150, 4126750, 4127100, 4127150, 4127201, 4127202, 4127700, 4127800, 4132010, 4132300, 4132900, 4133100, 4133200, 4133250, 4133260, 4133300, 4133450, 4133550, 4133701, 4135200, 4135201, 4135205, 4135210, 4136301, 4143500, 4143550, 4143790, 4146085, 4146115, 4146120, 4146145, 4146150, 4146161, 4146175, 4146180, 4146185, 4146200, 4146230, 4146281, 4146320, 4146380, 4146610, 4146630, 4146650, 4146901, 4147210, 4147330, 4147410, 4147440, 4147470, 4147600, 4147605, 4147606, 4147700, 4147701, 4147710, 4147715, 4147720, 4147900, 4147901, 4147902, 4147903, 4147907, 4147950, 4148070, 4148110, 4148125, 4148210, 4148231, 4148300, 4148310, 4148321, 4148325, 4148410, 4148610, 4148655, 4148720, 4148750, 4149110, 4149120, 4149121, 4149122, 4149300, 4149355, 4149405, 4149410, 4149415, 4149420, 4149510, 4149630, 4149670, 4149680, 4149681, 4149682, 4149690, 4149710, 4149780, 4149910, 4149950, 4149955, 4150281, 4150282, 4150300, 4150310, 4150311, 4150315, 4150320, 4150400, 4150410, 4150451, 4150461, 4150462, 4150465, 4150505, 4150507, 4150510, 4150515, 4150585, 4150605, 4150680, 4150681, 4150682, 4150700, 4150800, 4151803, 4152200, 4152201, 4152300, 4152460, 4152465, 4152600, 4152700, 4152800, 4152900, 4203500, 4203790, 4203850, 4203910, 4204010, 4204100, 4204900, 4207150, 4207320, 4207350, 4207750, 4207850, 4208040, 4208065, 4208070, 4208160, 4208200, 4208289, 4208290, 4208325, 4208360, 4208399, 4208410, 4208440, 4208500, 4208527, 4208530, 4208570, 4208810, 4208880, 4208920, 4208971, 4209400, 4213011, 4213030, 4213045, 4213080, 4213100, 4213105, 4213601, 4213603, 4213640, 4213700, 4213820, 4213840, 4213880, 4214035, 4214090, 4214091, 4214105, 4214264, 4214280, 4214286, 4214290, 4214400, 4214507, 4214560, 4214565, 4214610, 4214900, 4215051, 4215070, 4215160, 4215270, 4215440, 4215610, 4215660, 4231200, 4231250, 4231590, 4231800, 4232010, 4232900, 4234550, 4234670, 4235500, 4243080, 4243280, 4243310, 4243320, 4244520, 4244550, 4244720, 4244730, 4244770, 4244780, 4244785, 4244788, 4244795, 4244810, 4244840, 4244850, 4244870, 4244880, 4244890, 4244910, 4244915, 4244960, 4244970, 4244980, 4244985, 4244995, 4245300, 4247700, 4584800, 5101090, 5101120, 5101125, 5101163, 5101165, 5101260, 5101395, 5101400, 5101440, 5101455, 5101457, 5104300, 5104310, 5109260, 5202046, 5202057, 5202085, 5202105, 5202107, 5202140, 5202145, 5202150, 5202160, 5202185, 5202227, 5204018, 5204020, 5204107, 5204120, 5204121, 5204130, 5204140, 5204150, 5204155, 5204170, 5204182, 5302310, 5304010, 5304015, 5304019, 5304040, 5304090, 5304095, 5304100, 5405130, 5606125, 5606175, 5607020, 5607410, 5607451, 5608091, 5709111, 5803700, 6118165, 6118185, 6119010, 6119015, 6119020, 6119050, 6119060, 6119090, 6119120, 6119130, 6119140, 6119230, 6119300, 6119320, 6121240, 6122101, 6122110, 6122120, 6122130, 6122140, 6122141, 6122145, 6122155, 6122190, 6122210, 6122220, 6122240, 6123140, 6123150, 6123170, 6123171, 6123180, 6123181, 6123190, 6123200, 6123210, 6123220, 6123230, 6123250, 6123270, 6123350, 6123370, 6123380, 6123400, 6123410, 6123420, 6123430, 6123440, 6123450, 6123460, 6123461, 6123470, 6123630, 6123640, 6123645, 6123700, 6123710, 6123720, 6123730, 6123750, 6123760, 6123770, 6123780, 6123790, 6123800, 6123810, 6123820, 6123825, 6124200, 6124420, 6124430, 6124501, 6124510, 6124520, 6124600, 6125240, 6125250, 6125260, 6125320, 6125360, 6125361, 6125362, 6125440, 6125600, 6125610, 6125620, 6125630, 6125650, 6125660, 6125670, 6125680, 6125710, 6125720, 6128100, 6128200, 6128220, 6128630, 6128701, 6128720, 6135110, 6135210, 6136100, 6136150, 6136151, 6136160, 6136200, 6136201, 6136202, 6136520, 6139060, 6139130, 6139140, 6139201, 6139220, 6139240, 6139255, 6139260, 6139261, 6139280, 6139281, 6139284, 6139310, 6139361, 6139365, 6139501, 6139502, 6139520, 6139530, 6139680, 6139681, 6139682, 6139770, 6139825, 6139831, 6139832, 6139850, 6139910, 6139930, 6139935, 6139940, 6139960, 6142660, 6144350, 6150400, 6150500, 6172050, 6172055, 6172200, 6172220, 6172236, 6172260, 6172351, 6233150, 6233350, 6401090, 6401111, 6401160, 6401200, 6401460, 6435060, 6456105, 6457240, 6457730, 6457880, 6457985, 6457990, 6458605, 6458615, 6458753, 6603100, 6604100, 6604310, 6605800, 6605815, 6606200, 6606347, 6606510, 6607140, 6607550, 6607950, 6608200, 6608500, 6742451, 6742701, 6744200, 6744500, 6830101, 6830103, 6854601, 6854713, 6855411, 6855412, 6870640]\n",
      "808\n"
     ]
    }
   ],
   "source": [
    "# Read the Shapefile with the processed drainage areas\n",
    "#drain_areas = root_folder + \"\\\\Streamflow_Sts_Drainage_Areas\\GRDC_Watersheds\\CSS-WATERSHEDS_FINAL_SELECTION.shp\" # Drainage areas shapefile filtered only with daily k recessions\n",
    "drain_areas = root_folder + \"\\\\Streamflow_Sts_Drainage_Areas\\GRDC_Watersheds\\CSS-WATERSHEDS-MERGE_FINAL_SELECTION.shp\" # Drainage areas shapefile filtered with the merge of monthly and daily k recessions\n",
    "\n",
    "# Create a feature layer object\n",
    "arcpy.MakeFeatureLayer_management(drain_areas, \"drain_areas_lyr\")\n",
    "\n",
    "# Initialize an empty list to store the station IDs\n",
    "sts_ids = []\n",
    "\n",
    "sql_field = \"has_monthl\" # Field to filter rows with monthly k recessions\n",
    "#sql_field = \"has_daily_\" # Field to filter rows with daily k recessions\n",
    "sql_query = f'{sql_field} = \\'Yes\\''\n",
    "\n",
    "# Use a SearchCursor to iterate through the rows of the feature layer with a SQL condition\n",
    "#with arcpy.da.SearchCursor(\"drain_areas_lyr\", [serial_id]) as cursor:\n",
    "with arcpy.da.SearchCursor(\"drain_areas_lyr\", [serial_id], sql_query) as cursor:\n",
    "    for row in cursor:\n",
    "        sts_ids.append(row[0])\n",
    "\n",
    "# Display the list of station IDs and its length\n",
    "print(sts_ids)\n",
    "print(len(sts_ids))"
   ]
  },
  {
   "cell_type": "code",
   "execution_count": 17,
   "id": "b605e561",
   "metadata": {},
   "outputs": [],
   "source": [
    "######################################################\n",
    "### Starting values for the water balance model - T&M\n",
    "######################################################\n",
    "\n",
    "# Initial variables\n",
    "years = range(1958, 2023 + 1) # Years to process. This line can be used to execute this code for specific years in multiple runs.\n",
    "months = range(1, 12 + 1)"
   ]
  },
  {
   "cell_type": "code",
   "execution_count": null,
   "id": "6ed0cdbd",
   "metadata": {},
   "outputs": [],
   "source": [
    "# Folder where the processed water balance model variable was stored\n",
    "processing_dir = tam_out_dir + '\\\\' + wb_var\n",
    "\n",
    "if wb_var in [\"bflow2\", \"wyield2\"]:\n",
    "    # If the variable is 'bflow2' or 'wyield2', we need to remove the last character '2' from the variable name\n",
    "    wb_var = wb_var[:-1]  # Remove the last character '2' from the variable name\n",
    "\n",
    "# Folder with drainage areas in raster format resulting from the filtering process\n",
    "raster_dir = css_folder + '\\\\Final_Rasters'"
   ]
  },
  {
   "cell_type": "code",
   "execution_count": 22,
   "id": "ceb749ff",
   "metadata": {},
   "outputs": [],
   "source": [
    "def zonal_stastics_iteratively(year):\n",
    "    \"\"\"\n",
    "    Function to calculate zonal statistics iteratively for each station ID.\n",
    "    \"\"\"\n",
    "\n",
    "    print(\"\\tCalculating zonal statistics of '\" + wb_var + \"'......\")\n",
    "\n",
    "    sts_flows_sim = pd.DataFrame(columns=[serial_id, \"YEAR\", \"MONTH\", \"COUNT\", \"MEAN\"])  \n",
    "\n",
    "    total_stations = len(sts_ids)  # Get the total number of stations\n",
    "\n",
    "    for idx, st in enumerate(sts_ids, start=1):\n",
    "\n",
    "        print(f\"\\t\\tProcessing station {idx}/{total_stations}: Station ID {st}\")\n",
    "        \n",
    "        for month in months:\n",
    "\n",
    "            if wb_var not in tc_vars:\n",
    "                # If the variable is not in TerraClimate variables, use the processed variable from the T&M model\n",
    "                processing_var = processing_dir + \"\\\\\" + wb_var + \"_\" + str(year) + \"_\" + str(month) + \".tif\"\n",
    "            else:\n",
    "                # If the variable is in TerraClimate variables, use the original GeoTIFF from TerraClimate\n",
    "                processing_var = out_geotiff + \"\\\\\" + wb_var + \"_\" + str(year) + \"_\" + str(month) + \".tif\"  \n",
    "\n",
    "            out_table = \"in_memory\\\\zonal_\" + wb_var + \"_\" + str(st) + \"_\" + str(year) + \"_\" + str(month)\n",
    "\n",
    "            arcpy.sa.ZonalStatisticsAsTable(raster_dir + f\"\\\\{st}_DA.tif\", \"Value\", processing_var, out_table, \"DATA\", \"MEAN\")\n",
    "\n",
    "            # Convert the output table to a NumPy array\n",
    "            array = arcpy.da.TableToNumPyArray(out_table, [\"Value\", \"COUNT\", \"MEAN\"])\n",
    "\n",
    "            # Convert the NumPy array to a pandas DataFrame\n",
    "            df_sim = pd.DataFrame(array)\n",
    "\n",
    "            df_sim[\"YEAR\"] = year # Assign the year of simulation\n",
    "            df_sim[\"MONTH\"] = month # Assign the month of simulation\n",
    "            df_sim.rename(columns={\"Value\": serial_id}, inplace=True) # Rename the column to the station ID\n",
    "            df_sim = df_sim[[serial_id, \"YEAR\", \"MONTH\", \"COUNT\", \"MEAN\"]] # Reorder columns\n",
    "\n",
    "            sts_flows_sim = pd.concat([sts_flows_sim, df_sim], ignore_index=True) # Concat all simulated stream flow station values\n",
    "\n",
    "            arcpy.Delete_management(out_table) # Delete the output table to save space\n",
    "\n",
    "    return(sts_flows_sim)"
   ]
  },
  {
   "cell_type": "code",
   "execution_count": null,
   "id": "18202884",
   "metadata": {},
   "outputs": [
    {
     "name": "stdout",
     "output_type": "stream",
     "text": [
      "\n",
      "############################################################\n",
      "\t\tINITIAL VARIABLES\n",
      "\tPeriod to be executed: 1958-2023\n",
      "############################################################\n",
      "\n",
      "**Executing calculation for 1958**\n",
      "\tCalculating zonal statistics of 'wyield'......\n",
      "\t\tProcessing station 1/808: Station ID 3617110\n"
     ]
    },
    {
     "name": "stderr",
     "output_type": "stream",
     "text": [
      "C:\\Users\\jvalenciag\\AppData\\Local\\Temp\\ipykernel_43692\\3696964519.py:40: FutureWarning: The behavior of DataFrame concatenation with empty or all-NA entries is deprecated. In a future version, this will no longer exclude empty or all-NA columns when determining the result dtypes. To retain the old behavior, exclude the relevant entries before the concat operation.\n",
      "  sts_flows_sim = pd.concat([sts_flows_sim, df_sim], ignore_index=True) # Concat all simulated stream flow station values\n"
     ]
    }
   ],
   "source": [
    "print('\\n############################################################')\n",
    "print('\\t\\tINITIAL VARIABLES')\n",
    "print('\\tPeriod to be executed: ' + str(years[0]) + '-' + str(years[-1]))\n",
    "print('############################################################')\n",
    "\n",
    "for year in years:\n",
    "\n",
    "    print(\"\\n**Executing calculation for \" + str(year) + \"**\")\n",
    "\n",
    "    # Calculate zonal statistics for the current month and year\n",
    "    df_sim = zonal_stastics_iteratively(year)\n",
    "\n",
    "    print(\"\\tSaving zonal statistics results into CSV......\")\n",
    " \n",
    "    # Save the results to a CSV file every year to avoid processing losses\n",
    "    if wb_var not in tc_vars:\n",
    "        # If the variable is not in TerraClimate variables, save the results in the processing directory\n",
    "        df_sim.to_csv(processing_dir + \"\\\\\" + wb_var + \"_zonal_statistics_\" + str(year) + \".csv\", index=False)\n",
    "    else:\n",
    "        # If the variable is in TerraClimate variables, save the results in the output directory\n",
    "        df_sim.to_csv(out_geotiff + \"\\\\\" + wb_var + \"_zonal_statistics_\" + str(year) + \".csv\", index=False)\n",
    "\n",
    "arcpy.CheckInExtension(\"spatial\")\n",
    "\n",
    "# Clear the workspace environment\n",
    "arcpy.ClearEnvironment(\"workspace\")\n",
    "\n",
    "print(\"\\nDONE!!\")"
   ]
  }
 ],
 "metadata": {
  "kernelspec": {
   "display_name": "arcgispro-py3-clone",
   "language": "python",
   "name": "python3"
  },
  "language_info": {
   "codemirror_mode": {
    "name": "ipython",
    "version": 3
   },
   "file_extension": ".py",
   "mimetype": "text/x-python",
   "name": "python",
   "nbconvert_exporter": "python",
   "pygments_lexer": "ipython3",
   "version": "3.11.11"
  }
 },
 "nbformat": 4,
 "nbformat_minor": 5
}
