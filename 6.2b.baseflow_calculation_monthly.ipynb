{
 "cells": [
  {
   "cell_type": "code",
   "execution_count": 1,
   "id": "641cb317",
   "metadata": {},
   "outputs": [],
   "source": [
    "import arcpy, calendar, os, re\n",
    "from arcpy import env\n",
    "from arcpy.sa import *\n",
    "from otherfunctions import folders_exist\n",
    "from datetime import date, timedelta"
   ]
  },
  {
   "cell_type": "code",
   "execution_count": 2,
   "id": "0a122c98",
   "metadata": {},
   "outputs": [],
   "source": [
    "# Paths to input datasets\n",
    "root_folder = r\"Z:\\PhD_Datasets&Analysis\\Info_Inputs\"\n",
    "tam_out_dir = r\"Z:\\PhD_Datasets&Analysis\\Outputs\\T&M_WBM\"\n",
    "tc_ds = root_folder + \"\\\\TerraClimate\"\n",
    "out_geotiff = tc_ds + \"\\\\GeoTIFF\"\n",
    "\n",
    "# Set arcpy environment variables\n",
    "env.overwriteOutput = True\n",
    "arcpy.CheckOutExtension(\"spatial\")\n",
    "# env.cellSize = \"MINOF\" # Avoided to prevent huge files\n",
    "env.cellSize = out_geotiff + \"\\\\ppt_2023_1.tif\" # Use TerraClimate resolution as reference for cell size\n",
    "env.workspace = r\"Z:\\PhD_Datasets&Analysis\\_ProcessingCache\"\n",
    "env.outputCoordinateSystem = arcpy.SpatialReference(\"WGS 1984\") # WGS 1984 (4326)"
   ]
  },
  {
   "cell_type": "code",
   "execution_count": 3,
   "id": "48b0ef3f",
   "metadata": {},
   "outputs": [
    {
     "name": "stdout",
     "output_type": "stream",
     "text": [
      "Spatial Reference Name: GCS_WGS_1984\n",
      "Spatial Reference WKID: 4326\n"
     ]
    }
   ],
   "source": [
    "# Get the current environment's spatial reference\n",
    "spatial_ref = env.outputCoordinateSystem\n",
    "\n",
    "# Check if a spatial reference is set\n",
    "if spatial_ref:\n",
    "    print(f\"Spatial Reference Name: {spatial_ref.name}\")\n",
    "    print(f\"Spatial Reference WKID: {spatial_ref.factoryCode}\")\n",
    "else:\n",
    "    print(\"No spatial reference is set in the current environment.\")"
   ]
  },
  {
   "cell_type": "code",
   "execution_count": 4,
   "id": "8d856420",
   "metadata": {},
   "outputs": [],
   "source": [
    "# Read the recession constant (k) raster\n",
    "k = Float(Raster(r\"Z:\\PhD_Datasets&Analysis\\Inputs\\monthly_k_recession_all.tif\"))\n",
    "one_minus_k = 1 - k"
   ]
  },
  {
   "cell_type": "code",
   "execution_count": 5,
   "id": "746f43ec",
   "metadata": {},
   "outputs": [],
   "source": [
    "######################################################\n",
    "### Starting values for the water balance model - T&M\n",
    "######################################################\n",
    "\n",
    "# TerraClimate available period\n",
    "terra_st_yr = 1958\n",
    "terra_ed_yr = 2023\n",
    "months = range(1, 12 + 1)  # Months from January (1) to December (12)\n",
    "\n",
    "# Base flow of the previous month (mm) (bf0)\n",
    "bflow_ant_initial = 10"
   ]
  },
  {
   "cell_type": "code",
   "execution_count": null,
   "id": "6fce8df2",
   "metadata": {},
   "outputs": [],
   "source": [
    "# Generate a list of period_months in the format 'YYYY-MM'\n",
    "period_months = [\n",
    "    f\"{year}-{month}\"\n",
    "    for year in range(terra_st_yr, terra_ed_yr + 1)\n",
    "    for month in months\n",
    "]"
   ]
  },
  {
   "cell_type": "code",
   "execution_count": 8,
   "id": "8f442a6d",
   "metadata": {},
   "outputs": [],
   "source": [
    "# Create folders for other variables of tam model\n",
    "bflow_dir = tam_out_dir + '\\\\bflow2'\n",
    "folders_exist([bflow_dir])\n",
    "\n",
    "# Folder with percolation rasters resulting from the model\n",
    "perc_dir = tam_out_dir + '\\\\perc'"
   ]
  },
  {
   "cell_type": "code",
   "execution_count": null,
   "id": "de188f40",
   "metadata": {},
   "outputs": [
    {
     "name": "stdout",
     "output_type": "stream",
     "text": [
      "Starting fresh calculation.\n",
      "Processing month: 1958-01\n",
      "\tSaving bflow raster: Z:\\PhD_Datasets&Analysis\\Outputs\\T&M_WBM\\bflow2\\bflow_1958_01.tif\n",
      "\n",
      "Processing month: 1958-02\n",
      "\tSaving bflow raster: Z:\\PhD_Datasets&Analysis\\Outputs\\T&M_WBM\\bflow2\\bflow_1958_02.tif\n",
      "\n",
      "Processing month: 1958-03\n"
     ]
    }
   ],
   "source": [
    "def process_months(period_months):\n",
    "    # Find the last processed month by checking existing output files\n",
    "    existing_files = os.listdir(bflow_dir)\n",
    "    bflow_files = [f for f in existing_files if f.startswith(\"bflow_\")]\n",
    "\n",
    "    last_year = 0\n",
    "    last_month = 0\n",
    "\n",
    "    if bflow_files:\n",
    "        # Extract year and month from filenames (format: bflow_YYYY_MM.tif)\n",
    "        pattern = re.compile(r\"bflow_(\\d+)_(\\d+)\\.tif\")\n",
    "        for file in bflow_files:\n",
    "            match = pattern.match(file)\n",
    "            if match:\n",
    "                year, month = int(match.group(1)), int(match.group(2))\n",
    "                if year > last_year or (year == last_year and month > last_month):\n",
    "                    last_year = year\n",
    "                    last_month = month\n",
    "\n",
    "        print(f\"Found last processed month: {last_year}-{last_month}\")\n",
    "\n",
    "        # Find the next month to process\n",
    "        if last_month == 12:\n",
    "            next_year = last_year + 1\n",
    "            next_month = 1\n",
    "        else:\n",
    "            next_year = last_year\n",
    "            next_month = last_month + 1\n",
    "\n",
    "        # Find the first month to process (format: YYYY-MM)\n",
    "        first_month = f\"{next_year}-{next_month}\"\n",
    "\n",
    "        # If that month isn't in our period_months, we're done\n",
    "        if first_month not in period_months:\n",
    "            print(f\"Next month {first_month} not in period_months. All processing complete.\")\n",
    "            arcpy.CheckInExtension(\"spatial\")\n",
    "            arcpy.ClearEnvironment(\"workspace\")\n",
    "            print(\"\\nDONE!!\")\n",
    "            return\n",
    "\n",
    "        # Find where to start in the period_months list\n",
    "        start_index = period_months.index(first_month)\n",
    "        remaining_months = period_months[start_index:]\n",
    "\n",
    "        # Find the most recent monthly file in the output directory\n",
    "        last_month_path = os.path.join(bflow_dir, f\"bflow_{last_year}_{last_month}.tif\")\n",
    "        if os.path.exists(last_month_path):\n",
    "            bflow_ant = Raster(last_month_path)\n",
    "            print(f\"Resuming from {first_month} with bflow_ant from {last_month_path}\")\n",
    "        else:\n",
    "            print(f\"Warning: Could not find monthly file for {last_year}-{last_month}, using default value instead.\")\n",
    "            bflow_ant = bflow_ant_initial  # Reset to initial value if no monthly file found\n",
    "    else:\n",
    "        # No existing files, start from beginning\n",
    "        remaining_months = period_months\n",
    "        bflow_ant = bflow_ant_initial  # Initial value\n",
    "        print(\"Starting fresh calculation.\")\n",
    "\n",
    "    # Process the remaining months\n",
    "    for month_str in remaining_months:\n",
    "        try:\n",
    "            print(\"Processing month: \" + month_str)\n",
    "            year, month = map(int, month_str.split('-'))\n",
    "            perc_month = Float(Raster(os.path.join(perc_dir, f\"perc_{year}_{month}.tif\")))\n",
    "            bflow_month = (bflow_ant * k) + (perc_month * one_minus_k)\n",
    "\n",
    "            output_path = os.path.join(bflow_dir, f\"bflow_{year}_{month}.tif\")\n",
    "            bflow_month.save(output_path)\n",
    "            print(f\"\\tSaving bflow raster: {output_path}\\n\")\n",
    "\n",
    "            # bflow_ant is bflow_month for the next month\n",
    "            bflow_ant = bflow_month\n",
    "\n",
    "        except Exception as e:\n",
    "            print(f\"Error processing month {month_str}: {e}\")\n",
    "            print(\"You can restart the script to continue from this point.\")\n",
    "            break\n",
    "\n",
    "    arcpy.CheckInExtension(\"spatial\")\n",
    "    arcpy.ClearEnvironment(\"workspace\")\n",
    "    print(\"\\nDONE!!\")\n",
    "\n",
    "# Usage:\n",
    "process_months(period_months)\n"
   ]
  }
 ],
 "metadata": {
  "kernelspec": {
   "display_name": "arcgispro-py3-clone",
   "language": "python",
   "name": "python3"
  },
  "language_info": {
   "codemirror_mode": {
    "name": "ipython",
    "version": 3
   },
   "file_extension": ".py",
   "mimetype": "text/x-python",
   "name": "python",
   "nbconvert_exporter": "python",
   "pygments_lexer": "ipython3",
   "version": "3.11.11"
  }
 },
 "nbformat": 4,
 "nbformat_minor": 5
}
