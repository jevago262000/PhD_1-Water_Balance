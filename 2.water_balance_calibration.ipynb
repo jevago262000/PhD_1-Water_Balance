{
 "cells": [
  {
   "cell_type": "code",
   "execution_count": 1,
   "metadata": {},
   "outputs": [],
   "source": [
    "# If not installed, run this cell. It is needed for access to GEE\n",
    "#!pip install ee\n",
    "#!pip show ee"
   ]
  },
  {
   "cell_type": "code",
   "execution_count": 2,
   "metadata": {},
   "outputs": [],
   "source": [
    "# If not installed, run this cell. It helps visualization of data\n",
    "#!pip install geemap\n",
    "#!pip show geemap"
   ]
  },
  {
   "cell_type": "code",
   "execution_count": 3,
   "metadata": {},
   "outputs": [],
   "source": [
    "# Import libraries\n",
    "import ee, datetime, pandas as pd, geemap, ipyleaflet, ipywidgets as widgets, matplotlib.pyplot as plt\n",
    "import calendar\n",
    "# from IPython.display import Image\n",
    "from otherfunctions import water_balance, ee_array_to_df\n",
    "from functools import partial"
   ]
  },
  {
   "cell_type": "code",
   "execution_count": 4,
   "metadata": {},
   "outputs": [
    {
     "data": {
      "text/html": [
       "\n",
       "            <style>\n",
       "                .geemap-dark {\n",
       "                    --jp-widgets-color: white;\n",
       "                    --jp-widgets-label-color: white;\n",
       "                    --jp-ui-font-color1: white;\n",
       "                    --jp-layout-color2: #454545;\n",
       "                    background-color: #383838;\n",
       "                }\n",
       "\n",
       "                .geemap-dark .jupyter-button {\n",
       "                    --jp-layout-color3: #383838;\n",
       "                }\n",
       "\n",
       "                .geemap-colab {\n",
       "                    background-color: var(--colab-primary-surface-color, white);\n",
       "                }\n",
       "\n",
       "                .geemap-colab .jupyter-button {\n",
       "                    --jp-layout-color3: var(--colab-primary-surface-color, white);\n",
       "                }\n",
       "            </style>\n",
       "            "
      ],
      "text/plain": [
       "<IPython.core.display.HTML object>"
      ]
     },
     "metadata": {},
     "output_type": "display_data"
    },
    {
     "name": "stderr",
     "output_type": "stream",
     "text": [
      "*** Earth Engine *** Share your feedback by taking our Annual Developer Satisfaction Survey: https://google.qualtrics.com/jfe/form/SV_0JLhFqfSY1uiEaW?source=Init\n"
     ]
    }
   ],
   "source": [
    "# Trigger the authentication flow.\n",
    "ee.Authenticate()\n",
    "\n",
    "# Initialize the library.\n",
    "ee.Initialize(project='ee-jvg')"
   ]
  },
  {
   "cell_type": "code",
   "execution_count": null,
   "metadata": {},
   "outputs": [
    {
     "data": {
      "text/html": [
       "\n",
       "            <style>\n",
       "                .geemap-dark {\n",
       "                    --jp-widgets-color: white;\n",
       "                    --jp-widgets-label-color: white;\n",
       "                    --jp-ui-font-color1: white;\n",
       "                    --jp-layout-color2: #454545;\n",
       "                    background-color: #383838;\n",
       "                }\n",
       "\n",
       "                .geemap-dark .jupyter-button {\n",
       "                    --jp-layout-color3: #383838;\n",
       "                }\n",
       "\n",
       "                .geemap-colab {\n",
       "                    background-color: var(--colab-primary-surface-color, white);\n",
       "                }\n",
       "\n",
       "                .geemap-colab .jupyter-button {\n",
       "                    --jp-layout-color3: var(--colab-primary-surface-color, white);\n",
       "                }\n",
       "            </style>\n",
       "            "
      ],
      "text/plain": [
       "<IPython.core.display.HTML object>"
      ]
     },
     "metadata": {},
     "output_type": "display_data"
    }
   ],
   "source": [
    "# Access the asset containing the calibration drainage areas\n",
    "Map = geemap.Map()\n",
    "calib_basins = ee.FeatureCollection('projects/ee-jvg/assets/calibration_basins')\n",
    "Map.centerObject(calib_basins.geometry())\n",
    "Map.addLayer(calib_basins, {\"color\": 'blue'}, 'Calibration Drainage Areas')"
   ]
  },
  {
   "cell_type": "code",
   "execution_count": 6,
   "metadata": {},
   "outputs": [
    {
     "data": {
      "text/html": [
       "\n",
       "            <style>\n",
       "                .geemap-dark {\n",
       "                    --jp-widgets-color: white;\n",
       "                    --jp-widgets-label-color: white;\n",
       "                    --jp-ui-font-color1: white;\n",
       "                    --jp-layout-color2: #454545;\n",
       "                    background-color: #383838;\n",
       "                }\n",
       "\n",
       "                .geemap-dark .jupyter-button {\n",
       "                    --jp-layout-color3: #383838;\n",
       "                }\n",
       "\n",
       "                .geemap-colab {\n",
       "                    background-color: var(--colab-primary-surface-color, white);\n",
       "                }\n",
       "\n",
       "                .geemap-colab .jupyter-button {\n",
       "                    --jp-layout-color3: var(--colab-primary-surface-color, white);\n",
       "                }\n",
       "            </style>\n",
       "            "
      ],
      "text/plain": [
       "<IPython.core.display.HTML object>"
      ]
     },
     "metadata": {},
     "output_type": "display_data"
    }
   ],
   "source": [
    "# HydroSHEDS v1 will be used. Specifically, its HydroBASINS\n",
    "hydrobasins = ee.FeatureCollection('WWF/HydroSHEDS/v1/Basins/hybas_3')\n",
    "hybas_id = \"HYBAS_ID\"\n",
    "Map.addLayer(hydrobasins, {}, 'HydroBasins')"
   ]
  },
  {
   "cell_type": "code",
   "execution_count": 7,
   "metadata": {},
   "outputs": [
    {
     "data": {
      "text/html": [
       "\n",
       "            <style>\n",
       "                .geemap-dark {\n",
       "                    --jp-widgets-color: white;\n",
       "                    --jp-widgets-label-color: white;\n",
       "                    --jp-ui-font-color1: white;\n",
       "                    --jp-layout-color2: #454545;\n",
       "                    background-color: #383838;\n",
       "                }\n",
       "\n",
       "                .geemap-dark .jupyter-button {\n",
       "                    --jp-layout-color3: #383838;\n",
       "                }\n",
       "\n",
       "                .geemap-colab {\n",
       "                    background-color: var(--colab-primary-surface-color, white);\n",
       "                }\n",
       "\n",
       "                .geemap-colab .jupyter-button {\n",
       "                    --jp-layout-color3: var(--colab-primary-surface-color, white);\n",
       "                }\n",
       "            </style>\n",
       "            "
      ],
      "text/plain": [
       "<IPython.core.display.HTML object>"
      ]
     },
     "metadata": {},
     "output_type": "display_data"
    }
   ],
   "source": [
    "output_widget = widgets.Output(layout={'border': '1px solid black'})\n",
    "output_control = ipyleaflet.WidgetControl(widget=output_widget, position=\"bottomright\")\n",
    "Map.add_control(output_control)"
   ]
  },
  {
   "cell_type": "code",
   "execution_count": 8,
   "metadata": {},
   "outputs": [
    {
     "data": {
      "text/html": [
       "\n",
       "            <style>\n",
       "                .geemap-dark {\n",
       "                    --jp-widgets-color: white;\n",
       "                    --jp-widgets-label-color: white;\n",
       "                    --jp-ui-font-color1: white;\n",
       "                    --jp-layout-color2: #454545;\n",
       "                    background-color: #383838;\n",
       "                }\n",
       "\n",
       "                .geemap-dark .jupyter-button {\n",
       "                    --jp-layout-color3: #383838;\n",
       "                }\n",
       "\n",
       "                .geemap-colab {\n",
       "                    background-color: var(--colab-primary-surface-color, white);\n",
       "                }\n",
       "\n",
       "                .geemap-colab .jupyter-button {\n",
       "                    --jp-layout-color3: var(--colab-primary-surface-color, white);\n",
       "                }\n",
       "            </style>\n",
       "            "
      ],
      "text/plain": [
       "<IPython.core.display.HTML object>"
      ]
     },
     "metadata": {},
     "output_type": "display_data"
    },
    {
     "data": {
      "application/vnd.jupyter.widget-view+json": {
       "model_id": "ed4d7c4803984f19be7f9e3872a0f5f4",
       "version_major": 2,
       "version_minor": 0
      },
      "text/plain": [
       "Map(center=[6.282893423832647, 19.27832363811588], controls=(WidgetControl(options=['position', 'transparent_b…"
      ]
     },
     "metadata": {},
     "output_type": "display_data"
    }
   ],
   "source": [
    "# This ID and lat and lon will be identified through the interative map above by clicking on the basin of your interest.\n",
    "# See the widget on the bottom right side of the map\n",
    "# Define the basin and location of interest\n",
    "selected_basin_id = None\n",
    "lat = None\n",
    "lon = None\n",
    "\n",
    "def remove_layer(pre_name):\n",
    "    layer_names = Map.layers # Get the list of layer names\n",
    "    layers = Map.layers[:]  # Get the list of layers\n",
    "    names = [layer.name for layer in layer_names]  # Extract layer names\n",
    "\n",
    "    for item in names:\n",
    "        if pre_name in item: # Check if the name is in the item\n",
    "            index = names.index(item)  # Get the index of the name\n",
    "            layer = layer_names[index]  # Retrieve the layer at the index\n",
    "            Map.remove(layer)  # Remove the layer from the map    \n",
    "            return Map.layers[:]\n",
    "  \n",
    "    return layers\n",
    "\n",
    "# Function to identify the ID of the basin of interest by clicking on the map over the feature of the HydroSHEDS\n",
    "def handle_interaction(**kwargs):\n",
    "    global selected_basin_id, lat, lon, poi, poi_ft\n",
    "\n",
    "    latlon = kwargs.get('coordinates')\n",
    "    if kwargs.get('type') == 'click':\n",
    "        Map.default_style = {'cursor': 'wait'}\n",
    "        lat = latlon[0]\n",
    "        lon = latlon[1]\n",
    "        xy = ee.Geometry.Point(latlon[::-1])\n",
    "        selected_fc = hydrobasins.filterBounds(xy)\n",
    "\n",
    "        # The point location was previously defined by clicking on the map\n",
    "        poi = ee.Geometry.Point(lon, lat)\n",
    "        poi_ft = ee.FeatureCollection(ee.Geometry.Point(lon, lat))\n",
    "        Map.addLayer(poi_ft, {'color': 'green', 'pointSize': 10}, \"Point of Interest\")\n",
    "\n",
    "        with output_widget:\n",
    "            output_widget.clear_output()\n",
    "\n",
    "            try:\n",
    "                pre_name = \"Identified Basin: \"\n",
    "                Map.layers = remove_layer(pre_name)\n",
    "                selected_basin_id = selected_fc.first().get(hybas_id).getInfo()\n",
    "                geom = selected_fc.geometry()\n",
    "                layer_name = pre_name + str(selected_basin_id)\n",
    "                Map.centerObject(geom)\n",
    "                Map.addLayer(ee.Image().paint(geom, 0, 2), {'palette': 'red'}, layer_name)                \n",
    "                print(layer_name + \"\\nLat: \" + str(lat) + \" Long: \" + str(lon))\n",
    "            except Exception as e:\n",
    "                print('No feature could be found')\n",
    "                Map.layers = Map.layers[:]\n",
    "\n",
    "        Map.default_style = {'cursor': 'pointer'}\n",
    "\n",
    "Map.on_interaction(handle_interaction)\n",
    "Map.default_style = {'cursor': 'pointer'}\n",
    "Map"
   ]
  },
  {
   "cell_type": "code",
   "execution_count": 9,
   "metadata": {},
   "outputs": [
    {
     "data": {
      "text/html": [
       "\n",
       "            <style>\n",
       "                .geemap-dark {\n",
       "                    --jp-widgets-color: white;\n",
       "                    --jp-widgets-label-color: white;\n",
       "                    --jp-ui-font-color1: white;\n",
       "                    --jp-layout-color2: #454545;\n",
       "                    background-color: #383838;\n",
       "                }\n",
       "\n",
       "                .geemap-dark .jupyter-button {\n",
       "                    --jp-layout-color3: #383838;\n",
       "                }\n",
       "\n",
       "                .geemap-colab {\n",
       "                    background-color: var(--colab-primary-surface-color, white);\n",
       "                }\n",
       "\n",
       "                .geemap-colab .jupyter-button {\n",
       "                    --jp-layout-color3: var(--colab-primary-surface-color, white);\n",
       "                }\n",
       "            </style>\n",
       "            "
      ],
      "text/plain": [
       "<IPython.core.display.HTML object>"
      ]
     },
     "metadata": {},
     "output_type": "display_data"
    }
   ],
   "source": [
    "# Load streamflow data series for the stations being used for the calibration process\n",
    "#excel_folder = r\"Z:\\PhD_Datasets&Analysis\\Info_Inputs\\Streamflow_Stations\\_DataFrames\"\n",
    "#df_sts = pd.read_csv(excel_folder + \"\\Joined_Sts_DFs.csv\", index_col=\"yr-mth\")\n",
    "#df_sts"
   ]
  },
  {
   "cell_type": "code",
   "execution_count": 10,
   "metadata": {},
   "outputs": [
    {
     "data": {
      "text/html": [
       "\n",
       "            <style>\n",
       "                .geemap-dark {\n",
       "                    --jp-widgets-color: white;\n",
       "                    --jp-widgets-label-color: white;\n",
       "                    --jp-ui-font-color1: white;\n",
       "                    --jp-layout-color2: #454545;\n",
       "                    background-color: #383838;\n",
       "                }\n",
       "\n",
       "                .geemap-dark .jupyter-button {\n",
       "                    --jp-layout-color3: #383838;\n",
       "                }\n",
       "\n",
       "                .geemap-colab {\n",
       "                    background-color: var(--colab-primary-surface-color, white);\n",
       "                }\n",
       "\n",
       "                .geemap-colab .jupyter-button {\n",
       "                    --jp-layout-color3: var(--colab-primary-surface-color, white);\n",
       "                }\n",
       "            </style>\n",
       "            "
      ],
      "text/plain": [
       "<IPython.core.display.HTML object>"
      ]
     },
     "metadata": {},
     "output_type": "display_data"
    }
   ],
   "source": [
    "#df_sts.columns.to_list()"
   ]
  },
  {
   "cell_type": "code",
   "execution_count": 15,
   "metadata": {},
   "outputs": [
    {
     "data": {
      "text/html": [
       "\n",
       "            <style>\n",
       "                .geemap-dark {\n",
       "                    --jp-widgets-color: white;\n",
       "                    --jp-widgets-label-color: white;\n",
       "                    --jp-ui-font-color1: white;\n",
       "                    --jp-layout-color2: #454545;\n",
       "                    background-color: #383838;\n",
       "                }\n",
       "\n",
       "                .geemap-dark .jupyter-button {\n",
       "                    --jp-layout-color3: #383838;\n",
       "                }\n",
       "\n",
       "                .geemap-colab {\n",
       "                    background-color: var(--colab-primary-surface-color, white);\n",
       "                }\n",
       "\n",
       "                .geemap-colab .jupyter-button {\n",
       "                    --jp-layout-color3: var(--colab-primary-surface-color, white);\n",
       "                }\n",
       "            </style>\n",
       "            "
      ],
      "text/plain": [
       "<IPython.core.display.HTML object>"
      ]
     },
     "metadata": {},
     "output_type": "display_data"
    }
   ],
   "source": [
    "# Function to determine the simulation period and the reporting period\n",
    "def determine_period(start_date, end_date, warmup_yrs = 0):\n",
    "    ini_date = str((int(start_date.split(\"-\")[0]) + int(warmup_yrs))) + \"-\" + start_date.split(\"-\")[1]\n",
    "    if (end_date.split(\"-\")[1]) == \"12\":\n",
    "        fin_date = str(int(end_date.split(\"-\")[0]) + 1) + \"-01\"\n",
    "    else:\n",
    "        fin_date = str(int(end_date.split(\"-\")[0])) + \"-\" + str(int(end_date.split(\"-\")[1]) + 1)\n",
    "\n",
    "    if (datetime.datetime(int(ini_date.split(\"-\")[0]), int(ini_date.split(\"-\")[1]), 1) >= datetime.datetime(int(fin_date.split(\"-\")[0]), int(fin_date.split(\"-\")[1]), 1)):\n",
    "        if (warmup_yrs != 0):\n",
    "            print (\"Start date is finally set beyond or same as the end date! Please consider the implications of the warm-up years. Remember that end date is exclusive\")\n",
    "        else:\n",
    "            print (\"Start date is finally set beyond or same as the end date! Please review your input dates. Remember that end date is exclusive\")\n",
    "        raise SystemExit()\n",
    "\n",
    "    print (\"Simulation period will be from \" + start_date + \" to \" + end_date\n",
    "           + \"; however, outputs will be provided for \" + ini_date + \" to \" + end_date)\n",
    "    return ini_date, fin_date"
   ]
  },
  {
   "cell_type": "code",
   "execution_count": 16,
   "metadata": {},
   "outputs": [
    {
     "data": {
      "text/html": [
       "\n",
       "            <style>\n",
       "                .geemap-dark {\n",
       "                    --jp-widgets-color: white;\n",
       "                    --jp-widgets-label-color: white;\n",
       "                    --jp-ui-font-color1: white;\n",
       "                    --jp-layout-color2: #454545;\n",
       "                    background-color: #383838;\n",
       "                }\n",
       "\n",
       "                .geemap-dark .jupyter-button {\n",
       "                    --jp-layout-color3: #383838;\n",
       "                }\n",
       "\n",
       "                .geemap-colab {\n",
       "                    background-color: var(--colab-primary-surface-color, white);\n",
       "                }\n",
       "\n",
       "                .geemap-colab .jupyter-button {\n",
       "                    --jp-layout-color3: var(--colab-primary-surface-color, white);\n",
       "                }\n",
       "            </style>\n",
       "            "
      ],
      "text/plain": [
       "<IPython.core.display.HTML object>"
      ]
     },
     "metadata": {},
     "output_type": "display_data"
    },
    {
     "name": "stdout",
     "output_type": "stream",
     "text": [
      "Simulation period will be from 2008-01 to 2023-12; however, outputs will be provided for 2013-01 to 2023-12\n"
     ]
    }
   ],
   "source": [
    "## Initial parameters ##\n",
    "\n",
    "# It is recommended using at least 5 years of equilibration period - warm up years. This allows the model to get the water cycling properly.\n",
    "# When a proper equilibration period is incorporated, \"ffcb\" value is not going to impact model results\n",
    "warmup_yrs = 5\n",
    "start_date = '2008-01'\n",
    "end_date = '2023-12'\n",
    "ini_date, fin_date = determine_period(start_date, end_date, warmup_yrs)"
   ]
  },
  {
   "cell_type": "code",
   "execution_count": 17,
   "metadata": {},
   "outputs": [
    {
     "data": {
      "text/html": [
       "\n",
       "            <style>\n",
       "                .geemap-dark {\n",
       "                    --jp-widgets-color: white;\n",
       "                    --jp-widgets-label-color: white;\n",
       "                    --jp-ui-font-color1: white;\n",
       "                    --jp-layout-color2: #454545;\n",
       "                    background-color: #383838;\n",
       "                }\n",
       "\n",
       "                .geemap-dark .jupyter-button {\n",
       "                    --jp-layout-color3: #383838;\n",
       "                }\n",
       "\n",
       "                .geemap-colab {\n",
       "                    background-color: var(--colab-primary-surface-color, white);\n",
       "                }\n",
       "\n",
       "                .geemap-colab .jupyter-button {\n",
       "                    --jp-layout-color3: var(--colab-primary-surface-color, white);\n",
       "                }\n",
       "            </style>\n",
       "            "
      ],
      "text/plain": [
       "<IPython.core.display.HTML object>"
      ]
     },
     "metadata": {},
     "output_type": "display_data"
    }
   ],
   "source": [
    "######################################################\n",
    "### Starting values for the water balance model - T&M\n",
    "######################################################\n",
    "\n",
    "# The recession constant (k) will be determined from hydrographs derived from the gathered streamflow datasets. For the rest of the world, k will be defined as 0.5\n",
    "k_recession = 0.5 # Temporarily is defined as such\n",
    "\n",
    "# Initial soil water storage expressed as a fraction of water holding capacity [0-1]\n",
    "ffcb = 0.1 # 10%\n",
    "\n",
    "# Base flow of the previous month (mm)\n",
    "bflow_ant = 10"
   ]
  },
  {
   "cell_type": "code",
   "execution_count": 14,
   "metadata": {},
   "outputs": [
    {
     "data": {
      "text/html": [
       "\n",
       "            <style>\n",
       "                .geemap-dark {\n",
       "                    --jp-widgets-color: white;\n",
       "                    --jp-widgets-label-color: white;\n",
       "                    --jp-ui-font-color1: white;\n",
       "                    --jp-layout-color2: #454545;\n",
       "                    background-color: #383838;\n",
       "                }\n",
       "\n",
       "                .geemap-dark .jupyter-button {\n",
       "                    --jp-layout-color3: #383838;\n",
       "                }\n",
       "\n",
       "                .geemap-colab {\n",
       "                    background-color: var(--colab-primary-surface-color, white);\n",
       "                }\n",
       "\n",
       "                .geemap-colab .jupyter-button {\n",
       "                    --jp-layout-color3: var(--colab-primary-surface-color, white);\n",
       "                }\n",
       "            </style>\n",
       "            "
      ],
      "text/plain": [
       "<IPython.core.display.HTML object>"
      ]
     },
     "metadata": {},
     "output_type": "display_data"
    },
    {
     "ename": "SystemExit",
     "evalue": "Please go to the interactive map and click on the basin and point of interest before continuing running the cells below!",
     "output_type": "error",
     "traceback": [
      "An exception has occurred, use %tb to see the full traceback.\n",
      "\u001b[1;31mSystemExit\u001b[0m\u001b[1;31m:\u001b[0m Please go to the interactive map and click on the basin and point of interest before continuing running the cells below!\n"
     ]
    }
   ],
   "source": [
    "raise SystemExit(\"Please go to the interactive map and click on the basin and point of interest before continuing running the cells below!\")"
   ]
  },
  {
   "cell_type": "code",
   "execution_count": 44,
   "metadata": {},
   "outputs": [
    {
     "data": {
      "text/html": [
       "\n",
       "            <style>\n",
       "                .geemap-dark {\n",
       "                    --jp-widgets-color: white;\n",
       "                    --jp-widgets-label-color: white;\n",
       "                    --jp-ui-font-color1: white;\n",
       "                    --jp-layout-color2: #454545;\n",
       "                    background-color: #383838;\n",
       "                }\n",
       "\n",
       "                .geemap-dark .jupyter-button {\n",
       "                    --jp-layout-color3: #383838;\n",
       "                }\n",
       "\n",
       "                .geemap-colab {\n",
       "                    background-color: var(--colab-primary-surface-color, white);\n",
       "                }\n",
       "\n",
       "                .geemap-colab .jupyter-button {\n",
       "                    --jp-layout-color3: var(--colab-primary-surface-color, white);\n",
       "                }\n",
       "            </style>\n",
       "            "
      ],
      "text/plain": [
       "<IPython.core.display.HTML object>"
      ]
     },
     "metadata": {},
     "output_type": "display_data"
    }
   ],
   "source": [
    "# Public link to the asset whc: https://code.earthengine.google.com/?asset=projects/ee-jvg/assets/whc_fc33\n",
    "zoi = hydrobasins.select(hybas_id).filter(ee.Filter.eq(hybas_id, selected_basin_id))\n",
    "whc = ee.Image('projects/ee-jvg/assets/whc_fc33')\n",
    "whc = whc.clip(calib_basins).divide(1000) # As the raster was originally multiplied by 1000\n",
    "Map.addLayer(whc, {\n",
    "  'min': 0,\n",
    "  'max': 1000,\n",
    "  'palette': [\n",
    "      '#AFEEEE',\n",
    "      '#E0FFFF',\n",
    "      '#00FFFF',\n",
    "      '#87CEEB',\n",
    "      '#000080'\n",
    "  ]\n",
    "  },\n",
    "  'Water Holding Capacity')"
   ]
  },
  {
   "cell_type": "code",
   "execution_count": 45,
   "metadata": {},
   "outputs": [
    {
     "data": {
      "text/html": [
       "\n",
       "            <style>\n",
       "                .geemap-dark {\n",
       "                    --jp-widgets-color: white;\n",
       "                    --jp-widgets-label-color: white;\n",
       "                    --jp-ui-font-color1: white;\n",
       "                    --jp-layout-color2: #454545;\n",
       "                    background-color: #383838;\n",
       "                }\n",
       "\n",
       "                .geemap-dark .jupyter-button {\n",
       "                    --jp-layout-color3: #383838;\n",
       "                }\n",
       "\n",
       "                .geemap-colab {\n",
       "                    background-color: var(--colab-primary-surface-color, white);\n",
       "                }\n",
       "\n",
       "                .geemap-colab .jupyter-button {\n",
       "                    --jp-layout-color3: var(--colab-primary-surface-color, white);\n",
       "                }\n",
       "            </style>\n",
       "            "
      ],
      "text/plain": [
       "<IPython.core.display.HTML object>"
      ]
     },
     "metadata": {},
     "output_type": "display_data"
    },
    {
     "data": {
      "text/plain": [
       "192"
      ]
     },
     "execution_count": 45,
     "metadata": {},
     "output_type": "execute_result"
    }
   ],
   "source": [
    "# TerraClimate layers filtered with \"start_date\" (inclusive) and \"end_date\" (exclusive) and clipped to \"zoi\"\n",
    "terraclimate = ee.ImageCollection('IDAHO_EPSCOR/TERRACLIMATE').filter(ee.Filter.date(start_date, fin_date)).map(lambda image: image.clip(calib_basins))\n",
    "num_months = terraclimate.size().getInfo()\n",
    "num_months"
   ]
  },
  {
   "cell_type": "code",
   "execution_count": 46,
   "metadata": {},
   "outputs": [
    {
     "data": {
      "text/html": [
       "\n",
       "            <style>\n",
       "                .geemap-dark {\n",
       "                    --jp-widgets-color: white;\n",
       "                    --jp-widgets-label-color: white;\n",
       "                    --jp-ui-font-color1: white;\n",
       "                    --jp-layout-color2: #454545;\n",
       "                    background-color: #383838;\n",
       "                }\n",
       "\n",
       "                .geemap-dark .jupyter-button {\n",
       "                    --jp-layout-color3: #383838;\n",
       "                }\n",
       "\n",
       "                .geemap-colab {\n",
       "                    background-color: var(--colab-primary-surface-color, white);\n",
       "                }\n",
       "\n",
       "                .geemap-colab .jupyter-button {\n",
       "                    --jp-layout-color3: var(--colab-primary-surface-color, white);\n",
       "                }\n",
       "            </style>\n",
       "            "
      ],
      "text/plain": [
       "<IPython.core.display.HTML object>"
      ]
     },
     "metadata": {},
     "output_type": "display_data"
    }
   ],
   "source": [
    "# Initial images and time to start the water balance\n",
    "k = ee.Image(k_recession) # Image of recession constant\n",
    "st0 = whc.multiply(ffcb) # Initial soil water storage\n",
    "bf0 = ee.Image(bflow_ant) # Previous baseflow\n",
    "time0 = terraclimate.first().get(\"system:time_start\") # Define the initial time (time0) according to the start of the collection\n",
    "scale = terraclimate.first().projection().nominalScale() # This is the resolution used to standardize\n",
    "crs = 'EPSG:3857' # WGS 84 / Pseudo-Mercator -- Spherical Mercator, Google Maps, OpenStreetMap, Bing, ArcGIS, ESRI\n",
    "\n",
    "# Water balance variables\n",
    "wb_vars = [\"pr\", \"pet\", \"ro\", \"eprec\", \"aet\", \"sstor\", \"perc\", \"bflow\", \"wyield\"]"
   ]
  },
  {
   "cell_type": "code",
   "execution_count": 47,
   "metadata": {},
   "outputs": [
    {
     "data": {
      "text/html": [
       "\n",
       "            <style>\n",
       "                .geemap-dark {\n",
       "                    --jp-widgets-color: white;\n",
       "                    --jp-widgets-label-color: white;\n",
       "                    --jp-ui-font-color1: white;\n",
       "                    --jp-layout-color2: #454545;\n",
       "                    background-color: #383838;\n",
       "                }\n",
       "\n",
       "                .geemap-dark .jupyter-button {\n",
       "                    --jp-layout-color3: #383838;\n",
       "                }\n",
       "\n",
       "                .geemap-colab {\n",
       "                    background-color: var(--colab-primary-surface-color, white);\n",
       "                }\n",
       "\n",
       "                .geemap-colab .jupyter-button {\n",
       "                    --jp-layout-color3: var(--colab-primary-surface-color, white);\n",
       "                }\n",
       "            </style>\n",
       "            "
      ],
      "text/plain": [
       "<IPython.core.display.HTML object>"
      ]
     },
     "metadata": {},
     "output_type": "display_data"
    }
   ],
   "source": [
    "# Initialization of ALL bands.\n",
    "# Mandatory to cast the type of the data with a .float().\n",
    "\n",
    "# Initialization of precipitation\n",
    "initial_pr = ee.Image(0).set(\"system:time_start\", time0).select([0], [\"pr\"]).float()\n",
    "\n",
    "# Initialization of potential evapotranspiration\n",
    "initial_pet = ee.Image(0).set(\"system:time_start\", time0).select([0], [\"pet\"]).float()\n",
    "\n",
    "# Initialization of runoff\n",
    "initial_ro = ee.Image(0).set(\"system:time_start\", time0).select([0], [\"ro\"]).float()\n",
    "\n",
    "# Initialization of effective precipitation\n",
    "initial_ep = ee.Image(0).set(\"system:time_start\", time0).select([0], [\"eprec\"]).float()\n",
    "\n",
    "# Initialization of actual evapotranspiration\n",
    "initial_aet = ee.Image(0).set(\"system:time_start\", time0).select([0], [\"aet\"]).float()\n",
    "\n",
    "# Initialization of soil storage, which is considered to be a fraction of WCH\n",
    "initial_st = st0.set(\"system:time_start\", time0).select([0], [\"sstor\"]).float()\n",
    "\n",
    "# Initialization of percolation\n",
    "initial_pc = ee.Image(0).set(\"system:time_start\", time0).select([0], [\"perc\"]).float()\n",
    "\n",
    "# Initialization of base flow, which is considered as defined in Ulmen (2000)\n",
    "initial_bf = bf0.set(\"system:time_start\", time0).select([0], [\"bflow\"]).float()\n",
    "\n",
    "# Initialization of water yield\n",
    "initial_wy = ee.Image(0).set(\"system:time_start\", time0).select([0], [\"wyield\"]).float()"
   ]
  },
  {
   "cell_type": "code",
   "execution_count": 48,
   "metadata": {},
   "outputs": [
    {
     "data": {
      "text/html": [
       "\n",
       "            <style>\n",
       "                .geemap-dark {\n",
       "                    --jp-widgets-color: white;\n",
       "                    --jp-widgets-label-color: white;\n",
       "                    --jp-ui-font-color1: white;\n",
       "                    --jp-layout-color2: #454545;\n",
       "                    background-color: #383838;\n",
       "                }\n",
       "\n",
       "                .geemap-dark .jupyter-button {\n",
       "                    --jp-layout-color3: #383838;\n",
       "                }\n",
       "\n",
       "                .geemap-colab {\n",
       "                    background-color: var(--colab-primary-surface-color, white);\n",
       "                }\n",
       "\n",
       "                .geemap-colab .jupyter-button {\n",
       "                    --jp-layout-color3: var(--colab-primary-surface-color, white);\n",
       "                }\n",
       "            </style>\n",
       "            "
      ],
      "text/plain": [
       "<IPython.core.display.HTML object>"
      ]
     },
     "metadata": {},
     "output_type": "display_data"
    }
   ],
   "source": [
    "# All initial bands are combined into one \"ee.Image\" by adding them to the first band (wy)\n",
    "initial_image = initial_wy.addBands(\n",
    "    ee.Image([initial_pr, initial_pet, initial_ro, initial_ep, initial_aet, initial_st, initial_pc, initial_bf])\n",
    ")\n",
    "\n",
    "# Initiatlization of list that will contain new images after each iteration\n",
    "image_list = ee.List([initial_image])"
   ]
  },
  {
   "cell_type": "code",
   "execution_count": 49,
   "metadata": {},
   "outputs": [
    {
     "data": {
      "text/html": [
       "\n",
       "            <style>\n",
       "                .geemap-dark {\n",
       "                    --jp-widgets-color: white;\n",
       "                    --jp-widgets-label-color: white;\n",
       "                    --jp-ui-font-color1: white;\n",
       "                    --jp-layout-color2: #454545;\n",
       "                    background-color: #383838;\n",
       "                }\n",
       "\n",
       "                .geemap-dark .jupyter-button {\n",
       "                    --jp-layout-color3: #383838;\n",
       "                }\n",
       "\n",
       "                .geemap-colab {\n",
       "                    background-color: var(--colab-primary-surface-color, white);\n",
       "                }\n",
       "\n",
       "                .geemap-colab .jupyter-button {\n",
       "                    --jp-layout-color3: var(--colab-primary-surface-color, white);\n",
       "                }\n",
       "            </style>\n",
       "            "
      ],
      "text/plain": [
       "<IPython.core.display.HTML object>"
      ]
     },
     "metadata": {},
     "output_type": "display_data"
    }
   ],
   "source": [
    "#########################\n",
    "# WATER BALANCE EXECUTION\n",
    "#########################\n",
    "\n",
    "partial_function = partial(water_balance, ee = ee, whc = whc, k = k)\n",
    "\n",
    "# Iterate the user-supplied function to the terraclimate collection\n",
    "wy_list = terraclimate.iterate(partial_function, image_list)\n",
    "\n",
    "# Remove the initial image from our list\n",
    "wy_list = ee.List(wy_list).remove(initial_image)\n",
    "\n",
    "# Transform the list into an ee.ImageCollection\n",
    "wy_coll = ee.ImageCollection(wy_list).filter(ee.Filter.date(ini_date, fin_date))"
   ]
  },
  {
   "cell_type": "code",
   "execution_count": 50,
   "metadata": {},
   "outputs": [
    {
     "data": {
      "text/html": [
       "\n",
       "            <style>\n",
       "                .geemap-dark {\n",
       "                    --jp-widgets-color: white;\n",
       "                    --jp-widgets-label-color: white;\n",
       "                    --jp-ui-font-color1: white;\n",
       "                    --jp-layout-color2: #454545;\n",
       "                    background-color: #383838;\n",
       "                }\n",
       "\n",
       "                .geemap-dark .jupyter-button {\n",
       "                    --jp-layout-color3: #383838;\n",
       "                }\n",
       "\n",
       "                .geemap-colab {\n",
       "                    background-color: var(--colab-primary-surface-color, white);\n",
       "                }\n",
       "\n",
       "                .geemap-colab .jupyter-button {\n",
       "                    --jp-layout-color3: var(--colab-primary-surface-color, white);\n",
       "                }\n",
       "            </style>\n",
       "            "
      ],
      "text/plain": [
       "<IPython.core.display.HTML object>"
      ]
     },
     "metadata": {},
     "output_type": "display_data"
    }
   ],
   "source": [
    "# Let's assign year and month to each image of the resulting image collection\n",
    "wy_coll = wy_coll.map(lambda image: image.set(\"year\", ee.Image(image).date().get(\"year\")))\n",
    "wy_coll = wy_coll.map(lambda image: image.set(\"month\", ee.Image(image).date().get(\"month\")))"
   ]
  },
  {
   "cell_type": "code",
   "execution_count": 77,
   "metadata": {},
   "outputs": [
    {
     "data": {
      "text/html": [
       "\n",
       "            <style>\n",
       "                .geemap-dark {\n",
       "                    --jp-widgets-color: white;\n",
       "                    --jp-widgets-label-color: white;\n",
       "                    --jp-ui-font-color1: white;\n",
       "                    --jp-layout-color2: #454545;\n",
       "                    background-color: #383838;\n",
       "                }\n",
       "\n",
       "                .geemap-dark .jupyter-button {\n",
       "                    --jp-layout-color3: #383838;\n",
       "                }\n",
       "\n",
       "                .geemap-colab {\n",
       "                    background-color: var(--colab-primary-surface-color, white);\n",
       "                }\n",
       "\n",
       "                .geemap-colab .jupyter-button {\n",
       "                    --jp-layout-color3: var(--colab-primary-surface-color, white);\n",
       "                }\n",
       "            </style>\n",
       "            "
      ],
      "text/plain": [
       "<IPython.core.display.HTML object>"
      ]
     },
     "metadata": {},
     "output_type": "display_data"
    },
    {
     "data": {
      "text/html": [
       "<div>\n",
       "<style scoped>\n",
       "    .dataframe tbody tr th:only-of-type {\n",
       "        vertical-align: middle;\n",
       "    }\n",
       "\n",
       "    .dataframe tbody tr th {\n",
       "        vertical-align: top;\n",
       "    }\n",
       "\n",
       "    .dataframe thead th {\n",
       "        text-align: right;\n",
       "    }\n",
       "</style>\n",
       "<table border=\"1\" class=\"dataframe\">\n",
       "  <thead>\n",
       "    <tr style=\"text-align: right;\">\n",
       "      <th></th>\n",
       "      <th>Area_km2</th>\n",
       "      <th>ID</th>\n",
       "      <th>mean</th>\n",
       "      <th>month</th>\n",
       "      <th>year</th>\n",
       "    </tr>\n",
       "  </thead>\n",
       "  <tbody>\n",
       "    <tr>\n",
       "      <th>0</th>\n",
       "      <td>782116</td>\n",
       "      <td>6742900</td>\n",
       "      <td>47.726005</td>\n",
       "      <td>1</td>\n",
       "      <td>2013</td>\n",
       "    </tr>\n",
       "    <tr>\n",
       "      <th>1</th>\n",
       "      <td>514091</td>\n",
       "      <td>42055</td>\n",
       "      <td>54.870641</td>\n",
       "      <td>1</td>\n",
       "      <td>2013</td>\n",
       "    </tr>\n",
       "    <tr>\n",
       "      <th>2</th>\n",
       "      <td>3194997</td>\n",
       "      <td>07374525</td>\n",
       "      <td>29.046939</td>\n",
       "      <td>1</td>\n",
       "      <td>2013</td>\n",
       "    </tr>\n",
       "    <tr>\n",
       "      <th>3</th>\n",
       "      <td>20210</td>\n",
       "      <td>23</td>\n",
       "      <td>1.984880</td>\n",
       "      <td>1</td>\n",
       "      <td>2013</td>\n",
       "    </tr>\n",
       "    <tr>\n",
       "      <th>4</th>\n",
       "      <td>4671596</td>\n",
       "      <td>17050001</td>\n",
       "      <td>115.925675</td>\n",
       "      <td>1</td>\n",
       "      <td>2013</td>\n",
       "    </tr>\n",
       "    <tr>\n",
       "      <th>...</th>\n",
       "      <td>...</td>\n",
       "      <td>...</td>\n",
       "      <td>...</td>\n",
       "      <td>...</td>\n",
       "      <td>...</td>\n",
       "    </tr>\n",
       "    <tr>\n",
       "      <th>155</th>\n",
       "      <td>20210</td>\n",
       "      <td>23</td>\n",
       "      <td>34.802886</td>\n",
       "      <td>8</td>\n",
       "      <td>2014</td>\n",
       "    </tr>\n",
       "    <tr>\n",
       "      <th>156</th>\n",
       "      <td>4671596</td>\n",
       "      <td>17050001</td>\n",
       "      <td>41.998396</td>\n",
       "      <td>8</td>\n",
       "      <td>2014</td>\n",
       "    </tr>\n",
       "    <tr>\n",
       "      <th>157</th>\n",
       "      <td>2606269</td>\n",
       "      <td>1662100</td>\n",
       "      <td>60.516110</td>\n",
       "      <td>8</td>\n",
       "      <td>2014</td>\n",
       "    </tr>\n",
       "    <tr>\n",
       "      <th>158</th>\n",
       "      <td>1682893</td>\n",
       "      <td>2181900</td>\n",
       "      <td>71.361919</td>\n",
       "      <td>8</td>\n",
       "      <td>2014</td>\n",
       "    </tr>\n",
       "    <tr>\n",
       "      <th>159</th>\n",
       "      <td>851359</td>\n",
       "      <td>A4261110</td>\n",
       "      <td>7.981770</td>\n",
       "      <td>8</td>\n",
       "      <td>2014</td>\n",
       "    </tr>\n",
       "  </tbody>\n",
       "</table>\n",
       "<p>160 rows × 5 columns</p>\n",
       "</div>"
      ],
      "text/plain": [
       "     Area_km2        ID        mean  month  year\n",
       "0      782116   6742900   47.726005      1  2013\n",
       "1      514091     42055   54.870641      1  2013\n",
       "2     3194997  07374525   29.046939      1  2013\n",
       "3       20210        23    1.984880      1  2013\n",
       "4     4671596  17050001  115.925675      1  2013\n",
       "..        ...       ...         ...    ...   ...\n",
       "155     20210        23   34.802886      8  2014\n",
       "156   4671596  17050001   41.998396      8  2014\n",
       "157   2606269   1662100   60.516110      8  2014\n",
       "158   1682893   2181900   71.361919      8  2014\n",
       "159    851359  A4261110    7.981770      8  2014\n",
       "\n",
       "[160 rows x 5 columns]"
      ]
     },
     "execution_count": 77,
     "metadata": {},
     "output_type": "execute_result"
    }
   ],
   "source": [
    "reduced_wy_coll = wy_coll.select(\"wyield\")\n",
    "#processing_scale = reduced_wy_coll.first().projection().nominalScale()\n",
    "\n",
    "# rescale features to help with memory error\n",
    "calib_basins_scaled = calib_basins\n",
    "#calib_basins_scaled = calib_basins.map(lambda feature: feature.simplify(100)).limit(1)\n",
    "\n",
    "# Perform a grouped mean reduction by land cover category\n",
    "def means(image):\n",
    "    reduced_fc = image.reduceRegions(\n",
    "        reducer=ee.Reducer.mean(),\n",
    "        collection=calib_basins_scaled, # Specify the region's geometry\n",
    "        scale=scale # Specify the scale in meters\n",
    "        #tileScale=16\n",
    "    )\n",
    "\n",
    "    # Define a function to add a new field to each feature\n",
    "    def add_field(feature):\n",
    "        feature = feature.set('year', image.get(\"year\"))\n",
    "        feature = feature.set('month', image.get(\"month\"))\n",
    "        return feature\n",
    "\n",
    "    # Map the function over the FeatureCollection\n",
    "    updated_fc = reduced_fc.map(add_field)\n",
    "\n",
    "    # Select only the fields you want to keep\n",
    "    cleaned_fc = updated_fc.select([\"ID\", \"month\", \"year\", \"Area_km2\", \"mean\"])\n",
    "\n",
    "    return cleaned_fc\n",
    "\n",
    "# Apply the means function to each image in the image collection\n",
    "with_mean = reduced_wy_coll.limit(20).map(means)\n",
    "results = with_mean.flatten()\n",
    "\n",
    "\"\"\" # Export the FeatureCollection.\n",
    "task = ee.batch.Export.table.toDrive(\n",
    "    collection=results,\n",
    "    description='exportTableExample',\n",
    "    folder='earth_engine_demos',\n",
    "    fileFormat='CSV' \n",
    ")\n",
    "task.start() \"\"\"\n",
    "\n",
    "# Convert the Earth Engine FeatureCollection to a pandas DataFrame\n",
    "df = geemap.ee_to_df(results)\n",
    "df"
   ]
  },
  {
   "cell_type": "code",
   "execution_count": 66,
   "metadata": {},
   "outputs": [
    {
     "data": {
      "text/html": [
       "\n",
       "            <style>\n",
       "                .geemap-dark {\n",
       "                    --jp-widgets-color: white;\n",
       "                    --jp-widgets-label-color: white;\n",
       "                    --jp-ui-font-color1: white;\n",
       "                    --jp-layout-color2: #454545;\n",
       "                    background-color: #383838;\n",
       "                }\n",
       "\n",
       "                .geemap-dark .jupyter-button {\n",
       "                    --jp-layout-color3: #383838;\n",
       "                }\n",
       "\n",
       "                .geemap-colab {\n",
       "                    background-color: var(--colab-primary-surface-color, white);\n",
       "                }\n",
       "\n",
       "                .geemap-colab .jupyter-button {\n",
       "                    --jp-layout-color3: var(--colab-primary-surface-color, white);\n",
       "                }\n",
       "            </style>\n",
       "            "
      ],
      "text/plain": [
       "<IPython.core.display.HTML object>"
      ]
     },
     "metadata": {},
     "output_type": "display_data"
    },
    {
     "data": {
      "text/plain": [
       "{'state': 'FAILED',\n",
       " 'description': 'exportTableExample',\n",
       " 'priority': 100,\n",
       " 'creation_timestamp_ms': 1732941564195,\n",
       " 'update_timestamp_ms': 1732941651931,\n",
       " 'start_timestamp_ms': 1732941579746,\n",
       " 'task_type': 'EXPORT_FEATURES',\n",
       " 'attempt': 1,\n",
       " 'batch_eecu_usage_seconds': 21341.52734375,\n",
       " 'error_message': 'User memory limit exceeded.',\n",
       " 'id': 'XMMGEMI2OP7AWHIIU6VZV3OG',\n",
       " 'name': 'projects/ee-jvg/operations/XMMGEMI2OP7AWHIIU6VZV3OG'}"
      ]
     },
     "execution_count": 66,
     "metadata": {},
     "output_type": "execute_result"
    }
   ],
   "source": [
    "task.status()"
   ]
  },
  {
   "cell_type": "code",
   "execution_count": null,
   "metadata": {},
   "outputs": [],
   "source": [
    "# Let's have a look at the results around a location of interest\n",
    "# WARNING: It crashes if the number of simulation years is greater than 11 on a monthly basis, i.e., more than 132 images.\n",
    "# It will result in a df that includes data from all the reporting/printing timeperiod\n",
    "arr = wy_coll.getRegion(poi, scale).getInfo()\n",
    "rdf = ee_array_to_df(arr, wb_vars).sort_index()\n",
    "rdf"
   ]
  },
  {
   "cell_type": "code",
   "execution_count": null,
   "metadata": {},
   "outputs": [],
   "source": [
    "# Get values of initial variables for the point of interest\n",
    "copy_ii = initial_image.set('system:time_start', 0)\n",
    "intial_imgs = ee.ImageCollection(ee.List([copy_ii]))\n",
    "initial_arr = intial_imgs.getRegion(poi, scale).getInfo()\n",
    "idf = ee_array_to_df(initial_arr, wb_vars).sort_index()\n",
    "idf"
   ]
  },
  {
   "cell_type": "code",
   "execution_count": null,
   "metadata": {},
   "outputs": [],
   "source": [
    "# This process is carried out to validate whether the water balance outputs were correctly calculated. Verification was done by other means\n",
    "# Therefore, only if a warm-up period was not defined, this could be useful. On the contrary, the datetime of the initial variables dataframe (\"idf\") will not meet the antecedent datetime of dataframe \"rdf\"\n",
    "rdff = pd.concat([idf, rdf])\n",
    "#rdf.to_excel(\"D:\\Borrar\\wb_point.xlsx\")\n",
    "#rdff.to_csv(\"D:\\Borrar\\wb_point.csv\")\n",
    "rdff"
   ]
  },
  {
   "cell_type": "code",
   "execution_count": null,
   "metadata": {},
   "outputs": [],
   "source": [
    "# Preparing dataframe for chart visualization\n",
    "new_pd = rdf.drop([\"time\"], axis=1)\n",
    "new_pd[\"year\"] = rdf.apply(lambda row: row.name.split(\"-\")[0], axis=1)\n",
    "new_pd[\"month\"] = new_pd.apply(lambda row: calendar.month_abbr[int(row.name.split(\"-\")[1])], axis=1)\n",
    "new_pd"
   ]
  },
  {
   "cell_type": "code",
   "execution_count": null,
   "metadata": {},
   "outputs": [],
   "source": [
    "# Annual values\n",
    "pd_yr = new_pd.drop(\"month\", axis=1).groupby([\"year\"]).sum()\n",
    "pd_yr"
   ]
  },
  {
   "cell_type": "code",
   "execution_count": null,
   "metadata": {},
   "outputs": [],
   "source": [
    "# Plot of yearly water balance\n",
    "fig = plt.figure(figsize=(6, 4))\n",
    "ax = fig.add_subplot(111)\n",
    "\n",
    "cols = pd_yr.drop([\"pet\", \"eprec\", \"sstor\", \"perc\"], axis=1).columns.tolist()\n",
    "ls_vars = {}\n",
    "mk_vars = {}\n",
    "ls = [\"-\", \"--\", \":\", \"dashed\", \"-\"]\n",
    "markers = [\"\", \"^\", \"v\", \"o\", \"<\"]\n",
    "\n",
    "for i in range(len(cols)):\n",
    "    ls_vars[cols[i]] = ls[i]\n",
    "    mk_vars[cols[i]] = markers[i]\n",
    "\n",
    "for col in cols:\n",
    "    ax.plot(pd_yr[col], linestyle=ls_vars[col], marker=mk_vars[col], label=col, fillstyle='none')\n",
    "ax.legend()\n",
    "ax.set_xlabel('Year')\n",
    "ax.set_ylabel(\"Depth (mm)\")\n",
    "ax.set_title(\"Water Balance - Historical: \" + pd_yr.index.values.min() + \"-\" + pd_yr.index.values.max() + \"\\n\"\n",
    "             + \"Lat: \" + str(round(lat, 8)) + \", Long: \" + str(round(lon, 8)))\n",
    "ax.tick_params(axis='x', labelrotation=45)"
   ]
  },
  {
   "cell_type": "code",
   "execution_count": null,
   "metadata": {},
   "outputs": [],
   "source": [
    "# Monthly values\n",
    "pd_month = new_pd.drop(\"year\", axis=1).groupby([\"month\"], sort=False).mean()\n",
    "pd_month"
   ]
  },
  {
   "cell_type": "code",
   "execution_count": null,
   "metadata": {},
   "outputs": [],
   "source": [
    "# Plot of monthly water balance\n",
    "fig = plt.figure(figsize=(6, 4))\n",
    "ax = fig.add_subplot(111)\n",
    "\n",
    "cols = pd_month.drop([\"pet\", \"eprec\", \"sstor\", \"perc\"], axis=1).columns.tolist()\n",
    "ls_vars = {}\n",
    "mk_vars = {}\n",
    "ls = [\"-\", \"--\", \":\", \"dashed\", \"-\"]\n",
    "markers = [\"\", \"^\", \"v\", \"o\", \"<\"]\n",
    "\n",
    "for i in range(len(cols)):\n",
    "    ls_vars[cols[i]] = ls[i]\n",
    "    mk_vars[cols[i]] = markers[i]\n",
    "\n",
    "for col in cols:\n",
    "    ax.plot(pd_month[col], linestyle=ls_vars[col], marker=mk_vars[col], label=col, fillstyle='none')\n",
    "ax.legend()\n",
    "ax.set_xlabel('Month')\n",
    "ax.set_ylabel(\"Depth (mm)\")\n",
    "ax.set_title(\"Water Balance - Historical: \" + pd_yr.index.values.min() + \"-\" + pd_yr.index.values.max() + \"\\n\"\n",
    "             + \"Lat: \" + str(round(lat, 8)) + \", Long: \" + str(round(lon, 8)))\n",
    "ax.tick_params(axis='x', labelrotation=45)"
   ]
  },
  {
   "cell_type": "code",
   "execution_count": null,
   "metadata": {},
   "outputs": [],
   "source": [
    "# Let's assign year and month to each image of the resulting image collection\n",
    "wy_coll = wy_coll.map(lambda image: image.set(\"year\", ee.Image(image).date().get(\"year\")))\n",
    "wy_coll = wy_coll.map(lambda image: image.set(\"month\", ee.Image(image).date().get(\"month\")))"
   ]
  },
  {
   "cell_type": "code",
   "execution_count": null,
   "metadata": {},
   "outputs": [],
   "source": [
    "def create_annual_composite(year):\n",
    "  # Reduce image collection for the year\n",
    "  annual_image = ee.ImageCollection(wy_coll.select(wb_vars) \\\n",
    "                          .filterMetadata('year', 'equals', year) \\\n",
    "                          .set('year', year)).sum().float()\n",
    "\n",
    "  # Rename bands with original names\n",
    "  annual_image = annual_image.rename(ee.List(wb_vars))\n",
    "\n",
    "  return annual_image\n",
    "\n",
    "# Define years from image collection\n",
    "years = ee.List(wy_coll.aggregate_array('year')).distinct().sort()\n",
    "\n",
    "# Create annual image collection\n",
    "annual_ic = ee.ImageCollection.fromImages(years.map(lambda year: create_annual_composite(ee.Number(year))))"
   ]
  },
  {
   "cell_type": "code",
   "execution_count": null,
   "metadata": {},
   "outputs": [],
   "source": [
    "var_to_show = \"pr\" # wb_vars = [\"pr\", \"pet\", \"ro\", \"eprec\", \"aet\", \"sstor\", \"perc\", \"bflow\", \"wyield\"]\n",
    "img_to_show = annual_ic.select(var_to_show)\n",
    "\n",
    "# Define arguments for the getVideoThumbURL function parameters.\n",
    "videoArgs = {\n",
    "  \"dimensions\": 768,\n",
    "  \"region\": zoi.geometry(),\n",
    "  \"framesPerSecond\": 3,\n",
    "  \"crs\": 'EPSG:3857',\n",
    "  \"min\": 1000, # Change this value as needed\n",
    "  \"max\": 4000, # Change this value as needed\n",
    "  'palette': [\n",
    "      '#AFEEEE',\n",
    "      '#E0FFFF',\n",
    "      '#00FFFF',\n",
    "      '#87CEEB',\n",
    "      '#000080'\n",
    "  ],\n",
    "}\n",
    "\n",
    "# Get the video thumbnail URL for the temperature image collection\n",
    "video_url = img_to_show.getVideoThumbURL(videoArgs)\n",
    "print(\"Video Thumbnail URL: \", video_url)"
   ]
  },
  {
   "cell_type": "code",
   "execution_count": null,
   "metadata": {},
   "outputs": [],
   "source": [
    "# Let's have a look at the results around a location of interest by using the aggregated image collection on a yearly basis:\n",
    "annual_arr = annual_ic.getRegion(poi, scale).getInfo()\n",
    "annual_rdf = ee_array_to_df(annual_arr, wb_vars).reset_index(drop=True).drop([\"time\"], axis=1)\n",
    "annual_rdf[\"year\"] = years.getInfo()\n",
    "annual_rdf = annual_rdf.set_index(\"year\")\n",
    "annual_rdf"
   ]
  },
  {
   "cell_type": "code",
   "execution_count": null,
   "metadata": {},
   "outputs": [],
   "source": [
    "def create_monthly_composite(month):\n",
    "  # Reduce image collection for the year\n",
    "  monthly_image = ee.ImageCollection(wy_coll.select(wb_vars) \\\n",
    "                          .filterMetadata('month', 'equals', month) \\\n",
    "                          .set('month', month)).mean().float()\n",
    "\n",
    "  # Rename bands with original names\n",
    "  monthly_image = monthly_image.rename(ee.List(wb_vars))\n",
    "\n",
    "  return monthly_image\n",
    "\n",
    "# Define months from image collection\n",
    "months = ee.List(wy_coll.aggregate_array('month')).distinct().sort()\n",
    "\n",
    "# Create annual image collection\n",
    "monthly_ic = ee.ImageCollection.fromImages(months.map(lambda month: create_monthly_composite(ee.Number(month))))"
   ]
  },
  {
   "cell_type": "code",
   "execution_count": null,
   "metadata": {},
   "outputs": [],
   "source": [
    "var_to_show2 = \"ro\" # wb_vars = [\"pr\", \"pet\", \"ro\", \"eprec\", \"aet\", \"sstor\", \"perc\", \"bflow\", \"wyield\"]\n",
    "img_to_show2 = monthly_ic.select(var_to_show2)\n",
    "\n",
    "# Define arguments for the getVideoThumbURL function parameters.\n",
    "videoArgs2 = {\n",
    "  \"dimensions\": 768,\n",
    "  \"region\": zoi.geometry(),\n",
    "  \"framesPerSecond\": 3,\n",
    "  \"crs\": 'EPSG:3857',\n",
    "  \"min\": 0, # Change this value as needed\n",
    "  \"max\": 400, # Change this value as needed\n",
    "  'palette': [\n",
    "      '#AFEEEE',\n",
    "      '#E0FFFF',\n",
    "      '#00FFFF',\n",
    "      '#87CEEB',\n",
    "      '#000080'\n",
    "  ],\n",
    "}\n",
    "\n",
    "# Get the video thumbnail URL for the temperature image collection\n",
    "video_url2 = img_to_show2.getVideoThumbURL(videoArgs2)\n",
    "print(\"Video Thumbnail URL: \", video_url2)"
   ]
  },
  {
   "cell_type": "code",
   "execution_count": null,
   "metadata": {},
   "outputs": [],
   "source": [
    "# Let's have a look at the results around a location of interest by using the aggregated image collection on a monthly basis:\n",
    "monthly_arr = monthly_ic.getRegion(poi, scale).getInfo()\n",
    "monthly_rdf = ee_array_to_df(monthly_arr, wb_vars).reset_index(drop=True).drop([\"time\"], axis=1)\n",
    "monthly_rdf[\"month\"] = months.getInfo()\n",
    "monthly_rdf[\"month\"] = monthly_rdf[\"month\"].apply(lambda row: calendar.month_abbr[row])\n",
    "monthly_rdf = monthly_rdf.set_index(\"month\")\n",
    "monthly_rdf"
   ]
  },
  {
   "cell_type": "code",
   "execution_count": null,
   "metadata": {},
   "outputs": [],
   "source": [
    "raise SystemExit(\"INTERRUPTION: Below lines work but not as thought!\")"
   ]
  },
  {
   "cell_type": "code",
   "execution_count": null,
   "metadata": {},
   "outputs": [],
   "source": [
    "# Function to sample each image and aggregate on the server-side\n",
    "def sample_image(image):\n",
    "    return image.reduceRegions(collection=poi, reducer=ee.Reducer.mean(), scale=scale)\n",
    "\n",
    "# Sample all images in the collection and aggregate results\n",
    "def sample_collection(collection):\n",
    "    # Apply sampling for each image in the collection\n",
    "    sampled_features = collection.map(sample_image)\n",
    "    \n",
    "    # Flatten the FeatureCollection (combining samples from all images)\n",
    "    return sampled_features.flatten()\n",
    "\n",
    "# Sample the collection server-side\n",
    "sampled_features = sample_collection(wy_coll.filterBounds(poi_ft))\n",
    "\n",
    "# Convert the Earth Engine FeatureCollection to a pandas DataFrame\n",
    "df = geemap.ee_to_df(sampled_features)\n",
    "\n",
    "# Process and clean the DataFrame as needed\n",
    "df = df[[*wb_vars]]\n",
    "\n",
    "# Now `df` contains the combined data from the image collection samples\n",
    "df"
   ]
  },
  {
   "cell_type": "code",
   "execution_count": null,
   "metadata": {},
   "outputs": [],
   "source": [
    "# Function to sample each image and aggregate on the server-side\n",
    "def sample_image(image):\n",
    "    return image.sample(region=poi, scale=scale)\n",
    "\n",
    "# Sample all images in the collection and aggregate results\n",
    "def sample_collection(collection):\n",
    "    # Apply sampling for each image in the collection\n",
    "    sampled_features = collection.map(sample_image)\n",
    "    \n",
    "    # Flatten the FeatureCollection (combining samples from all images)\n",
    "    return sampled_features.flatten()\n",
    "\n",
    "# Sample the collection server-side\n",
    "sampled_features = sample_collection(wy_coll.filterBounds(poi_ft))\n",
    "\n",
    "# Convert the Earth Engine FeatureCollection to a pandas DataFrame\n",
    "df = geemap.ee_to_df(sampled_features)\n",
    "\n",
    "# Process and clean the DataFrame as needed\n",
    "df = df[[*wb_vars]]\n",
    "\n",
    "# Now `df` contains the combined data from the image collection samples\n",
    "df"
   ]
  },
  {
   "cell_type": "code",
   "execution_count": null,
   "metadata": {},
   "outputs": [],
   "source": [
    "# Function to sample each image and aggregate on the server-side\n",
    "def sample_image(image):\n",
    "    return image.reduceRegions(collection=poi, reducer=ee.Reducer.mean(), scale=scale)\n",
    "\n",
    "# Sample all images in the collection and aggregate results\n",
    "def sample_collection(collection):\n",
    "    sampled_features = collection.map(sample_image)\n",
    "    return sampled_features.flatten()\n",
    "\n",
    "# Function to split image collection into smaller chunks\n",
    "def split_collection(collection, chunk_size):\n",
    "    size = collection.size().getInfo()\n",
    "    chunks = [collection.toList(chunk_size, offset) for offset in range(0, size, chunk_size)]\n",
    "    return chunks\n",
    "\n",
    "# Split the collection into smaller chunks (e.g., 10 images per chunk)\n",
    "chunk_size = 12\n",
    "chunks = split_collection(wy_coll, chunk_size)\n",
    "\n",
    "# Process each chunk sequentially\n",
    "df_list = []\n",
    "for chunk in chunks:\n",
    "    chunk_ic = ee.ImageCollection(chunk)\n",
    "    sampled_features = sample_collection(chunk_ic)\n",
    "    df_chunk = geemap.ee_to_df(sampled_features)\n",
    "    df_list.append(df_chunk)\n",
    "\n",
    "# Concatenate all DataFrames into a single DataFrame\n",
    "df1 = pd.concat(df_list).sort_index()\n",
    "df1 = df1[[*wb_vars]]\n",
    "\n",
    "# Final DataFrame\n",
    "df1"
   ]
  },
  {
   "cell_type": "code",
   "execution_count": null,
   "metadata": {},
   "outputs": [],
   "source": [
    "# Function to sample each image and aggregate on the server-side\n",
    "def sample_image(image):\n",
    "    return image.sample(region=poi, scale=scale)\n",
    "\n",
    "# Sample all images in the collection and aggregate results\n",
    "def sample_collection(collection):\n",
    "    sampled_features = collection.map(sample_image)\n",
    "    return sampled_features.flatten()\n",
    "\n",
    "# Function to split image collection into smaller chunks\n",
    "def split_collection(collection, chunk_size):\n",
    "    size = collection.size().getInfo()\n",
    "    chunks = [collection.toList(chunk_size, offset) for offset in range(0, size, chunk_size)]\n",
    "    return chunks\n",
    "\n",
    "# Split the collection into smaller chunks (e.g., 10 images per chunk)\n",
    "chunk_size = 12\n",
    "chunks = split_collection(wy_coll, chunk_size)\n",
    "\n",
    "# Process each chunk sequentially\n",
    "df_list = []\n",
    "for chunk in chunks:\n",
    "    chunk_ic = ee.ImageCollection(chunk)\n",
    "    sampled_features = sample_collection(chunk_ic)\n",
    "    df_chunk = geemap.ee_to_df(sampled_features)\n",
    "    df_list.append(df_chunk)\n",
    "\n",
    "# Concatenate all DataFrames into a single DataFrame\n",
    "df1 = pd.concat(df_list).sort_index()\n",
    "df1 = df1[[*wb_vars]]\n",
    "\n",
    "# Final DataFrame\n",
    "df1"
   ]
  },
  {
   "cell_type": "code",
   "execution_count": null,
   "metadata": {},
   "outputs": [],
   "source": [
    "def get_dates(image):\n",
    "    date = ee.Date(image.get('system:time_start')).format('YYYY-MM')\n",
    "    return image.set('DATE', date)\n",
    "\n",
    "collection_with_dates = wy_coll.map(get_dates)\n",
    "dates = collection_with_dates.aggregate_array('DATE').getInfo()\n",
    "original_wb_vars = wy_coll.first().bandNames().getInfo()\n",
    "band_names = [a + \"_\" + b for a in dates for b in original_wb_vars]\n",
    "\n",
    "# Convert the sampled data to a list\n",
    "# Sample the image at the points\n",
    "def sampled (image):\n",
    "    return image.reduceRegions(\n",
    "    reducer=ee.Reducer.first(),\n",
    "    collection=poi_ft,\n",
    "    scale=scale\n",
    ")\n",
    "\n",
    "sampled_df = ee.data.computeFeatures({\n",
    "    'expression': sampled(ee.Image(wy_coll.toBands().rename(band_names))),\n",
    "    'fileFormat': 'PANDAS_DATAFRAME'\n",
    "})\n",
    "\n",
    "sampled_df"
   ]
  },
  {
   "cell_type": "code",
   "execution_count": null,
   "metadata": {},
   "outputs": [],
   "source": [
    "#############################\n",
    "# HELPFUL CODES\n",
    "#############################\n",
    "\n",
    "# To know how many bands an ImageCollection has\n",
    "#terraclimate.size().getInfo()\n",
    "\n",
    "# To get the attributes (columns) as pandas dataframe\n",
    "#geemap.ee_to_df(hydrobasins)\n",
    "\n",
    "# Display image metada\n",
    "#display(ee.ImageCollection.first())"
   ]
  },
  {
   "cell_type": "code",
   "execution_count": null,
   "metadata": {},
   "outputs": [],
   "source": [
    "# HydroSHEDS v1 will be used. Specifically, its HydroBASINS\n",
    "#zoi = hydrobasins.select(hybas_id).filter(ee.Filter.eq(hybas_id, selected_basin_id))\n",
    "#visualization = {\n",
    "#  \"color\": 'blue',\n",
    "#  \"strokeWidth\": 1\n",
    "#}\n",
    "#Map.centerObject(zoi.geometry())\n",
    "#Map.addLayer(zoi, visualization, 'Selected Basin')"
   ]
  },
  {
   "cell_type": "code",
   "execution_count": null,
   "metadata": {},
   "outputs": [],
   "source": [
    "# Access an image asset from my account to test the code\n",
    "#guate_bdry = ee.FeatureCollection('users/jvg/guatemala_buffer')\n",
    "#guate_geom = guate_bdry.geometry()\n",
    "#Map.centerObject(guate_geom)\n",
    "#Map.addLayer(guate_bdry, {\"color\": 'red'}, 'Guatemala Boundary')"
   ]
  }
 ],
 "metadata": {
  "kernelspec": {
   "display_name": "arcgispro-py3-clone",
   "language": "python",
   "name": "python3"
  },
  "language_info": {
   "codemirror_mode": {
    "name": "ipython",
    "version": 3
   },
   "file_extension": ".py",
   "mimetype": "text/x-python",
   "name": "python",
   "nbconvert_exporter": "python",
   "pygments_lexer": "ipython3",
   "version": "3.11.8"
  }
 },
 "nbformat": 4,
 "nbformat_minor": 2
}
