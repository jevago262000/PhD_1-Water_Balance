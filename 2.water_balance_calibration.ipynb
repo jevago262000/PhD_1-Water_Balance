{
 "cells": [
  {
   "cell_type": "code",
   "execution_count": 1,
   "metadata": {},
   "outputs": [],
   "source": [
    "# If not installed, run this cell. It is needed for access to GEE\n",
    "#!pip install ee\n",
    "#!pip show ee"
   ]
  },
  {
   "cell_type": "code",
   "execution_count": 2,
   "metadata": {},
   "outputs": [],
   "source": [
    "# If not installed, run this cell. It helps visualization of data\n",
    "#!pip install geemap\n",
    "#!pip show geemap"
   ]
  },
  {
   "cell_type": "code",
   "execution_count": 3,
   "metadata": {},
   "outputs": [],
   "source": [
    "# If not installed, run this cell. It helps conversion from DBF to DF\n",
    "#!pip install dbfread\n",
    "#!pip show dbfread"
   ]
  },
  {
   "cell_type": "code",
   "execution_count": 4,
   "metadata": {},
   "outputs": [],
   "source": [
    "# Import libraries\n",
    "import ee, datetime, pandas as pd, geemap\n",
    "# from IPython.display import Image\n",
    "from otherfunctions import water_balance\n",
    "from functools import partial\n",
    "from dbfread  import DBF\n",
    "from dateutil import relativedelta"
   ]
  },
  {
   "cell_type": "code",
   "execution_count": 5,
   "metadata": {},
   "outputs": [
    {
     "data": {
      "text/html": [
       "\n",
       "            <style>\n",
       "                .geemap-dark {\n",
       "                    --jp-widgets-color: white;\n",
       "                    --jp-widgets-label-color: white;\n",
       "                    --jp-ui-font-color1: white;\n",
       "                    --jp-layout-color2: #454545;\n",
       "                    background-color: #383838;\n",
       "                }\n",
       "\n",
       "                .geemap-dark .jupyter-button {\n",
       "                    --jp-layout-color3: #383838;\n",
       "                }\n",
       "\n",
       "                .geemap-colab {\n",
       "                    background-color: var(--colab-primary-surface-color, white);\n",
       "                }\n",
       "\n",
       "                .geemap-colab .jupyter-button {\n",
       "                    --jp-layout-color3: var(--colab-primary-surface-color, white);\n",
       "                }\n",
       "            </style>\n",
       "            "
      ],
      "text/plain": [
       "<IPython.core.display.HTML object>"
      ]
     },
     "metadata": {},
     "output_type": "display_data"
    }
   ],
   "source": [
    "# Trigger the authentication flow.\n",
    "ee.Authenticate()\n",
    "\n",
    "# Initialize the library.\n",
    "ee.Initialize(project='ee-jvg')"
   ]
  },
  {
   "cell_type": "code",
   "execution_count": 6,
   "metadata": {},
   "outputs": [
    {
     "data": {
      "text/html": [
       "\n",
       "            <style>\n",
       "                .geemap-dark {\n",
       "                    --jp-widgets-color: white;\n",
       "                    --jp-widgets-label-color: white;\n",
       "                    --jp-ui-font-color1: white;\n",
       "                    --jp-layout-color2: #454545;\n",
       "                    background-color: #383838;\n",
       "                }\n",
       "\n",
       "                .geemap-dark .jupyter-button {\n",
       "                    --jp-layout-color3: #383838;\n",
       "                }\n",
       "\n",
       "                .geemap-colab {\n",
       "                    background-color: var(--colab-primary-surface-color, white);\n",
       "                }\n",
       "\n",
       "                .geemap-colab .jupyter-button {\n",
       "                    --jp-layout-color3: var(--colab-primary-surface-color, white);\n",
       "                }\n",
       "            </style>\n",
       "            "
      ],
      "text/plain": [
       "<IPython.core.display.HTML object>"
      ]
     },
     "metadata": {},
     "output_type": "display_data"
    }
   ],
   "source": [
    "# Access the asset containing the calibration drainage areas\n",
    "Map = geemap.Map()\n",
    "calib_basins = ee.FeatureCollection('projects/ee-jvg/assets/calibration_basins')\n",
    "Map.centerObject(calib_basins.geometry())\n",
    "Map.addLayer(calib_basins, {\"color\": 'blue'}, 'Calibration Drainage Areas')"
   ]
  },
  {
   "cell_type": "code",
   "execution_count": 7,
   "metadata": {},
   "outputs": [
    {
     "data": {
      "text/html": [
       "\n",
       "            <style>\n",
       "                .geemap-dark {\n",
       "                    --jp-widgets-color: white;\n",
       "                    --jp-widgets-label-color: white;\n",
       "                    --jp-ui-font-color1: white;\n",
       "                    --jp-layout-color2: #454545;\n",
       "                    background-color: #383838;\n",
       "                }\n",
       "\n",
       "                .geemap-dark .jupyter-button {\n",
       "                    --jp-layout-color3: #383838;\n",
       "                }\n",
       "\n",
       "                .geemap-colab {\n",
       "                    background-color: var(--colab-primary-surface-color, white);\n",
       "                }\n",
       "\n",
       "                .geemap-colab .jupyter-button {\n",
       "                    --jp-layout-color3: var(--colab-primary-surface-color, white);\n",
       "                }\n",
       "            </style>\n",
       "            "
      ],
      "text/plain": [
       "<IPython.core.display.HTML object>"
      ]
     },
     "metadata": {},
     "output_type": "display_data"
    },
    {
     "data": {
      "application/vnd.jupyter.widget-view+json": {
       "model_id": "7e326163e8cc4203a8adc71145b7f79c",
       "version_major": 2,
       "version_minor": 0
      },
      "text/plain": [
       "Map(center=[6.282893423832647, 19.27832363811588], controls=(WidgetControl(options=['position', 'transparent_b…"
      ]
     },
     "metadata": {},
     "output_type": "display_data"
    }
   ],
   "source": [
    "# HydroSHEDS v1 will be used. Specifically, its HydroBASINS\n",
    "hydrobasins = ee.FeatureCollection('WWF/HydroSHEDS/v1/Basins/hybas_3')\n",
    "hybas_id = \"HYBAS_ID\"\n",
    "Map.addLayer(hydrobasins, {}, 'HydroBasins')\n",
    "Map"
   ]
  },
  {
   "cell_type": "code",
   "execution_count": 8,
   "metadata": {},
   "outputs": [
    {
     "data": {
      "text/html": [
       "\n",
       "            <style>\n",
       "                .geemap-dark {\n",
       "                    --jp-widgets-color: white;\n",
       "                    --jp-widgets-label-color: white;\n",
       "                    --jp-ui-font-color1: white;\n",
       "                    --jp-layout-color2: #454545;\n",
       "                    background-color: #383838;\n",
       "                }\n",
       "\n",
       "                .geemap-dark .jupyter-button {\n",
       "                    --jp-layout-color3: #383838;\n",
       "                }\n",
       "\n",
       "                .geemap-colab {\n",
       "                    background-color: var(--colab-primary-surface-color, white);\n",
       "                }\n",
       "\n",
       "                .geemap-colab .jupyter-button {\n",
       "                    --jp-layout-color3: var(--colab-primary-surface-color, white);\n",
       "                }\n",
       "            </style>\n",
       "            "
      ],
      "text/plain": [
       "<IPython.core.display.HTML object>"
      ]
     },
     "metadata": {},
     "output_type": "display_data"
    },
    {
     "data": {
      "text/html": [
       "<div>\n",
       "<style scoped>\n",
       "    .dataframe tbody tr th:only-of-type {\n",
       "        vertical-align: middle;\n",
       "    }\n",
       "\n",
       "    .dataframe tbody tr th {\n",
       "        vertical-align: top;\n",
       "    }\n",
       "\n",
       "    .dataframe thead th {\n",
       "        text-align: right;\n",
       "    }\n",
       "</style>\n",
       "<table border=\"1\" class=\"dataframe\">\n",
       "  <thead>\n",
       "    <tr style=\"text-align: right;\">\n",
       "      <th></th>\n",
       "      <th>MISS_07374525</th>\n",
       "      <th>ULUA_23</th>\n",
       "      <th>AMZN_17050001</th>\n",
       "      <th>NILE_1662100</th>\n",
       "      <th>YNGZ_2181900</th>\n",
       "      <th>MUDA_A4261110</th>\n",
       "      <th>DABE_6742900</th>\n",
       "      <th>DABE_42055</th>\n",
       "    </tr>\n",
       "    <tr>\n",
       "      <th>yr-mth</th>\n",
       "      <th></th>\n",
       "      <th></th>\n",
       "      <th></th>\n",
       "      <th></th>\n",
       "      <th></th>\n",
       "      <th></th>\n",
       "      <th></th>\n",
       "      <th></th>\n",
       "    </tr>\n",
       "  </thead>\n",
       "  <tbody>\n",
       "    <tr>\n",
       "      <th>1958-1</th>\n",
       "      <td>NaN</td>\n",
       "      <td>NaN</td>\n",
       "      <td>NaN</td>\n",
       "      <td>866.0</td>\n",
       "      <td>8770.0</td>\n",
       "      <td>NaN</td>\n",
       "      <td>5113.0</td>\n",
       "      <td>NaN</td>\n",
       "    </tr>\n",
       "    <tr>\n",
       "      <th>1958-2</th>\n",
       "      <td>NaN</td>\n",
       "      <td>NaN</td>\n",
       "      <td>NaN</td>\n",
       "      <td>777.0</td>\n",
       "      <td>9400.0</td>\n",
       "      <td>NaN</td>\n",
       "      <td>4995.0</td>\n",
       "      <td>NaN</td>\n",
       "    </tr>\n",
       "    <tr>\n",
       "      <th>1958-3</th>\n",
       "      <td>NaN</td>\n",
       "      <td>NaN</td>\n",
       "      <td>NaN</td>\n",
       "      <td>810.0</td>\n",
       "      <td>12000.0</td>\n",
       "      <td>NaN</td>\n",
       "      <td>8735.0</td>\n",
       "      <td>NaN</td>\n",
       "    </tr>\n",
       "    <tr>\n",
       "      <th>1958-4</th>\n",
       "      <td>NaN</td>\n",
       "      <td>NaN</td>\n",
       "      <td>NaN</td>\n",
       "      <td>925.0</td>\n",
       "      <td>22900.0</td>\n",
       "      <td>NaN</td>\n",
       "      <td>10573.0</td>\n",
       "      <td>NaN</td>\n",
       "    </tr>\n",
       "    <tr>\n",
       "      <th>1958-5</th>\n",
       "      <td>NaN</td>\n",
       "      <td>NaN</td>\n",
       "      <td>NaN</td>\n",
       "      <td>660.0</td>\n",
       "      <td>45600.0</td>\n",
       "      <td>NaN</td>\n",
       "      <td>11352.0</td>\n",
       "      <td>NaN</td>\n",
       "    </tr>\n",
       "    <tr>\n",
       "      <th>...</th>\n",
       "      <td>...</td>\n",
       "      <td>...</td>\n",
       "      <td>...</td>\n",
       "      <td>...</td>\n",
       "      <td>...</td>\n",
       "      <td>...</td>\n",
       "      <td>...</td>\n",
       "      <td>...</td>\n",
       "    </tr>\n",
       "    <tr>\n",
       "      <th>2023-8</th>\n",
       "      <td>7495.469295</td>\n",
       "      <td>NaN</td>\n",
       "      <td>NaN</td>\n",
       "      <td>NaN</td>\n",
       "      <td>NaN</td>\n",
       "      <td>449.813</td>\n",
       "      <td>NaN</td>\n",
       "      <td>NaN</td>\n",
       "    </tr>\n",
       "    <tr>\n",
       "      <th>2023-9</th>\n",
       "      <td>4442.913232</td>\n",
       "      <td>NaN</td>\n",
       "      <td>NaN</td>\n",
       "      <td>NaN</td>\n",
       "      <td>NaN</td>\n",
       "      <td>335.637</td>\n",
       "      <td>NaN</td>\n",
       "      <td>NaN</td>\n",
       "    </tr>\n",
       "    <tr>\n",
       "      <th>2023-10</th>\n",
       "      <td>NaN</td>\n",
       "      <td>NaN</td>\n",
       "      <td>NaN</td>\n",
       "      <td>NaN</td>\n",
       "      <td>NaN</td>\n",
       "      <td>199.097</td>\n",
       "      <td>NaN</td>\n",
       "      <td>NaN</td>\n",
       "    </tr>\n",
       "    <tr>\n",
       "      <th>2023-11</th>\n",
       "      <td>4935.626362</td>\n",
       "      <td>NaN</td>\n",
       "      <td>NaN</td>\n",
       "      <td>NaN</td>\n",
       "      <td>NaN</td>\n",
       "      <td>212.866</td>\n",
       "      <td>NaN</td>\n",
       "      <td>NaN</td>\n",
       "    </tr>\n",
       "    <tr>\n",
       "      <th>2023-12</th>\n",
       "      <td>5224.458198</td>\n",
       "      <td>NaN</td>\n",
       "      <td>NaN</td>\n",
       "      <td>NaN</td>\n",
       "      <td>NaN</td>\n",
       "      <td>93.535</td>\n",
       "      <td>NaN</td>\n",
       "      <td>NaN</td>\n",
       "    </tr>\n",
       "  </tbody>\n",
       "</table>\n",
       "<p>792 rows × 8 columns</p>\n",
       "</div>"
      ],
      "text/plain": [
       "         MISS_07374525  ULUA_23  AMZN_17050001  NILE_1662100  YNGZ_2181900  \\\n",
       "yr-mth                                                                       \n",
       "1958-1             NaN      NaN            NaN         866.0        8770.0   \n",
       "1958-2             NaN      NaN            NaN         777.0        9400.0   \n",
       "1958-3             NaN      NaN            NaN         810.0       12000.0   \n",
       "1958-4             NaN      NaN            NaN         925.0       22900.0   \n",
       "1958-5             NaN      NaN            NaN         660.0       45600.0   \n",
       "...                ...      ...            ...           ...           ...   \n",
       "2023-8     7495.469295      NaN            NaN           NaN           NaN   \n",
       "2023-9     4442.913232      NaN            NaN           NaN           NaN   \n",
       "2023-10            NaN      NaN            NaN           NaN           NaN   \n",
       "2023-11    4935.626362      NaN            NaN           NaN           NaN   \n",
       "2023-12    5224.458198      NaN            NaN           NaN           NaN   \n",
       "\n",
       "         MUDA_A4261110  DABE_6742900  DABE_42055  \n",
       "yr-mth                                            \n",
       "1958-1             NaN        5113.0         NaN  \n",
       "1958-2             NaN        4995.0         NaN  \n",
       "1958-3             NaN        8735.0         NaN  \n",
       "1958-4             NaN       10573.0         NaN  \n",
       "1958-5             NaN       11352.0         NaN  \n",
       "...                ...           ...         ...  \n",
       "2023-8         449.813           NaN         NaN  \n",
       "2023-9         335.637           NaN         NaN  \n",
       "2023-10        199.097           NaN         NaN  \n",
       "2023-11        212.866           NaN         NaN  \n",
       "2023-12         93.535           NaN         NaN  \n",
       "\n",
       "[792 rows x 8 columns]"
      ]
     },
     "execution_count": 8,
     "metadata": {},
     "output_type": "execute_result"
    }
   ],
   "source": [
    "# Load streamflow data series for the stations being used for the calibration process\n",
    "cluster_folder = r\"Z:\\PhD_Datasets&Analysis\\Info_Inputs\"\n",
    "excel_folder = cluster_folder + \"//Streamflow_Stations//_DataFrames\"\n",
    "df_sts = pd.read_csv(excel_folder + \"\\Joined_Sts_DFs.csv\", index_col=\"yr-mth\")\n",
    "df_sts"
   ]
  },
  {
   "cell_type": "code",
   "execution_count": 9,
   "metadata": {},
   "outputs": [
    {
     "data": {
      "text/html": [
       "\n",
       "            <style>\n",
       "                .geemap-dark {\n",
       "                    --jp-widgets-color: white;\n",
       "                    --jp-widgets-label-color: white;\n",
       "                    --jp-ui-font-color1: white;\n",
       "                    --jp-layout-color2: #454545;\n",
       "                    background-color: #383838;\n",
       "                }\n",
       "\n",
       "                .geemap-dark .jupyter-button {\n",
       "                    --jp-layout-color3: #383838;\n",
       "                }\n",
       "\n",
       "                .geemap-colab {\n",
       "                    background-color: var(--colab-primary-surface-color, white);\n",
       "                }\n",
       "\n",
       "                .geemap-colab .jupyter-button {\n",
       "                    --jp-layout-color3: var(--colab-primary-surface-color, white);\n",
       "                }\n",
       "            </style>\n",
       "            "
      ],
      "text/plain": [
       "<IPython.core.display.HTML object>"
      ]
     },
     "metadata": {},
     "output_type": "display_data"
    },
    {
     "data": {
      "text/html": [
       "<div>\n",
       "<style scoped>\n",
       "    .dataframe tbody tr th:only-of-type {\n",
       "        vertical-align: middle;\n",
       "    }\n",
       "\n",
       "    .dataframe tbody tr th {\n",
       "        vertical-align: top;\n",
       "    }\n",
       "\n",
       "    .dataframe thead th {\n",
       "        text-align: right;\n",
       "    }\n",
       "</style>\n",
       "<table border=\"1\" class=\"dataframe\">\n",
       "  <thead>\n",
       "    <tr style=\"text-align: right;\">\n",
       "      <th></th>\n",
       "      <th>gridcode</th>\n",
       "      <th>Area_km2</th>\n",
       "      <th>Length_km</th>\n",
       "      <th>ID</th>\n",
       "      <th>STATION</th>\n",
       "      <th>SUFIX</th>\n",
       "      <th>BASIN</th>\n",
       "      <th>LAT</th>\n",
       "      <th>LONG</th>\n",
       "      <th>CONTINENT</th>\n",
       "    </tr>\n",
       "  </thead>\n",
       "  <tbody>\n",
       "    <tr>\n",
       "      <th>0</th>\n",
       "      <td>6</td>\n",
       "      <td>782116</td>\n",
       "      <td>8294</td>\n",
       "      <td>6742900</td>\n",
       "      <td>Ceatal Izmail</td>\n",
       "      <td>DABE</td>\n",
       "      <td>Danube</td>\n",
       "      <td>45.216667</td>\n",
       "      <td>28.716657</td>\n",
       "      <td>eu</td>\n",
       "    </tr>\n",
       "    <tr>\n",
       "      <th>1</th>\n",
       "      <td>7</td>\n",
       "      <td>514091</td>\n",
       "      <td>7272</td>\n",
       "      <td>42055</td>\n",
       "      <td>Smederevo</td>\n",
       "      <td>DABE</td>\n",
       "      <td>Danube</td>\n",
       "      <td>44.666780</td>\n",
       "      <td>20.920600</td>\n",
       "      <td>eu</td>\n",
       "    </tr>\n",
       "    <tr>\n",
       "      <th>2</th>\n",
       "      <td>0</td>\n",
       "      <td>3194997</td>\n",
       "      <td>18768</td>\n",
       "      <td>07374525</td>\n",
       "      <td>USGS 07374525 Mississippi River at Belle Chass...</td>\n",
       "      <td>MISS</td>\n",
       "      <td>Mississippi</td>\n",
       "      <td>29.857145</td>\n",
       "      <td>-89.977850</td>\n",
       "      <td>na</td>\n",
       "    </tr>\n",
       "    <tr>\n",
       "      <th>3</th>\n",
       "      <td>1</td>\n",
       "      <td>20210</td>\n",
       "      <td>943</td>\n",
       "      <td>23</td>\n",
       "      <td>Santiago</td>\n",
       "      <td>ULUA</td>\n",
       "      <td>Ulua</td>\n",
       "      <td>15.297001</td>\n",
       "      <td>-87.928217</td>\n",
       "      <td>na</td>\n",
       "    </tr>\n",
       "    <tr>\n",
       "      <th>4</th>\n",
       "      <td>2</td>\n",
       "      <td>4671596</td>\n",
       "      <td>17674</td>\n",
       "      <td>17050001</td>\n",
       "      <td>Obidos</td>\n",
       "      <td>AMZN</td>\n",
       "      <td>Amazon</td>\n",
       "      <td>-1.947222</td>\n",
       "      <td>-55.511108</td>\n",
       "      <td>sa</td>\n",
       "    </tr>\n",
       "    <tr>\n",
       "      <th>5</th>\n",
       "      <td>3</td>\n",
       "      <td>2606269</td>\n",
       "      <td>14350</td>\n",
       "      <td>1662100</td>\n",
       "      <td>Dongola</td>\n",
       "      <td>NILE</td>\n",
       "      <td>Nile</td>\n",
       "      <td>19.186000</td>\n",
       "      <td>30.489500</td>\n",
       "      <td>af</td>\n",
       "    </tr>\n",
       "    <tr>\n",
       "      <th>6</th>\n",
       "      <td>4</td>\n",
       "      <td>1682893</td>\n",
       "      <td>13471</td>\n",
       "      <td>2181900</td>\n",
       "      <td>Datong</td>\n",
       "      <td>YNGZ</td>\n",
       "      <td>Yangtze</td>\n",
       "      <td>30.770000</td>\n",
       "      <td>117.620000</td>\n",
       "      <td>as</td>\n",
       "    </tr>\n",
       "    <tr>\n",
       "      <th>7</th>\n",
       "      <td>5</td>\n",
       "      <td>851359</td>\n",
       "      <td>8473</td>\n",
       "      <td>A4261110</td>\n",
       "      <td>River Murray downstream Morgan (AMTD 316.5km)</td>\n",
       "      <td>MUDA</td>\n",
       "      <td>Murray-Darling</td>\n",
       "      <td>-34.055059</td>\n",
       "      <td>139.685774</td>\n",
       "      <td>au</td>\n",
       "    </tr>\n",
       "  </tbody>\n",
       "</table>\n",
       "</div>"
      ],
      "text/plain": [
       "   gridcode  Area_km2  Length_km        ID  \\\n",
       "0         6    782116       8294   6742900   \n",
       "1         7    514091       7272     42055   \n",
       "2         0   3194997      18768  07374525   \n",
       "3         1     20210        943        23   \n",
       "4         2   4671596      17674  17050001   \n",
       "5         3   2606269      14350   1662100   \n",
       "6         4   1682893      13471   2181900   \n",
       "7         5    851359       8473  A4261110   \n",
       "\n",
       "                                             STATION SUFIX           BASIN  \\\n",
       "0                                      Ceatal Izmail  DABE          Danube   \n",
       "1                                          Smederevo  DABE          Danube   \n",
       "2  USGS 07374525 Mississippi River at Belle Chass...  MISS     Mississippi   \n",
       "3                                           Santiago  ULUA            Ulua   \n",
       "4                                             Obidos  AMZN          Amazon   \n",
       "5                                            Dongola  NILE            Nile   \n",
       "6                                             Datong  YNGZ         Yangtze   \n",
       "7      River Murray downstream Morgan (AMTD 316.5km)  MUDA  Murray-Darling   \n",
       "\n",
       "         LAT        LONG CONTINENT  \n",
       "0  45.216667   28.716657        eu  \n",
       "1  44.666780   20.920600        eu  \n",
       "2  29.857145  -89.977850        na  \n",
       "3  15.297001  -87.928217        na  \n",
       "4  -1.947222  -55.511108        sa  \n",
       "5  19.186000   30.489500        af  \n",
       "6  30.770000  117.620000        as  \n",
       "7 -34.055059  139.685774        au  "
      ]
     },
     "execution_count": 9,
     "metadata": {},
     "output_type": "execute_result"
    }
   ],
   "source": [
    "# Load attribute table of shapefile containing the calibration basins\n",
    "dbf_folder = cluster_folder + \"//Streamflow_Sts_Drainage_Areas\"\n",
    "dbf = DBF(dbf_folder + \"//Calibration_Basins_Final.dbf\")\n",
    "df_drain_sts = pd.DataFrame(iter(dbf))\n",
    "df_drain_sts"
   ]
  },
  {
   "cell_type": "code",
   "execution_count": 10,
   "metadata": {},
   "outputs": [
    {
     "data": {
      "text/html": [
       "\n",
       "            <style>\n",
       "                .geemap-dark {\n",
       "                    --jp-widgets-color: white;\n",
       "                    --jp-widgets-label-color: white;\n",
       "                    --jp-ui-font-color1: white;\n",
       "                    --jp-layout-color2: #454545;\n",
       "                    background-color: #383838;\n",
       "                }\n",
       "\n",
       "                .geemap-dark .jupyter-button {\n",
       "                    --jp-layout-color3: #383838;\n",
       "                }\n",
       "\n",
       "                .geemap-colab {\n",
       "                    background-color: var(--colab-primary-surface-color, white);\n",
       "                }\n",
       "\n",
       "                .geemap-colab .jupyter-button {\n",
       "                    --jp-layout-color3: var(--colab-primary-surface-color, white);\n",
       "                }\n",
       "            </style>\n",
       "            "
      ],
      "text/plain": [
       "<IPython.core.display.HTML object>"
      ]
     },
     "metadata": {},
     "output_type": "display_data"
    }
   ],
   "source": [
    "def calculate_months(ini_date, fin_date):\n",
    "    # convert string to date object\n",
    "    s_date = datetime.datetime.strptime(ini_date, \"%Y-%m\")\n",
    "    e_date = datetime.datetime.strptime(fin_date, \"%Y-%m\")\n",
    "\n",
    "    # Get the relativedelta between two dates\n",
    "    delta = relativedelta.relativedelta(e_date, s_date)\n",
    "    # get months difference\n",
    "    res_months = delta.months + (delta.years * 12) + 1\n",
    "    return res_months"
   ]
  },
  {
   "cell_type": "code",
   "execution_count": 11,
   "metadata": {},
   "outputs": [
    {
     "data": {
      "text/html": [
       "\n",
       "            <style>\n",
       "                .geemap-dark {\n",
       "                    --jp-widgets-color: white;\n",
       "                    --jp-widgets-label-color: white;\n",
       "                    --jp-ui-font-color1: white;\n",
       "                    --jp-layout-color2: #454545;\n",
       "                    background-color: #383838;\n",
       "                }\n",
       "\n",
       "                .geemap-dark .jupyter-button {\n",
       "                    --jp-layout-color3: #383838;\n",
       "                }\n",
       "\n",
       "                .geemap-colab {\n",
       "                    background-color: var(--colab-primary-surface-color, white);\n",
       "                }\n",
       "\n",
       "                .geemap-colab .jupyter-button {\n",
       "                    --jp-layout-color3: var(--colab-primary-surface-color, white);\n",
       "                }\n",
       "            </style>\n",
       "            "
      ],
      "text/plain": [
       "<IPython.core.display.HTML object>"
      ]
     },
     "metadata": {},
     "output_type": "display_data"
    }
   ],
   "source": [
    "# Function to determine the simulation period and the reporting period\n",
    "def determine_period(start_date, end_date, warmup_yrs = 0):\n",
    "    ini_date = str((int(start_date.split(\"-\")[0]) + int(warmup_yrs))) + \"-\" + start_date.split(\"-\")[1]\n",
    "    if (end_date.split(\"-\")[1]) == \"12\":\n",
    "        fin_date = str(int(end_date.split(\"-\")[0]) + 1) + \"-01\"\n",
    "    else:\n",
    "        fin_date = str(int(end_date.split(\"-\")[0])) + \"-\" + str(int(end_date.split(\"-\")[1]) + 1)\n",
    "\n",
    "    if (datetime.datetime(int(ini_date.split(\"-\")[0]), int(ini_date.split(\"-\")[1]), 1) >= datetime.datetime(int(fin_date.split(\"-\")[0]), int(fin_date.split(\"-\")[1]), 1)):\n",
    "        if (warmup_yrs != 0):\n",
    "            print (\"Start date is finally set beyond or same as the end date! Please consider the implications of the warm-up years. Remember that end date is exclusive\")\n",
    "        else:\n",
    "            print (\"Start date is finally set beyond or same as the end date! Please review your input dates. Remember that end date is exclusive\")\n",
    "        raise SystemExit()\n",
    "\n",
    "    months1 = calculate_months(start_date, end_date)\n",
    "    months2 = calculate_months(ini_date, end_date)\n",
    "\n",
    "    print (\"Simulation period will be from \" + start_date + \" to \" + end_date + \" (\" + str(months1) + \" months)\"\n",
    "           + \"; however, outputs will be provided for \" + ini_date + \" to \" + end_date + \" (\" + str(months2) + \" months)\")\n",
    "    return ini_date, fin_date"
   ]
  },
  {
   "cell_type": "code",
   "execution_count": 12,
   "metadata": {},
   "outputs": [
    {
     "data": {
      "text/html": [
       "\n",
       "            <style>\n",
       "                .geemap-dark {\n",
       "                    --jp-widgets-color: white;\n",
       "                    --jp-widgets-label-color: white;\n",
       "                    --jp-ui-font-color1: white;\n",
       "                    --jp-layout-color2: #454545;\n",
       "                    background-color: #383838;\n",
       "                }\n",
       "\n",
       "                .geemap-dark .jupyter-button {\n",
       "                    --jp-layout-color3: #383838;\n",
       "                }\n",
       "\n",
       "                .geemap-colab {\n",
       "                    background-color: var(--colab-primary-surface-color, white);\n",
       "                }\n",
       "\n",
       "                .geemap-colab .jupyter-button {\n",
       "                    --jp-layout-color3: var(--colab-primary-surface-color, white);\n",
       "                }\n",
       "            </style>\n",
       "            "
      ],
      "text/plain": [
       "<IPython.core.display.HTML object>"
      ]
     },
     "metadata": {},
     "output_type": "display_data"
    },
    {
     "name": "stdout",
     "output_type": "stream",
     "text": [
      "Simulation period will be from 2008-01 to 2023-12 (192 months); however, outputs will be provided for 2013-01 to 2023-12 (132 months)\n"
     ]
    }
   ],
   "source": [
    "## Initial parameters ##\n",
    "\n",
    "# It is recommended using at least 5 years of equilibration period - warm up years. This allows the model to get the water cycling properly.\n",
    "# When a proper equilibration period is incorporated, \"ffcb\" value is not going to impact model results\n",
    "warmup_yrs = 5\n",
    "start_date = '2008-01' # Inclusive\n",
    "end_date = '2023-12' # Inclusive\n",
    "ini_date, fin_date = determine_period(start_date, end_date, warmup_yrs)"
   ]
  },
  {
   "cell_type": "code",
   "execution_count": 13,
   "metadata": {},
   "outputs": [
    {
     "data": {
      "text/html": [
       "\n",
       "            <style>\n",
       "                .geemap-dark {\n",
       "                    --jp-widgets-color: white;\n",
       "                    --jp-widgets-label-color: white;\n",
       "                    --jp-ui-font-color1: white;\n",
       "                    --jp-layout-color2: #454545;\n",
       "                    background-color: #383838;\n",
       "                }\n",
       "\n",
       "                .geemap-dark .jupyter-button {\n",
       "                    --jp-layout-color3: #383838;\n",
       "                }\n",
       "\n",
       "                .geemap-colab {\n",
       "                    background-color: var(--colab-primary-surface-color, white);\n",
       "                }\n",
       "\n",
       "                .geemap-colab .jupyter-button {\n",
       "                    --jp-layout-color3: var(--colab-primary-surface-color, white);\n",
       "                }\n",
       "            </style>\n",
       "            "
      ],
      "text/plain": [
       "<IPython.core.display.HTML object>"
      ]
     },
     "metadata": {},
     "output_type": "display_data"
    }
   ],
   "source": [
    "######################################################\n",
    "### Starting values for the water balance model - T&M\n",
    "######################################################\n",
    "\n",
    "# The recession constant (k) will be determined from hydrographs derived from the gathered streamflow datasets. For the rest of the world, k will be defined as 0.5\n",
    "k_recession = 0.5 # Temporarily is defined as such\n",
    "\n",
    "# Initial soil water storage expressed as a fraction of water holding capacity [0-1]\n",
    "ffcb = 0.1 # 10%\n",
    "\n",
    "# Base flow of the previous month (mm)\n",
    "bflow_ant = 10"
   ]
  },
  {
   "cell_type": "code",
   "execution_count": 14,
   "metadata": {},
   "outputs": [
    {
     "data": {
      "text/html": [
       "\n",
       "            <style>\n",
       "                .geemap-dark {\n",
       "                    --jp-widgets-color: white;\n",
       "                    --jp-widgets-label-color: white;\n",
       "                    --jp-ui-font-color1: white;\n",
       "                    --jp-layout-color2: #454545;\n",
       "                    background-color: #383838;\n",
       "                }\n",
       "\n",
       "                .geemap-dark .jupyter-button {\n",
       "                    --jp-layout-color3: #383838;\n",
       "                }\n",
       "\n",
       "                .geemap-colab {\n",
       "                    background-color: var(--colab-primary-surface-color, white);\n",
       "                }\n",
       "\n",
       "                .geemap-colab .jupyter-button {\n",
       "                    --jp-layout-color3: var(--colab-primary-surface-color, white);\n",
       "                }\n",
       "            </style>\n",
       "            "
      ],
      "text/plain": [
       "<IPython.core.display.HTML object>"
      ]
     },
     "metadata": {},
     "output_type": "display_data"
    },
    {
     "data": {
      "text/plain": [
       "\" Map.addLayer(whc, {\\n  'min': 0,\\n  'max': 1000,\\n  'palette': [\\n      '#AFEEEE',\\n      '#E0FFFF',\\n      '#00FFFF',\\n      '#87CEEB',\\n      '#000080'\\n  ]\\n  },\\n  'Water Holding Capacity') \""
      ]
     },
     "execution_count": 14,
     "metadata": {},
     "output_type": "execute_result"
    }
   ],
   "source": [
    "# Public link to the asset whc: https://code.earthengine.google.com/?asset=projects/ee-jvg/assets/whc_fc33\n",
    "whc = ee.Image('projects/ee-jvg/assets/whc_fc33').divide(1000) # As the raster was originally multiplied by 1000\n",
    "# It seems that cutting GEE datasets consumes so much memory, so it is more efficient to process all the datasets and finally cut them to the zoi\n",
    "# whc = whc.clip(calib_basins)\n",
    "\"\"\" Map.addLayer(whc, {\n",
    "  'min': 0,\n",
    "  'max': 1000,\n",
    "  'palette': [\n",
    "      '#AFEEEE',\n",
    "      '#E0FFFF',\n",
    "      '#00FFFF',\n",
    "      '#87CEEB',\n",
    "      '#000080'\n",
    "  ]\n",
    "  },\n",
    "  'Water Holding Capacity') \"\"\""
   ]
  },
  {
   "cell_type": "code",
   "execution_count": 15,
   "metadata": {},
   "outputs": [
    {
     "data": {
      "text/html": [
       "\n",
       "            <style>\n",
       "                .geemap-dark {\n",
       "                    --jp-widgets-color: white;\n",
       "                    --jp-widgets-label-color: white;\n",
       "                    --jp-ui-font-color1: white;\n",
       "                    --jp-layout-color2: #454545;\n",
       "                    background-color: #383838;\n",
       "                }\n",
       "\n",
       "                .geemap-dark .jupyter-button {\n",
       "                    --jp-layout-color3: #383838;\n",
       "                }\n",
       "\n",
       "                .geemap-colab {\n",
       "                    background-color: var(--colab-primary-surface-color, white);\n",
       "                }\n",
       "\n",
       "                .geemap-colab .jupyter-button {\n",
       "                    --jp-layout-color3: var(--colab-primary-surface-color, white);\n",
       "                }\n",
       "            </style>\n",
       "            "
      ],
      "text/plain": [
       "<IPython.core.display.HTML object>"
      ]
     },
     "metadata": {},
     "output_type": "display_data"
    }
   ],
   "source": [
    "# TerraClimate layers filtered with \"start_date\" (inclusive) and \"end_date\" (exclusive) and clipped to \"zoi\"\n",
    "terraclimate = ee.ImageCollection('IDAHO_EPSCOR/TERRACLIMATE').filter(ee.Filter.date(start_date, fin_date))\n",
    "# It seems that cutting GEE default datasets consumes so much memory, so it is more efficient to process all the datasets and finally cut them to the zoi\n",
    "#terraclimate = ee.ImageCollection('IDAHO_EPSCOR/TERRACLIMATE').filter(ee.Filter.date(start_date, fin_date)).map(lambda image: image.clip(calib_basins))\n",
    "#num_months = terraclimate.size().getInfo()\n",
    "#num_months"
   ]
  },
  {
   "cell_type": "code",
   "execution_count": 16,
   "metadata": {},
   "outputs": [
    {
     "data": {
      "text/html": [
       "\n",
       "            <style>\n",
       "                .geemap-dark {\n",
       "                    --jp-widgets-color: white;\n",
       "                    --jp-widgets-label-color: white;\n",
       "                    --jp-ui-font-color1: white;\n",
       "                    --jp-layout-color2: #454545;\n",
       "                    background-color: #383838;\n",
       "                }\n",
       "\n",
       "                .geemap-dark .jupyter-button {\n",
       "                    --jp-layout-color3: #383838;\n",
       "                }\n",
       "\n",
       "                .geemap-colab {\n",
       "                    background-color: var(--colab-primary-surface-color, white);\n",
       "                }\n",
       "\n",
       "                .geemap-colab .jupyter-button {\n",
       "                    --jp-layout-color3: var(--colab-primary-surface-color, white);\n",
       "                }\n",
       "            </style>\n",
       "            "
      ],
      "text/plain": [
       "<IPython.core.display.HTML object>"
      ]
     },
     "metadata": {},
     "output_type": "display_data"
    }
   ],
   "source": [
    "# Initial images and time to start the water balance\n",
    "k = ee.Image(k_recession) # Image of recession constant\n",
    "st0 = whc.multiply(ffcb) # Initial soil water storage\n",
    "bf0 = ee.Image(bflow_ant) # Previous baseflow\n",
    "time0 = terraclimate.first().get(\"system:time_start\") # Define the initial time (time0) according to the start of the collection\n",
    "scale = terraclimate.first().projection().nominalScale() # This is the resolution used to standardize\n",
    "crs = 'EPSG:3857' # WGS 84 / Pseudo-Mercator -- Spherical Mercator, Google Maps, OpenStreetMap, Bing, ArcGIS, ESRI\n",
    "\n",
    "# Water balance variables\n",
    "wb_vars = [\"pr\", \"pet\", \"ro\", \"eprec\", \"aet\", \"sstor\", \"perc\", \"bflow\", \"wyield\"]"
   ]
  },
  {
   "cell_type": "code",
   "execution_count": 17,
   "metadata": {},
   "outputs": [
    {
     "data": {
      "text/html": [
       "\n",
       "            <style>\n",
       "                .geemap-dark {\n",
       "                    --jp-widgets-color: white;\n",
       "                    --jp-widgets-label-color: white;\n",
       "                    --jp-ui-font-color1: white;\n",
       "                    --jp-layout-color2: #454545;\n",
       "                    background-color: #383838;\n",
       "                }\n",
       "\n",
       "                .geemap-dark .jupyter-button {\n",
       "                    --jp-layout-color3: #383838;\n",
       "                }\n",
       "\n",
       "                .geemap-colab {\n",
       "                    background-color: var(--colab-primary-surface-color, white);\n",
       "                }\n",
       "\n",
       "                .geemap-colab .jupyter-button {\n",
       "                    --jp-layout-color3: var(--colab-primary-surface-color, white);\n",
       "                }\n",
       "            </style>\n",
       "            "
      ],
      "text/plain": [
       "<IPython.core.display.HTML object>"
      ]
     },
     "metadata": {},
     "output_type": "display_data"
    }
   ],
   "source": [
    "# Initialization of ALL bands.\n",
    "# Mandatory to cast the type of the data with a .float().\n",
    "\n",
    "# Initialization of precipitation\n",
    "initial_pr = ee.Image(0).set(\"system:time_start\", time0).select([0], [\"pr\"]).float()\n",
    "\n",
    "# Initialization of potential evapotranspiration\n",
    "initial_pet = ee.Image(0).set(\"system:time_start\", time0).select([0], [\"pet\"]).float()\n",
    "\n",
    "# Initialization of runoff\n",
    "initial_ro = ee.Image(0).set(\"system:time_start\", time0).select([0], [\"ro\"]).float()\n",
    "\n",
    "# Initialization of effective precipitation\n",
    "initial_ep = ee.Image(0).set(\"system:time_start\", time0).select([0], [\"eprec\"]).float()\n",
    "\n",
    "# Initialization of actual evapotranspiration\n",
    "initial_aet = ee.Image(0).set(\"system:time_start\", time0).select([0], [\"aet\"]).float()\n",
    "\n",
    "# Initialization of soil storage, which is considered to be a fraction of WCH\n",
    "initial_st = st0.set(\"system:time_start\", time0).select([0], [\"sstor\"]).float()\n",
    "\n",
    "# Initialization of percolation\n",
    "initial_pc = ee.Image(0).set(\"system:time_start\", time0).select([0], [\"perc\"]).float()\n",
    "\n",
    "# Initialization of base flow, which is considered as defined in Ulmen (2000)\n",
    "initial_bf = bf0.set(\"system:time_start\", time0).select([0], [\"bflow\"]).float()\n",
    "\n",
    "# Initialization of water yield\n",
    "initial_wy = ee.Image(0).set(\"system:time_start\", time0).select([0], [\"wyield\"]).float()"
   ]
  },
  {
   "cell_type": "code",
   "execution_count": 18,
   "metadata": {},
   "outputs": [
    {
     "data": {
      "text/html": [
       "\n",
       "            <style>\n",
       "                .geemap-dark {\n",
       "                    --jp-widgets-color: white;\n",
       "                    --jp-widgets-label-color: white;\n",
       "                    --jp-ui-font-color1: white;\n",
       "                    --jp-layout-color2: #454545;\n",
       "                    background-color: #383838;\n",
       "                }\n",
       "\n",
       "                .geemap-dark .jupyter-button {\n",
       "                    --jp-layout-color3: #383838;\n",
       "                }\n",
       "\n",
       "                .geemap-colab {\n",
       "                    background-color: var(--colab-primary-surface-color, white);\n",
       "                }\n",
       "\n",
       "                .geemap-colab .jupyter-button {\n",
       "                    --jp-layout-color3: var(--colab-primary-surface-color, white);\n",
       "                }\n",
       "            </style>\n",
       "            "
      ],
      "text/plain": [
       "<IPython.core.display.HTML object>"
      ]
     },
     "metadata": {},
     "output_type": "display_data"
    }
   ],
   "source": [
    "# All initial bands are combined into one \"ee.Image\" by adding them to the first band (wy)\n",
    "initial_image = initial_wy.addBands(\n",
    "    ee.Image([initial_pr, initial_pet, initial_ro, initial_ep, initial_aet, initial_st, initial_pc, initial_bf])\n",
    ")\n",
    "\n",
    "# Initiatlization of list that will contain new images after each iteration\n",
    "image_list = ee.List([initial_image])"
   ]
  },
  {
   "cell_type": "code",
   "execution_count": 19,
   "metadata": {},
   "outputs": [
    {
     "data": {
      "text/html": [
       "\n",
       "            <style>\n",
       "                .geemap-dark {\n",
       "                    --jp-widgets-color: white;\n",
       "                    --jp-widgets-label-color: white;\n",
       "                    --jp-ui-font-color1: white;\n",
       "                    --jp-layout-color2: #454545;\n",
       "                    background-color: #383838;\n",
       "                }\n",
       "\n",
       "                .geemap-dark .jupyter-button {\n",
       "                    --jp-layout-color3: #383838;\n",
       "                }\n",
       "\n",
       "                .geemap-colab {\n",
       "                    background-color: var(--colab-primary-surface-color, white);\n",
       "                }\n",
       "\n",
       "                .geemap-colab .jupyter-button {\n",
       "                    --jp-layout-color3: var(--colab-primary-surface-color, white);\n",
       "                }\n",
       "            </style>\n",
       "            "
      ],
      "text/plain": [
       "<IPython.core.display.HTML object>"
      ]
     },
     "metadata": {},
     "output_type": "display_data"
    }
   ],
   "source": [
    "#########################\n",
    "# WATER BALANCE EXECUTION\n",
    "#########################\n",
    "\n",
    "partial_function = partial(water_balance, ee = ee, whc = whc, k = k)\n",
    "\n",
    "# Iterate the user-supplied function to the terraclimate collection\n",
    "wy_list = terraclimate.iterate(partial_function, image_list)\n",
    "\n",
    "# Remove the initial image from our list\n",
    "wy_list = ee.List(wy_list).remove(initial_image)\n",
    "\n",
    "# Transform the list into an ee.ImageCollection\n",
    "wy_coll = ee.ImageCollection(wy_list).filter(ee.Filter.date(ini_date, fin_date))"
   ]
  },
  {
   "cell_type": "code",
   "execution_count": 20,
   "metadata": {},
   "outputs": [
    {
     "data": {
      "text/html": [
       "\n",
       "            <style>\n",
       "                .geemap-dark {\n",
       "                    --jp-widgets-color: white;\n",
       "                    --jp-widgets-label-color: white;\n",
       "                    --jp-ui-font-color1: white;\n",
       "                    --jp-layout-color2: #454545;\n",
       "                    background-color: #383838;\n",
       "                }\n",
       "\n",
       "                .geemap-dark .jupyter-button {\n",
       "                    --jp-layout-color3: #383838;\n",
       "                }\n",
       "\n",
       "                .geemap-colab {\n",
       "                    background-color: var(--colab-primary-surface-color, white);\n",
       "                }\n",
       "\n",
       "                .geemap-colab .jupyter-button {\n",
       "                    --jp-layout-color3: var(--colab-primary-surface-color, white);\n",
       "                }\n",
       "            </style>\n",
       "            "
      ],
      "text/plain": [
       "<IPython.core.display.HTML object>"
      ]
     },
     "metadata": {},
     "output_type": "display_data"
    }
   ],
   "source": [
    "# Let's assign year and month to each image of the resulting image collection\n",
    "wy_coll = wy_coll.map(lambda image: image.set(\"yr-mth\", ee.Image(image).date().get(\"year\").format().cat(ee.String(\"-\")).cat(ee.Image(image).date().get(\"month\").format())))"
   ]
  },
  {
   "cell_type": "code",
   "execution_count": 22,
   "metadata": {},
   "outputs": [
    {
     "data": {
      "text/html": [
       "\n",
       "            <style>\n",
       "                .geemap-dark {\n",
       "                    --jp-widgets-color: white;\n",
       "                    --jp-widgets-label-color: white;\n",
       "                    --jp-ui-font-color1: white;\n",
       "                    --jp-layout-color2: #454545;\n",
       "                    background-color: #383838;\n",
       "                }\n",
       "\n",
       "                .geemap-dark .jupyter-button {\n",
       "                    --jp-layout-color3: #383838;\n",
       "                }\n",
       "\n",
       "                .geemap-colab {\n",
       "                    background-color: var(--colab-primary-surface-color, white);\n",
       "                }\n",
       "\n",
       "                .geemap-colab .jupyter-button {\n",
       "                    --jp-layout-color3: var(--colab-primary-surface-color, white);\n",
       "                }\n",
       "            </style>\n",
       "            "
      ],
      "text/plain": [
       "<IPython.core.display.HTML object>"
      ]
     },
     "metadata": {},
     "output_type": "display_data"
    }
   ],
   "source": [
    "reduced_wy_coll = wy_coll.select(\"wyield\")\n",
    "\n",
    "# Function to split image collection into smaller chunks\n",
    "def split_collection(collection, chunk_size):\n",
    "    size = collection.size().getInfo()\n",
    "    chunks = [collection.toList(chunk_size, offset) for offset in range(0, size, chunk_size)]\n",
    "    return chunks\n",
    "\n",
    "# Split the collection into smaller chunks (e.g., 12 images per chunk)\n",
    "chunk_size = 12\n",
    "chunks = split_collection(reduced_wy_coll, chunk_size)\n",
    "\n",
    "# Initial list to be filled with appended results\n",
    "df_zonal = []\n",
    "\n",
    "# Define a function to add a new field to each feature\n",
    "def add_field(feature, image):\n",
    "    feature = feature.set('yr-mth', image.get(\"yr-mth\"))\n",
    "    #feature = feature.set('month', image.get(\"month\"))\n",
    "    return feature\n",
    "\n",
    "# rescale features to help with memory error\n",
    "calib_basins_scaled = calib_basins\n",
    "#calib_basins_scaled = calib_basins.map(lambda feature: feature.simplify(100)).limit(1)\n",
    "\n",
    "i = 1\n",
    "for chunk in chunks:\n",
    "    # Perform a grouped mean reduction\n",
    "    def means(image):\n",
    "        reduced_fc = image.reduceRegions(\n",
    "            reducer=ee.Reducer.mean(),\n",
    "            collection=calib_basins_scaled, # Specify the region's geometry\n",
    "            scale=scale # Specify the scale in meters\n",
    "            #tileScale=16\n",
    "        )\n",
    "\n",
    "        partial_function2 = partial(add_field, image=image)\n",
    "\n",
    "        # Map the function over the FeatureCollection\n",
    "        updated_fc = reduced_fc.map(partial_function2)\n",
    "\n",
    "        # Select only the fields you want to keep\n",
    "        cleaned_fc = updated_fc.select([\"ID\", \"yr-mth\", \"mean\"])\n",
    "\n",
    "        return cleaned_fc\n",
    "\n",
    "    # Apply the means function to each image in the image collection\n",
    "    with_mean = ee.ImageCollection(chunk).map(means)\n",
    "    results = with_mean.flatten()\n",
    "    #df_zonal.append(geemap.ee_to_df(results))\n",
    "\n",
    "    # Export the FeatureCollection.\n",
    "    ee.batch.Export.table.toDrive(\n",
    "        collection=results,\n",
    "        description='zonal_' + str(i),\n",
    "        folder='earth_engine_demos',\n",
    "        fileFormat='CSV',\n",
    "        selectors=[\"ID\", \"yr-mth\", \"mean\"] \n",
    "    ).start()\n",
    "    i = i + 1\n",
    "\n",
    "# Convert the Earth Engine FeatureCollection to a pandas DataFrame\n",
    "#df_zonal_final = pd.concat(df_zonal).sort_index()\n",
    "#df_zonal_final"
   ]
  }
 ],
 "metadata": {
  "kernelspec": {
   "display_name": "arcgispro-py3-clone",
   "language": "python",
   "name": "python3"
  },
  "language_info": {
   "codemirror_mode": {
    "name": "ipython",
    "version": 3
   },
   "file_extension": ".py",
   "mimetype": "text/x-python",
   "name": "python",
   "nbconvert_exporter": "python",
   "pygments_lexer": "ipython3",
   "version": "3.11.8"
  }
 },
 "nbformat": 4,
 "nbformat_minor": 2
}
