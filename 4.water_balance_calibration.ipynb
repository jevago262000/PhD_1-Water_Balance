{
 "cells": [
  {
   "cell_type": "code",
   "execution_count": 8,
   "metadata": {},
   "outputs": [
    {
     "name": "stdout",
     "output_type": "stream",
     "text": [
      "The version of the binaries in the active Python environment do\n",
      "  not match the version of the binaries in the ArcGIS application.\n",
      "\n",
      "Active environment version : 3.3\n",
      "arcgispro-py3 environment version : 3.4\n",
      "\n",
      "To update the existing environment see the conda proup subcommand \n",
      "        > conda proup --help\n",
      "\n",
      "To manually create a new environment for use with the current ArcGIS application:\n",
      " 1. Generate a list of additional packages installed in your current environment,\n",
      "    with the conda command:\n",
      "        > conda env export > env.yaml\n",
      " 2. (Optional) If you have additional dependencies installed through pip,\n",
      "    find those with pip freeze:\n",
      "        > pip freeze > requirements.txt\n",
      " 3. Create a new environment by cloning arcgispro-py3, and activate it:\n",
      "        > conda create --clone arcgispro-py3 --name my-env --pinned\n",
      "        > activate my-env\n",
      " 4. Add back missing conda packages from your current environment:\n",
      "        > conda env update -n my-env -f env.yaml\n",
      " 5. (Optional) Add back missing packages from pip:\n",
      "        > pip install -r requirements.txt\n",
      " 6. (Optional) Make it the default for the ArcGIS application and the\n",
      "     \"Python Command Prompt\":\n",
      "        > proswap my-env\n",
      "\n"
     ]
    },
    {
     "ename": "ImportError",
     "evalue": "version mis-match",
     "output_type": "error",
     "traceback": [
      "\u001b[1;31m---------------------------------------------------------------------------\u001b[0m",
      "\u001b[1;31mImportError\u001b[0m                               Traceback (most recent call last)",
      "\u001b[1;32m~\\AppData\\Local\\Temp\\ipykernel_6864\\2766154202.py\u001b[0m in \u001b[0;36m<cell line: 0>\u001b[1;34m()\u001b[0m\n\u001b[1;32m----> 1\u001b[1;33m \u001b[1;32mimport\u001b[0m \u001b[0mnetCDF4\u001b[0m\u001b[1;33m,\u001b[0m \u001b[0marcpy\u001b[0m\u001b[1;33m\u001b[0m\u001b[1;33m\u001b[0m\u001b[0m\n\u001b[0m",
      "\u001b[1;32mC:\\Program Files\\ArcGIS\\Pro\\Resources\\ArcPy\\arcpy\\__init__.py\u001b[0m in \u001b[0;36m<module>\u001b[1;34m\u001b[0m\n\u001b[0;32m     75\u001b[0m     \u001b[1;32mimport\u001b[0m \u001b[0m_initagsenv\u001b[0m\u001b[1;33m\u001b[0m\u001b[1;33m\u001b[0m\u001b[0m\n\u001b[0;32m     76\u001b[0m \u001b[1;33m\u001b[0m\u001b[0m\n\u001b[1;32m---> 77\u001b[1;33m \u001b[1;32mfrom\u001b[0m \u001b[0marcpy\u001b[0m\u001b[1;33m.\u001b[0m\u001b[0mgeoprocessing\u001b[0m \u001b[1;32mimport\u001b[0m \u001b[0mgp\u001b[0m\u001b[1;33m\u001b[0m\u001b[1;33m\u001b[0m\u001b[0m\n\u001b[0m\u001b[0;32m     78\u001b[0m \u001b[1;32mfrom\u001b[0m \u001b[0marcpy\u001b[0m\u001b[1;33m.\u001b[0m\u001b[0mgeoprocessing\u001b[0m \u001b[1;32mimport\u001b[0m \u001b[0menv\u001b[0m\u001b[1;33m\u001b[0m\u001b[1;33m\u001b[0m\u001b[0m\n\u001b[0;32m     79\u001b[0m \u001b[1;32mfrom\u001b[0m \u001b[0marcpy\u001b[0m\u001b[1;33m.\u001b[0m\u001b[0mgeoprocessing\u001b[0m\u001b[1;33m.\u001b[0m\u001b[0m_base\u001b[0m \u001b[1;32mimport\u001b[0m \u001b[0mgptooldoc\u001b[0m \u001b[1;32mas\u001b[0m \u001b[0m_gptooldoc\u001b[0m\u001b[1;33m\u001b[0m\u001b[1;33m\u001b[0m\u001b[0m\n",
      "\u001b[1;32mC:\\Program Files\\ArcGIS\\Pro\\Resources\\ArcPy\\arcpy\\geoprocessing\\__init__.py\u001b[0m in \u001b[0;36m<module>\u001b[1;34m\u001b[0m\n\u001b[0;32m     12\u001b[0m \u001b[1;31m#\u001b[0m\u001b[1;33m\u001b[0m\u001b[1;33m\u001b[0m\u001b[0m\n\u001b[0;32m     13\u001b[0m \u001b[1;31m#email: contracts@esri.com\u001b[0m\u001b[1;33m\u001b[0m\u001b[1;33m\u001b[0m\u001b[0m\n\u001b[1;32m---> 14\u001b[1;33m \u001b[1;32mfrom\u001b[0m \u001b[1;33m.\u001b[0m\u001b[0m_base\u001b[0m \u001b[1;32mimport\u001b[0m \u001b[1;33m*\u001b[0m\u001b[1;33m\u001b[0m\u001b[1;33m\u001b[0m\u001b[0m\n\u001b[0m",
      "\u001b[1;32mC:\\Program Files\\ArcGIS\\Pro\\Resources\\ArcPy\\arcpy\\geoprocessing\\_base.py\u001b[0m in \u001b[0;36m<module>\u001b[1;34m\u001b[0m\n\u001b[0;32m     12\u001b[0m \u001b[1;31m#\u001b[0m\u001b[1;33m\u001b[0m\u001b[1;33m\u001b[0m\u001b[0m\n\u001b[0;32m     13\u001b[0m \u001b[1;31m#email: contracts@esri.com\u001b[0m\u001b[1;33m\u001b[0m\u001b[1;33m\u001b[0m\u001b[0m\n\u001b[1;32m---> 14\u001b[1;33m \u001b[1;32mimport\u001b[0m \u001b[0marcgisscripting\u001b[0m\u001b[1;33m\u001b[0m\u001b[1;33m\u001b[0m\u001b[0m\n\u001b[0m\u001b[0;32m     15\u001b[0m \u001b[1;32mfrom\u001b[0m \u001b[0menum\u001b[0m \u001b[1;32mimport\u001b[0m \u001b[0mEnum\u001b[0m\u001b[1;33m\u001b[0m\u001b[1;33m\u001b[0m\u001b[0m\n\u001b[0;32m     16\u001b[0m \u001b[1;33m\u001b[0m\u001b[0m\n",
      "\u001b[1;32mc:\\Users\\jvalenciag\\AppData\\Local\\ESRI\\conda\\envs\\arcgispro-py3-clone\\Lib\\site-packages\\arcgisscripting\\__init__.py\u001b[0m in \u001b[0;36m<module>\u001b[1;34m\u001b[0m\n\u001b[0;32m    113\u001b[0m \u001b[1;32mexcept\u001b[0m \u001b[0mAssertionError\u001b[0m\u001b[1;33m:\u001b[0m\u001b[1;33m\u001b[0m\u001b[1;33m\u001b[0m\u001b[0m\n\u001b[0;32m    114\u001b[0m     \u001b[0mprint\u001b[0m\u001b[1;33m(\u001b[0m\u001b[0mmsg\u001b[0m\u001b[1;33m.\u001b[0m\u001b[0mformat\u001b[0m\u001b[1;33m(\u001b[0m\u001b[0mactive_pyd_ver\u001b[0m\u001b[1;33m,\u001b[0m \u001b[0mpristine_pyd_ver\u001b[0m\u001b[1;33m)\u001b[0m\u001b[1;33m)\u001b[0m\u001b[1;33m\u001b[0m\u001b[1;33m\u001b[0m\u001b[0m\n\u001b[1;32m--> 115\u001b[1;33m     \u001b[1;32mraise\u001b[0m \u001b[0mImportError\u001b[0m\u001b[1;33m(\u001b[0m\u001b[1;34m\"version mis-match\"\u001b[0m\u001b[1;33m)\u001b[0m \u001b[1;32mfrom\u001b[0m \u001b[1;32mNone\u001b[0m\u001b[1;33m\u001b[0m\u001b[1;33m\u001b[0m\u001b[0m\n\u001b[0m\u001b[0;32m    116\u001b[0m \u001b[1;33m\u001b[0m\u001b[0m\n\u001b[0;32m    117\u001b[0m \u001b[1;32mexcept\u001b[0m\u001b[1;33m:\u001b[0m\u001b[1;33m\u001b[0m\u001b[1;33m\u001b[0m\u001b[0m\n",
      "\u001b[1;31mImportError\u001b[0m: version mis-match"
     ]
    }
   ],
   "source": [
    "import netCDF4, arcpy"
   ]
  },
  {
   "cell_type": "code",
   "execution_count": null,
   "metadata": {},
   "outputs": [],
   "source": [
    "tc_ds = r\"Z:\\PhD_Datasets&Analysis\\Info_Inputs\\TerraClimate\"\n",
    "bands_gee = [\"pr\", \"pet\", \"ro\"]\n",
    "bands = [\"ppt\", \"pet\", \"q\"]\n",
    "d = netCDF4.Dataset(tc_ds + \"//TerraClimate_ppt_1980.nc\")"
   ]
  },
  {
   "cell_type": "code",
   "execution_count": 7,
   "metadata": {},
   "outputs": [
    {
     "data": {
      "text/plain": [
       "{'lat': <class 'netCDF4._netCDF4.Variable'>\n",
       " float64 lat(lat)\n",
       "     units: degrees_north\n",
       "     description: Latitude of the center of the grid cell\n",
       "     long_name: latitude\n",
       "     standard_name: latitude\n",
       "     axis: Y\n",
       " unlimited dimensions: \n",
       " current shape = (4320,)\n",
       " filling on, default _FillValue of 9.969209968386869e+36 used,\n",
       " 'lon': <class 'netCDF4._netCDF4.Variable'>\n",
       " float64 lon(lon)\n",
       "     units: degrees_east\n",
       "     description: Longitude of the center of the grid cell\n",
       "     long_name: longitude\n",
       "     standard_name: longitude\n",
       "     axis: X\n",
       " unlimited dimensions: \n",
       " current shape = (8640,)\n",
       " filling on, default _FillValue of 9.969209968386869e+36 used,\n",
       " 'time': <class 'netCDF4._netCDF4.Variable'>\n",
       " float64 time(time)\n",
       "     description: days since 1900-01-01\n",
       "     units: days since 1900-01-01 00:00:00\n",
       "     long_name: time\n",
       "     standard_name: time\n",
       "     calendar: gregorian\n",
       "     axis: T\n",
       " unlimited dimensions: \n",
       " current shape = (12,)\n",
       " filling on, default _FillValue of 9.969209968386869e+36 used,\n",
       " 'crs': <class 'netCDF4._netCDF4.Variable'>\n",
       " int16 crs(crs)\n",
       "     grid_mapping_name: latitude_longitude\n",
       "     longitude_of_prime_meridian: 0.0\n",
       "     semi_major_axis: 6378137.0\n",
       "     inverse_flattening: 298.257223563\n",
       "     long_name: crs\n",
       " unlimited dimensions: \n",
       " current shape = (1,)\n",
       " filling on, default _FillValue of -32767 used,\n",
       " 'ppt': <class 'netCDF4._netCDF4.Variable'>\n",
       " int32 ppt(time, lat, lon)\n",
       "     _FillValue: -2147483648\n",
       "     units: mm\n",
       "     description: Accumulated Precipitation\n",
       "     long_name: precipitation_amount\n",
       "     standard_name: precipitation_amount\n",
       "     missing_value: -2147483648\n",
       "     dimensions: lon lat time\n",
       "     grid_mapping: crs\n",
       "     coordinate_system: WGS84,EPSG:4326\n",
       "     scale_factor: 0.1\n",
       "     add_offset: 0.0\n",
       "     _Unsigned: false\n",
       " unlimited dimensions: \n",
       " current shape = (12, 4320, 8640)\n",
       " filling on}"
      ]
     },
     "execution_count": 7,
     "metadata": {},
     "output_type": "execute_result"
    }
   ],
   "source": [
    "d.variables"
   ]
  }
 ],
 "metadata": {
  "kernelspec": {
   "display_name": "arcgispro-py3-clone",
   "language": "python",
   "name": "python3"
  },
  "language_info": {
   "codemirror_mode": {
    "name": "ipython",
    "version": 3
   },
   "file_extension": ".py",
   "mimetype": "text/x-python",
   "name": "python",
   "nbconvert_exporter": "python",
   "pygments_lexer": "ipython3",
   "version": "3.11.8"
  }
 },
 "nbformat": 4,
 "nbformat_minor": 2
}
