{
 "cells": [
  {
   "cell_type": "code",
   "execution_count": 1,
   "id": "15b67f44",
   "metadata": {},
   "outputs": [],
   "source": [
    "import arcpy, pandas as pd\n",
    "from arcpy import env\n",
    "from arcpy.sa import *\n",
    "from otherfunctions import folders_exist"
   ]
  },
  {
   "cell_type": "code",
   "execution_count": null,
   "id": "b428b0ea",
   "metadata": {},
   "outputs": [],
   "source": [
    "# Paths to input datasets\n",
    "root_folder = r\"Z:\\PhD_Datasets&Analysis\\Info_Inputs\"\n",
    "tam_out_dir = r\"Z:\\PhD_Datasets&Analysis\\Outputs\\T&M_WBM\"\n",
    "tc_ds = root_folder + \"\\\\TerraClimate\"\n",
    "out_geotiff = tc_ds + \"\\\\GeoTIFF\"\n",
    "serial_id = 'grdcno_int'\n",
    "\n",
    "# Set arcpy environment variables\n",
    "env.overwriteOutput = True\n",
    "arcpy.CheckOutExtension(\"spatial\")\n",
    "# env.cellSize = \"MINOF\" # Avoided to prevent huge files\n",
    "env.cellSize = out_geotiff + \"\\\\ppt_2023_1.tif\" # Use TerraClimate resolution as reference for cell size\n",
    "env.workspace = r\"Z:\\PhD_Datasets&Analysis\\_ProcessingCache\"\n",
    "env.outputCoordinateSystem = arcpy.SpatialReference(\"WGS 1984\") # WGS 1984 (4326)"
   ]
  },
  {
   "cell_type": "code",
   "execution_count": null,
   "id": "c2d41050",
   "metadata": {},
   "outputs": [],
   "source": [
    "# Get the current environment's spatial reference\n",
    "spatial_ref = env.outputCoordinateSystem\n",
    "\n",
    "# Check if a spatial reference is set\n",
    "if spatial_ref:\n",
    "    print(f\"Spatial Reference Name: {spatial_ref.name}\")\n",
    "    print(f\"Spatial Reference WKID: {spatial_ref.factoryCode}\")\n",
    "else:\n",
    "    print(\"No spatial reference is set in the current environment.\")"
   ]
  },
  {
   "cell_type": "code",
   "execution_count": null,
   "id": "a6f0b5b2",
   "metadata": {},
   "outputs": [],
   "source": [
    "# Read the Shapefile with the processed drainage areas\n",
    "drain_areas = root_folder + \"\\\\Streamflow_Sts_Drainage_Areas\\GRDC_Watersheds\\CSS-WATERSHEDS_FINAL_SELECTION.shp\"\n",
    "\n",
    "# Create a feature layer object\n",
    "arcpy.MakeFeatureLayer_management(drain_areas, \"drain_areas_lyr\")\n",
    "\n",
    "# Initialize an empty list to store the station IDs\n",
    "sts_ids = []\n",
    "\n",
    "# Use a SearchCursor to iterate through the rows of the feature layer\n",
    "with arcpy.da.SearchCursor(\"drain_areas_lyr\", [serial_id]) as cursor:\n",
    "    for row in cursor:\n",
    "        sts_ids.append(row[0])\n",
    "\n",
    "sts_ids"
   ]
  },
  {
   "cell_type": "code",
   "execution_count": null,
   "id": "b605e561",
   "metadata": {},
   "outputs": [],
   "source": [
    "######################################################\n",
    "### Starting values for the water balance model - T&M\n",
    "######################################################\n",
    "\n",
    "# Initial variables\n",
    "years = range(1958, 1967 + 1) # Years to process. This line can be used to execute this code for specific years in multiple runs.\n",
    "months = range(1, 12 + 1)"
   ]
  },
  {
   "cell_type": "code",
   "execution_count": null,
   "id": "6ed0cdbd",
   "metadata": {},
   "outputs": [],
   "source": [
    "# Create folders for other variables of tam model\n",
    "wyield_dir = tam_out_dir + '\\\\wyield'\n",
    "folders_exist([wyield_dir])"
   ]
  },
  {
   "cell_type": "code",
   "execution_count": null,
   "id": "ceb749ff",
   "metadata": {},
   "outputs": [],
   "source": [
    "def zonal_stastics_iteratively(year):\n",
    "    \"\"\"\n",
    "    Function to calculate zonal statistics iteratively for each station ID.\n",
    "    \"\"\"\n",
    "\n",
    "    print(\"\\tCalculating zonal statistics of water yield......\")\n",
    "\n",
    "    sts_flows_sim = pd.DataFrame(columns=[serial_id, \"YEAR\", \"MONTH\", \"COUNT\", \"AREA\", \"MIN\", \"MAX\", \"RANGE\", \"MEAN\", \"STD\", \"SUM\", \"MEDIAN\", \"PCT90\"])  \n",
    "\n",
    "    for st in sts_ids:\n",
    "\n",
    "        print(f\"\\t\\tStation ID: {st}\")\n",
    "        \n",
    "        # Select the current station ID in the feature layer\n",
    "        arcpy.SelectLayerByAttribute_management(\"drain_areas_lyr\", \"NEW_SELECTION\", f\"{serial_id} = {st}\")\n",
    "\n",
    "        for month in months:\n",
    "\n",
    "            wyield = wyield_dir + \"\\\\wyield_\" + str(year) + \"_\" + str(month) + \".tif\"\n",
    "            out_table = \"in_memory\\\\zonal_wyield_\" + str(st) + \"_\" + str(year) + \"_\" + str(month)\n",
    "\n",
    "            arcpy.sa.ZonalStatisticsAsTable(\"drain_areas_lyr\", serial_id, wyield, out_table, \"DATA\", \"ALL\")\n",
    "\n",
    "            # Convert the output table to a NumPy array\n",
    "            array = arcpy.da.TableToNumPyArray(out_table, [serial_id, \"COUNT\", \"AREA\", \"MIN\", \"MAX\", \"RANGE\", \"MEAN\", \"STD\", \"SUM\", \"MEDIAN\", \"PCT90\"])\n",
    "\n",
    "            # Convert the NumPy array to a pandas DataFrame\n",
    "            df_sim = pd.DataFrame(array)\n",
    "\n",
    "            df_sim[\"YEAR\"] = year # Assign the year of simulation\n",
    "            df_sim[\"MONTH\"] = month # Assign the month of simulation\n",
    "            df_sim = df_sim[[serial_id, \"YEAR\", \"MONTH\", \"COUNT\", \"AREA\", \"MIN\", \"MAX\", \"RANGE\", \"MEAN\", \"STD\", \"SUM\", \"MEDIAN\", \"PCT90\"]] # Reorder columns\n",
    "\n",
    "            sts_flows_sim = pd.concat([sts_flows_sim, df_sim], ignore_index=True) # Concat all simulated stream flow station values\n",
    "\n",
    "            arcpy.Delete_management(out_table) # Delete the output table to save space\n",
    "\n",
    "    return(sts_flows_sim)"
   ]
  },
  {
   "cell_type": "code",
   "execution_count": null,
   "id": "18202884",
   "metadata": {},
   "outputs": [],
   "source": [
    "print('\\n############################################################')\n",
    "print('\\t\\tINITIAL VARIABLES')\n",
    "print('\\tPeriod to be executed: ' + str(years[0]) + '-' + str(years[-1]))\n",
    "print('############################################################')\n",
    "\n",
    "for year in years:\n",
    "\n",
    "    print(\"\\n**Executing calculation for \" + str(year) + \"**\")\n",
    "\n",
    "    # Calculate zonal statistics for the current month and year\n",
    "    df_sim = zonal_stastics_iteratively(year)\n",
    "\n",
    "    print(\"\\tSaving zonal statistics results into CSV......\")\n",
    " \n",
    "    df_sim.to_csv(wyield_dir + \"\\\\wyield_zonal_statistics_\" + str(year) + \".csv\", index=False) # Save the results to a CSV file every year to avoid processing losses\n",
    "\n",
    "arcpy.CheckInExtension(\"spatial\")\n",
    "\n",
    "# Clear the workspace environment\n",
    "arcpy.ClearEnvironment(\"workspace\")\n",
    "\n",
    "print(\"\\nDONE!!\")"
   ]
  }
 ],
 "metadata": {
  "kernelspec": {
   "display_name": "Python 3",
   "language": "python",
   "name": "python3"
  },
  "language_info": {
   "codemirror_mode": {
    "name": "ipython",
    "version": 3
   },
   "file_extension": ".py",
   "mimetype": "text/x-python",
   "name": "python",
   "nbconvert_exporter": "python",
   "pygments_lexer": "ipython3",
   "version": "3.11.11"
  }
 },
 "nbformat": 4,
 "nbformat_minor": 5
}
